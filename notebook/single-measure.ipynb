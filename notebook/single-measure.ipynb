{
 "cells": [
  {
   "cell_type": "code",
   "execution_count": 1,
   "metadata": {},
   "outputs": [],
   "source": [
    "import sys\n",
    "sys.path.append(\"..\")"
   ]
  },
  {
   "cell_type": "code",
   "execution_count": 2,
   "metadata": {},
   "outputs": [],
   "source": [
    "from pathlib import Path\n",
    "\n",
    "file = Path('../data/discontinued/Sub_109_Static_R_025_035.000008.obj')\n",
    "is_plot = True"
   ]
  },
  {
   "cell_type": "markdown",
   "metadata": {},
   "source": [
    "## Load landmarks labelling"
   ]
  },
  {
   "cell_type": "code",
   "execution_count": 3,
   "metadata": {},
   "outputs": [
    {
     "data": {
      "application/vnd.microsoft.datawrangler.viewer.v0+json": {
       "columns": [
        {
         "name": "landmark",
         "rawType": "object",
         "type": "string"
        },
        {
         "name": "x",
         "rawType": "float64",
         "type": "float"
        },
        {
         "name": "y",
         "rawType": "float64",
         "type": "float"
        },
        {
         "name": "z",
         "rawType": "float64",
         "type": "float"
        }
       ],
       "ref": "7cd8b8ff-17b8-4d36-9232-d3815093e500",
       "rows": [
        [
         "P1",
         "-14.333711238393157",
         "-156.72415175082998",
         "125.38143906250565"
        ],
        [
         "P10",
         "24.738054364563908",
         "-137.47213431997915",
         "-114.75056432539134"
        ],
        [
         "P11",
         "42.5156070390895",
         "-89.5070075912794",
         "-56.8077507390264"
        ],
        [
         "P12",
         "-22.96711581053944",
         "-83.42328944287478",
         "-65.59938833013895"
        ],
        [
         "P2",
         "30.239462442238278",
         "-155.40691523503844",
         "118.34236511472244"
        ],
        [
         "P3",
         "-64.40030698362003",
         "-150.3236469185746",
         "71.67379778198"
        ],
        [
         "P4",
         "39.423141698151426",
         "-145.08246614588964",
         "72.64370840277442"
        ],
        [
         "P5",
         "-60.787144111470695",
         "-146.94839054449344",
         "40.66881492295175"
        ],
        [
         "P6",
         "10.064316876858243",
         "-100.6032881469933",
         "26.267208080422904"
        ],
        [
         "P7",
         "11.314073640633183",
         "-86.7974339297898",
         "0.630724411624044"
        ],
        [
         "P8",
         "43.17093488608981",
         "-143.53351523467143",
         "-82.98015798954212"
        ],
        [
         "P9",
         "-19.419420649666506",
         "-136.67519396949035",
         "-88.80123257636146"
        ]
       ],
       "shape": {
        "columns": 3,
        "rows": 12
       }
      },
      "text/html": [
       "<div>\n",
       "<style scoped>\n",
       "    .dataframe tbody tr th:only-of-type {\n",
       "        vertical-align: middle;\n",
       "    }\n",
       "\n",
       "    .dataframe tbody tr th {\n",
       "        vertical-align: top;\n",
       "    }\n",
       "\n",
       "    .dataframe thead th {\n",
       "        text-align: right;\n",
       "    }\n",
       "</style>\n",
       "<table border=\"1\" class=\"dataframe\">\n",
       "  <thead>\n",
       "    <tr style=\"text-align: right;\">\n",
       "      <th>coord</th>\n",
       "      <th>x</th>\n",
       "      <th>y</th>\n",
       "      <th>z</th>\n",
       "    </tr>\n",
       "    <tr>\n",
       "      <th>landmark</th>\n",
       "      <th></th>\n",
       "      <th></th>\n",
       "      <th></th>\n",
       "    </tr>\n",
       "  </thead>\n",
       "  <tbody>\n",
       "    <tr>\n",
       "      <th>P1</th>\n",
       "      <td>-14.333711</td>\n",
       "      <td>-156.724152</td>\n",
       "      <td>125.381439</td>\n",
       "    </tr>\n",
       "    <tr>\n",
       "      <th>P10</th>\n",
       "      <td>24.738054</td>\n",
       "      <td>-137.472134</td>\n",
       "      <td>-114.750564</td>\n",
       "    </tr>\n",
       "    <tr>\n",
       "      <th>P11</th>\n",
       "      <td>42.515607</td>\n",
       "      <td>-89.507008</td>\n",
       "      <td>-56.807751</td>\n",
       "    </tr>\n",
       "    <tr>\n",
       "      <th>P12</th>\n",
       "      <td>-22.967116</td>\n",
       "      <td>-83.423289</td>\n",
       "      <td>-65.599388</td>\n",
       "    </tr>\n",
       "    <tr>\n",
       "      <th>P2</th>\n",
       "      <td>30.239462</td>\n",
       "      <td>-155.406915</td>\n",
       "      <td>118.342365</td>\n",
       "    </tr>\n",
       "    <tr>\n",
       "      <th>P3</th>\n",
       "      <td>-64.400307</td>\n",
       "      <td>-150.323647</td>\n",
       "      <td>71.673798</td>\n",
       "    </tr>\n",
       "    <tr>\n",
       "      <th>P4</th>\n",
       "      <td>39.423142</td>\n",
       "      <td>-145.082466</td>\n",
       "      <td>72.643708</td>\n",
       "    </tr>\n",
       "    <tr>\n",
       "      <th>P5</th>\n",
       "      <td>-60.787144</td>\n",
       "      <td>-146.948391</td>\n",
       "      <td>40.668815</td>\n",
       "    </tr>\n",
       "    <tr>\n",
       "      <th>P6</th>\n",
       "      <td>10.064317</td>\n",
       "      <td>-100.603288</td>\n",
       "      <td>26.267208</td>\n",
       "    </tr>\n",
       "    <tr>\n",
       "      <th>P7</th>\n",
       "      <td>11.314074</td>\n",
       "      <td>-86.797434</td>\n",
       "      <td>0.630724</td>\n",
       "    </tr>\n",
       "    <tr>\n",
       "      <th>P8</th>\n",
       "      <td>43.170935</td>\n",
       "      <td>-143.533515</td>\n",
       "      <td>-82.980158</td>\n",
       "    </tr>\n",
       "    <tr>\n",
       "      <th>P9</th>\n",
       "      <td>-19.419421</td>\n",
       "      <td>-136.675194</td>\n",
       "      <td>-88.801233</td>\n",
       "    </tr>\n",
       "  </tbody>\n",
       "</table>\n",
       "</div>"
      ],
      "text/plain": [
       "coord             x           y           z\n",
       "landmark                                   \n",
       "P1       -14.333711 -156.724152  125.381439\n",
       "P10       24.738054 -137.472134 -114.750564\n",
       "P11       42.515607  -89.507008  -56.807751\n",
       "P12      -22.967116  -83.423289  -65.599388\n",
       "P2        30.239462 -155.406915  118.342365\n",
       "P3       -64.400307 -150.323647   71.673798\n",
       "P4        39.423142 -145.082466   72.643708\n",
       "P5       -60.787144 -146.948391   40.668815\n",
       "P6        10.064317 -100.603288   26.267208\n",
       "P7        11.314074  -86.797434    0.630724\n",
       "P8        43.170935 -143.533515  -82.980158\n",
       "P9       -19.419421 -136.675194  -88.801233"
      ]
     },
     "execution_count": 3,
     "metadata": {},
     "output_type": "execute_result"
    }
   ],
   "source": [
    "import pandas as pd\n",
    "\n",
    "df = pd.read_pickle(file.with_suffix('.pkl'))\n",
    "df"
   ]
  },
  {
   "cell_type": "markdown",
   "metadata": {},
   "source": [
    "## Local frame"
   ]
  },
  {
   "cell_type": "code",
   "execution_count": 4,
   "metadata": {},
   "outputs": [
    {
     "data": {
      "application/vnd.jupyter.widget-view+json": {
       "model_id": "611963eabfa4488498d4823666122257",
       "version_major": 2,
       "version_minor": 0
      },
      "text/plain": [
       "Widget(value='<iframe src=\"http://localhost:60494/index.html?ui=P_0x1193c4a00_0&reconnect=auto\" class=\"pyvista…"
      ]
     },
     "metadata": {},
     "output_type": "display_data"
    }
   ],
   "source": [
    "import pyvista as pv\n",
    "pv.read(file).plot()"
   ]
  },
  {
   "cell_type": "code",
   "execution_count": 5,
   "metadata": {},
   "outputs": [
    {
     "data": {
      "application/vnd.jupyter.widget-view+json": {
       "model_id": "7a1fec4591754f09a351dc8fb2c2a200",
       "version_major": 2,
       "version_minor": 0
      },
      "text/plain": [
       "Widget(value='<iframe src=\"http://localhost:60494/index.html?ui=P_0x1193c4dc0_1&reconnect=auto\" class=\"pyvista…"
      ]
     },
     "metadata": {},
     "output_type": "display_data"
    }
   ],
   "source": [
    "from mesh4d.analyse import crave\n",
    "\n",
    "mesh = crave.fix_pvmesh_disconnect(pv.read(file), df.values)\n",
    "mesh.plot()"
   ]
  },
  {
   "cell_type": "code",
   "execution_count": 6,
   "metadata": {},
   "outputs": [
    {
     "data": {
      "application/vnd.jupyter.widget-view+json": {
       "model_id": "e13250db5c7444efaad8102a2f98b85c",
       "version_major": 2,
       "version_minor": 0
      },
      "text/plain": [
       "Widget(value='<iframe src=\"http://localhost:60494/index.html?ui=P_0x137cc2f20_2&reconnect=auto\" class=\"pyvista…"
      ]
     },
     "metadata": {},
     "output_type": "display_data"
    }
   ],
   "source": [
    "from measure import frame\n",
    "\n",
    "# foot bottom cropped for estimating foot local frame\n",
    "if is_plot:\n",
    "    frame.plantar_clip(mesh, df).plot()"
   ]
  },
  {
   "cell_type": "code",
   "execution_count": 7,
   "metadata": {},
   "outputs": [
    {
     "data": {
      "application/vnd.jupyter.widget-view+json": {
       "model_id": "a9d39340858d4f889773eb9856a6aa21",
       "version_major": 2,
       "version_minor": 0
      },
      "text/plain": [
       "Widget(value='<iframe src=\"http://localhost:60494/index.html?ui=P_0x161951660_3&reconnect=auto\" class=\"pyvista…"
      ]
     },
     "metadata": {},
     "output_type": "display_data"
    }
   ],
   "source": [
    "from measure import visual\n",
    "\n",
    "axes_frame, origin = frame.estimate_foot_frame(mesh, df)\n",
    "\n",
    "if is_plot:\n",
    "    visual.plot_axes(origin, axes_frame, mesh)"
   ]
  },
  {
   "cell_type": "code",
   "execution_count": 8,
   "metadata": {},
   "outputs": [
    {
     "data": {
      "application/vnd.jupyter.widget-view+json": {
       "model_id": "cdf3519992a74e1e818d1a6101f7b8cb",
       "version_major": 2,
       "version_minor": 0
      },
      "text/plain": [
       "Widget(value='<iframe src=\"http://localhost:60494/index.html?ui=P_0x13585f6d0_4&reconnect=auto\" class=\"pyvista…"
      ]
     },
     "metadata": {},
     "output_type": "display_data"
    }
   ],
   "source": [
    "mesh_clip = frame.foot_clip(mesh, df)\n",
    "mesh_local = frame.foot2local(mesh_clip, axes_frame, origin)\n",
    "\n",
    "if is_plot:\n",
    "    mesh_local.plot()"
   ]
  },
  {
   "cell_type": "code",
   "execution_count": 9,
   "metadata": {},
   "outputs": [
    {
     "data": {
      "application/vnd.microsoft.datawrangler.viewer.v0+json": {
       "columns": [
        {
         "name": "landmark",
         "rawType": "object",
         "type": "string"
        },
        {
         "name": "x",
         "rawType": "float64",
         "type": "float"
        },
        {
         "name": "y",
         "rawType": "float64",
         "type": "float"
        },
        {
         "name": "z",
         "rawType": "float64",
         "type": "float"
        }
       ],
       "ref": "a5f879ad-d223-478c-8d40-4e80a9ce6fea",
       "rows": [
        [
         "P1",
         "111.62197963674954",
         "-0.054701276903544205",
         "7.265843113979399"
        ],
        [
         "P10",
         "-131.62960392393202",
         "18.907184376518686",
         "12.718923093442363"
        ],
        [
         "P11",
         "-78.17532791130346",
         "41.50895391415379",
         "63.76659490355868"
        ],
        [
         "P12",
         "-81.82709768501081",
         "-24.470743239864767",
         "69.73615525821114"
        ],
        [
         "P2",
         "100.84099092102498",
         "43.77903572451693",
         "7.917969517639152"
        ],
        [
         "P3",
         "61.98323083751785",
         "-54.41207906813761",
         "10.927987410582476"
        ],
        [
         "P4",
         "54.02601018909378",
         "49.137998471824275",
         "15.595243531784263"
        ],
        [
         "P5",
         "30.6439903934672",
         "-53.38933596416056",
         "12.528696176515759"
        ],
        [
         "P6",
         "7.803203688749843",
         "16.07498332900389",
         "57.564361242207305"
        ],
        [
         "P7",
         "-18.58945663566956",
         "15.202773945364",
         "69.8956032448109"
        ],
        [
         "P8",
         "-101.20810575703011",
         "39.91424078253083",
         "8.347862341791902"
        ],
        [
         "P9",
         "-102.18854928395409",
         "-22.93477176979218",
         "15.240934059290952"
        ]
       ],
       "shape": {
        "columns": 3,
        "rows": 12
       }
      },
      "text/html": [
       "<div>\n",
       "<style scoped>\n",
       "    .dataframe tbody tr th:only-of-type {\n",
       "        vertical-align: middle;\n",
       "    }\n",
       "\n",
       "    .dataframe tbody tr th {\n",
       "        vertical-align: top;\n",
       "    }\n",
       "\n",
       "    .dataframe thead th {\n",
       "        text-align: right;\n",
       "    }\n",
       "</style>\n",
       "<table border=\"1\" class=\"dataframe\">\n",
       "  <thead>\n",
       "    <tr style=\"text-align: right;\">\n",
       "      <th>coord</th>\n",
       "      <th>x</th>\n",
       "      <th>y</th>\n",
       "      <th>z</th>\n",
       "    </tr>\n",
       "    <tr>\n",
       "      <th>landmark</th>\n",
       "      <th></th>\n",
       "      <th></th>\n",
       "      <th></th>\n",
       "    </tr>\n",
       "  </thead>\n",
       "  <tbody>\n",
       "    <tr>\n",
       "      <th>P1</th>\n",
       "      <td>111.621980</td>\n",
       "      <td>-0.054701</td>\n",
       "      <td>7.265843</td>\n",
       "    </tr>\n",
       "    <tr>\n",
       "      <th>P10</th>\n",
       "      <td>-131.629604</td>\n",
       "      <td>18.907184</td>\n",
       "      <td>12.718923</td>\n",
       "    </tr>\n",
       "    <tr>\n",
       "      <th>P11</th>\n",
       "      <td>-78.175328</td>\n",
       "      <td>41.508954</td>\n",
       "      <td>63.766595</td>\n",
       "    </tr>\n",
       "    <tr>\n",
       "      <th>P12</th>\n",
       "      <td>-81.827098</td>\n",
       "      <td>-24.470743</td>\n",
       "      <td>69.736155</td>\n",
       "    </tr>\n",
       "    <tr>\n",
       "      <th>P2</th>\n",
       "      <td>100.840991</td>\n",
       "      <td>43.779036</td>\n",
       "      <td>7.917970</td>\n",
       "    </tr>\n",
       "    <tr>\n",
       "      <th>P3</th>\n",
       "      <td>61.983231</td>\n",
       "      <td>-54.412079</td>\n",
       "      <td>10.927987</td>\n",
       "    </tr>\n",
       "    <tr>\n",
       "      <th>P4</th>\n",
       "      <td>54.026010</td>\n",
       "      <td>49.137998</td>\n",
       "      <td>15.595244</td>\n",
       "    </tr>\n",
       "    <tr>\n",
       "      <th>P5</th>\n",
       "      <td>30.643990</td>\n",
       "      <td>-53.389336</td>\n",
       "      <td>12.528696</td>\n",
       "    </tr>\n",
       "    <tr>\n",
       "      <th>P6</th>\n",
       "      <td>7.803204</td>\n",
       "      <td>16.074983</td>\n",
       "      <td>57.564361</td>\n",
       "    </tr>\n",
       "    <tr>\n",
       "      <th>P7</th>\n",
       "      <td>-18.589457</td>\n",
       "      <td>15.202774</td>\n",
       "      <td>69.895603</td>\n",
       "    </tr>\n",
       "    <tr>\n",
       "      <th>P8</th>\n",
       "      <td>-101.208106</td>\n",
       "      <td>39.914241</td>\n",
       "      <td>8.347862</td>\n",
       "    </tr>\n",
       "    <tr>\n",
       "      <th>P9</th>\n",
       "      <td>-102.188549</td>\n",
       "      <td>-22.934772</td>\n",
       "      <td>15.240934</td>\n",
       "    </tr>\n",
       "  </tbody>\n",
       "</table>\n",
       "</div>"
      ],
      "text/plain": [
       "coord              x          y          z\n",
       "landmark                                  \n",
       "P1        111.621980  -0.054701   7.265843\n",
       "P10      -131.629604  18.907184  12.718923\n",
       "P11       -78.175328  41.508954  63.766595\n",
       "P12       -81.827098 -24.470743  69.736155\n",
       "P2        100.840991  43.779036   7.917970\n",
       "P3         61.983231 -54.412079  10.927987\n",
       "P4         54.026010  49.137998  15.595244\n",
       "P5         30.643990 -53.389336  12.528696\n",
       "P6          7.803204  16.074983  57.564361\n",
       "P7        -18.589457  15.202774  69.895603\n",
       "P8       -101.208106  39.914241   8.347862\n",
       "P9       -102.188549 -22.934772  15.240934"
      ]
     },
     "execution_count": 9,
     "metadata": {},
     "output_type": "execute_result"
    }
   ],
   "source": [
    "df_local = frame.df2local(df, axes_frame, origin)\n",
    "df_local"
   ]
  },
  {
   "cell_type": "markdown",
   "metadata": {},
   "source": [
    "## Metrics"
   ]
  },
  {
   "cell_type": "code",
   "execution_count": 10,
   "metadata": {},
   "outputs": [],
   "source": [
    "results = [\n",
    "    {\n",
    "        'file': 'description',\n",
    "        'FL': 'foot length (mm)',\n",
    "        'MBL': 'medial ball length (mm)',\n",
    "        'LBL': 'lateral ball length (mm)',\n",
    "        'ABW': 'anatomical ball width (mm)',\n",
    "        'OBW': 'orthogonal ball width (mm)',\n",
    "        'OHW': 'orthogonal heel width (mm)',\n",
    "        'BH': 'ball heigh (mm)',\n",
    "        'IH': 'instep height (mm)',\n",
    "        'BA': 'ball angle (°)',\n",
    "        'T1A': 'toe 1 angle (°)',\n",
    "        'T5A': 'toe 5 angle (°)',\n",
    "        'ABG': 'anatomical ball girth (mm)',\n",
    "        'IG': 'instep girth (mm)',\n",
    "    }\n",
    "]"
   ]
  },
  {
   "cell_type": "code",
   "execution_count": 11,
   "metadata": {},
   "outputs": [],
   "source": [
    "from measure import metric\n",
    "\n",
    "results.append(\n",
    "    {\n",
    "        'file': str(file),\n",
    "        'FL': metric.fl(df_local),\n",
    "        'MBL': metric.mbl(df_local),\n",
    "        'LBL': metric.lbl(df_local),\n",
    "        'ABW': metric.abw(df_local),\n",
    "        'OBW': metric.obw(df_local),\n",
    "        'OHW': metric.ohw(df_local),\n",
    "        'BH': metric.bh(df_local),\n",
    "        'IH': metric.ih(df_local),\n",
    "        'BA': metric.ba(df_local),\n",
    "        'T1A': metric.t1a(df_local),\n",
    "        'T5A': metric.t5a(df_local),\n",
    "        'ABG': metric.abg(df_local, mesh_local),\n",
    "        'IG': metric.ig(df_local, mesh_local),\n",
    "    }\n",
    ")"
   ]
  },
  {
   "cell_type": "code",
   "execution_count": 12,
   "metadata": {},
   "outputs": [
    {
     "data": {
      "application/vnd.microsoft.datawrangler.viewer.v0+json": {
       "columns": [
        {
         "name": "file",
         "rawType": "object",
         "type": "string"
        },
        {
         "name": "FL",
         "rawType": "object",
         "type": "unknown"
        },
        {
         "name": "MBL",
         "rawType": "object",
         "type": "unknown"
        },
        {
         "name": "LBL",
         "rawType": "object",
         "type": "unknown"
        },
        {
         "name": "ABW",
         "rawType": "object",
         "type": "unknown"
        },
        {
         "name": "OBW",
         "rawType": "object",
         "type": "unknown"
        },
        {
         "name": "OHW",
         "rawType": "object",
         "type": "unknown"
        },
        {
         "name": "BH",
         "rawType": "object",
         "type": "unknown"
        },
        {
         "name": "IH",
         "rawType": "object",
         "type": "unknown"
        },
        {
         "name": "BA",
         "rawType": "object",
         "type": "unknown"
        },
        {
         "name": "T1A",
         "rawType": "object",
         "type": "unknown"
        },
        {
         "name": "T5A",
         "rawType": "object",
         "type": "unknown"
        },
        {
         "name": "ABG",
         "rawType": "object",
         "type": "unknown"
        },
        {
         "name": "IG",
         "rawType": "object",
         "type": "unknown"
        }
       ],
       "ref": "9486b338-8c19-43ed-b275-b0e7a6d5936e",
       "rows": [
        [
         "description",
         "foot length (mm)",
         "medial ball length (mm)",
         "lateral ball length (mm)",
         "anatomical ball width (mm)",
         "orthogonal ball width (mm)",
         "orthogonal heel width (mm)",
         "ball heigh (mm)",
         "instep height (mm)",
         "ball angle (°)",
         "toe 1 angle (°)",
         "toe 5 angle (°)",
         "anatomical ball girth (mm)",
         "instep girth (mm)"
        ],
        [
         "../data/discontinued/Sub_109_Static_R_025_035.000008.obj",
         "243.25158356068158",
         "185.65561411302582",
         "162.27359431739922",
         "105.20445270497565",
         "103.55007753996188",
         "62.84901255232302",
         "57.564361242207305",
         "69.8956032448109",
         "73.69681860373328",
         "15.494200712655129",
         "11.179461431842498",
         "253.6416715447904",
         "249.5455266660486"
        ]
       ],
       "shape": {
        "columns": 13,
        "rows": 2
       }
      },
      "text/html": [
       "<div>\n",
       "<style scoped>\n",
       "    .dataframe tbody tr th:only-of-type {\n",
       "        vertical-align: middle;\n",
       "    }\n",
       "\n",
       "    .dataframe tbody tr th {\n",
       "        vertical-align: top;\n",
       "    }\n",
       "\n",
       "    .dataframe thead th {\n",
       "        text-align: right;\n",
       "    }\n",
       "</style>\n",
       "<table border=\"1\" class=\"dataframe\">\n",
       "  <thead>\n",
       "    <tr style=\"text-align: right;\">\n",
       "      <th></th>\n",
       "      <th>FL</th>\n",
       "      <th>MBL</th>\n",
       "      <th>LBL</th>\n",
       "      <th>ABW</th>\n",
       "      <th>OBW</th>\n",
       "      <th>OHW</th>\n",
       "      <th>BH</th>\n",
       "      <th>IH</th>\n",
       "      <th>BA</th>\n",
       "      <th>T1A</th>\n",
       "      <th>T5A</th>\n",
       "      <th>ABG</th>\n",
       "      <th>IG</th>\n",
       "    </tr>\n",
       "    <tr>\n",
       "      <th>file</th>\n",
       "      <th></th>\n",
       "      <th></th>\n",
       "      <th></th>\n",
       "      <th></th>\n",
       "      <th></th>\n",
       "      <th></th>\n",
       "      <th></th>\n",
       "      <th></th>\n",
       "      <th></th>\n",
       "      <th></th>\n",
       "      <th></th>\n",
       "      <th></th>\n",
       "      <th></th>\n",
       "    </tr>\n",
       "  </thead>\n",
       "  <tbody>\n",
       "    <tr>\n",
       "      <th>description</th>\n",
       "      <td>foot length (mm)</td>\n",
       "      <td>medial ball length (mm)</td>\n",
       "      <td>lateral ball length (mm)</td>\n",
       "      <td>anatomical ball width (mm)</td>\n",
       "      <td>orthogonal ball width (mm)</td>\n",
       "      <td>orthogonal heel width (mm)</td>\n",
       "      <td>ball heigh (mm)</td>\n",
       "      <td>instep height (mm)</td>\n",
       "      <td>ball angle (°)</td>\n",
       "      <td>toe 1 angle (°)</td>\n",
       "      <td>toe 5 angle (°)</td>\n",
       "      <td>anatomical ball girth (mm)</td>\n",
       "      <td>instep girth (mm)</td>\n",
       "    </tr>\n",
       "    <tr>\n",
       "      <th>../data/discontinued/Sub_109_Static_R_025_035.000008.obj</th>\n",
       "      <td>243.251584</td>\n",
       "      <td>185.655614</td>\n",
       "      <td>162.273594</td>\n",
       "      <td>105.204453</td>\n",
       "      <td>103.550078</td>\n",
       "      <td>62.849013</td>\n",
       "      <td>57.564361</td>\n",
       "      <td>69.895603</td>\n",
       "      <td>73.696819</td>\n",
       "      <td>15.494201</td>\n",
       "      <td>11.179461</td>\n",
       "      <td>253.641672</td>\n",
       "      <td>249.545527</td>\n",
       "    </tr>\n",
       "  </tbody>\n",
       "</table>\n",
       "</div>"
      ],
      "text/plain": [
       "                                                                  FL  \\\n",
       "file                                                                   \n",
       "description                                         foot length (mm)   \n",
       "../data/discontinued/Sub_109_Static_R_025_035.0...        243.251584   \n",
       "\n",
       "                                                                        MBL  \\\n",
       "file                                                                          \n",
       "description                                         medial ball length (mm)   \n",
       "../data/discontinued/Sub_109_Static_R_025_035.0...               185.655614   \n",
       "\n",
       "                                                                         LBL  \\\n",
       "file                                                                           \n",
       "description                                         lateral ball length (mm)   \n",
       "../data/discontinued/Sub_109_Static_R_025_035.0...                162.273594   \n",
       "\n",
       "                                                                           ABW  \\\n",
       "file                                                                             \n",
       "description                                         anatomical ball width (mm)   \n",
       "../data/discontinued/Sub_109_Static_R_025_035.0...                  105.204453   \n",
       "\n",
       "                                                                           OBW  \\\n",
       "file                                                                             \n",
       "description                                         orthogonal ball width (mm)   \n",
       "../data/discontinued/Sub_109_Static_R_025_035.0...                  103.550078   \n",
       "\n",
       "                                                                           OHW  \\\n",
       "file                                                                             \n",
       "description                                         orthogonal heel width (mm)   \n",
       "../data/discontinued/Sub_109_Static_R_025_035.0...                   62.849013   \n",
       "\n",
       "                                                                 BH  \\\n",
       "file                                                                  \n",
       "description                                         ball heigh (mm)   \n",
       "../data/discontinued/Sub_109_Static_R_025_035.0...        57.564361   \n",
       "\n",
       "                                                                    IH  \\\n",
       "file                                                                     \n",
       "description                                         instep height (mm)   \n",
       "../data/discontinued/Sub_109_Static_R_025_035.0...           69.895603   \n",
       "\n",
       "                                                                BA  \\\n",
       "file                                                                 \n",
       "description                                         ball angle (°)   \n",
       "../data/discontinued/Sub_109_Static_R_025_035.0...       73.696819   \n",
       "\n",
       "                                                                T1A  \\\n",
       "file                                                                  \n",
       "description                                         toe 1 angle (°)   \n",
       "../data/discontinued/Sub_109_Static_R_025_035.0...        15.494201   \n",
       "\n",
       "                                                                T5A  \\\n",
       "file                                                                  \n",
       "description                                         toe 5 angle (°)   \n",
       "../data/discontinued/Sub_109_Static_R_025_035.0...        11.179461   \n",
       "\n",
       "                                                                           ABG  \\\n",
       "file                                                                             \n",
       "description                                         anatomical ball girth (mm)   \n",
       "../data/discontinued/Sub_109_Static_R_025_035.0...                  253.641672   \n",
       "\n",
       "                                                                   IG  \n",
       "file                                                                   \n",
       "description                                         instep girth (mm)  \n",
       "../data/discontinued/Sub_109_Static_R_025_035.0...         249.545527  "
      ]
     },
     "execution_count": 12,
     "metadata": {},
     "output_type": "execute_result"
    }
   ],
   "source": [
    "df_metric = pd.DataFrame(results).set_index('file')\n",
    "df_metric"
   ]
  },
  {
   "cell_type": "markdown",
   "metadata": {},
   "source": [
    "### Visualization"
   ]
  },
  {
   "cell_type": "code",
   "execution_count": 14,
   "metadata": {},
   "outputs": [
    {
     "data": {
      "application/vnd.jupyter.widget-view+json": {
       "model_id": "0e5c681c5c824e15bf0424b066a69f46",
       "version_major": 2,
       "version_minor": 0
      },
      "text/plain": [
       "Widget(value='<iframe src=\"http://localhost:60494/index.html?ui=P_0x16c2eb1f0_6&reconnect=auto\" class=\"pyvista…"
      ]
     },
     "metadata": {},
     "output_type": "display_data"
    },
    {
     "data": {
      "application/vnd.jupyter.widget-view+json": {
       "model_id": "4bb5c162a2b64274ae4fc0fa0101377e",
       "version_major": 2,
       "version_minor": 0
      },
      "text/plain": [
       "Widget(value='<iframe src=\"http://localhost:60494/index.html?ui=P_0x16c2ea110_7&reconnect=auto\" class=\"pyvista…"
      ]
     },
     "metadata": {},
     "output_type": "display_data"
    },
    {
     "data": {
      "application/vnd.jupyter.widget-view+json": {
       "model_id": "d881b433db6d4ae98f9033846dda65fa",
       "version_major": 2,
       "version_minor": 0
      },
      "text/plain": [
       "Widget(value='<iframe src=\"http://localhost:60494/index.html?ui=P_0x1714d4a90_8&reconnect=auto\" class=\"pyvista…"
      ]
     },
     "metadata": {},
     "output_type": "display_data"
    },
    {
     "data": {
      "application/vnd.jupyter.widget-view+json": {
       "model_id": "2adbc9555c0346fd9b5e41d73aead601",
       "version_major": 2,
       "version_minor": 0
      },
      "text/plain": [
       "Widget(value='<iframe src=\"http://localhost:60494/index.html?ui=P_0x16fbc9c90_9&reconnect=auto\" class=\"pyvista…"
      ]
     },
     "metadata": {},
     "output_type": "display_data"
    },
    {
     "data": {
      "application/vnd.jupyter.widget-view+json": {
       "model_id": "f4411fd69c0e4b128fe8ffa06922023b",
       "version_major": 2,
       "version_minor": 0
      },
      "text/plain": [
       "Widget(value='<iframe src=\"http://localhost:60494/index.html?ui=P_0x16fbcbf10_10&reconnect=auto\" class=\"pyvist…"
      ]
     },
     "metadata": {},
     "output_type": "display_data"
    }
   ],
   "source": [
    "if is_plot:\n",
    "    settings = {\n",
    "        'FL': ['P1', 'P10', 'x'],\n",
    "        'MBL': ['P4', 'P10', 'x'],\n",
    "        'LBL': ['P5', 'P10', 'x'],\n",
    "        'OBW': ['P4', 'P3', 'y'],\n",
    "        'OHW': ['P9', 'P8', 'y'],\n",
    "    }\n",
    "\n",
    "    for name, [landmark1, landmark2, axis] in settings.items():\n",
    "        scene = pv.Plotter()\n",
    "        scene.add_mesh(mesh_local, opacity=0.1)\n",
    "        visual.plot_dist_along_axis(scene, df_local, landmark1, landmark2, axis, name=name)\n",
    "        scene.show()\n",
    "        scene.screenshot(f'output/visual/{name}.png')"
   ]
  },
  {
   "cell_type": "code",
   "execution_count": 15,
   "metadata": {},
   "outputs": [
    {
     "data": {
      "application/vnd.jupyter.widget-view+json": {
       "model_id": "f7747116165540b6a27fe9b2f9c574ca",
       "version_major": 2,
       "version_minor": 0
      },
      "text/plain": [
       "Widget(value='<iframe src=\"http://localhost:60494/index.html?ui=P_0x16fbcba90_11&reconnect=auto\" class=\"pyvist…"
      ]
     },
     "metadata": {},
     "output_type": "display_data"
    },
    {
     "data": {
      "application/vnd.jupyter.widget-view+json": {
       "model_id": "25932e9baf1648e2a62e36b430763e4f",
       "version_major": 2,
       "version_minor": 0
      },
      "text/plain": [
       "Widget(value='<iframe src=\"http://localhost:60494/index.html?ui=P_0x17e4ebbe0_12&reconnect=auto\" class=\"pyvist…"
      ]
     },
     "metadata": {},
     "output_type": "display_data"
    }
   ],
   "source": [
    "if is_plot:\n",
    "    settings = {\n",
    "        'BH': 'P6',\n",
    "        'IH': 'P7',\n",
    "    }\n",
    "\n",
    "    for name, landmark in settings.items():\n",
    "        scene = pv.Plotter()\n",
    "        scene.add_mesh(mesh_local, opacity=0.1)\n",
    "        visual.plot_height(scene, df_local, landmark, name=name)\n",
    "        scene.show()\n",
    "        scene.screenshot(f'output/visual/{name}.png')"
   ]
  },
  {
   "cell_type": "code",
   "execution_count": 16,
   "metadata": {},
   "outputs": [
    {
     "data": {
      "application/vnd.jupyter.widget-view+json": {
       "model_id": "53ff47af61204eb58a8cf558fa52936c",
       "version_major": 2,
       "version_minor": 0
      },
      "text/plain": [
       "Widget(value='<iframe src=\"http://localhost:60494/index.html?ui=P_0x1830c0af0_13&reconnect=auto\" class=\"pyvist…"
      ]
     },
     "metadata": {},
     "output_type": "display_data"
    },
    {
     "data": {
      "application/vnd.jupyter.widget-view+json": {
       "model_id": "6fc7698ca1af406494f5bfab540d75ce",
       "version_major": 2,
       "version_minor": 0
      },
      "text/plain": [
       "Widget(value='<iframe src=\"http://localhost:60494/index.html?ui=P_0x183012560_14&reconnect=auto\" class=\"pyvist…"
      ]
     },
     "metadata": {},
     "output_type": "display_data"
    },
    {
     "data": {
      "application/vnd.jupyter.widget-view+json": {
       "model_id": "76122de578c44fb5a07b10c4734d29bd",
       "version_major": 2,
       "version_minor": 0
      },
      "text/plain": [
       "Widget(value='<iframe src=\"http://localhost:60494/index.html?ui=P_0x17c9465f0_15&reconnect=auto\" class=\"pyvist…"
      ]
     },
     "metadata": {},
     "output_type": "display_data"
    }
   ],
   "source": [
    "if is_plot:\n",
    "    settings = {\n",
    "        'BA': ['P4', 'P5', 'P8'],\n",
    "        'T1A': ['P4', 'P2', 'P8'],\n",
    "        'T5A': ['P5', 'P3', 'P9'],\n",
    "    }\n",
    "\n",
    "    for name, [landmark_origin, landmark1, landmark2] in settings.items():\n",
    "        scene = pv.Plotter()\n",
    "        scene.add_mesh(mesh_local, opacity=0.1)\n",
    "        visual.plot_angle(scene, df_local, landmark_origin, landmark1, landmark2, actue_angle=True, name=name)\n",
    "        scene.show()\n",
    "        scene.screenshot(f'output/visual/{name}.png')"
   ]
  },
  {
   "cell_type": "code",
   "execution_count": 17,
   "metadata": {},
   "outputs": [
    {
     "data": {
      "application/vnd.jupyter.widget-view+json": {
       "model_id": "d34e185e3bec4f5492960f3b0c1d63ad",
       "version_major": 2,
       "version_minor": 0
      },
      "text/plain": [
       "Widget(value='<iframe src=\"http://localhost:60494/index.html?ui=P_0x1830c0580_16&reconnect=auto\" class=\"pyvist…"
      ]
     },
     "metadata": {},
     "output_type": "display_data"
    }
   ],
   "source": [
    "if is_plot:\n",
    "    settings = {\n",
    "        'ABW': ['P4', 'P5'],\n",
    "    }\n",
    "\n",
    "    for name, [landmark1, landmark2] in settings.items():\n",
    "        scene = pv.Plotter()\n",
    "        scene.add_mesh(mesh_local, opacity=0.1)\n",
    "        visual.plot_dist(scene, df_local, landmark1, landmark2, name=name)\n",
    "        scene.show()\n",
    "        scene.screenshot(f'output/visual/{name}.png')"
   ]
  },
  {
   "cell_type": "code",
   "execution_count": 18,
   "metadata": {},
   "outputs": [
    {
     "data": {
      "application/vnd.jupyter.widget-view+json": {
       "model_id": "ae6e343f8e774f5c90c88e80af65ec46",
       "version_major": 2,
       "version_minor": 0
      },
      "text/plain": [
       "Widget(value='<iframe src=\"http://localhost:60494/index.html?ui=P_0x18601a980_17&reconnect=auto\" class=\"pyvist…"
      ]
     },
     "metadata": {},
     "output_type": "display_data"
    }
   ],
   "source": [
    "if is_plot:\n",
    "    scene = pv.Plotter()\n",
    "    scene.add_mesh(mesh_local, opacity=0.1)\n",
    "    visual.plot_circ_pass_2landmarks(scene, df_local, mesh_local, ['P4', 'P5'], tangent_axis='z', name='ABG')\n",
    "    scene.show()\n",
    "    scene.screenshot(f'output/visual/ABG.png')"
   ]
  },
  {
   "cell_type": "code",
   "execution_count": 19,
   "metadata": {},
   "outputs": [
    {
     "data": {
      "application/vnd.jupyter.widget-view+json": {
       "model_id": "505be8bb0fd24faf9e0f0ce84d8fdbb5",
       "version_major": 2,
       "version_minor": 0
      },
      "text/plain": [
       "Widget(value='<iframe src=\"http://localhost:60494/index.html?ui=P_0x192afa110_18&reconnect=auto\" class=\"pyvist…"
      ]
     },
     "metadata": {},
     "output_type": "display_data"
    }
   ],
   "source": [
    "if is_plot:\n",
    "    scene = pv.Plotter()\n",
    "    scene.add_mesh(mesh_local, opacity=0.1)\n",
    "    visual.plot_circ_pass_landmark(scene, df_local, mesh_local, 'P6', 'x', name='IG')\n",
    "    scene.show()\n",
    "    scene.screenshot(f'output/visual/IG.png')"
   ]
  },
  {
   "cell_type": "code",
   "execution_count": null,
   "metadata": {},
   "outputs": [],
   "source": []
  }
 ],
 "metadata": {
  "kernelspec": {
   "display_name": "mesh4d",
   "language": "python",
   "name": "python3"
  },
  "language_info": {
   "codemirror_mode": {
    "name": "ipython",
    "version": 3
   },
   "file_extension": ".py",
   "mimetype": "text/x-python",
   "name": "python",
   "nbconvert_exporter": "python",
   "pygments_lexer": "ipython3",
   "version": "3.10.15"
  }
 },
 "nbformat": 4,
 "nbformat_minor": 2
}
