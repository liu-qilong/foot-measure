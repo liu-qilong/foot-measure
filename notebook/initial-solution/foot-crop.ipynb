{
 "cells": [
  {
   "cell_type": "code",
   "execution_count": 1,
   "metadata": {},
   "outputs": [
    {
     "name": "stdout",
     "output_type": "stream",
     "text": [
      "[====================] 100.0% loading: /Users/knpob/Territory/Kolmo/data/DynaFootLite/Fast/Sub05_Fast_L1_102_143.000031.obj\n"
     ]
    }
   ],
   "source": [
    "from mesh4d import obj3d\n",
    "\n",
    "mesh_ls, _ = obj3d.load_mesh_series(\n",
    "    folder='/Users/knpob/Territory/Kolmo/data/DynaFootLite/Fast',\n",
    "    start=0,\n",
    "    stride=1,\n",
    "    end=4,\n",
    "    load_texture=False,\n",
    ")"
   ]
  },
  {
   "cell_type": "code",
   "execution_count": 2,
   "metadata": {},
   "outputs": [],
   "source": [
    "from mesh4d import utils\n",
    "\n",
    "landmarks = utils.load_pkl_object('output/fast.pkl')\n",
    "landmarks.interp_field()"
   ]
  },
  {
   "cell_type": "code",
   "execution_count": 3,
   "metadata": {},
   "outputs": [],
   "source": [
    "from mesh4d.analyse.crave import clip_with_contour\n",
    "\n",
    "contour = landmarks.extract(('P7', 'P10', 'P11', 'P12'))\n",
    "mesh_clip_ls = clip_with_contour(mesh_ls, start_time=0, fps=40, contour=contour, clip_bound='', margin=0, invert=True)"
   ]
  },
  {
   "cell_type": "code",
   "execution_count": 4,
   "metadata": {},
   "outputs": [
    {
     "data": {
      "application/vnd.jupyter.widget-view+json": {
       "model_id": "04f9c485ff324036b1c9974590853376",
       "version_major": 2,
       "version_minor": 0
      },
      "text/plain": [
       "Widget(value=\"<iframe src='http://localhost:56948/index.html?ui=P_0x7fd9c361f340_0&reconnect=auto' style='widt…"
      ]
     },
     "metadata": {},
     "output_type": "display_data"
    }
   ],
   "source": [
    "import pyvista as pv\n",
    "\n",
    "scene = pv.Plotter()\n",
    "scene.add_mesh(mesh_clip_ls[0], opacity=0.5, color='red')\n",
    "scene.add_mesh(mesh_ls[0], opacity=0.5)\n",
    "scene.show()"
   ]
  },
  {
   "cell_type": "code",
   "execution_count": 5,
   "metadata": {},
   "outputs": [],
   "source": [
    "foot_ls = obj3d.init_obj_series(\n",
    "    mesh_clip_ls,\n",
    "    obj_type=obj3d.Obj3d_Deform\n",
    "    )"
   ]
  },
  {
   "cell_type": "code",
   "execution_count": 6,
   "metadata": {},
   "outputs": [],
   "source": [
    "from mesh4d import obj4d\n",
    "\n",
    "foot4d = obj4d.Obj4d_Deform(\n",
    "    fps=40,\n",
    "    enable_rigid=False,\n",
    "    enable_nonrigid=False,\n",
    ")\n",
    "foot4d.add_obj(*foot_ls)\n",
    "foot4d.load_markerset('landmarks', landmarks)"
   ]
  },
  {
   "cell_type": "code",
   "execution_count": 7,
   "metadata": {},
   "outputs": [
    {
     "data": {
      "application/vnd.jupyter.widget-view+json": {
       "model_id": "7b1d8dce1502443891fbf25c7f90adc7",
       "version_major": 2,
       "version_minor": 0
      },
      "text/plain": [
       "Widget(value=\"<iframe src='http://localhost:56948/index.html?ui=P_0x7fd9b1115e80_1&reconnect=auto' style='widt…"
      ]
     },
     "metadata": {},
     "output_type": "display_data"
    },
    {
     "name": "stdout",
     "output_type": "stream",
     "text": [
      "export image: output/raw_stack.png\n"
     ]
    },
    {
     "data": {
      "text/plain": [
       "<pyvista.plotting.plotter.Plotter at 0x7fd9b1115e80>"
      ]
     },
     "execution_count": 7,
     "metadata": {},
     "output_type": "execute_result"
    }
   ],
   "source": [
    "foot4d.show(elements='m', window_size=[1000, 500], zoom_rate=2.5, stack_dist= 500, m_props={'opacity': 1.0, 'show_edges': False}, is_export=True, export_folder='output', export_name='raw_stack')"
   ]
  },
  {
   "cell_type": "code",
   "execution_count": null,
   "metadata": {},
   "outputs": [],
   "source": []
  }
 ],
 "metadata": {
  "kernelspec": {
   "display_name": "mesh4d",
   "language": "python",
   "name": "python3"
  },
  "language_info": {
   "codemirror_mode": {
    "name": "ipython",
    "version": 3
   },
   "file_extension": ".py",
   "mimetype": "text/x-python",
   "name": "python",
   "nbconvert_exporter": "python",
   "pygments_lexer": "ipython3",
   "version": "3.9.16"
  }
 },
 "nbformat": 4,
 "nbformat_minor": 2
}
