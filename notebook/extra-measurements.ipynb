{
 "cells": [
  {
   "cell_type": "code",
   "execution_count": 35,
   "metadata": {},
   "outputs": [],
   "source": [
    "# FOLDER = '../data/olivia/Healthy'\n",
    "FOLDER = '../data/olivia/Flat feet'\n",
    "EXTENSION = '.obj'\n",
    "# EXTENSION = '.stl'\n",
    "# OUTPUT_FOLDER = 'output/olivia/Healthy'\n",
    "OUTPUT_FOLDER = 'output/olivia/Flat feet'"
   ]
  },
  {
   "cell_type": "code",
   "execution_count": 36,
   "metadata": {},
   "outputs": [],
   "source": [
    "import sys\n",
    "sys.path.append('..')"
   ]
  },
  {
   "cell_type": "code",
   "execution_count": 37,
   "metadata": {},
   "outputs": [
    {
     "data": {
      "text/plain": [
       "['../data/olivia/Flat feet/AM002R.obj']"
      ]
     },
     "execution_count": 37,
     "metadata": {},
     "output_type": "execute_result"
    }
   ],
   "source": [
    "import os\n",
    "\n",
    "files = os.listdir(FOLDER)\n",
    "files = [os.path.join(FOLDER, f) for f in files if EXTENSION in f]\n",
    "files.sort()\n",
    "files"
   ]
  },
  {
   "cell_type": "markdown",
   "metadata": {},
   "source": [
    "## Example run"
   ]
  },
  {
   "cell_type": "code",
   "execution_count": 30,
   "metadata": {},
   "outputs": [
    {
     "data": {
      "text/html": [
       "<div>\n",
       "<style scoped>\n",
       "    .dataframe tbody tr th:only-of-type {\n",
       "        vertical-align: middle;\n",
       "    }\n",
       "\n",
       "    .dataframe tbody tr th {\n",
       "        vertical-align: top;\n",
       "    }\n",
       "\n",
       "    .dataframe thead th {\n",
       "        text-align: right;\n",
       "    }\n",
       "</style>\n",
       "<table border=\"1\" class=\"dataframe\">\n",
       "  <thead>\n",
       "    <tr style=\"text-align: right;\">\n",
       "      <th>coord</th>\n",
       "      <th>x</th>\n",
       "      <th>y</th>\n",
       "      <th>z</th>\n",
       "    </tr>\n",
       "    <tr>\n",
       "      <th>landmark</th>\n",
       "      <th></th>\n",
       "      <th></th>\n",
       "      <th></th>\n",
       "    </tr>\n",
       "  </thead>\n",
       "  <tbody>\n",
       "    <tr>\n",
       "      <th>P1</th>\n",
       "      <td>-67.433754</td>\n",
       "      <td>-59.069650</td>\n",
       "      <td>-4.445435</td>\n",
       "    </tr>\n",
       "    <tr>\n",
       "      <th>P10</th>\n",
       "      <td>143.191633</td>\n",
       "      <td>-63.485578</td>\n",
       "      <td>-8.482214</td>\n",
       "    </tr>\n",
       "    <tr>\n",
       "      <th>P11</th>\n",
       "      <td>96.316931</td>\n",
       "      <td>-102.094039</td>\n",
       "      <td>-68.546837</td>\n",
       "    </tr>\n",
       "    <tr>\n",
       "      <th>P12</th>\n",
       "      <td>105.704739</td>\n",
       "      <td>-43.645970</td>\n",
       "      <td>-64.195482</td>\n",
       "    </tr>\n",
       "    <tr>\n",
       "      <th>P2</th>\n",
       "      <td>-54.321493</td>\n",
       "      <td>-98.332041</td>\n",
       "      <td>-2.974623</td>\n",
       "    </tr>\n",
       "    <tr>\n",
       "      <th>P3</th>\n",
       "      <td>-17.066654</td>\n",
       "      <td>-15.908056</td>\n",
       "      <td>-8.567077</td>\n",
       "    </tr>\n",
       "    <tr>\n",
       "      <th>P4</th>\n",
       "      <td>-15.298339</td>\n",
       "      <td>-100.373671</td>\n",
       "      <td>-13.646069</td>\n",
       "    </tr>\n",
       "    <tr>\n",
       "      <th>P5</th>\n",
       "      <td>13.118212</td>\n",
       "      <td>-16.114940</td>\n",
       "      <td>-5.127648</td>\n",
       "    </tr>\n",
       "    <tr>\n",
       "      <th>P6</th>\n",
       "      <td>41.250061</td>\n",
       "      <td>-75.062300</td>\n",
       "      <td>-57.208651</td>\n",
       "    </tr>\n",
       "    <tr>\n",
       "      <th>P7</th>\n",
       "      <td>51.217970</td>\n",
       "      <td>-75.987323</td>\n",
       "      <td>-63.852731</td>\n",
       "    </tr>\n",
       "    <tr>\n",
       "      <th>P8</th>\n",
       "      <td>112.646228</td>\n",
       "      <td>-88.198250</td>\n",
       "      <td>-4.950854</td>\n",
       "    </tr>\n",
       "    <tr>\n",
       "      <th>P9</th>\n",
       "      <td>115.837046</td>\n",
       "      <td>-34.722476</td>\n",
       "      <td>-8.386115</td>\n",
       "    </tr>\n",
       "    <tr>\n",
       "      <th>AA</th>\n",
       "      <td>60.872381</td>\n",
       "      <td>-93.040983</td>\n",
       "      <td>-11.941719</td>\n",
       "    </tr>\n",
       "    <tr>\n",
       "      <th>LMB</th>\n",
       "      <td>46.033256</td>\n",
       "      <td>-29.315388</td>\n",
       "      <td>-1.638300</td>\n",
       "    </tr>\n",
       "    <tr>\n",
       "      <th>MLA-AP</th>\n",
       "      <td>6.227745</td>\n",
       "      <td>-84.597308</td>\n",
       "      <td>-0.415689</td>\n",
       "    </tr>\n",
       "    <tr>\n",
       "      <th>MLA-PP</th>\n",
       "      <td>94.686395</td>\n",
       "      <td>-82.085670</td>\n",
       "      <td>-0.569690</td>\n",
       "    </tr>\n",
       "    <tr>\n",
       "      <th>MMB</th>\n",
       "      <td>44.998711</td>\n",
       "      <td>-59.842777</td>\n",
       "      <td>-1.066657</td>\n",
       "    </tr>\n",
       "  </tbody>\n",
       "</table>\n",
       "</div>"
      ],
      "text/plain": [
       "coord              x           y          z\n",
       "landmark                                   \n",
       "P1        -67.433754  -59.069650  -4.445435\n",
       "P10       143.191633  -63.485578  -8.482214\n",
       "P11        96.316931 -102.094039 -68.546837\n",
       "P12       105.704739  -43.645970 -64.195482\n",
       "P2        -54.321493  -98.332041  -2.974623\n",
       "P3        -17.066654  -15.908056  -8.567077\n",
       "P4        -15.298339 -100.373671 -13.646069\n",
       "P5         13.118212  -16.114940  -5.127648\n",
       "P6         41.250061  -75.062300 -57.208651\n",
       "P7         51.217970  -75.987323 -63.852731\n",
       "P8        112.646228  -88.198250  -4.950854\n",
       "P9        115.837046  -34.722476  -8.386115\n",
       "AA         60.872381  -93.040983 -11.941719\n",
       "LMB        46.033256  -29.315388  -1.638300\n",
       "MLA-AP      6.227745  -84.597308  -0.415689\n",
       "MLA-PP     94.686395  -82.085670  -0.569690\n",
       "MMB        44.998711  -59.842777  -1.066657"
      ]
     },
     "execution_count": 30,
     "metadata": {},
     "output_type": "execute_result"
    }
   ],
   "source": [
    "import pandas as pd\n",
    "\n",
    "file = files[0]\n",
    "\n",
    "# load labelling\n",
    "lmrk = pd.concat([\n",
    "    pd.read_pickle(file.replace(EXTENSION, '.pkl')),\n",
    "    pd.read_pickle(file.replace(EXTENSION, '-extra-udmc.pkl')),\n",
    "])\n",
    "lmrk"
   ]
  },
  {
   "cell_type": "code",
   "execution_count": 18,
   "metadata": {},
   "outputs": [
    {
     "data": {
      "application/vnd.jupyter.widget-view+json": {
       "model_id": "2c133bf70e2f4d67a1e2adf73e5802f4",
       "version_major": 2,
       "version_minor": 0
      },
      "text/plain": [
       "Widget(value='<iframe src=\"http://localhost:64987/index.html?ui=P_0x164cbb1c0_5&reconnect=auto\" class=\"pyvista…"
      ]
     },
     "metadata": {},
     "output_type": "display_data"
    }
   ],
   "source": [
    "import pyvista as pv\n",
    "from mesh4d.analyse import crave\n",
    "from measure import frame, visual\n",
    "\n",
    "# local frame\n",
    "mesh = crave.fix_pvmesh_disconnect(pv.read(file), lmrk.values)\n",
    "axes_frame, origin = frame.estimate_foot_frame(mesh, lmrk)\n",
    "mesh_clip = frame.foot_clip(mesh, lmrk)\n",
    "mesh_local = frame.foot2local(mesh_clip, axes_frame, origin)\n",
    "lmrk_local = frame.df2local(lmrk, axes_frame, origin)\n",
    "\n",
    "# visual check\n",
    "visual.plot_axes(origin, axes_frame, mesh_clip)"
   ]
  },
  {
   "cell_type": "code",
   "execution_count": 19,
   "metadata": {},
   "outputs": [
    {
     "data": {
      "text/html": [
       "<div>\n",
       "<style scoped>\n",
       "    .dataframe tbody tr th:only-of-type {\n",
       "        vertical-align: middle;\n",
       "    }\n",
       "\n",
       "    .dataframe tbody tr th {\n",
       "        vertical-align: top;\n",
       "    }\n",
       "\n",
       "    .dataframe thead th {\n",
       "        text-align: right;\n",
       "    }\n",
       "</style>\n",
       "<table border=\"1\" class=\"dataframe\">\n",
       "  <thead>\n",
       "    <tr style=\"text-align: right;\">\n",
       "      <th>coord</th>\n",
       "      <th>x</th>\n",
       "      <th>y</th>\n",
       "      <th>z</th>\n",
       "    </tr>\n",
       "    <tr>\n",
       "      <th>landmark</th>\n",
       "      <th></th>\n",
       "      <th></th>\n",
       "      <th></th>\n",
       "    </tr>\n",
       "  </thead>\n",
       "  <tbody>\n",
       "    <tr>\n",
       "      <th>P1</th>\n",
       "      <td>107.762781</td>\n",
       "      <td>-1.332880</td>\n",
       "      <td>4.478260</td>\n",
       "    </tr>\n",
       "    <tr>\n",
       "      <th>P10</th>\n",
       "      <td>-120.428164</td>\n",
       "      <td>-3.186499</td>\n",
       "      <td>5.889827</td>\n",
       "    </tr>\n",
       "    <tr>\n",
       "      <th>P11</th>\n",
       "      <td>-67.779877</td>\n",
       "      <td>-39.195876</td>\n",
       "      <td>63.614944</td>\n",
       "    </tr>\n",
       "    <tr>\n",
       "      <th>P12</th>\n",
       "      <td>-78.036585</td>\n",
       "      <td>21.409069</td>\n",
       "      <td>49.043421</td>\n",
       "    </tr>\n",
       "    <tr>\n",
       "      <th>P2</th>\n",
       "      <td>95.959077</td>\n",
       "      <td>-38.739356</td>\n",
       "      <td>2.490667</td>\n",
       "    </tr>\n",
       "    <tr>\n",
       "      <th>P3</th>\n",
       "      <td>58.067967</td>\n",
       "      <td>40.383067</td>\n",
       "      <td>9.251058</td>\n",
       "    </tr>\n",
       "    <tr>\n",
       "      <th>P4</th>\n",
       "      <td>56.144391</td>\n",
       "      <td>-40.924617</td>\n",
       "      <td>13.593470</td>\n",
       "    </tr>\n",
       "    <tr>\n",
       "      <th>P5</th>\n",
       "      <td>33.052191</td>\n",
       "      <td>41.009551</td>\n",
       "      <td>12.636770</td>\n",
       "    </tr>\n",
       "    <tr>\n",
       "      <th>P6</th>\n",
       "      <td>13.029236</td>\n",
       "      <td>-6.425653</td>\n",
       "      <td>43.548940</td>\n",
       "    </tr>\n",
       "    <tr>\n",
       "      <th>P7</th>\n",
       "      <td>-7.120739</td>\n",
       "      <td>-6.364960</td>\n",
       "      <td>52.120089</td>\n",
       "    </tr>\n",
       "    <tr>\n",
       "      <th>P8</th>\n",
       "      <td>-88.294533</td>\n",
       "      <td>-28.807868</td>\n",
       "      <td>11.411334</td>\n",
       "    </tr>\n",
       "    <tr>\n",
       "      <th>P9</th>\n",
       "      <td>-85.238204</td>\n",
       "      <td>26.704892</td>\n",
       "      <td>8.162990</td>\n",
       "    </tr>\n",
       "    <tr>\n",
       "      <th>AA</th>\n",
       "      <td>-25.302036</td>\n",
       "      <td>-40.805896</td>\n",
       "      <td>20.411065</td>\n",
       "    </tr>\n",
       "    <tr>\n",
       "      <th>LMB</th>\n",
       "      <td>-3.751192</td>\n",
       "      <td>34.309450</td>\n",
       "      <td>4.510494</td>\n",
       "    </tr>\n",
       "    <tr>\n",
       "      <th>MLA-AP</th>\n",
       "      <td>32.414084</td>\n",
       "      <td>-28.693272</td>\n",
       "      <td>-0.596656</td>\n",
       "    </tr>\n",
       "    <tr>\n",
       "      <th>MLA-PP</th>\n",
       "      <td>-66.141720</td>\n",
       "      <td>-28.773918</td>\n",
       "      <td>4.104908</td>\n",
       "    </tr>\n",
       "    <tr>\n",
       "      <th>MMB</th>\n",
       "      <td>-1.486982</td>\n",
       "      <td>-2.853051</td>\n",
       "      <td>0.614051</td>\n",
       "    </tr>\n",
       "  </tbody>\n",
       "</table>\n",
       "</div>"
      ],
      "text/plain": [
       "coord              x          y          z\n",
       "landmark                                  \n",
       "P1        107.762781  -1.332880   4.478260\n",
       "P10      -120.428164  -3.186499   5.889827\n",
       "P11       -67.779877 -39.195876  63.614944\n",
       "P12       -78.036585  21.409069  49.043421\n",
       "P2         95.959077 -38.739356   2.490667\n",
       "P3         58.067967  40.383067   9.251058\n",
       "P4         56.144391 -40.924617  13.593470\n",
       "P5         33.052191  41.009551  12.636770\n",
       "P6         13.029236  -6.425653  43.548940\n",
       "P7         -7.120739  -6.364960  52.120089\n",
       "P8        -88.294533 -28.807868  11.411334\n",
       "P9        -85.238204  26.704892   8.162990\n",
       "AA        -25.302036 -40.805896  20.411065\n",
       "LMB        -3.751192  34.309450   4.510494\n",
       "MLA-AP     32.414084 -28.693272  -0.596656\n",
       "MLA-PP    -66.141720 -28.773918   4.104908\n",
       "MMB        -1.486982  -2.853051   0.614051"
      ]
     },
     "execution_count": 19,
     "metadata": {},
     "output_type": "execute_result"
    }
   ],
   "source": [
    "lmrk_local"
   ]
  },
  {
   "cell_type": "code",
   "execution_count": 31,
   "metadata": {},
   "outputs": [],
   "source": [
    "from measure.metric import height, dist, dist_along_axis\n",
    "\n",
    "def al(\n",
    "        lmkr_local: pd.DataFrame,\n",
    "    ):\n",
    "    \"\"\"arch length\"\"\"\n",
    "    return dist(lmkr_local, 'MLA-AP', 'MLA-PP')\n",
    "\n",
    "def ab(\n",
    "        lmkr_local: pd.DataFrame,\n",
    "    ):\n",
    "    \"\"\"arch breadth\"\"\"\n",
    "    return dist(lmkr_local, 'LMB', 'MMB')\n",
    "\n",
    "def ad(\n",
    "        lmkr_local: pd.DataFrame,\n",
    "    ):\n",
    "    \"\"\"arch depth\"\"\"\n",
    "    return dist_along_axis(lmkr_local, 'P4', 'MMB', 'x')\n",
    "\n",
    "def ah(\n",
    "        lmkr_local: pd.DataFrame,\n",
    "    ):\n",
    "    \"\"\"arch height\"\"\"\n",
    "    return height(lmkr_local, 'AA')"
   ]
  },
  {
   "cell_type": "code",
   "execution_count": 32,
   "metadata": {},
   "outputs": [
    {
     "data": {
      "text/html": [
       "<div>\n",
       "<style scoped>\n",
       "    .dataframe tbody tr th:only-of-type {\n",
       "        vertical-align: middle;\n",
       "    }\n",
       "\n",
       "    .dataframe tbody tr th {\n",
       "        vertical-align: top;\n",
       "    }\n",
       "\n",
       "    .dataframe thead th {\n",
       "        text-align: right;\n",
       "    }\n",
       "</style>\n",
       "<table border=\"1\" class=\"dataframe\">\n",
       "  <thead>\n",
       "    <tr style=\"text-align: right;\">\n",
       "      <th></th>\n",
       "      <th>file</th>\n",
       "      <th>AL</th>\n",
       "      <th>AB</th>\n",
       "      <th>AD</th>\n",
       "      <th>AH</th>\n",
       "    </tr>\n",
       "  </thead>\n",
       "  <tbody>\n",
       "    <tr>\n",
       "      <th>0</th>\n",
       "      <td>description</td>\n",
       "      <td>arch length (mm)</td>\n",
       "      <td>arch breadth (mm)</td>\n",
       "      <td>arch depth (mm)</td>\n",
       "      <td>arch height (mm)</td>\n",
       "    </tr>\n",
       "    <tr>\n",
       "      <th>1</th>\n",
       "      <td>../data/olivia/Healthy/AM004L.stl</td>\n",
       "      <td>106.121039</td>\n",
       "      <td>43.842147</td>\n",
       "      <td>63.48154</td>\n",
       "      <td>13.619875</td>\n",
       "    </tr>\n",
       "  </tbody>\n",
       "</table>\n",
       "</div>"
      ],
      "text/plain": [
       "                                file                AL                 AB  \\\n",
       "0                        description  arch length (mm)  arch breadth (mm)   \n",
       "1  ../data/olivia/Healthy/AM004L.stl        106.121039          43.842147   \n",
       "\n",
       "                AD                AH  \n",
       "0  arch depth (mm)  arch height (mm)  \n",
       "1         63.48154         13.619875  "
      ]
     },
     "execution_count": 32,
     "metadata": {},
     "output_type": "execute_result"
    }
   ],
   "source": [
    "# metrics\n",
    "results = {\n",
    "    'file': ['description', str(file)],\n",
    "    'AL': ['arch length (mm)', al(lmrk_local)],\n",
    "    'AB': ['arch breadth (mm)', ab(lmrk_local)],\n",
    "    'AD': ['arch depth (mm)', ad(lmrk_local)],\n",
    "    'AH': ['arch height (mm)', ah(lmrk_local)],\n",
    "}\n",
    "\n",
    "df_extra = pd.DataFrame(results)\n",
    "df_extra"
   ]
  },
  {
   "cell_type": "markdown",
   "metadata": {},
   "source": [
    "### Visualization"
   ]
  },
  {
   "cell_type": "code",
   "execution_count": 22,
   "metadata": {},
   "outputs": [
    {
     "data": {
      "application/vnd.jupyter.widget-view+json": {
       "model_id": "06da85cd671f4fe9bdf09ee642672cdb",
       "version_major": 2,
       "version_minor": 0
      },
      "text/plain": [
       "Widget(value='<iframe src=\"http://localhost:64987/index.html?ui=P_0x111b03e80_6&reconnect=auto\" class=\"pyvista…"
      ]
     },
     "metadata": {},
     "output_type": "display_data"
    },
    {
     "data": {
      "application/vnd.jupyter.widget-view+json": {
       "model_id": "0f391b256f064c259e32a294f4bd46d1",
       "version_major": 2,
       "version_minor": 0
      },
      "text/plain": [
       "Widget(value='<iframe src=\"http://localhost:64987/index.html?ui=P_0x15dc8f910_7&reconnect=auto\" class=\"pyvista…"
      ]
     },
     "metadata": {},
     "output_type": "display_data"
    }
   ],
   "source": [
    "settings = {\n",
    "    'AL': ['MLA-AP', 'MLA-PP'],\n",
    "    'AB': ['LMB', 'MMB'],\n",
    "}\n",
    "\n",
    "for name, [landmark1, landmark2] in settings.items():\n",
    "    scene = pv.Plotter()\n",
    "    scene.add_mesh(mesh_local, opacity=0.1)\n",
    "    visual.plot_dist(scene, lmrk_local, landmark1, landmark2, name=name)\n",
    "    scene.show()\n",
    "    scene.screenshot(f'{OUTPUT_FOLDER}/{name}.png')"
   ]
  },
  {
   "cell_type": "code",
   "execution_count": 23,
   "metadata": {},
   "outputs": [
    {
     "data": {
      "application/vnd.jupyter.widget-view+json": {
       "model_id": "d22db2985ed64f58964daa5e51705e1c",
       "version_major": 2,
       "version_minor": 0
      },
      "text/plain": [
       "Widget(value='<iframe src=\"http://localhost:64987/index.html?ui=P_0x1665e1d80_8&reconnect=auto\" class=\"pyvista…"
      ]
     },
     "metadata": {},
     "output_type": "display_data"
    }
   ],
   "source": [
    "settings = {\n",
    "    'AD': ['P4', 'MMB', 'x'],\n",
    "}\n",
    "\n",
    "for name, [landmark1, landmark2, axis] in settings.items():\n",
    "    scene = pv.Plotter()\n",
    "    scene.add_mesh(mesh_local, opacity=0.1)\n",
    "    visual.plot_dist_along_axis(scene, lmrk_local, landmark1, landmark2, axis, name=name)\n",
    "    scene.show()\n",
    "    scene.screenshot(f'{OUTPUT_FOLDER}/{name}.png')"
   ]
  },
  {
   "cell_type": "code",
   "execution_count": 24,
   "metadata": {},
   "outputs": [
    {
     "data": {
      "application/vnd.jupyter.widget-view+json": {
       "model_id": "e6f5ca66ad44475d81f08b5010accc0c",
       "version_major": 2,
       "version_minor": 0
      },
      "text/plain": [
       "Widget(value='<iframe src=\"http://localhost:64987/index.html?ui=P_0x1665e3e50_9&reconnect=auto\" class=\"pyvista…"
      ]
     },
     "metadata": {},
     "output_type": "display_data"
    }
   ],
   "source": [
    "settings = {\n",
    "    'AH': 'AA',\n",
    "}\n",
    "\n",
    "for name, landmark in settings.items():\n",
    "    scene = pv.Plotter()\n",
    "    scene.add_mesh(mesh_local, opacity=0.1)\n",
    "    visual.plot_height(scene, lmrk_local, landmark, name=name)\n",
    "    scene.show()\n",
    "    scene.screenshot(f'{OUTPUT_FOLDER}/{name}.png')"
   ]
  },
  {
   "cell_type": "markdown",
   "metadata": {},
   "source": [
    "## Run all"
   ]
  },
  {
   "cell_type": "code",
   "execution_count": 38,
   "metadata": {},
   "outputs": [
    {
     "data": {
      "text/plain": [
       "'output/olivia/Flat feet/BM025L.stl'"
      ]
     },
     "execution_count": 38,
     "metadata": {},
     "output_type": "execute_result"
    }
   ],
   "source": [
    "os.path.join(\n",
    "    OUTPUT_FOLDER,\n",
    "    os.path.basename(file).replace(EXTENSION, '-extra.csv'),\n",
    "    )"
   ]
  },
  {
   "cell_type": "code",
   "execution_count": 39,
   "metadata": {},
   "outputs": [
    {
     "name": "stderr",
     "output_type": "stream",
     "text": [
      "100%|██████████| 1/1 [00:02<00:00,  2.35s/it]\n"
     ]
    }
   ],
   "source": [
    "from tqdm import tqdm\n",
    "from measure import metric\n",
    "\n",
    "for file in tqdm(files):\n",
    "    # load labelling\n",
    "    lmrk = pd.concat([\n",
    "        pd.read_pickle(file.replace(EXTENSION, '.pkl')),\n",
    "        pd.read_pickle(file.replace(EXTENSION, '-extra-udmc.pkl')),\n",
    "    ])\n",
    "\n",
    "    # local frame\n",
    "    mesh = crave.fix_pvmesh_disconnect(pv.read(file), lmrk.values)\n",
    "    axes_frame, origin = frame.estimate_foot_frame(mesh, lmrk)\n",
    "    mesh_clip = frame.foot_clip(mesh, lmrk)\n",
    "    mesh_local = frame.foot2local(mesh_clip, axes_frame, origin)\n",
    "    lmrk_local = frame.df2local(lmrk, axes_frame, origin)\n",
    "\n",
    "    # metrics\n",
    "    results = {\n",
    "        'file': ['description', str(file)],\n",
    "        'AL': ['arch length (mm)', al(lmrk_local)],\n",
    "        'AB': ['arch breadth (mm)', ab(lmrk_local)],\n",
    "        'AD': ['arch depth (mm)', ad(lmrk_local)],\n",
    "        'AH': ['arch height (mm)', ah(lmrk_local)],\n",
    "    }\n",
    "\n",
    "    df_extra = pd.DataFrame(results)\n",
    "    df_extra = pd.DataFrame(results).set_index('file')\n",
    "\n",
    "    output_path = os.path.join(\n",
    "        OUTPUT_FOLDER,\n",
    "        os.path.basename(file).replace(EXTENSION, '-extra.csv'),\n",
    "        )\n",
    "    df_extra.to_csv(output_path)\n",
    "\n",
    "    # combine all results so far\n",
    "    output_path = os.path.join(OUTPUT_FOLDER, 'measurements-extra.csv')\n",
    "    df_all = metric.combine_measurement_csv(OUTPUT_FOLDER)\n",
    "    df_all.to_csv(output_path)"
   ]
  },
  {
   "cell_type": "code",
   "execution_count": null,
   "metadata": {},
   "outputs": [],
   "source": []
  }
 ],
 "metadata": {
  "kernelspec": {
   "display_name": "mesh4d",
   "language": "python",
   "name": "python3"
  },
  "language_info": {
   "codemirror_mode": {
    "name": "ipython",
    "version": 3
   },
   "file_extension": ".py",
   "mimetype": "text/x-python",
   "name": "python",
   "nbconvert_exporter": "python",
   "pygments_lexer": "ipython3",
   "version": "3.10.15"
  }
 },
 "nbformat": 4,
 "nbformat_minor": 2
}
