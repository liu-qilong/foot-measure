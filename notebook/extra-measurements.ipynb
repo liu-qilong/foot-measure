{
 "cells": [
  {
   "cell_type": "code",
   "execution_count": 1,
   "metadata": {},
   "outputs": [],
   "source": [
    "FOLDER = '../data/stl'\n",
    "EXTENSION = '.stl'\n",
    "OUTPUT_FOLDER = 'output/extra-measurements'"
   ]
  },
  {
   "cell_type": "code",
   "execution_count": 2,
   "metadata": {},
   "outputs": [],
   "source": [
    "import sys\n",
    "sys.path.append('..')"
   ]
  },
  {
   "cell_type": "code",
   "execution_count": 3,
   "metadata": {},
   "outputs": [
    {
     "data": {
      "text/plain": [
       "['../data/stl/020_l.stl',\n",
       " '../data/stl/15032021_001_l 1.stl',\n",
       " '../data/stl/15032021_001_r 1.stl']"
      ]
     },
     "execution_count": 3,
     "metadata": {},
     "output_type": "execute_result"
    }
   ],
   "source": [
    "import os\n",
    "\n",
    "files = os.listdir(FOLDER)\n",
    "files = [os.path.join(FOLDER, f) for f in files if EXTENSION in f]\n",
    "files.sort()\n",
    "files"
   ]
  },
  {
   "cell_type": "markdown",
   "metadata": {},
   "source": [
    "## Example run"
   ]
  },
  {
   "cell_type": "code",
   "execution_count": 4,
   "metadata": {},
   "outputs": [
    {
     "data": {
      "text/html": [
       "<div>\n",
       "<style scoped>\n",
       "    .dataframe tbody tr th:only-of-type {\n",
       "        vertical-align: middle;\n",
       "    }\n",
       "\n",
       "    .dataframe tbody tr th {\n",
       "        vertical-align: top;\n",
       "    }\n",
       "\n",
       "    .dataframe thead th {\n",
       "        text-align: right;\n",
       "    }\n",
       "</style>\n",
       "<table border=\"1\" class=\"dataframe\">\n",
       "  <thead>\n",
       "    <tr style=\"text-align: right;\">\n",
       "      <th>coord</th>\n",
       "      <th>x</th>\n",
       "      <th>y</th>\n",
       "      <th>z</th>\n",
       "    </tr>\n",
       "    <tr>\n",
       "      <th>landmark</th>\n",
       "      <th></th>\n",
       "      <th></th>\n",
       "      <th></th>\n",
       "    </tr>\n",
       "  </thead>\n",
       "  <tbody>\n",
       "    <tr>\n",
       "      <th>P1</th>\n",
       "      <td>69.653463</td>\n",
       "      <td>54.673492</td>\n",
       "      <td>-7.735388</td>\n",
       "    </tr>\n",
       "    <tr>\n",
       "      <th>P10</th>\n",
       "      <td>-168.788818</td>\n",
       "      <td>79.678271</td>\n",
       "      <td>-11.032859</td>\n",
       "    </tr>\n",
       "    <tr>\n",
       "      <th>P11</th>\n",
       "      <td>-122.558701</td>\n",
       "      <td>102.675117</td>\n",
       "      <td>-60.435042</td>\n",
       "    </tr>\n",
       "    <tr>\n",
       "      <th>P12</th>\n",
       "      <td>-123.716329</td>\n",
       "      <td>31.840291</td>\n",
       "      <td>-67.462064</td>\n",
       "    </tr>\n",
       "    <tr>\n",
       "      <th>P2</th>\n",
       "      <td>59.080175</td>\n",
       "      <td>94.482407</td>\n",
       "      <td>-9.113344</td>\n",
       "    </tr>\n",
       "    <tr>\n",
       "      <th>P3</th>\n",
       "      <td>18.191420</td>\n",
       "      <td>5.494654</td>\n",
       "      <td>-10.807760</td>\n",
       "    </tr>\n",
       "    <tr>\n",
       "      <th>P4</th>\n",
       "      <td>19.126142</td>\n",
       "      <td>99.146723</td>\n",
       "      <td>-18.009934</td>\n",
       "    </tr>\n",
       "    <tr>\n",
       "      <th>P5</th>\n",
       "      <td>-15.352643</td>\n",
       "      <td>2.470859</td>\n",
       "      <td>-11.472470</td>\n",
       "    </tr>\n",
       "    <tr>\n",
       "      <th>P6</th>\n",
       "      <td>-34.886927</td>\n",
       "      <td>64.674735</td>\n",
       "      <td>-62.592272</td>\n",
       "    </tr>\n",
       "    <tr>\n",
       "      <th>P7</th>\n",
       "      <td>-53.684757</td>\n",
       "      <td>68.070063</td>\n",
       "      <td>-71.413231</td>\n",
       "    </tr>\n",
       "    <tr>\n",
       "      <th>P8</th>\n",
       "      <td>-130.517046</td>\n",
       "      <td>102.431932</td>\n",
       "      <td>-6.028035</td>\n",
       "    </tr>\n",
       "    <tr>\n",
       "      <th>P9</th>\n",
       "      <td>-144.132384</td>\n",
       "      <td>39.577845</td>\n",
       "      <td>-8.140953</td>\n",
       "    </tr>\n",
       "    <tr>\n",
       "      <th>AA</th>\n",
       "      <td>-69.571717</td>\n",
       "      <td>97.848721</td>\n",
       "      <td>-14.324256</td>\n",
       "    </tr>\n",
       "    <tr>\n",
       "      <th>LMB</th>\n",
       "      <td>-56.088392</td>\n",
       "      <td>18.053136</td>\n",
       "      <td>-0.889815</td>\n",
       "    </tr>\n",
       "    <tr>\n",
       "      <th>MLA-AP</th>\n",
       "      <td>-6.568192</td>\n",
       "      <td>87.054788</td>\n",
       "      <td>-0.614215</td>\n",
       "    </tr>\n",
       "    <tr>\n",
       "      <th>MLA-PP</th>\n",
       "      <td>-109.917336</td>\n",
       "      <td>94.292150</td>\n",
       "      <td>-0.881860</td>\n",
       "    </tr>\n",
       "    <tr>\n",
       "      <th>MMB</th>\n",
       "      <td>-49.540290</td>\n",
       "      <td>60.708933</td>\n",
       "      <td>-1.221400</td>\n",
       "    </tr>\n",
       "  </tbody>\n",
       "</table>\n",
       "</div>"
      ],
      "text/plain": [
       "coord              x           y          z\n",
       "landmark                                   \n",
       "P1         69.653463   54.673492  -7.735388\n",
       "P10      -168.788818   79.678271 -11.032859\n",
       "P11      -122.558701  102.675117 -60.435042\n",
       "P12      -123.716329   31.840291 -67.462064\n",
       "P2         59.080175   94.482407  -9.113344\n",
       "P3         18.191420    5.494654 -10.807760\n",
       "P4         19.126142   99.146723 -18.009934\n",
       "P5        -15.352643    2.470859 -11.472470\n",
       "P6        -34.886927   64.674735 -62.592272\n",
       "P7        -53.684757   68.070063 -71.413231\n",
       "P8       -130.517046  102.431932  -6.028035\n",
       "P9       -144.132384   39.577845  -8.140953\n",
       "AA        -69.571717   97.848721 -14.324256\n",
       "LMB       -56.088392   18.053136  -0.889815\n",
       "MLA-AP     -6.568192   87.054788  -0.614215\n",
       "MLA-PP   -109.917336   94.292150  -0.881860\n",
       "MMB       -49.540290   60.708933  -1.221400"
      ]
     },
     "execution_count": 4,
     "metadata": {},
     "output_type": "execute_result"
    }
   ],
   "source": [
    "import pandas as pd\n",
    "\n",
    "file = files[0]\n",
    "\n",
    "# load labelling\n",
    "lmrk = pd.concat([\n",
    "    pd.read_pickle(file.replace(EXTENSION, '.pkl')),\n",
    "    pd.read_pickle(file.replace(EXTENSION, '-extra-udmc.pkl')),\n",
    "])\n",
    "lmrk"
   ]
  },
  {
   "cell_type": "code",
   "execution_count": 5,
   "metadata": {},
   "outputs": [
    {
     "data": {
      "application/vnd.jupyter.widget-view+json": {
       "model_id": "2e655fdf80344590af21580cbff5c9c9",
       "version_major": 2,
       "version_minor": 0
      },
      "text/plain": [
       "Widget(value=\"<iframe src='http://localhost:61004/index.html?ui=P_0x7fdbb238af70_0&reconnect=auto' style='widt…"
      ]
     },
     "metadata": {},
     "output_type": "display_data"
    }
   ],
   "source": [
    "import pyvista as pv\n",
    "from mesh4d.analyse import crave\n",
    "from measure import frame, visual\n",
    "\n",
    "# local frame\n",
    "mesh = crave.fix_pvmesh_disconnect(pv.read(file), lmrk.values)\n",
    "axes_frame, origin = frame.estimate_foot_frame(mesh, lmrk)\n",
    "mesh_clip = frame.foot_clip(mesh, lmrk)\n",
    "mesh_local = frame.foot2local(mesh_clip, axes_frame, origin)\n",
    "lmrk_local = frame.df2local(lmrk, axes_frame, origin)\n",
    "\n",
    "# visual check\n",
    "visual.plot_axes(origin, axes_frame, mesh_clip)"
   ]
  },
  {
   "cell_type": "code",
   "execution_count": 6,
   "metadata": {},
   "outputs": [
    {
     "data": {
      "text/html": [
       "<div>\n",
       "<style scoped>\n",
       "    .dataframe tbody tr th:only-of-type {\n",
       "        vertical-align: middle;\n",
       "    }\n",
       "\n",
       "    .dataframe tbody tr th {\n",
       "        vertical-align: top;\n",
       "    }\n",
       "\n",
       "    .dataframe thead th {\n",
       "        text-align: right;\n",
       "    }\n",
       "</style>\n",
       "<table border=\"1\" class=\"dataframe\">\n",
       "  <thead>\n",
       "    <tr style=\"text-align: right;\">\n",
       "      <th>coord</th>\n",
       "      <th>x</th>\n",
       "      <th>y</th>\n",
       "      <th>z</th>\n",
       "    </tr>\n",
       "    <tr>\n",
       "      <th>landmark</th>\n",
       "      <th></th>\n",
       "      <th></th>\n",
       "      <th></th>\n",
       "    </tr>\n",
       "  </thead>\n",
       "  <tbody>\n",
       "    <tr>\n",
       "      <th>P1</th>\n",
       "      <td>95.204932</td>\n",
       "      <td>-0.753839</td>\n",
       "      <td>6.982687</td>\n",
       "    </tr>\n",
       "    <tr>\n",
       "      <th>P10</th>\n",
       "      <td>-144.178050</td>\n",
       "      <td>-12.993784</td>\n",
       "      <td>13.050465</td>\n",
       "    </tr>\n",
       "    <tr>\n",
       "      <th>P11</th>\n",
       "      <td>-98.644717</td>\n",
       "      <td>-39.191606</td>\n",
       "      <td>61.496780</td>\n",
       "    </tr>\n",
       "    <tr>\n",
       "      <th>P12</th>\n",
       "      <td>-95.904574</td>\n",
       "      <td>31.487068</td>\n",
       "      <td>69.578191</td>\n",
       "    </tr>\n",
       "    <tr>\n",
       "      <th>P2</th>\n",
       "      <td>82.524019</td>\n",
       "      <td>-39.955482</td>\n",
       "      <td>7.914767</td>\n",
       "    </tr>\n",
       "    <tr>\n",
       "      <th>P3</th>\n",
       "      <td>46.503865</td>\n",
       "      <td>51.058825</td>\n",
       "      <td>11.454183</td>\n",
       "    </tr>\n",
       "    <tr>\n",
       "      <th>P4</th>\n",
       "      <td>42.489928</td>\n",
       "      <td>-42.608438</td>\n",
       "      <td>17.266966</td>\n",
       "    </tr>\n",
       "    <tr>\n",
       "      <th>P5</th>\n",
       "      <td>13.181717</td>\n",
       "      <td>55.865117</td>\n",
       "      <td>12.604671</td>\n",
       "    </tr>\n",
       "    <tr>\n",
       "      <th>P6</th>\n",
       "      <td>-9.036342</td>\n",
       "      <td>-5.981267</td>\n",
       "      <td>63.057902</td>\n",
       "    </tr>\n",
       "    <tr>\n",
       "      <th>P7</th>\n",
       "      <td>-27.879151</td>\n",
       "      <td>-8.499677</td>\n",
       "      <td>72.074679</td>\n",
       "    </tr>\n",
       "    <tr>\n",
       "      <th>P8</th>\n",
       "      <td>-107.250000</td>\n",
       "      <td>-37.685866</td>\n",
       "      <td>7.208664</td>\n",
       "    </tr>\n",
       "    <tr>\n",
       "      <th>P9</th>\n",
       "      <td>-117.438471</td>\n",
       "      <td>25.767564</td>\n",
       "      <td>10.423656</td>\n",
       "    </tr>\n",
       "    <tr>\n",
       "      <th>AA</th>\n",
       "      <td>-46.048552</td>\n",
       "      <td>-36.503017</td>\n",
       "      <td>14.768467</td>\n",
       "    </tr>\n",
       "    <tr>\n",
       "      <th>LMB</th>\n",
       "      <td>-28.460666</td>\n",
       "      <td>42.652554</td>\n",
       "      <td>2.331322</td>\n",
       "    </tr>\n",
       "    <tr>\n",
       "      <th>MLA-AP</th>\n",
       "      <td>17.270081</td>\n",
       "      <td>-28.891050</td>\n",
       "      <td>0.390426</td>\n",
       "    </tr>\n",
       "    <tr>\n",
       "      <th>MLA-PP</th>\n",
       "      <td>-86.307522</td>\n",
       "      <td>-30.583430</td>\n",
       "      <td>1.911935</td>\n",
       "    </tr>\n",
       "    <tr>\n",
       "      <th>MMB</th>\n",
       "      <td>-24.212290</td>\n",
       "      <td>-0.292887</td>\n",
       "      <td>1.950073</td>\n",
       "    </tr>\n",
       "  </tbody>\n",
       "</table>\n",
       "</div>"
      ],
      "text/plain": [
       "coord              x          y          z\n",
       "landmark                                  \n",
       "P1         95.204932  -0.753839   6.982687\n",
       "P10      -144.178050 -12.993784  13.050465\n",
       "P11       -98.644717 -39.191606  61.496780\n",
       "P12       -95.904574  31.487068  69.578191\n",
       "P2         82.524019 -39.955482   7.914767\n",
       "P3         46.503865  51.058825  11.454183\n",
       "P4         42.489928 -42.608438  17.266966\n",
       "P5         13.181717  55.865117  12.604671\n",
       "P6         -9.036342  -5.981267  63.057902\n",
       "P7        -27.879151  -8.499677  72.074679\n",
       "P8       -107.250000 -37.685866   7.208664\n",
       "P9       -117.438471  25.767564  10.423656\n",
       "AA        -46.048552 -36.503017  14.768467\n",
       "LMB       -28.460666  42.652554   2.331322\n",
       "MLA-AP     17.270081 -28.891050   0.390426\n",
       "MLA-PP    -86.307522 -30.583430   1.911935\n",
       "MMB       -24.212290  -0.292887   1.950073"
      ]
     },
     "execution_count": 6,
     "metadata": {},
     "output_type": "execute_result"
    }
   ],
   "source": [
    "lmrk_local"
   ]
  },
  {
   "cell_type": "code",
   "execution_count": 7,
   "metadata": {},
   "outputs": [],
   "source": [
    "from measure.metric import height, dist, dist_along_axis\n",
    "\n",
    "def al(\n",
    "        lmkr_local: pd.DataFrame,\n",
    "    ):\n",
    "    \"\"\"arch length\"\"\"\n",
    "    return dist(lmkr_local, 'MLA-AP', 'MLA-PP')\n",
    "\n",
    "def ab(\n",
    "        lmkr_local: pd.DataFrame,\n",
    "    ):\n",
    "    \"\"\"arch breadth\"\"\"\n",
    "    return dist(lmkr_local, 'LMB', 'MMB')\n",
    "\n",
    "def ad(\n",
    "        lmkr_local: pd.DataFrame,\n",
    "    ):\n",
    "    \"\"\"arch depth\"\"\"\n",
    "    return dist_along_axis(lmkr_local, 'P4', 'MMB', 'x')\n",
    "\n",
    "def ah(\n",
    "        lmkr_local: pd.DataFrame,\n",
    "    ):\n",
    "    \"\"\"arch height\"\"\"\n",
    "    return height(lmkr_local, 'AA')"
   ]
  },
  {
   "cell_type": "code",
   "execution_count": 8,
   "metadata": {},
   "outputs": [
    {
     "data": {
      "text/html": [
       "<div>\n",
       "<style scoped>\n",
       "    .dataframe tbody tr th:only-of-type {\n",
       "        vertical-align: middle;\n",
       "    }\n",
       "\n",
       "    .dataframe tbody tr th {\n",
       "        vertical-align: top;\n",
       "    }\n",
       "\n",
       "    .dataframe thead th {\n",
       "        text-align: right;\n",
       "    }\n",
       "</style>\n",
       "<table border=\"1\" class=\"dataframe\">\n",
       "  <thead>\n",
       "    <tr style=\"text-align: right;\">\n",
       "      <th></th>\n",
       "      <th>file</th>\n",
       "      <th>AL</th>\n",
       "      <th>AB</th>\n",
       "      <th>AD</th>\n",
       "      <th>AH</th>\n",
       "    </tr>\n",
       "  </thead>\n",
       "  <tbody>\n",
       "    <tr>\n",
       "      <th>0</th>\n",
       "      <td>description</td>\n",
       "      <td>arch length (mm)</td>\n",
       "      <td>arch breadth (mm)</td>\n",
       "      <td>arch depth (mm)</td>\n",
       "      <td>arch height (mm)</td>\n",
       "    </tr>\n",
       "    <tr>\n",
       "      <th>1</th>\n",
       "      <td>../data/stl/020_l.stl</td>\n",
       "      <td>103.602601</td>\n",
       "      <td>43.156748</td>\n",
       "      <td>66.702218</td>\n",
       "      <td>14.768467</td>\n",
       "    </tr>\n",
       "  </tbody>\n",
       "</table>\n",
       "</div>"
      ],
      "text/plain": [
       "                    file                AL                 AB  \\\n",
       "0            description  arch length (mm)  arch breadth (mm)   \n",
       "1  ../data/stl/020_l.stl        103.602601          43.156748   \n",
       "\n",
       "                AD                AH  \n",
       "0  arch depth (mm)  arch height (mm)  \n",
       "1        66.702218         14.768467  "
      ]
     },
     "execution_count": 8,
     "metadata": {},
     "output_type": "execute_result"
    }
   ],
   "source": [
    "# metrics\n",
    "results = {\n",
    "    'file': ['description', str(file)],\n",
    "    'AL': ['arch length (mm)', al(lmrk_local)],\n",
    "    'AB': ['arch breadth (mm)', ab(lmrk_local)],\n",
    "    'AD': ['arch depth (mm)', ad(lmrk_local)],\n",
    "    'AH': ['arch height (mm)', ah(lmrk_local)],\n",
    "}\n",
    "\n",
    "df_extra = pd.DataFrame(results)\n",
    "df_extra"
   ]
  },
  {
   "cell_type": "markdown",
   "metadata": {},
   "source": [
    "### Visualization"
   ]
  },
  {
   "cell_type": "code",
   "execution_count": 9,
   "metadata": {},
   "outputs": [
    {
     "data": {
      "application/vnd.jupyter.widget-view+json": {
       "model_id": "ff6e99b208ff4e9ebdbeef8659e8582c",
       "version_major": 2,
       "version_minor": 0
      },
      "text/plain": [
       "Widget(value=\"<iframe src='http://localhost:61004/index.html?ui=P_0x7fdbb257a490_1&reconnect=auto' style='widt…"
      ]
     },
     "metadata": {},
     "output_type": "display_data"
    },
    {
     "data": {
      "application/vnd.jupyter.widget-view+json": {
       "model_id": "d24aaf2eb8984c7b9d35e24236145431",
       "version_major": 2,
       "version_minor": 0
      },
      "text/plain": [
       "Widget(value=\"<iframe src='http://localhost:61004/index.html?ui=P_0x7fdbb7dac4f0_2&reconnect=auto' style='widt…"
      ]
     },
     "metadata": {},
     "output_type": "display_data"
    }
   ],
   "source": [
    "settings = {\n",
    "    'AL': ['MLA-AP', 'MLA-PP'],\n",
    "    'AB': ['LMB', 'MMB'],\n",
    "}\n",
    "\n",
    "for name, [landmark1, landmark2] in settings.items():\n",
    "    scene = pv.Plotter()\n",
    "    scene.add_mesh(mesh_local, opacity=0.1)\n",
    "    visual.plot_dist(scene, lmrk_local, landmark1, landmark2, name=name)\n",
    "    scene.show()\n",
    "    scene.screenshot(f'{OUTPUT_FOLDER}/{name}.png')"
   ]
  },
  {
   "cell_type": "code",
   "execution_count": 10,
   "metadata": {},
   "outputs": [
    {
     "data": {
      "application/vnd.jupyter.widget-view+json": {
       "model_id": "7955b4aae78f4b649837e08f5a9d8ec2",
       "version_major": 2,
       "version_minor": 0
      },
      "text/plain": [
       "Widget(value=\"<iframe src='http://localhost:61004/index.html?ui=P_0x7fdbb7d64dc0_3&reconnect=auto' style='widt…"
      ]
     },
     "metadata": {},
     "output_type": "display_data"
    }
   ],
   "source": [
    "settings = {\n",
    "    'AD': ['P4', 'MMB', 'x'],\n",
    "}\n",
    "\n",
    "for name, [landmark1, landmark2, axis] in settings.items():\n",
    "    scene = pv.Plotter()\n",
    "    scene.add_mesh(mesh_local, opacity=0.1)\n",
    "    visual.plot_dist_along_axis(scene, lmrk_local, landmark1, landmark2, axis, name=name)\n",
    "    scene.show()\n",
    "    scene.screenshot(f'{OUTPUT_FOLDER}/{name}.png')"
   ]
  },
  {
   "cell_type": "code",
   "execution_count": 11,
   "metadata": {},
   "outputs": [
    {
     "data": {
      "application/vnd.jupyter.widget-view+json": {
       "model_id": "4667bdb2b4d1480f81529047047072a0",
       "version_major": 2,
       "version_minor": 0
      },
      "text/plain": [
       "Widget(value=\"<iframe src='http://localhost:61004/index.html?ui=P_0x7fdbb7d64eb0_4&reconnect=auto' style='widt…"
      ]
     },
     "metadata": {},
     "output_type": "display_data"
    }
   ],
   "source": [
    "settings = {\n",
    "    'AH': 'AA',\n",
    "}\n",
    "\n",
    "for name, landmark in settings.items():\n",
    "    scene = pv.Plotter()\n",
    "    scene.add_mesh(mesh_local, opacity=0.1)\n",
    "    visual.plot_height(scene, lmrk_local, landmark, name=name)\n",
    "    scene.show()\n",
    "    scene.screenshot(f'{OUTPUT_FOLDER}/{name}.png')"
   ]
  },
  {
   "cell_type": "markdown",
   "metadata": {},
   "source": [
    "## Run all"
   ]
  },
  {
   "cell_type": "code",
   "execution_count": 12,
   "metadata": {},
   "outputs": [
    {
     "data": {
      "text/plain": [
       "'output/extra-measurements/020_l-extra.csv'"
      ]
     },
     "execution_count": 12,
     "metadata": {},
     "output_type": "execute_result"
    }
   ],
   "source": [
    "os.path.join(\n",
    "    OUTPUT_FOLDER,\n",
    "    os.path.basename(file).replace(EXTENSION, '-extra.csv'),\n",
    "    )"
   ]
  },
  {
   "cell_type": "code",
   "execution_count": 13,
   "metadata": {},
   "outputs": [
    {
     "name": "stderr",
     "output_type": "stream",
     "text": [
      "100%|██████████| 3/3 [00:04<00:00,  1.47s/it]\n"
     ]
    }
   ],
   "source": [
    "from tqdm import tqdm\n",
    "from measure import metric\n",
    "\n",
    "for file in tqdm(files):\n",
    "    # load labelling\n",
    "    lmrk = pd.concat([\n",
    "        pd.read_pickle(file.replace(EXTENSION, '.pkl')),\n",
    "        pd.read_pickle(file.replace(EXTENSION, '-extra-udmc.pkl')),\n",
    "    ])\n",
    "\n",
    "    # local frame\n",
    "    mesh = crave.fix_pvmesh_disconnect(pv.read(file), lmrk.values)\n",
    "    axes_frame, origin = frame.estimate_foot_frame(mesh, lmrk)\n",
    "    mesh_clip = frame.foot_clip(mesh, lmrk)\n",
    "    mesh_local = frame.foot2local(mesh_clip, axes_frame, origin)\n",
    "    lmrk_local = frame.df2local(lmrk, axes_frame, origin)\n",
    "\n",
    "    # metrics\n",
    "    results = {\n",
    "        'file': ['description', str(file)],\n",
    "        'AL': ['arch length (mm)', al(lmrk_local)],\n",
    "        'AB': ['arch breadth (mm)', ab(lmrk_local)],\n",
    "        'AD': ['arch depth (mm)', ad(lmrk_local)],\n",
    "        'AH': ['arch height (mm)', ah(lmrk_local)],\n",
    "    }\n",
    "\n",
    "    df_extra = pd.DataFrame(results)\n",
    "    df_extra = pd.DataFrame(results).set_index('file')\n",
    "\n",
    "    output_path = os.path.join(\n",
    "        OUTPUT_FOLDER,\n",
    "        os.path.basename(file).replace(EXTENSION, '-extra.csv'),\n",
    "        )\n",
    "    df_extra.to_csv(output_path)\n",
    "\n",
    "    # combine all results so far\n",
    "    output_path = os.path.join(OUTPUT_FOLDER, 'measurements-extra.csv')\n",
    "    df_all = metric.combine_measurement_csv(OUTPUT_FOLDER)\n",
    "    df_all.to_csv(output_path)"
   ]
  },
  {
   "cell_type": "code",
   "execution_count": null,
   "metadata": {},
   "outputs": [],
   "source": []
  }
 ],
 "metadata": {
  "kernelspec": {
   "display_name": "mesh4d",
   "language": "python",
   "name": "python3"
  },
  "language_info": {
   "codemirror_mode": {
    "name": "ipython",
    "version": 3
   },
   "file_extension": ".py",
   "mimetype": "text/x-python",
   "name": "python",
   "nbconvert_exporter": "python",
   "pygments_lexer": "ipython3",
   "version": "3.9.16"
  }
 },
 "nbformat": 4,
 "nbformat_minor": 2
}
