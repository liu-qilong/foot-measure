{
 "cells": [
  {
   "cell_type": "code",
   "execution_count": 1,
   "metadata": {},
   "outputs": [],
   "source": [
    "FOLDER = '../data/stl'\n",
    "EXTENSION = '.stl'\n",
    "EXAMPLE_FILE = '../data/stl/020_l.stl'\n",
    "EXAMPLE_EXTRA_LMRK = '../data/stl/020_l-extra.pkl'\n",
    "OUTPUT_FOLDER = 'output/extra-lmrk'"
   ]
  },
  {
   "cell_type": "code",
   "execution_count": 2,
   "metadata": {},
   "outputs": [],
   "source": [
    "import sys\n",
    "sys.path.append('..')"
   ]
  },
  {
   "cell_type": "markdown",
   "metadata": {},
   "source": [
    "## Load data"
   ]
  },
  {
   "cell_type": "code",
   "execution_count": 3,
   "metadata": {},
   "outputs": [
    {
     "data": {
      "text/plain": [
       "['../data/stl/020_l.stl',\n",
       " '../data/stl/15032021_001_l 1.stl',\n",
       " '../data/stl/15032021_001_r 1.stl']"
      ]
     },
     "execution_count": 3,
     "metadata": {},
     "output_type": "execute_result"
    }
   ],
   "source": [
    "import os\n",
    "\n",
    "files = os.listdir(FOLDER)\n",
    "files = [os.path.join(FOLDER, f) for f in files if EXTENSION in f]\n",
    "files.sort()\n",
    "files"
   ]
  },
  {
   "cell_type": "code",
   "execution_count": 4,
   "metadata": {},
   "outputs": [
    {
     "data": {
      "text/plain": [
       "{'../data/stl/020_l.stl': coord              x           y          z\n",
       " landmark                                   \n",
       " P1         69.653463   54.673492  -7.735388\n",
       " P10      -168.788818   79.678271 -11.032859\n",
       " P11      -122.558701  102.675117 -60.435042\n",
       " P12      -123.716329   31.840291 -67.462064\n",
       " P2         59.080175   94.482407  -9.113344\n",
       " P3         18.191420    5.494654 -10.807760\n",
       " P4         19.126142   99.146723 -18.009934\n",
       " P5        -15.352643    2.470859 -11.472470\n",
       " P6        -34.886927   64.674735 -62.592272\n",
       " P7        -53.684757   68.070063 -71.413231\n",
       " P8       -130.517046  102.431932  -6.028035\n",
       " P9       -144.132384   39.577845  -8.140953,\n",
       " '../data/stl/15032021_001_l 1.stl': coord              x           y          z\n",
       " landmark                                   \n",
       " P1         55.771399   71.333448  -7.274359\n",
       " P10      -180.955130   63.650910 -12.920648\n",
       " P11      -124.075143   97.695019 -63.217842\n",
       " P12      -121.894275   28.415395 -55.086196\n",
       " P2         27.630023  112.138113  -7.825200\n",
       " P3          8.796035   13.854878 -10.354956\n",
       " P4         -2.562505  114.537083 -18.453240\n",
       " P5        -19.576642   11.811440 -11.120403\n",
       " P6        -48.644918   68.498501 -51.865983\n",
       " P7        -67.331769   67.637553 -61.757842\n",
       " P8       -149.318807   89.604603 -10.849480\n",
       " P9       -151.106275   23.697411 -10.244530,\n",
       " '../data/stl/15032021_001_r 1.stl': coord              x           y          z\n",
       " landmark                                   \n",
       " P1        169.157468  -41.138309 -10.139665\n",
       " P10       -64.365624  -70.024448  -7.777394\n",
       " P11        12.126781 -100.885794 -68.942631\n",
       " P12       -22.625137  -35.886339 -58.839932\n",
       " P2        157.491950  -85.505176  -9.734707\n",
       " P3        113.557988    3.767280 -11.001942\n",
       " P4        122.455814  -95.149696 -13.403120\n",
       " P5         81.738184    2.062873 -12.130628\n",
       " P6         59.979609  -59.689883 -54.563820\n",
       " P7         42.427233  -64.976768 -66.544191\n",
       " P8        -23.556006  -93.480634  -5.619905\n",
       " P9        -23.605081  -23.723050  -6.599651}"
      ]
     },
     "execution_count": 4,
     "metadata": {},
     "output_type": "execute_result"
    }
   ],
   "source": [
    "# load landmarks labelling\n",
    "import pandas as pd\n",
    "\n",
    "lmrk_dict = {}\n",
    "\n",
    "for file in files:\n",
    "    lmrk = pd.read_pickle(file.replace(EXTENSION, '.pkl'))\n",
    "    lmrk_dict[file] = lmrk\n",
    "\n",
    "lmrk_dict"
   ]
  },
  {
   "cell_type": "code",
   "execution_count": 5,
   "metadata": {},
   "outputs": [
    {
     "data": {
      "text/plain": [
       "{'../data/stl/020_l.stl': PolyData (0x7fd7e98b7fa0)\n",
       "   N Cells:    548852\n",
       "   N Points:   274424\n",
       "   N Strips:   0\n",
       "   X Bounds:   -1.709e+02, 8.033e+01\n",
       "   Y Bounds:   1.213e+00, 1.057e+02\n",
       "   Z Bounds:   -1.241e+02, 8.183e-01\n",
       "   N Arrays:   0,\n",
       " '../data/stl/15032021_001_l 1.stl': PolyData (0x7fd7e98c6040)\n",
       "   N Cells:    519070\n",
       "   N Points:   259537\n",
       "   N Strips:   0\n",
       "   X Bounds:   -1.840e+02, 6.258e+01\n",
       "   Y Bounds:   9.439e+00, 1.149e+02\n",
       "   Z Bounds:   -1.171e+02, 1.312e+00\n",
       "   N Arrays:   0,\n",
       " '../data/stl/15032021_001_r 1.stl': PolyData (0x7fd7e98c60a0)\n",
       "   N Cells:    499534\n",
       "   N Points:   249767\n",
       "   N Strips:   0\n",
       "   X Bounds:   -6.845e+01, 1.812e+02\n",
       "   Y Bounds:   -1.017e+02, 4.561e+00\n",
       "   Z Bounds:   -1.170e+02, 8.008e-01\n",
       "   N Arrays:   0}"
      ]
     },
     "execution_count": 5,
     "metadata": {},
     "output_type": "execute_result"
    }
   ],
   "source": [
    "# load meshes\n",
    "import pyvista as pv\n",
    "\n",
    "mesh_dict = {}\n",
    "\n",
    "for file in files:\n",
    "    mesh = pv.read(file)\n",
    "    mesh_dict[file] = mesh\n",
    "\n",
    "mesh_dict"
   ]
  },
  {
   "cell_type": "code",
   "execution_count": 6,
   "metadata": {},
   "outputs": [
    {
     "data": {
      "text/html": [
       "<div>\n",
       "<style scoped>\n",
       "    .dataframe tbody tr th:only-of-type {\n",
       "        vertical-align: middle;\n",
       "    }\n",
       "\n",
       "    .dataframe tbody tr th {\n",
       "        vertical-align: top;\n",
       "    }\n",
       "\n",
       "    .dataframe thead th {\n",
       "        text-align: right;\n",
       "    }\n",
       "</style>\n",
       "<table border=\"1\" class=\"dataframe\">\n",
       "  <thead>\n",
       "    <tr style=\"text-align: right;\">\n",
       "      <th>coord</th>\n",
       "      <th>x</th>\n",
       "      <th>y</th>\n",
       "      <th>z</th>\n",
       "    </tr>\n",
       "    <tr>\n",
       "      <th>landmark</th>\n",
       "      <th></th>\n",
       "      <th></th>\n",
       "      <th></th>\n",
       "    </tr>\n",
       "  </thead>\n",
       "  <tbody>\n",
       "    <tr>\n",
       "      <th>AA</th>\n",
       "      <td>-69.571717</td>\n",
       "      <td>97.848721</td>\n",
       "      <td>-14.324256</td>\n",
       "    </tr>\n",
       "    <tr>\n",
       "      <th>LMB</th>\n",
       "      <td>-56.088392</td>\n",
       "      <td>18.053136</td>\n",
       "      <td>-0.889815</td>\n",
       "    </tr>\n",
       "    <tr>\n",
       "      <th>MLA-AP</th>\n",
       "      <td>-6.568192</td>\n",
       "      <td>87.054788</td>\n",
       "      <td>-0.614215</td>\n",
       "    </tr>\n",
       "    <tr>\n",
       "      <th>MLA-PP</th>\n",
       "      <td>-109.917336</td>\n",
       "      <td>94.292150</td>\n",
       "      <td>-0.881860</td>\n",
       "    </tr>\n",
       "    <tr>\n",
       "      <th>MMB</th>\n",
       "      <td>-49.540290</td>\n",
       "      <td>60.708933</td>\n",
       "      <td>-1.221400</td>\n",
       "    </tr>\n",
       "  </tbody>\n",
       "</table>\n",
       "</div>"
      ],
      "text/plain": [
       "coord              x          y          z\n",
       "landmark                                  \n",
       "AA        -69.571717  97.848721 -14.324256\n",
       "LMB       -56.088392  18.053136  -0.889815\n",
       "MLA-AP     -6.568192  87.054788  -0.614215\n",
       "MLA-PP   -109.917336  94.292150  -0.881860\n",
       "MMB       -49.540290  60.708933  -1.221400"
      ]
     },
     "execution_count": 6,
     "metadata": {},
     "output_type": "execute_result"
    }
   ],
   "source": [
    "# load example mesh and the extra landmarks labelling\n",
    "example_mesh = mesh_dict[EXAMPLE_FILE]\n",
    "example_extra_lmrk = pd.read_pickle(EXAMPLE_EXTRA_LMRK)\n",
    "example_extra_lmrk"
   ]
  },
  {
   "cell_type": "markdown",
   "metadata": {},
   "source": [
    "## Landmarks motion interpolation"
   ]
  },
  {
   "cell_type": "code",
   "execution_count": 7,
   "metadata": {},
   "outputs": [
    {
     "data": {
      "text/plain": [
       "(12, 3)"
      ]
     },
     "execution_count": 7,
     "metadata": {},
     "output_type": "execute_result"
    }
   ],
   "source": [
    "lmrk_dict['../data/stl/15032021_001_l 1.stl'].to_numpy().shape"
   ]
  },
  {
   "cell_type": "code",
   "execution_count": 8,
   "metadata": {},
   "outputs": [],
   "source": [
    "import numpy as np\n",
    "from mesh4d.analyse import measure\n",
    "from scipy.interpolate import RBFInterpolator\n",
    "\n",
    "def udmc(source_lmrk: pd.DataFrame, target_lmrk: pd.DataFrame, source_mesh: pv.core.pointset.PolyData, target_mesh: pv.core.pointset.PolyData, post_align: bool = True, post_nbr: int = 100) -> RBFInterpolator:\n",
    "    # init motion field\n",
    "    field = RBFInterpolator(\n",
    "        source_lmrk.to_numpy(),  # (N, 3)\n",
    "        target_lmrk.to_numpy(),  # (N, 3)\n",
    "    )\n",
    "\n",
    "    # post alignment\n",
    "    if post_align:\n",
    "        source_points = np.array(source_mesh.points)  # (N_all, 3)\n",
    "        shift_points = field(source_points)\n",
    "        deform_points = measure.nearest_points_from_plane(target_mesh, shift_points)\n",
    "        field = RBFInterpolator(source_points, deform_points, neighbors=post_nbr)\n",
    "\n",
    "    return field"
   ]
  },
  {
   "cell_type": "code",
   "execution_count": 9,
   "metadata": {},
   "outputs": [
    {
     "name": "stderr",
     "output_type": "stream",
     "text": [
      "100%|██████████| 3/3 [00:34<00:00, 11.62s/it]\n"
     ]
    },
    {
     "data": {
      "text/plain": [
       "{'../data/stl/020_l.stl': coord              x          y          z\n",
       " landmark                                  \n",
       " AA        -69.571717  97.848721 -14.324256\n",
       " LMB       -56.088392  18.053136  -0.889815\n",
       " MLA-AP     -6.568192  87.054788  -0.614215\n",
       " MLA-PP   -109.917336  94.292150  -0.881860\n",
       " MMB       -49.540290  60.708933  -1.221400,\n",
       " '../data/stl/15032021_001_l 1.stl': coord              x           y          z\n",
       " landmark                                   \n",
       " AA        -87.358214  103.641582 -19.437133\n",
       " LMB       -63.135306   19.890624  -0.140206\n",
       " MLA-AP    -26.829123   97.612372  -0.474042\n",
       " MLA-PP   -130.350246   87.151040  -2.262987\n",
       " MMB       -64.742536   62.091391  -0.058050,\n",
       " '../data/stl/15032021_001_r 1.stl': coord             x          y          z\n",
       " landmark                                 \n",
       " AA        43.202649 -99.796393 -12.789841\n",
       " LMB       47.901470  -9.914901  -0.337727\n",
       " MLA-AP    97.693706 -80.236501  -0.518221\n",
       " MLA-PP    -0.968466 -83.670049   0.197210\n",
       " MMB       55.595937 -51.486698  -0.187612}"
      ]
     },
     "execution_count": 9,
     "metadata": {},
     "output_type": "execute_result"
    }
   ],
   "source": [
    "from tqdm import tqdm\n",
    "\n",
    "field_dict = {}\n",
    "extra_lmrk_dict = {}\n",
    "\n",
    "for file in tqdm(files):\n",
    "    field = udmc(\n",
    "        source_lmrk=lmrk_dict[EXAMPLE_FILE],\n",
    "        target_lmrk=lmrk_dict[file],\n",
    "        source_mesh=mesh_dict[EXAMPLE_FILE],\n",
    "        target_mesh=mesh_dict[file],\n",
    "        # post_align=False,\n",
    "        post_align=True,\n",
    "        )\n",
    "    field_dict[file] = field\n",
    "    extra_lmrk = pd.DataFrame(\n",
    "        field(example_extra_lmrk.to_numpy()),\n",
    "        columns=example_extra_lmrk.columns,\n",
    "        index=example_extra_lmrk.index,\n",
    "        )\n",
    "    extra_lmrk_dict[file] = extra_lmrk\n",
    "    extra_lmrk.to_pickle(file.replace(EXTENSION, '-extra-udmc.pkl'))\n",
    "\n",
    "extra_lmrk_dict"
   ]
  },
  {
   "cell_type": "markdown",
   "metadata": {},
   "source": [
    "## Visual checks"
   ]
  },
  {
   "cell_type": "code",
   "execution_count": 10,
   "metadata": {},
   "outputs": [
    {
     "data": {
      "application/vnd.jupyter.widget-view+json": {
       "model_id": "8b23ab0d2776455d9aa426ae20e30947",
       "version_major": 2,
       "version_minor": 0
      },
      "text/plain": [
       "Widget(value=\"<iframe src='http://localhost:58469/index.html?ui=P_0x7fd7eaf5be20_0&reconnect=auto' style='widt…"
      ]
     },
     "metadata": {},
     "output_type": "display_data"
    }
   ],
   "source": [
    "scene = pv.Plotter()\n",
    "scene.add_mesh(example_mesh, opacity=1)\n",
    "\n",
    "scene.add_points(\n",
    "    lmrk_dict[EXAMPLE_FILE].to_numpy(),\n",
    "    render_points_as_spheres=True,\n",
    "    style='points', color='teal', point_size=20, opacity=0.9,\n",
    "    )\n",
    "\n",
    "scene.add_points(\n",
    "    example_extra_lmrk.to_numpy(),\n",
    "    render_points_as_spheres=True,\n",
    "    style='points', color='lightcoral', point_size=20, opacity=0.9,\n",
    "    )\n",
    "\n",
    "scene.camera.roll += 160\n",
    "scene.show()"
   ]
  },
  {
   "cell_type": "code",
   "execution_count": 11,
   "metadata": {},
   "outputs": [
    {
     "data": {
      "text/plain": [
       "'output/extra-lmrk/15032021_001_r 1.png'"
      ]
     },
     "execution_count": 11,
     "metadata": {},
     "output_type": "execute_result"
    }
   ],
   "source": [
    "os.path.join(\n",
    "    OUTPUT_FOLDER,\n",
    "    os.path.basename(file).replace(EXTENSION, '.png'),\n",
    "    )"
   ]
  },
  {
   "cell_type": "code",
   "execution_count": 12,
   "metadata": {},
   "outputs": [
    {
     "data": {
      "application/vnd.jupyter.widget-view+json": {
       "model_id": "6932cf544d2b41b688340c9567c65e04",
       "version_major": 2,
       "version_minor": 0
      },
      "text/plain": [
       "Widget(value=\"<iframe src='http://localhost:58469/index.html?ui=P_0x7fd7aa3233d0_1&reconnect=auto' style='widt…"
      ]
     },
     "metadata": {},
     "output_type": "display_data"
    },
    {
     "data": {
      "application/vnd.jupyter.widget-view+json": {
       "model_id": "90367f0c60934f869a8fc218542a9f2f",
       "version_major": 2,
       "version_minor": 0
      },
      "text/plain": [
       "Widget(value=\"<iframe src='http://localhost:58469/index.html?ui=P_0x7fd7aa34dfd0_2&reconnect=auto' style='widt…"
      ]
     },
     "metadata": {},
     "output_type": "display_data"
    },
    {
     "data": {
      "application/vnd.jupyter.widget-view+json": {
       "model_id": "7b473d91ef994bce9b8989d587506df0",
       "version_major": 2,
       "version_minor": 0
      },
      "text/plain": [
       "Widget(value=\"<iframe src='http://localhost:58469/index.html?ui=P_0x7fd7eaf5b4c0_3&reconnect=auto' style='widt…"
      ]
     },
     "metadata": {},
     "output_type": "display_data"
    }
   ],
   "source": [
    "for file in files:\n",
    "    scene = pv.Plotter()\n",
    "    scene.add_mesh(mesh_dict[file], opacity=1)\n",
    "\n",
    "    scene.add_points(\n",
    "        lmrk_dict[file].to_numpy(),\n",
    "        render_points_as_spheres=True,\n",
    "        style='points', color='teal', point_size=20, opacity=0.9,\n",
    "        )\n",
    "\n",
    "    scene.add_points(\n",
    "        extra_lmrk_dict[file].to_numpy(),\n",
    "        render_points_as_spheres=True,\n",
    "        style='points', color='lightcoral', point_size=20, opacity=0.9,\n",
    "        )\n",
    "\n",
    "    scene.camera.roll += 160\n",
    "    scene.screenshot(os.path.join(\n",
    "        OUTPUT_FOLDER,\n",
    "        os.path.basename(file).replace(EXTENSION, '.png'),\n",
    "        ))\n",
    "    scene.show()"
   ]
  },
  {
   "cell_type": "code",
   "execution_count": null,
   "metadata": {},
   "outputs": [],
   "source": []
  }
 ],
 "metadata": {
  "kernelspec": {
   "display_name": "mesh4d",
   "language": "python",
   "name": "python3"
  },
  "language_info": {
   "codemirror_mode": {
    "name": "ipython",
    "version": 3
   },
   "file_extension": ".py",
   "mimetype": "text/x-python",
   "name": "python",
   "nbconvert_exporter": "python",
   "pygments_lexer": "ipython3",
   "version": "3.9.16"
  }
 },
 "nbformat": 4,
 "nbformat_minor": 2
}
