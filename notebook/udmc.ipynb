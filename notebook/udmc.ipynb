{
 "cells": [
  {
   "cell_type": "code",
   "execution_count": 54,
   "metadata": {},
   "outputs": [],
   "source": [
    "# FOLDER = '../data/olivia/Healthy'\n",
    "FOLDER = '../data/olivia/Flat feet'\n",
    "EXTENSION = '.obj'\n",
    "# EXTENSION = '.stl'\n",
    "EXAMPLE_FILE = '../data/stl/020_l.stl'\n",
    "EXAMPLE_LMRK = '../data/stl/020_l.pkl'\n",
    "EXAMPLE_EXTRA_LMRK = '../data/stl/020_l-extra.pkl'\n",
    "# OUTPUT_FOLDER = 'output/olivia/Healthy'\n",
    "OUTPUT_FOLDER = 'output/olivia/Flat feet'"
   ]
  },
  {
   "cell_type": "code",
   "execution_count": 55,
   "metadata": {},
   "outputs": [],
   "source": [
    "import sys\n",
    "sys.path.append('..')"
   ]
  },
  {
   "cell_type": "markdown",
   "metadata": {},
   "source": [
    "## Load data"
   ]
  },
  {
   "cell_type": "code",
   "execution_count": 56,
   "metadata": {},
   "outputs": [
    {
     "data": {
      "text/plain": [
       "['../data/olivia/Flat feet/AM002R.obj']"
      ]
     },
     "execution_count": 56,
     "metadata": {},
     "output_type": "execute_result"
    }
   ],
   "source": [
    "import os\n",
    "\n",
    "files = os.listdir(FOLDER)\n",
    "files = [os.path.join(FOLDER, f) for f in files if EXTENSION in f]\n",
    "files.sort()\n",
    "files"
   ]
  },
  {
   "cell_type": "code",
   "execution_count": 57,
   "metadata": {},
   "outputs": [
    {
     "data": {
      "text/plain": [
       "{'../data/olivia/Flat feet/AM002R.obj': coord              x          y           z\n",
       " landmark                                   \n",
       " P1        162.186571  -4.535335   42.056473\n",
       " P10       -36.599817  -9.227319   73.185564\n",
       " P11        13.295744 -57.137056  110.638395\n",
       " P12        -7.685193 -57.278462   56.535825\n",
       " P2        150.406824  -6.666803   76.690649\n",
       " P3        107.048096 -11.441973    9.886203\n",
       " P4        118.469985 -20.808570   79.651264\n",
       " P5         83.673442 -13.859813   14.065540\n",
       " P6         73.610127 -42.007042   66.237575\n",
       " P7         58.485889 -47.827394   71.183925\n",
       " P8          0.623239  -4.620498   90.439360\n",
       " P9         -4.419657 -10.370667   40.643927}"
      ]
     },
     "execution_count": 57,
     "metadata": {},
     "output_type": "execute_result"
    }
   ],
   "source": [
    "# load landmarks labelling\n",
    "import pandas as pd\n",
    "\n",
    "lmrk_dict = {}\n",
    "\n",
    "for file in files:\n",
    "    lmrk = pd.read_pickle(file.replace(EXTENSION, '.pkl'))\n",
    "    lmrk_dict[file] = lmrk\n",
    "\n",
    "lmrk_dict"
   ]
  },
  {
   "cell_type": "code",
   "execution_count": 58,
   "metadata": {},
   "outputs": [
    {
     "data": {
      "text/plain": [
       "{'../data/olivia/Flat feet/AM002R.obj': PolyData (0x1714b3400)\n",
       "   N Cells:    557034\n",
       "   N Points:   1671102\n",
       "   N Strips:   0\n",
       "   X Bounds:   -3.836e+01, 1.693e+02\n",
       "   Y Bounds:   -1.184e+02, 8.703e-01\n",
       "   Z Bounds:   9.039e+00, 1.114e+02\n",
       "   N Arrays:   2}"
      ]
     },
     "execution_count": 58,
     "metadata": {},
     "output_type": "execute_result"
    }
   ],
   "source": [
    "# load meshes\n",
    "import pyvista as pv\n",
    "\n",
    "mesh_dict = {}\n",
    "\n",
    "for file in files:\n",
    "    mesh = pv.read(file)\n",
    "    mesh_dict[file] = mesh\n",
    "\n",
    "mesh_dict"
   ]
  },
  {
   "cell_type": "code",
   "execution_count": 59,
   "metadata": {},
   "outputs": [
    {
     "data": {
      "text/html": [
       "<div>\n",
       "<style scoped>\n",
       "    .dataframe tbody tr th:only-of-type {\n",
       "        vertical-align: middle;\n",
       "    }\n",
       "\n",
       "    .dataframe tbody tr th {\n",
       "        vertical-align: top;\n",
       "    }\n",
       "\n",
       "    .dataframe thead th {\n",
       "        text-align: right;\n",
       "    }\n",
       "</style>\n",
       "<table border=\"1\" class=\"dataframe\">\n",
       "  <thead>\n",
       "    <tr style=\"text-align: right;\">\n",
       "      <th>coord</th>\n",
       "      <th>x</th>\n",
       "      <th>y</th>\n",
       "      <th>z</th>\n",
       "    </tr>\n",
       "    <tr>\n",
       "      <th>landmark</th>\n",
       "      <th></th>\n",
       "      <th></th>\n",
       "      <th></th>\n",
       "    </tr>\n",
       "  </thead>\n",
       "  <tbody>\n",
       "    <tr>\n",
       "      <th>AA</th>\n",
       "      <td>-69.571717</td>\n",
       "      <td>97.848721</td>\n",
       "      <td>-14.324256</td>\n",
       "    </tr>\n",
       "    <tr>\n",
       "      <th>LMB</th>\n",
       "      <td>-56.088392</td>\n",
       "      <td>18.053136</td>\n",
       "      <td>-0.889815</td>\n",
       "    </tr>\n",
       "    <tr>\n",
       "      <th>MLA-AP</th>\n",
       "      <td>-6.568192</td>\n",
       "      <td>87.054788</td>\n",
       "      <td>-0.614215</td>\n",
       "    </tr>\n",
       "    <tr>\n",
       "      <th>MLA-PP</th>\n",
       "      <td>-109.917336</td>\n",
       "      <td>94.292150</td>\n",
       "      <td>-0.881860</td>\n",
       "    </tr>\n",
       "    <tr>\n",
       "      <th>MMB</th>\n",
       "      <td>-49.540290</td>\n",
       "      <td>60.708933</td>\n",
       "      <td>-1.221400</td>\n",
       "    </tr>\n",
       "  </tbody>\n",
       "</table>\n",
       "</div>"
      ],
      "text/plain": [
       "coord              x          y          z\n",
       "landmark                                  \n",
       "AA        -69.571717  97.848721 -14.324256\n",
       "LMB       -56.088392  18.053136  -0.889815\n",
       "MLA-AP     -6.568192  87.054788  -0.614215\n",
       "MLA-PP   -109.917336  94.292150  -0.881860\n",
       "MMB       -49.540290  60.708933  -1.221400"
      ]
     },
     "execution_count": 59,
     "metadata": {},
     "output_type": "execute_result"
    }
   ],
   "source": [
    "# load example mesh and the extra landmarks labelling\n",
    "example_mesh = pv.read(EXAMPLE_FILE)\n",
    "example_lmrk = pd.read_pickle(EXAMPLE_LMRK)\n",
    "example_extra_lmrk = pd.read_pickle(EXAMPLE_EXTRA_LMRK)\n",
    "example_extra_lmrk"
   ]
  },
  {
   "cell_type": "markdown",
   "metadata": {},
   "source": [
    "## Landmarks motion interpolation"
   ]
  },
  {
   "cell_type": "code",
   "execution_count": 60,
   "metadata": {},
   "outputs": [],
   "source": [
    "import numpy as np\n",
    "from mesh4d.analyse import measure\n",
    "from scipy.interpolate import RBFInterpolator\n",
    "\n",
    "def udmc(source_lmrk: pd.DataFrame, target_lmrk: pd.DataFrame, source_mesh: pv.core.pointset.PolyData, target_mesh: pv.core.pointset.PolyData, post_align: bool = True, post_nbr: int = 100) -> RBFInterpolator:\n",
    "    # init motion field\n",
    "    field = RBFInterpolator(\n",
    "        source_lmrk.to_numpy(),  # (N, 3)\n",
    "        target_lmrk.to_numpy(),  # (N, 3)\n",
    "    )\n",
    "\n",
    "    # post alignment\n",
    "    if post_align:\n",
    "        source_points = np.array(source_mesh.points)  # (N_all, 3)\n",
    "        shift_points = field(source_points)\n",
    "        deform_points = measure.nearest_points_from_plane(target_mesh, shift_points)\n",
    "        field = RBFInterpolator(source_points, deform_points, neighbors=post_nbr)\n",
    "\n",
    "    return field"
   ]
  },
  {
   "cell_type": "code",
   "execution_count": 61,
   "metadata": {},
   "outputs": [
    {
     "name": "stderr",
     "output_type": "stream",
     "text": [
      "100%|██████████| 1/1 [00:14<00:00, 14.49s/it]\n"
     ]
    },
    {
     "data": {
      "text/plain": [
       "{'../data/olivia/Flat feet/AM002R.obj': coord             x         y          z\n",
       " landmark                                \n",
       " AA        55.579624 -9.714337  89.834849\n",
       " LMB       58.937329 -5.151927  23.048265\n",
       " MLA-AP    99.901515 -0.210164  68.416564\n",
       " MLA-PP    20.593032  0.042928  81.367568\n",
       " MMB       67.528528 -1.599881  52.080009}"
      ]
     },
     "execution_count": 61,
     "metadata": {},
     "output_type": "execute_result"
    }
   ],
   "source": [
    "from tqdm import tqdm\n",
    "\n",
    "field_dict = {}\n",
    "extra_lmrk_dict = {}\n",
    "\n",
    "for file in tqdm(files):\n",
    "    field = udmc(\n",
    "        source_lmrk=example_lmrk,\n",
    "        target_lmrk=lmrk_dict[file],\n",
    "        source_mesh=example_mesh,\n",
    "        target_mesh=mesh_dict[file],\n",
    "        # post_align=False,\n",
    "        post_align=True,\n",
    "        )\n",
    "    field_dict[file] = field\n",
    "    extra_lmrk = pd.DataFrame(\n",
    "        field(example_extra_lmrk.to_numpy()),\n",
    "        columns=example_extra_lmrk.columns,\n",
    "        index=example_extra_lmrk.index,\n",
    "        )\n",
    "    extra_lmrk_dict[file] = extra_lmrk\n",
    "    extra_lmrk.to_pickle(file.replace(EXTENSION, '-extra-udmc.pkl'))\n",
    "\n",
    "extra_lmrk_dict"
   ]
  },
  {
   "cell_type": "markdown",
   "metadata": {},
   "source": [
    "## Visual checks"
   ]
  },
  {
   "cell_type": "code",
   "execution_count": 62,
   "metadata": {},
   "outputs": [
    {
     "data": {
      "application/vnd.jupyter.widget-view+json": {
       "model_id": "486e8bd6a64c41a8b219468eab8c849f",
       "version_major": 2,
       "version_minor": 0
      },
      "text/plain": [
       "Widget(value='<iframe src=\"http://localhost:64779/index.html?ui=P_0x1714272e0_17&reconnect=auto\" class=\"pyvist…"
      ]
     },
     "metadata": {},
     "output_type": "display_data"
    }
   ],
   "source": [
    "scene = pv.Plotter()\n",
    "scene.add_mesh(example_mesh, opacity=1)\n",
    "\n",
    "scene.add_points(\n",
    "    example_lmrk.to_numpy(),\n",
    "    render_points_as_spheres=True,\n",
    "    style='points', color='teal', point_size=20, opacity=0.9,\n",
    "    )\n",
    "\n",
    "scene.add_points(\n",
    "    example_extra_lmrk.to_numpy(),\n",
    "    render_points_as_spheres=True,\n",
    "    style='points', color='lightcoral', point_size=20, opacity=0.9,\n",
    "    )\n",
    "\n",
    "scene.camera.roll += 160\n",
    "scene.show()"
   ]
  },
  {
   "cell_type": "code",
   "execution_count": 63,
   "metadata": {},
   "outputs": [
    {
     "data": {
      "application/vnd.jupyter.widget-view+json": {
       "model_id": "89d9c1b99f1c4122aa4dde4a9cd38e23",
       "version_major": 2,
       "version_minor": 0
      },
      "text/plain": [
       "Widget(value='<iframe src=\"http://localhost:64779/index.html?ui=P_0x13bcf00a0_18&reconnect=auto\" class=\"pyvist…"
      ]
     },
     "metadata": {},
     "output_type": "display_data"
    }
   ],
   "source": [
    "for file in files:\n",
    "    scene = pv.Plotter()\n",
    "    scene.add_mesh(mesh_dict[file], opacity=1)\n",
    "\n",
    "    scene.add_points(\n",
    "        lmrk_dict[file].to_numpy(),\n",
    "        render_points_as_spheres=True,\n",
    "        style='points', color='teal', point_size=20, opacity=0.9,\n",
    "        )\n",
    "\n",
    "    scene.add_points(\n",
    "        extra_lmrk_dict[file].to_numpy(),\n",
    "        render_points_as_spheres=True,\n",
    "        style='points', color='lightcoral', point_size=20, opacity=0.9,\n",
    "        )\n",
    "\n",
    "    scene.camera.roll += 160\n",
    "    scene.screenshot(os.path.join(\n",
    "        OUTPUT_FOLDER,\n",
    "        os.path.basename(file).replace(EXTENSION, '.png'),\n",
    "        ))\n",
    "    scene.show()"
   ]
  },
  {
   "cell_type": "code",
   "execution_count": null,
   "metadata": {},
   "outputs": [],
   "source": []
  }
 ],
 "metadata": {
  "kernelspec": {
   "display_name": "mesh4d",
   "language": "python",
   "name": "python3"
  },
  "language_info": {
   "codemirror_mode": {
    "name": "ipython",
    "version": 3
   },
   "file_extension": ".py",
   "mimetype": "text/x-python",
   "name": "python",
   "nbconvert_exporter": "python",
   "pygments_lexer": "ipython3",
   "version": "3.10.15"
  }
 },
 "nbformat": 4,
 "nbformat_minor": 2
}
