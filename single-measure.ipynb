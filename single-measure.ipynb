{
 "cells": [
  {
   "cell_type": "code",
   "execution_count": 1,
   "metadata": {},
   "outputs": [],
   "source": [
    "from pathlib import Path\n",
    "\n",
    "file = Path('data/discontinued/Sub_109_Static_R_025_035.000008.obj')\n",
    "is_plot = True"
   ]
  },
  {
   "cell_type": "markdown",
   "metadata": {},
   "source": [
    "## Load landmarks labelling"
   ]
  },
  {
   "cell_type": "code",
   "execution_count": 2,
   "metadata": {},
   "outputs": [
    {
     "data": {
      "text/html": [
       "<div>\n",
       "<style scoped>\n",
       "    .dataframe tbody tr th:only-of-type {\n",
       "        vertical-align: middle;\n",
       "    }\n",
       "\n",
       "    .dataframe tbody tr th {\n",
       "        vertical-align: top;\n",
       "    }\n",
       "\n",
       "    .dataframe thead th {\n",
       "        text-align: right;\n",
       "    }\n",
       "</style>\n",
       "<table border=\"1\" class=\"dataframe\">\n",
       "  <thead>\n",
       "    <tr style=\"text-align: right;\">\n",
       "      <th>coord</th>\n",
       "      <th>x</th>\n",
       "      <th>y</th>\n",
       "      <th>z</th>\n",
       "    </tr>\n",
       "    <tr>\n",
       "      <th>landmark</th>\n",
       "      <th></th>\n",
       "      <th></th>\n",
       "      <th></th>\n",
       "    </tr>\n",
       "  </thead>\n",
       "  <tbody>\n",
       "    <tr>\n",
       "      <th>P1</th>\n",
       "      <td>-14.333711</td>\n",
       "      <td>-156.724152</td>\n",
       "      <td>125.381439</td>\n",
       "    </tr>\n",
       "    <tr>\n",
       "      <th>P10</th>\n",
       "      <td>24.738054</td>\n",
       "      <td>-137.472134</td>\n",
       "      <td>-114.750564</td>\n",
       "    </tr>\n",
       "    <tr>\n",
       "      <th>P11</th>\n",
       "      <td>42.515607</td>\n",
       "      <td>-89.507008</td>\n",
       "      <td>-56.807751</td>\n",
       "    </tr>\n",
       "    <tr>\n",
       "      <th>P12</th>\n",
       "      <td>-22.967116</td>\n",
       "      <td>-83.423289</td>\n",
       "      <td>-65.599388</td>\n",
       "    </tr>\n",
       "    <tr>\n",
       "      <th>P2</th>\n",
       "      <td>30.239462</td>\n",
       "      <td>-155.406915</td>\n",
       "      <td>118.342365</td>\n",
       "    </tr>\n",
       "    <tr>\n",
       "      <th>P3</th>\n",
       "      <td>-64.400307</td>\n",
       "      <td>-150.323647</td>\n",
       "      <td>71.673798</td>\n",
       "    </tr>\n",
       "    <tr>\n",
       "      <th>P4</th>\n",
       "      <td>39.423142</td>\n",
       "      <td>-145.082466</td>\n",
       "      <td>72.643708</td>\n",
       "    </tr>\n",
       "    <tr>\n",
       "      <th>P5</th>\n",
       "      <td>-60.787144</td>\n",
       "      <td>-146.948391</td>\n",
       "      <td>40.668815</td>\n",
       "    </tr>\n",
       "    <tr>\n",
       "      <th>P6</th>\n",
       "      <td>10.064317</td>\n",
       "      <td>-100.603288</td>\n",
       "      <td>26.267208</td>\n",
       "    </tr>\n",
       "    <tr>\n",
       "      <th>P7</th>\n",
       "      <td>11.314074</td>\n",
       "      <td>-86.797434</td>\n",
       "      <td>0.630724</td>\n",
       "    </tr>\n",
       "    <tr>\n",
       "      <th>P8</th>\n",
       "      <td>43.170935</td>\n",
       "      <td>-143.533515</td>\n",
       "      <td>-82.980158</td>\n",
       "    </tr>\n",
       "    <tr>\n",
       "      <th>P9</th>\n",
       "      <td>-19.419421</td>\n",
       "      <td>-136.675194</td>\n",
       "      <td>-88.801233</td>\n",
       "    </tr>\n",
       "  </tbody>\n",
       "</table>\n",
       "</div>"
      ],
      "text/plain": [
       "coord             x           y           z\n",
       "landmark                                   \n",
       "P1       -14.333711 -156.724152  125.381439\n",
       "P10       24.738054 -137.472134 -114.750564\n",
       "P11       42.515607  -89.507008  -56.807751\n",
       "P12      -22.967116  -83.423289  -65.599388\n",
       "P2        30.239462 -155.406915  118.342365\n",
       "P3       -64.400307 -150.323647   71.673798\n",
       "P4        39.423142 -145.082466   72.643708\n",
       "P5       -60.787144 -146.948391   40.668815\n",
       "P6        10.064317 -100.603288   26.267208\n",
       "P7        11.314074  -86.797434    0.630724\n",
       "P8        43.170935 -143.533515  -82.980158\n",
       "P9       -19.419421 -136.675194  -88.801233"
      ]
     },
     "execution_count": 2,
     "metadata": {},
     "output_type": "execute_result"
    }
   ],
   "source": [
    "import pandas as pd\n",
    "\n",
    "df = pd.read_pickle(file.with_suffix('.pkl'))\n",
    "df"
   ]
  },
  {
   "cell_type": "markdown",
   "metadata": {},
   "source": [
    "## Local frame"
   ]
  },
  {
   "cell_type": "code",
   "execution_count": 16,
   "metadata": {},
   "outputs": [
    {
     "data": {
      "application/vnd.jupyter.widget-view+json": {
       "model_id": "a98db8982b684300adc03445d2e6fc09",
       "version_major": 2,
       "version_minor": 0
      },
      "text/plain": [
       "Widget(value=\"<iframe src='http://localhost:61806/index.html?ui=P_0x7f9b616117c0_16&reconnect=auto' style='wid…"
      ]
     },
     "metadata": {},
     "output_type": "display_data"
    }
   ],
   "source": [
    "import pyvista as pv\n",
    "pv.read(file).plot()"
   ]
  },
  {
   "cell_type": "code",
   "execution_count": 17,
   "metadata": {},
   "outputs": [
    {
     "data": {
      "application/vnd.jupyter.widget-view+json": {
       "model_id": "201412b395a1465d8849066aeafd235e",
       "version_major": 2,
       "version_minor": 0
      },
      "text/plain": [
       "Widget(value=\"<iframe src='http://localhost:61806/index.html?ui=P_0x7f9b50b97100_17&reconnect=auto' style='wid…"
      ]
     },
     "metadata": {},
     "output_type": "display_data"
    }
   ],
   "source": [
    "from mesh4d.analyse import crave\n",
    "\n",
    "mesh = crave.fix_pvmesh_disconnect(pv.read(file), df.values)\n",
    "mesh.plot()"
   ]
  },
  {
   "cell_type": "code",
   "execution_count": null,
   "metadata": {},
   "outputs": [
    {
     "data": {
      "application/vnd.jupyter.widget-view+json": {
       "model_id": "0866e827c13e489c83053b67bdc804ca",
       "version_major": 2,
       "version_minor": 0
      },
      "text/plain": [
       "Widget(value=\"<iframe src='http://localhost:61806/index.html?ui=P_0x7f9b7257abe0_0&reconnect=auto' style='widt…"
      ]
     },
     "metadata": {},
     "output_type": "display_data"
    }
   ],
   "source": [
    "from measure import frame\n",
    "\n",
    "# foot bottom cropped for estimating foot local frame\n",
    "if is_plot:\n",
    "    frame.plantar_clip(mesh, df).plot()"
   ]
  },
  {
   "cell_type": "code",
   "execution_count": 4,
   "metadata": {},
   "outputs": [
    {
     "data": {
      "application/vnd.jupyter.widget-view+json": {
       "model_id": "671b6468f1804daba230ff4c96ec2ac4",
       "version_major": 2,
       "version_minor": 0
      },
      "text/plain": [
       "Widget(value=\"<iframe src='http://localhost:61806/index.html?ui=P_0x7f9b74abe460_1&reconnect=auto' style='widt…"
      ]
     },
     "metadata": {},
     "output_type": "display_data"
    }
   ],
   "source": [
    "from measure import visual\n",
    "\n",
    "axes_frame, origin = frame.estimate_foot_frame(mesh, df)\n",
    "\n",
    "if is_plot:\n",
    "    visual.plot_axes(origin, axes_frame, mesh)"
   ]
  },
  {
   "cell_type": "code",
   "execution_count": 5,
   "metadata": {},
   "outputs": [
    {
     "data": {
      "application/vnd.jupyter.widget-view+json": {
       "model_id": "667b5aa67aba4367b042b3f4f16a54a3",
       "version_major": 2,
       "version_minor": 0
      },
      "text/plain": [
       "Widget(value=\"<iframe src='http://localhost:61806/index.html?ui=P_0x7f9b72444640_2&reconnect=auto' style='widt…"
      ]
     },
     "metadata": {},
     "output_type": "display_data"
    }
   ],
   "source": [
    "mesh_clip = frame.foot_clip(mesh, df)\n",
    "mesh_local = frame.foot2local(mesh_clip, axes_frame, origin)\n",
    "\n",
    "if is_plot:\n",
    "    mesh_local.plot()"
   ]
  },
  {
   "cell_type": "code",
   "execution_count": 6,
   "metadata": {},
   "outputs": [
    {
     "data": {
      "text/html": [
       "<div>\n",
       "<style scoped>\n",
       "    .dataframe tbody tr th:only-of-type {\n",
       "        vertical-align: middle;\n",
       "    }\n",
       "\n",
       "    .dataframe tbody tr th {\n",
       "        vertical-align: top;\n",
       "    }\n",
       "\n",
       "    .dataframe thead th {\n",
       "        text-align: right;\n",
       "    }\n",
       "</style>\n",
       "<table border=\"1\" class=\"dataframe\">\n",
       "  <thead>\n",
       "    <tr style=\"text-align: right;\">\n",
       "      <th>coord</th>\n",
       "      <th>x</th>\n",
       "      <th>y</th>\n",
       "      <th>z</th>\n",
       "    </tr>\n",
       "    <tr>\n",
       "      <th>landmark</th>\n",
       "      <th></th>\n",
       "      <th></th>\n",
       "      <th></th>\n",
       "    </tr>\n",
       "  </thead>\n",
       "  <tbody>\n",
       "    <tr>\n",
       "      <th>P1</th>\n",
       "      <td>111.621997</td>\n",
       "      <td>-0.054710</td>\n",
       "      <td>7.265864</td>\n",
       "    </tr>\n",
       "    <tr>\n",
       "      <th>P10</th>\n",
       "      <td>-131.629623</td>\n",
       "      <td>18.907197</td>\n",
       "      <td>12.718908</td>\n",
       "    </tr>\n",
       "    <tr>\n",
       "      <th>P11</th>\n",
       "      <td>-78.175344</td>\n",
       "      <td>41.508964</td>\n",
       "      <td>63.766608</td>\n",
       "    </tr>\n",
       "    <tr>\n",
       "      <th>P12</th>\n",
       "      <td>-81.827123</td>\n",
       "      <td>-24.470748</td>\n",
       "      <td>69.736165</td>\n",
       "    </tr>\n",
       "    <tr>\n",
       "      <th>P2</th>\n",
       "      <td>100.841012</td>\n",
       "      <td>43.779038</td>\n",
       "      <td>7.917992</td>\n",
       "    </tr>\n",
       "    <tr>\n",
       "      <th>P3</th>\n",
       "      <td>61.983233</td>\n",
       "      <td>-54.412097</td>\n",
       "      <td>10.927997</td>\n",
       "    </tr>\n",
       "    <tr>\n",
       "      <th>P4</th>\n",
       "      <td>54.026023</td>\n",
       "      <td>49.138004</td>\n",
       "      <td>15.595262</td>\n",
       "    </tr>\n",
       "    <tr>\n",
       "      <th>P5</th>\n",
       "      <td>30.643988</td>\n",
       "      <td>-53.389351</td>\n",
       "      <td>12.528702</td>\n",
       "    </tr>\n",
       "    <tr>\n",
       "      <th>P6</th>\n",
       "      <td>7.803199</td>\n",
       "      <td>16.074982</td>\n",
       "      <td>57.564384</td>\n",
       "    </tr>\n",
       "    <tr>\n",
       "      <th>P7</th>\n",
       "      <td>-18.589468</td>\n",
       "      <td>15.202773</td>\n",
       "      <td>69.895626</td>\n",
       "    </tr>\n",
       "    <tr>\n",
       "      <th>P8</th>\n",
       "      <td>-101.208117</td>\n",
       "      <td>39.914257</td>\n",
       "      <td>8.347852</td>\n",
       "    </tr>\n",
       "    <tr>\n",
       "      <th>P9</th>\n",
       "      <td>-102.188569</td>\n",
       "      <td>-22.934770</td>\n",
       "      <td>15.240922</td>\n",
       "    </tr>\n",
       "  </tbody>\n",
       "</table>\n",
       "</div>"
      ],
      "text/plain": [
       "coord              x          y          z\n",
       "landmark                                  \n",
       "P1        111.621997  -0.054710   7.265864\n",
       "P10      -131.629623  18.907197  12.718908\n",
       "P11       -78.175344  41.508964  63.766608\n",
       "P12       -81.827123 -24.470748  69.736165\n",
       "P2        100.841012  43.779038   7.917992\n",
       "P3         61.983233 -54.412097  10.927997\n",
       "P4         54.026023  49.138004  15.595262\n",
       "P5         30.643988 -53.389351  12.528702\n",
       "P6          7.803199  16.074982  57.564384\n",
       "P7        -18.589468  15.202773  69.895626\n",
       "P8       -101.208117  39.914257   8.347852\n",
       "P9       -102.188569 -22.934770  15.240922"
      ]
     },
     "execution_count": 6,
     "metadata": {},
     "output_type": "execute_result"
    }
   ],
   "source": [
    "df_local = frame.df2local(df, axes_frame, origin)\n",
    "df_local"
   ]
  },
  {
   "cell_type": "markdown",
   "metadata": {},
   "source": [
    "## Metrics"
   ]
  },
  {
   "cell_type": "code",
   "execution_count": 7,
   "metadata": {},
   "outputs": [],
   "source": [
    "results = [\n",
    "    {\n",
    "        'file': 'description',\n",
    "        'FL': 'foot length (mm)',\n",
    "        'MBL': 'medial ball length (mm)',\n",
    "        'LBL': 'lateral ball length (mm)',\n",
    "        'ABW': 'anatomical ball width (mm)',\n",
    "        'OBW': 'orthogonal ball width (mm)',\n",
    "        'OHW': 'orthogonal heel width (mm)',\n",
    "        'BH': 'ball heigh (mm)',\n",
    "        'IH': 'instep height (mm)',\n",
    "        'BA': 'ball angle (°)',\n",
    "        'T1A': 'toe 1 angle (°)',\n",
    "        'T5A': 'toe 5 angle (°)',\n",
    "        'ABG': 'anatomical ball girth (mm)',\n",
    "        'IG': 'instep girth (mm)',\n",
    "    }\n",
    "]"
   ]
  },
  {
   "cell_type": "code",
   "execution_count": 8,
   "metadata": {},
   "outputs": [],
   "source": [
    "from measure import metric\n",
    "\n",
    "results.append(\n",
    "    {\n",
    "        'file': str(file),\n",
    "        'FL': metric.fl(df_local),\n",
    "        'MBL': metric.mbl(df_local),\n",
    "        'LBL': metric.lbl(df_local),\n",
    "        'ABW': metric.abw(df_local),\n",
    "        'OBW': metric.obw(df_local),\n",
    "        'OHW': metric.ohw(df_local),\n",
    "        'BH': metric.bh(df_local),\n",
    "        'IH': metric.ih(df_local),\n",
    "        'BA': metric.ba(df_local),\n",
    "        'T1A': metric.t1a(df_local),\n",
    "        'T5A': metric.t5a(df_local),\n",
    "        'ABG': metric.abg(df_local, mesh_local),\n",
    "        'IG': metric.ig(df_local, mesh_local),\n",
    "    }\n",
    ")"
   ]
  },
  {
   "cell_type": "code",
   "execution_count": 9,
   "metadata": {},
   "outputs": [
    {
     "data": {
      "text/html": [
       "<div>\n",
       "<style scoped>\n",
       "    .dataframe tbody tr th:only-of-type {\n",
       "        vertical-align: middle;\n",
       "    }\n",
       "\n",
       "    .dataframe tbody tr th {\n",
       "        vertical-align: top;\n",
       "    }\n",
       "\n",
       "    .dataframe thead th {\n",
       "        text-align: right;\n",
       "    }\n",
       "</style>\n",
       "<table border=\"1\" class=\"dataframe\">\n",
       "  <thead>\n",
       "    <tr style=\"text-align: right;\">\n",
       "      <th></th>\n",
       "      <th>FL</th>\n",
       "      <th>MBL</th>\n",
       "      <th>LBL</th>\n",
       "      <th>ABW</th>\n",
       "      <th>OBW</th>\n",
       "      <th>OHW</th>\n",
       "      <th>BH</th>\n",
       "      <th>IH</th>\n",
       "      <th>BA</th>\n",
       "      <th>T1A</th>\n",
       "      <th>T5A</th>\n",
       "      <th>ABG</th>\n",
       "      <th>IG</th>\n",
       "    </tr>\n",
       "    <tr>\n",
       "      <th>file</th>\n",
       "      <th></th>\n",
       "      <th></th>\n",
       "      <th></th>\n",
       "      <th></th>\n",
       "      <th></th>\n",
       "      <th></th>\n",
       "      <th></th>\n",
       "      <th></th>\n",
       "      <th></th>\n",
       "      <th></th>\n",
       "      <th></th>\n",
       "      <th></th>\n",
       "      <th></th>\n",
       "    </tr>\n",
       "  </thead>\n",
       "  <tbody>\n",
       "    <tr>\n",
       "      <th>description</th>\n",
       "      <td>foot length (mm)</td>\n",
       "      <td>medial ball length (mm)</td>\n",
       "      <td>lateral ball length (mm)</td>\n",
       "      <td>anatomical ball width (mm)</td>\n",
       "      <td>orthogonal ball width (mm)</td>\n",
       "      <td>orthogonal heel width (mm)</td>\n",
       "      <td>ball heigh (mm)</td>\n",
       "      <td>instep height (mm)</td>\n",
       "      <td>ball angle (°)</td>\n",
       "      <td>toe 1 angle (°)</td>\n",
       "      <td>toe 5 angle (°)</td>\n",
       "      <td>anatomical ball girth (mm)</td>\n",
       "      <td>instep girth (mm)</td>\n",
       "    </tr>\n",
       "    <tr>\n",
       "      <th>data/discontinued/Sub_109_Static_R_025_035.000008.obj</th>\n",
       "      <td>243.25162</td>\n",
       "      <td>185.655646</td>\n",
       "      <td>162.273611</td>\n",
       "      <td>105.204477</td>\n",
       "      <td>103.550101</td>\n",
       "      <td>62.849027</td>\n",
       "      <td>57.564384</td>\n",
       "      <td>69.895626</td>\n",
       "      <td>73.696817</td>\n",
       "      <td>15.494203</td>\n",
       "      <td>11.179462</td>\n",
       "      <td>253.641738</td>\n",
       "      <td>249.545591</td>\n",
       "    </tr>\n",
       "  </tbody>\n",
       "</table>\n",
       "</div>"
      ],
      "text/plain": [
       "                                                                  FL  \\\n",
       "file                                                                   \n",
       "description                                         foot length (mm)   \n",
       "data/discontinued/Sub_109_Static_R_025_035.0000...         243.25162   \n",
       "\n",
       "                                                                        MBL  \\\n",
       "file                                                                          \n",
       "description                                         medial ball length (mm)   \n",
       "data/discontinued/Sub_109_Static_R_025_035.0000...               185.655646   \n",
       "\n",
       "                                                                         LBL  \\\n",
       "file                                                                           \n",
       "description                                         lateral ball length (mm)   \n",
       "data/discontinued/Sub_109_Static_R_025_035.0000...                162.273611   \n",
       "\n",
       "                                                                           ABW  \\\n",
       "file                                                                             \n",
       "description                                         anatomical ball width (mm)   \n",
       "data/discontinued/Sub_109_Static_R_025_035.0000...                  105.204477   \n",
       "\n",
       "                                                                           OBW  \\\n",
       "file                                                                             \n",
       "description                                         orthogonal ball width (mm)   \n",
       "data/discontinued/Sub_109_Static_R_025_035.0000...                  103.550101   \n",
       "\n",
       "                                                                           OHW  \\\n",
       "file                                                                             \n",
       "description                                         orthogonal heel width (mm)   \n",
       "data/discontinued/Sub_109_Static_R_025_035.0000...                   62.849027   \n",
       "\n",
       "                                                                 BH  \\\n",
       "file                                                                  \n",
       "description                                         ball heigh (mm)   \n",
       "data/discontinued/Sub_109_Static_R_025_035.0000...        57.564384   \n",
       "\n",
       "                                                                    IH  \\\n",
       "file                                                                     \n",
       "description                                         instep height (mm)   \n",
       "data/discontinued/Sub_109_Static_R_025_035.0000...           69.895626   \n",
       "\n",
       "                                                                BA  \\\n",
       "file                                                                 \n",
       "description                                         ball angle (°)   \n",
       "data/discontinued/Sub_109_Static_R_025_035.0000...       73.696817   \n",
       "\n",
       "                                                                T1A  \\\n",
       "file                                                                  \n",
       "description                                         toe 1 angle (°)   \n",
       "data/discontinued/Sub_109_Static_R_025_035.0000...        15.494203   \n",
       "\n",
       "                                                                T5A  \\\n",
       "file                                                                  \n",
       "description                                         toe 5 angle (°)   \n",
       "data/discontinued/Sub_109_Static_R_025_035.0000...        11.179462   \n",
       "\n",
       "                                                                           ABG  \\\n",
       "file                                                                             \n",
       "description                                         anatomical ball girth (mm)   \n",
       "data/discontinued/Sub_109_Static_R_025_035.0000...                  253.641738   \n",
       "\n",
       "                                                                   IG  \n",
       "file                                                                   \n",
       "description                                         instep girth (mm)  \n",
       "data/discontinued/Sub_109_Static_R_025_035.0000...         249.545591  "
      ]
     },
     "execution_count": 9,
     "metadata": {},
     "output_type": "execute_result"
    }
   ],
   "source": [
    "df_metric = pd.DataFrame(results).set_index('file')\n",
    "df_metric"
   ]
  },
  {
   "cell_type": "markdown",
   "metadata": {},
   "source": [
    "### Visualization"
   ]
  },
  {
   "cell_type": "code",
   "execution_count": 10,
   "metadata": {},
   "outputs": [
    {
     "data": {
      "application/vnd.jupyter.widget-view+json": {
       "model_id": "1adc1b3f921d47319ce68914afba2d44",
       "version_major": 2,
       "version_minor": 0
      },
      "text/plain": [
       "Widget(value=\"<iframe src='http://localhost:61806/index.html?ui=P_0x7f9b609e8400_3&reconnect=auto' style='widt…"
      ]
     },
     "metadata": {},
     "output_type": "display_data"
    },
    {
     "data": {
      "application/vnd.jupyter.widget-view+json": {
       "model_id": "b8ccbc983b214a1faae5de11dcb85354",
       "version_major": 2,
       "version_minor": 0
      },
      "text/plain": [
       "Widget(value=\"<iframe src='http://localhost:61806/index.html?ui=P_0x7f9b609fc580_4&reconnect=auto' style='widt…"
      ]
     },
     "metadata": {},
     "output_type": "display_data"
    },
    {
     "data": {
      "application/vnd.jupyter.widget-view+json": {
       "model_id": "59ca17f8369b498faf7b0a9fcbe47e89",
       "version_major": 2,
       "version_minor": 0
      },
      "text/plain": [
       "Widget(value=\"<iframe src='http://localhost:61806/index.html?ui=P_0x7f9b609e84f0_5&reconnect=auto' style='widt…"
      ]
     },
     "metadata": {},
     "output_type": "display_data"
    },
    {
     "data": {
      "application/vnd.jupyter.widget-view+json": {
       "model_id": "c05870ecafc3400ba842227a0c2523e5",
       "version_major": 2,
       "version_minor": 0
      },
      "text/plain": [
       "Widget(value=\"<iframe src='http://localhost:61806/index.html?ui=P_0x7f9b61b5dcd0_6&reconnect=auto' style='widt…"
      ]
     },
     "metadata": {},
     "output_type": "display_data"
    },
    {
     "data": {
      "application/vnd.jupyter.widget-view+json": {
       "model_id": "8a21a273cfbe40e59bc573583c3f558c",
       "version_major": 2,
       "version_minor": 0
      },
      "text/plain": [
       "Widget(value=\"<iframe src='http://localhost:61806/index.html?ui=P_0x7f9b61b5de80_7&reconnect=auto' style='widt…"
      ]
     },
     "metadata": {},
     "output_type": "display_data"
    }
   ],
   "source": [
    "if is_plot:\n",
    "    settings = {\n",
    "        'FL': ['P1', 'P10', 'x'],\n",
    "        'MBL': ['P4', 'P10', 'x'],\n",
    "        'LBL': ['P5', 'P10', 'x'],\n",
    "        'OBW': ['P4', 'P3', 'y'],\n",
    "        'OHW': ['P9', 'P8', 'y'],\n",
    "    }\n",
    "\n",
    "    for name, [landmark1, landmark2, axis] in settings.items():\n",
    "        scene = pv.Plotter()\n",
    "        scene.add_mesh(mesh_local, opacity=0.1)\n",
    "        visual.plot_dist_along_axis(scene, df_local, landmark1, landmark2, axis, name=name)\n",
    "        scene.show()\n",
    "        scene.screenshot(f'output/visual/{name}.png')"
   ]
  },
  {
   "cell_type": "code",
   "execution_count": 11,
   "metadata": {},
   "outputs": [
    {
     "data": {
      "application/vnd.jupyter.widget-view+json": {
       "model_id": "b7af1de045a147a396ee0e4236c1215f",
       "version_major": 2,
       "version_minor": 0
      },
      "text/plain": [
       "Widget(value=\"<iframe src='http://localhost:61806/index.html?ui=P_0x7f9b61a74b80_8&reconnect=auto' style='widt…"
      ]
     },
     "metadata": {},
     "output_type": "display_data"
    },
    {
     "data": {
      "application/vnd.jupyter.widget-view+json": {
       "model_id": "77a4426ff772427a9fcbe8a6271c1f15",
       "version_major": 2,
       "version_minor": 0
      },
      "text/plain": [
       "Widget(value=\"<iframe src='http://localhost:61806/index.html?ui=P_0x7f9b777e99d0_9&reconnect=auto' style='widt…"
      ]
     },
     "metadata": {},
     "output_type": "display_data"
    }
   ],
   "source": [
    "if is_plot:\n",
    "    settings = {\n",
    "        'BH': 'P6',\n",
    "        'IH': 'P7',\n",
    "    }\n",
    "\n",
    "    for name, landmark in settings.items():\n",
    "        scene = pv.Plotter()\n",
    "        scene.add_mesh(mesh_local, opacity=0.1)\n",
    "        visual.plot_height(scene, df_local, landmark, name=name)\n",
    "        scene.show()\n",
    "        scene.screenshot(f'output/visual/{name}.png')"
   ]
  },
  {
   "cell_type": "code",
   "execution_count": 12,
   "metadata": {},
   "outputs": [
    {
     "data": {
      "application/vnd.jupyter.widget-view+json": {
       "model_id": "9cba24f07a4f490e833371969e627a81",
       "version_major": 2,
       "version_minor": 0
      },
      "text/plain": [
       "Widget(value=\"<iframe src='http://localhost:61806/index.html?ui=P_0x7f9b61a74be0_10&reconnect=auto' style='wid…"
      ]
     },
     "metadata": {},
     "output_type": "display_data"
    },
    {
     "data": {
      "application/vnd.jupyter.widget-view+json": {
       "model_id": "278b5aa70d2c447cb8b78ec05ff47088",
       "version_major": 2,
       "version_minor": 0
      },
      "text/plain": [
       "Widget(value=\"<iframe src='http://localhost:61806/index.html?ui=P_0x7f9b6056aa60_11&reconnect=auto' style='wid…"
      ]
     },
     "metadata": {},
     "output_type": "display_data"
    },
    {
     "data": {
      "application/vnd.jupyter.widget-view+json": {
       "model_id": "081cb79ab12b449082b194fed4e3a897",
       "version_major": 2,
       "version_minor": 0
      },
      "text/plain": [
       "Widget(value=\"<iframe src='http://localhost:61806/index.html?ui=P_0x7f9b617b0160_12&reconnect=auto' style='wid…"
      ]
     },
     "metadata": {},
     "output_type": "display_data"
    }
   ],
   "source": [
    "if is_plot:\n",
    "    settings = {\n",
    "        'BA': ['P4', 'P5', 'P8'],\n",
    "        'T1A': ['P4', 'P2', 'P8'],\n",
    "        'T5A': ['P5', 'P3', 'P9'],\n",
    "    }\n",
    "\n",
    "    for name, [landmark_origin, landmark1, landmark2] in settings.items():\n",
    "        scene = pv.Plotter()\n",
    "        scene.add_mesh(mesh_local, opacity=0.1)\n",
    "        visual.plot_angle(scene, df_local, landmark_origin, landmark1, landmark2, actue_angle=True, name=name)\n",
    "        scene.show()\n",
    "        scene.screenshot(f'output/visual/{name}.png')"
   ]
  },
  {
   "cell_type": "code",
   "execution_count": 13,
   "metadata": {},
   "outputs": [
    {
     "data": {
      "application/vnd.jupyter.widget-view+json": {
       "model_id": "6114a496f1c24c9bab8053d94922e805",
       "version_major": 2,
       "version_minor": 0
      },
      "text/plain": [
       "Widget(value=\"<iframe src='http://localhost:61806/index.html?ui=P_0x7f9b61a74640_13&reconnect=auto' style='wid…"
      ]
     },
     "metadata": {},
     "output_type": "display_data"
    }
   ],
   "source": [
    "if is_plot:\n",
    "    settings = {\n",
    "        'ABW': ['P4', 'P5'],\n",
    "    }\n",
    "\n",
    "    for name, [landmark1, landmark2] in settings.items():\n",
    "        scene = pv.Plotter()\n",
    "        scene.add_mesh(mesh_local, opacity=0.1)\n",
    "        visual.plot_dist(scene, df_local, landmark1, landmark2, name=name)\n",
    "        scene.show()\n",
    "        scene.screenshot(f'output/visual/{name}.png')"
   ]
  },
  {
   "cell_type": "code",
   "execution_count": 14,
   "metadata": {},
   "outputs": [
    {
     "data": {
      "application/vnd.jupyter.widget-view+json": {
       "model_id": "ae4f2462e8f748398a563324671986aa",
       "version_major": 2,
       "version_minor": 0
      },
      "text/plain": [
       "Widget(value=\"<iframe src='http://localhost:61806/index.html?ui=P_0x7f9b61a74970_14&reconnect=auto' style='wid…"
      ]
     },
     "metadata": {},
     "output_type": "display_data"
    }
   ],
   "source": [
    "if is_plot:\n",
    "    scene = pv.Plotter()\n",
    "    scene.add_mesh(mesh_local, opacity=0.1)\n",
    "    visual.plot_circ_pass_2landmarks(scene, df_local, mesh_local, ['P4', 'P5'], tangent_axis='z', name='ABG')\n",
    "    scene.show()\n",
    "    scene.screenshot(f'output/visual/ABG.png')"
   ]
  },
  {
   "cell_type": "code",
   "execution_count": 15,
   "metadata": {},
   "outputs": [
    {
     "data": {
      "application/vnd.jupyter.widget-view+json": {
       "model_id": "3b6f6d88ebb54206b00ca1582afeae7e",
       "version_major": 2,
       "version_minor": 0
      },
      "text/plain": [
       "Widget(value=\"<iframe src='http://localhost:61806/index.html?ui=P_0x7f9b61a13d00_15&reconnect=auto' style='wid…"
      ]
     },
     "metadata": {},
     "output_type": "display_data"
    }
   ],
   "source": [
    "if is_plot:\n",
    "    scene = pv.Plotter()\n",
    "    scene.add_mesh(mesh_local, opacity=0.1)\n",
    "    visual.plot_circ_pass_landmark(scene, df_local, mesh_local, 'P6', 'x', name='IG')\n",
    "    scene.show()\n",
    "    scene.screenshot(f'output/visual/IG.png')"
   ]
  },
  {
   "cell_type": "code",
   "execution_count": null,
   "metadata": {},
   "outputs": [],
   "source": []
  }
 ],
 "metadata": {
  "kernelspec": {
   "display_name": "mesh4d",
   "language": "python",
   "name": "python3"
  },
  "language_info": {
   "codemirror_mode": {
    "name": "ipython",
    "version": 3
   },
   "file_extension": ".py",
   "mimetype": "text/x-python",
   "name": "python",
   "nbconvert_exporter": "python",
   "pygments_lexer": "ipython3",
   "version": "3.9.16"
  }
 },
 "nbformat": 4,
 "nbformat_minor": 2
}
