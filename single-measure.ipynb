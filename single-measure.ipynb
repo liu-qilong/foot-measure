{
 "cells": [
  {
   "cell_type": "code",
   "execution_count": 1,
   "metadata": {},
   "outputs": [],
   "source": [
    "from pathlib import Path\n",
    "\n",
    "file = Path('data/discontinued/Sub_109_Static_R_025_035.000008.obj')\n",
    "is_plot = True"
   ]
  },
  {
   "cell_type": "markdown",
   "metadata": {},
   "source": [
    "## Load landmarks labelling"
   ]
  },
  {
   "cell_type": "code",
   "execution_count": 2,
   "metadata": {},
   "outputs": [
    {
     "data": {
      "text/html": [
       "<div>\n",
       "<style scoped>\n",
       "    .dataframe tbody tr th:only-of-type {\n",
       "        vertical-align: middle;\n",
       "    }\n",
       "\n",
       "    .dataframe tbody tr th {\n",
       "        vertical-align: top;\n",
       "    }\n",
       "\n",
       "    .dataframe thead th {\n",
       "        text-align: right;\n",
       "    }\n",
       "</style>\n",
       "<table border=\"1\" class=\"dataframe\">\n",
       "  <thead>\n",
       "    <tr style=\"text-align: right;\">\n",
       "      <th>coord</th>\n",
       "      <th>x</th>\n",
       "      <th>y</th>\n",
       "      <th>z</th>\n",
       "    </tr>\n",
       "    <tr>\n",
       "      <th>landmark</th>\n",
       "      <th></th>\n",
       "      <th></th>\n",
       "      <th></th>\n",
       "    </tr>\n",
       "  </thead>\n",
       "  <tbody>\n",
       "    <tr>\n",
       "      <th>P1</th>\n",
       "      <td>-14.333711</td>\n",
       "      <td>-156.724152</td>\n",
       "      <td>125.381439</td>\n",
       "    </tr>\n",
       "    <tr>\n",
       "      <th>P10</th>\n",
       "      <td>24.738054</td>\n",
       "      <td>-137.472134</td>\n",
       "      <td>-114.750564</td>\n",
       "    </tr>\n",
       "    <tr>\n",
       "      <th>P11</th>\n",
       "      <td>42.515607</td>\n",
       "      <td>-89.507008</td>\n",
       "      <td>-56.807751</td>\n",
       "    </tr>\n",
       "    <tr>\n",
       "      <th>P12</th>\n",
       "      <td>-22.967116</td>\n",
       "      <td>-83.423289</td>\n",
       "      <td>-65.599388</td>\n",
       "    </tr>\n",
       "    <tr>\n",
       "      <th>P2</th>\n",
       "      <td>30.239462</td>\n",
       "      <td>-155.406915</td>\n",
       "      <td>118.342365</td>\n",
       "    </tr>\n",
       "    <tr>\n",
       "      <th>P3</th>\n",
       "      <td>-64.400307</td>\n",
       "      <td>-150.323647</td>\n",
       "      <td>71.673798</td>\n",
       "    </tr>\n",
       "    <tr>\n",
       "      <th>P4</th>\n",
       "      <td>39.423142</td>\n",
       "      <td>-145.082466</td>\n",
       "      <td>72.643708</td>\n",
       "    </tr>\n",
       "    <tr>\n",
       "      <th>P5</th>\n",
       "      <td>-60.787144</td>\n",
       "      <td>-146.948391</td>\n",
       "      <td>40.668815</td>\n",
       "    </tr>\n",
       "    <tr>\n",
       "      <th>P6</th>\n",
       "      <td>10.064317</td>\n",
       "      <td>-100.603288</td>\n",
       "      <td>26.267208</td>\n",
       "    </tr>\n",
       "    <tr>\n",
       "      <th>P7</th>\n",
       "      <td>11.314074</td>\n",
       "      <td>-86.797434</td>\n",
       "      <td>0.630724</td>\n",
       "    </tr>\n",
       "    <tr>\n",
       "      <th>P8</th>\n",
       "      <td>43.170935</td>\n",
       "      <td>-143.533515</td>\n",
       "      <td>-82.980158</td>\n",
       "    </tr>\n",
       "    <tr>\n",
       "      <th>P9</th>\n",
       "      <td>-19.419421</td>\n",
       "      <td>-136.675194</td>\n",
       "      <td>-88.801233</td>\n",
       "    </tr>\n",
       "  </tbody>\n",
       "</table>\n",
       "</div>"
      ],
      "text/plain": [
       "coord             x           y           z\n",
       "landmark                                   \n",
       "P1       -14.333711 -156.724152  125.381439\n",
       "P10       24.738054 -137.472134 -114.750564\n",
       "P11       42.515607  -89.507008  -56.807751\n",
       "P12      -22.967116  -83.423289  -65.599388\n",
       "P2        30.239462 -155.406915  118.342365\n",
       "P3       -64.400307 -150.323647   71.673798\n",
       "P4        39.423142 -145.082466   72.643708\n",
       "P5       -60.787144 -146.948391   40.668815\n",
       "P6        10.064317 -100.603288   26.267208\n",
       "P7        11.314074  -86.797434    0.630724\n",
       "P8        43.170935 -143.533515  -82.980158\n",
       "P9       -19.419421 -136.675194  -88.801233"
      ]
     },
     "execution_count": 2,
     "metadata": {},
     "output_type": "execute_result"
    }
   ],
   "source": [
    "import pandas as pd\n",
    "\n",
    "df = pd.read_pickle(file.with_suffix('.pkl'))\n",
    "df"
   ]
  },
  {
   "cell_type": "markdown",
   "metadata": {},
   "source": [
    "## Local frame"
   ]
  },
  {
   "cell_type": "code",
   "execution_count": 3,
   "metadata": {},
   "outputs": [
    {
     "data": {
      "application/vnd.jupyter.widget-view+json": {
       "model_id": "0b651cd4f47743a181ffd2c835abe918",
       "version_major": 2,
       "version_minor": 0
      },
      "text/plain": [
       "Widget(value=\"<iframe src='http://localhost:64774/index.html?ui=P_0x7fd531519100_0&reconnect=auto' style='widt…"
      ]
     },
     "metadata": {},
     "output_type": "display_data"
    }
   ],
   "source": [
    "import pyvista as pv\n",
    "from measure import frame\n",
    "from mesh4d.analyse import crave\n",
    "\n",
    "mesh = crave.fix_pvmesh_disconnect(pv.read(file), df.values)\n",
    "\n",
    "# foot bottom cropped for estimating foot local frame\n",
    "if is_plot:\n",
    "    frame.plantar_clip(mesh, df).plot()"
   ]
  },
  {
   "cell_type": "code",
   "execution_count": 4,
   "metadata": {},
   "outputs": [
    {
     "data": {
      "application/vnd.jupyter.widget-view+json": {
       "model_id": "098d38174dc84f6a8c700b42d38976ea",
       "version_major": 2,
       "version_minor": 0
      },
      "text/plain": [
       "Widget(value=\"<iframe src='http://localhost:64774/index.html?ui=P_0x7fd531519820_1&reconnect=auto' style='widt…"
      ]
     },
     "metadata": {},
     "output_type": "display_data"
    }
   ],
   "source": [
    "from measure import visual\n",
    "\n",
    "axes_frame, origin = frame.estimate_foot_frame(mesh, df)\n",
    "\n",
    "if is_plot:\n",
    "    visual.plot_axes(origin, axes_frame, mesh)"
   ]
  },
  {
   "cell_type": "code",
   "execution_count": 5,
   "metadata": {},
   "outputs": [
    {
     "data": {
      "application/vnd.jupyter.widget-view+json": {
       "model_id": "2b46f38256d948a990fdf99a56d74c1d",
       "version_major": 2,
       "version_minor": 0
      },
      "text/plain": [
       "Widget(value=\"<iframe src='http://localhost:64774/index.html?ui=P_0x7fd5313da7f0_2&reconnect=auto' style='widt…"
      ]
     },
     "metadata": {},
     "output_type": "display_data"
    }
   ],
   "source": [
    "mesh_clip = frame.foot_clip(mesh, df)\n",
    "mesh_local = frame.foot2local(mesh_clip, axes_frame, origin)\n",
    "\n",
    "if is_plot:\n",
    "    mesh_local.plot()"
   ]
  },
  {
   "cell_type": "code",
   "execution_count": 6,
   "metadata": {},
   "outputs": [
    {
     "data": {
      "text/html": [
       "<div>\n",
       "<style scoped>\n",
       "    .dataframe tbody tr th:only-of-type {\n",
       "        vertical-align: middle;\n",
       "    }\n",
       "\n",
       "    .dataframe tbody tr th {\n",
       "        vertical-align: top;\n",
       "    }\n",
       "\n",
       "    .dataframe thead th {\n",
       "        text-align: right;\n",
       "    }\n",
       "</style>\n",
       "<table border=\"1\" class=\"dataframe\">\n",
       "  <thead>\n",
       "    <tr style=\"text-align: right;\">\n",
       "      <th>coord</th>\n",
       "      <th>x</th>\n",
       "      <th>y</th>\n",
       "      <th>z</th>\n",
       "    </tr>\n",
       "    <tr>\n",
       "      <th>landmark</th>\n",
       "      <th></th>\n",
       "      <th></th>\n",
       "      <th></th>\n",
       "    </tr>\n",
       "  </thead>\n",
       "  <tbody>\n",
       "    <tr>\n",
       "      <th>P1</th>\n",
       "      <td>111.621997</td>\n",
       "      <td>-0.054710</td>\n",
       "      <td>7.265864</td>\n",
       "    </tr>\n",
       "    <tr>\n",
       "      <th>P10</th>\n",
       "      <td>-131.629623</td>\n",
       "      <td>18.907197</td>\n",
       "      <td>12.718908</td>\n",
       "    </tr>\n",
       "    <tr>\n",
       "      <th>P11</th>\n",
       "      <td>-78.175344</td>\n",
       "      <td>41.508964</td>\n",
       "      <td>63.766608</td>\n",
       "    </tr>\n",
       "    <tr>\n",
       "      <th>P12</th>\n",
       "      <td>-81.827123</td>\n",
       "      <td>-24.470748</td>\n",
       "      <td>69.736165</td>\n",
       "    </tr>\n",
       "    <tr>\n",
       "      <th>P2</th>\n",
       "      <td>100.841012</td>\n",
       "      <td>43.779038</td>\n",
       "      <td>7.917992</td>\n",
       "    </tr>\n",
       "    <tr>\n",
       "      <th>P3</th>\n",
       "      <td>61.983233</td>\n",
       "      <td>-54.412097</td>\n",
       "      <td>10.927997</td>\n",
       "    </tr>\n",
       "    <tr>\n",
       "      <th>P4</th>\n",
       "      <td>54.026023</td>\n",
       "      <td>49.138004</td>\n",
       "      <td>15.595262</td>\n",
       "    </tr>\n",
       "    <tr>\n",
       "      <th>P5</th>\n",
       "      <td>30.643988</td>\n",
       "      <td>-53.389351</td>\n",
       "      <td>12.528702</td>\n",
       "    </tr>\n",
       "    <tr>\n",
       "      <th>P6</th>\n",
       "      <td>7.803199</td>\n",
       "      <td>16.074982</td>\n",
       "      <td>57.564384</td>\n",
       "    </tr>\n",
       "    <tr>\n",
       "      <th>P7</th>\n",
       "      <td>-18.589468</td>\n",
       "      <td>15.202773</td>\n",
       "      <td>69.895626</td>\n",
       "    </tr>\n",
       "    <tr>\n",
       "      <th>P8</th>\n",
       "      <td>-101.208117</td>\n",
       "      <td>39.914257</td>\n",
       "      <td>8.347852</td>\n",
       "    </tr>\n",
       "    <tr>\n",
       "      <th>P9</th>\n",
       "      <td>-102.188569</td>\n",
       "      <td>-22.934770</td>\n",
       "      <td>15.240922</td>\n",
       "    </tr>\n",
       "  </tbody>\n",
       "</table>\n",
       "</div>"
      ],
      "text/plain": [
       "coord              x          y          z\n",
       "landmark                                  \n",
       "P1        111.621997  -0.054710   7.265864\n",
       "P10      -131.629623  18.907197  12.718908\n",
       "P11       -78.175344  41.508964  63.766608\n",
       "P12       -81.827123 -24.470748  69.736165\n",
       "P2        100.841012  43.779038   7.917992\n",
       "P3         61.983233 -54.412097  10.927997\n",
       "P4         54.026023  49.138004  15.595262\n",
       "P5         30.643988 -53.389351  12.528702\n",
       "P6          7.803199  16.074982  57.564384\n",
       "P7        -18.589468  15.202773  69.895626\n",
       "P8       -101.208117  39.914257   8.347852\n",
       "P9       -102.188569 -22.934770  15.240922"
      ]
     },
     "execution_count": 6,
     "metadata": {},
     "output_type": "execute_result"
    }
   ],
   "source": [
    "df_local = frame.df2local(df, axes_frame, origin)\n",
    "df_local"
   ]
  },
  {
   "cell_type": "markdown",
   "metadata": {},
   "source": [
    "## Metrics"
   ]
  },
  {
   "cell_type": "code",
   "execution_count": 7,
   "metadata": {},
   "outputs": [],
   "source": [
    "results = [\n",
    "    {\n",
    "        'file': 'description',\n",
    "        'FL': 'foot length (mm)',\n",
    "        'MBL': 'medial ball length (mm)',\n",
    "        'LBL': 'lateral ball length (mm)',\n",
    "        'ABW': 'anatomical ball width (mm)',\n",
    "        'OBW': 'orthogonal ball width (mm)',\n",
    "        'OHW': 'orthogonal heel width (mm)',\n",
    "        'BH': 'ball heigh (mm)',\n",
    "        'IH': 'instep height (mm)',\n",
    "        'BA': 'ball angle (°)',\n",
    "        'T1A': 'toe 1 angle (°)',\n",
    "        'T5A': 'toe 5 angle (°)',\n",
    "        'ABG': 'anatomical ball girth (mm)',\n",
    "        'IG': 'instep girth (mm)',\n",
    "    }\n",
    "]"
   ]
  },
  {
   "cell_type": "code",
   "execution_count": 8,
   "metadata": {},
   "outputs": [],
   "source": [
    "from measure import metric\n",
    "\n",
    "results.append(\n",
    "    {\n",
    "        'file': str(file),\n",
    "        'FL': metric.fl(df_local),\n",
    "        'MBL': metric.mbl(df_local),\n",
    "        'LBL': metric.lbl(df_local),\n",
    "        'ABW': metric.abw(df_local),\n",
    "        'OBW': metric.obw(df_local),\n",
    "        'OHW': metric.ohw(df_local),\n",
    "        'BH': metric.bh(df_local),\n",
    "        'IH': metric.ih(df_local),\n",
    "        'BA': metric.ba(df_local),\n",
    "        'T1A': metric.t1a(df_local),\n",
    "        'T5A': metric.t5a(df_local),\n",
    "        'ABG': metric.abg(df_local, mesh_local),\n",
    "        'IG': metric.ig(df_local, mesh_local),\n",
    "    }\n",
    ")"
   ]
  },
  {
   "cell_type": "code",
   "execution_count": 9,
   "metadata": {},
   "outputs": [
    {
     "data": {
      "text/html": [
       "<div>\n",
       "<style scoped>\n",
       "    .dataframe tbody tr th:only-of-type {\n",
       "        vertical-align: middle;\n",
       "    }\n",
       "\n",
       "    .dataframe tbody tr th {\n",
       "        vertical-align: top;\n",
       "    }\n",
       "\n",
       "    .dataframe thead th {\n",
       "        text-align: right;\n",
       "    }\n",
       "</style>\n",
       "<table border=\"1\" class=\"dataframe\">\n",
       "  <thead>\n",
       "    <tr style=\"text-align: right;\">\n",
       "      <th></th>\n",
       "      <th>FL</th>\n",
       "      <th>MBL</th>\n",
       "      <th>LBL</th>\n",
       "      <th>ABW</th>\n",
       "      <th>OBW</th>\n",
       "      <th>OHW</th>\n",
       "      <th>BH</th>\n",
       "      <th>IH</th>\n",
       "      <th>BA</th>\n",
       "      <th>T1A</th>\n",
       "      <th>T5A</th>\n",
       "      <th>ABG</th>\n",
       "      <th>IG</th>\n",
       "    </tr>\n",
       "    <tr>\n",
       "      <th>file</th>\n",
       "      <th></th>\n",
       "      <th></th>\n",
       "      <th></th>\n",
       "      <th></th>\n",
       "      <th></th>\n",
       "      <th></th>\n",
       "      <th></th>\n",
       "      <th></th>\n",
       "      <th></th>\n",
       "      <th></th>\n",
       "      <th></th>\n",
       "      <th></th>\n",
       "      <th></th>\n",
       "    </tr>\n",
       "  </thead>\n",
       "  <tbody>\n",
       "    <tr>\n",
       "      <th>description</th>\n",
       "      <td>foot length (mm)</td>\n",
       "      <td>medial ball length (mm)</td>\n",
       "      <td>lateral ball length (mm)</td>\n",
       "      <td>anatomical ball width (mm)</td>\n",
       "      <td>orthogonal ball width (mm)</td>\n",
       "      <td>orthogonal heel width (mm)</td>\n",
       "      <td>ball heigh (mm)</td>\n",
       "      <td>instep height (mm)</td>\n",
       "      <td>ball angle (°)</td>\n",
       "      <td>toe 1 angle (°)</td>\n",
       "      <td>toe 5 angle (°)</td>\n",
       "      <td>anatomical ball girth (mm)</td>\n",
       "      <td>instep girth (mm)</td>\n",
       "    </tr>\n",
       "    <tr>\n",
       "      <th>data/discontinued/Sub_109_Static_R_025_035.000008.obj</th>\n",
       "      <td>243.25162</td>\n",
       "      <td>185.655646</td>\n",
       "      <td>162.273611</td>\n",
       "      <td>105.204477</td>\n",
       "      <td>103.550101</td>\n",
       "      <td>62.849027</td>\n",
       "      <td>57.564384</td>\n",
       "      <td>69.895626</td>\n",
       "      <td>73.696817</td>\n",
       "      <td>15.494203</td>\n",
       "      <td>11.179462</td>\n",
       "      <td>253.641738</td>\n",
       "      <td>249.545591</td>\n",
       "    </tr>\n",
       "  </tbody>\n",
       "</table>\n",
       "</div>"
      ],
      "text/plain": [
       "                                                                  FL  \\\n",
       "file                                                                   \n",
       "description                                         foot length (mm)   \n",
       "data/discontinued/Sub_109_Static_R_025_035.0000...         243.25162   \n",
       "\n",
       "                                                                        MBL  \\\n",
       "file                                                                          \n",
       "description                                         medial ball length (mm)   \n",
       "data/discontinued/Sub_109_Static_R_025_035.0000...               185.655646   \n",
       "\n",
       "                                                                         LBL  \\\n",
       "file                                                                           \n",
       "description                                         lateral ball length (mm)   \n",
       "data/discontinued/Sub_109_Static_R_025_035.0000...                162.273611   \n",
       "\n",
       "                                                                           ABW  \\\n",
       "file                                                                             \n",
       "description                                         anatomical ball width (mm)   \n",
       "data/discontinued/Sub_109_Static_R_025_035.0000...                  105.204477   \n",
       "\n",
       "                                                                           OBW  \\\n",
       "file                                                                             \n",
       "description                                         orthogonal ball width (mm)   \n",
       "data/discontinued/Sub_109_Static_R_025_035.0000...                  103.550101   \n",
       "\n",
       "                                                                           OHW  \\\n",
       "file                                                                             \n",
       "description                                         orthogonal heel width (mm)   \n",
       "data/discontinued/Sub_109_Static_R_025_035.0000...                   62.849027   \n",
       "\n",
       "                                                                 BH  \\\n",
       "file                                                                  \n",
       "description                                         ball heigh (mm)   \n",
       "data/discontinued/Sub_109_Static_R_025_035.0000...        57.564384   \n",
       "\n",
       "                                                                    IH  \\\n",
       "file                                                                     \n",
       "description                                         instep height (mm)   \n",
       "data/discontinued/Sub_109_Static_R_025_035.0000...           69.895626   \n",
       "\n",
       "                                                                BA  \\\n",
       "file                                                                 \n",
       "description                                         ball angle (°)   \n",
       "data/discontinued/Sub_109_Static_R_025_035.0000...       73.696817   \n",
       "\n",
       "                                                                T1A  \\\n",
       "file                                                                  \n",
       "description                                         toe 1 angle (°)   \n",
       "data/discontinued/Sub_109_Static_R_025_035.0000...        15.494203   \n",
       "\n",
       "                                                                T5A  \\\n",
       "file                                                                  \n",
       "description                                         toe 5 angle (°)   \n",
       "data/discontinued/Sub_109_Static_R_025_035.0000...        11.179462   \n",
       "\n",
       "                                                                           ABG  \\\n",
       "file                                                                             \n",
       "description                                         anatomical ball girth (mm)   \n",
       "data/discontinued/Sub_109_Static_R_025_035.0000...                  253.641738   \n",
       "\n",
       "                                                                   IG  \n",
       "file                                                                   \n",
       "description                                         instep girth (mm)  \n",
       "data/discontinued/Sub_109_Static_R_025_035.0000...         249.545591  "
      ]
     },
     "execution_count": 9,
     "metadata": {},
     "output_type": "execute_result"
    }
   ],
   "source": [
    "df_metric = pd.DataFrame(results).set_index('file')\n",
    "df_metric"
   ]
  },
  {
   "cell_type": "markdown",
   "metadata": {},
   "source": [
    "### Visualization"
   ]
  },
  {
   "cell_type": "code",
   "execution_count": 18,
   "metadata": {},
   "outputs": [
    {
     "data": {
      "application/vnd.jupyter.widget-view+json": {
       "model_id": "67521f3f5660484e8d0f691d35c74cef",
       "version_major": 2,
       "version_minor": 0
      },
      "text/plain": [
       "Widget(value=\"<iframe src='http://localhost:64774/index.html?ui=P_0x7fd5422525b0_22&reconnect=auto' style='wid…"
      ]
     },
     "metadata": {},
     "output_type": "display_data"
    },
    {
     "data": {
      "application/vnd.jupyter.widget-view+json": {
       "model_id": "21fd146b91264f71b67fa77c37e4c1fc",
       "version_major": 2,
       "version_minor": 0
      },
      "text/plain": [
       "Widget(value=\"<iframe src='http://localhost:64774/index.html?ui=P_0x7fd551d17fd0_23&reconnect=auto' style='wid…"
      ]
     },
     "metadata": {},
     "output_type": "display_data"
    },
    {
     "data": {
      "application/vnd.jupyter.widget-view+json": {
       "model_id": "936f288696084c43a76a50a6378e6d2f",
       "version_major": 2,
       "version_minor": 0
      },
      "text/plain": [
       "Widget(value=\"<iframe src='http://localhost:64774/index.html?ui=P_0x7fd5421cf220_24&reconnect=auto' style='wid…"
      ]
     },
     "metadata": {},
     "output_type": "display_data"
    },
    {
     "data": {
      "application/vnd.jupyter.widget-view+json": {
       "model_id": "cb4a24626d16401ab358650cd5f77a2b",
       "version_major": 2,
       "version_minor": 0
      },
      "text/plain": [
       "Widget(value=\"<iframe src='http://localhost:64774/index.html?ui=P_0x7fd511f59670_25&reconnect=auto' style='wid…"
      ]
     },
     "metadata": {},
     "output_type": "display_data"
    },
    {
     "data": {
      "application/vnd.jupyter.widget-view+json": {
       "model_id": "789ecf8eaa7f41f1b95896dc2018b22f",
       "version_major": 2,
       "version_minor": 0
      },
      "text/plain": [
       "Widget(value=\"<iframe src='http://localhost:64774/index.html?ui=P_0x7fd4f0e57700_26&reconnect=auto' style='wid…"
      ]
     },
     "metadata": {},
     "output_type": "display_data"
    }
   ],
   "source": [
    "if is_plot:\n",
    "    settings = {\n",
    "        'FL': ['P1', 'P10', 'x'],\n",
    "        'MBL': ['P4', 'P10', 'x'],\n",
    "        'LBL': ['P5', 'P10', 'x'],\n",
    "        'OBW': ['P4', 'P3', 'y'],\n",
    "        'OHW': ['P9', 'P8', 'y'],\n",
    "    }\n",
    "\n",
    "    for name, [landmark1, landmark2, axis] in settings.items():\n",
    "        scene = pv.Plotter()\n",
    "        scene.add_mesh(mesh_local, opacity=0.1)\n",
    "        visual.plot_dist_along_axis(scene, df_local, landmark1, landmark2, axis, name=name)\n",
    "        scene.show()\n",
    "        scene.screenshot(f'output/visual/{name}.png')"
   ]
  },
  {
   "cell_type": "code",
   "execution_count": 19,
   "metadata": {},
   "outputs": [
    {
     "data": {
      "application/vnd.jupyter.widget-view+json": {
       "model_id": "e4b5b24250b34e7789e3f42b0d113a90",
       "version_major": 2,
       "version_minor": 0
      },
      "text/plain": [
       "Widget(value=\"<iframe src='http://localhost:64774/index.html?ui=P_0x7fd4e05b86d0_27&reconnect=auto' style='wid…"
      ]
     },
     "metadata": {},
     "output_type": "display_data"
    },
    {
     "data": {
      "application/vnd.jupyter.widget-view+json": {
       "model_id": "1996c0e49ad74ab3a746ed47e6ede8b4",
       "version_major": 2,
       "version_minor": 0
      },
      "text/plain": [
       "Widget(value=\"<iframe src='http://localhost:64774/index.html?ui=P_0x7fd4e05b8f10_28&reconnect=auto' style='wid…"
      ]
     },
     "metadata": {},
     "output_type": "display_data"
    }
   ],
   "source": [
    "if is_plot:\n",
    "    settings = {\n",
    "        'BH': 'P6',\n",
    "        'IH': 'P7',\n",
    "    }\n",
    "\n",
    "    for name, landmark in settings.items():\n",
    "        scene = pv.Plotter()\n",
    "        scene.add_mesh(mesh_local, opacity=0.1)\n",
    "        visual.plot_height(scene, df_local, landmark, name=name)\n",
    "        scene.show()\n",
    "        scene.screenshot(f'output/visual/{name}.png')"
   ]
  },
  {
   "cell_type": "code",
   "execution_count": 28,
   "metadata": {},
   "outputs": [
    {
     "data": {
      "application/vnd.jupyter.widget-view+json": {
       "model_id": "0143da3e30684f14998d540d8e350b8a",
       "version_major": 2,
       "version_minor": 0
      },
      "text/plain": [
       "Widget(value=\"<iframe src='http://localhost:64774/index.html?ui=P_0x7fd553d84be0_45&reconnect=auto' style='wid…"
      ]
     },
     "metadata": {},
     "output_type": "display_data"
    },
    {
     "data": {
      "application/vnd.jupyter.widget-view+json": {
       "model_id": "134c751260054a16b72087ee2a25e56b",
       "version_major": 2,
       "version_minor": 0
      },
      "text/plain": [
       "Widget(value=\"<iframe src='http://localhost:64774/index.html?ui=P_0x7fd4f0fb3310_46&reconnect=auto' style='wid…"
      ]
     },
     "metadata": {},
     "output_type": "display_data"
    },
    {
     "data": {
      "application/vnd.jupyter.widget-view+json": {
       "model_id": "3414fb1d226b4d38ab4520dc89052567",
       "version_major": 2,
       "version_minor": 0
      },
      "text/plain": [
       "Widget(value=\"<iframe src='http://localhost:64774/index.html?ui=P_0x7fd5549d4a30_47&reconnect=auto' style='wid…"
      ]
     },
     "metadata": {},
     "output_type": "display_data"
    }
   ],
   "source": [
    "if is_plot:\n",
    "    settings = {\n",
    "        'BA': ['P4', 'P5', 'P8'],\n",
    "        'T1A': ['P4', 'P2', 'P8'],\n",
    "        'T5A': ['P5', 'P3', 'P9'],\n",
    "    }\n",
    "\n",
    "    for name, [landmark_origin, landmark1, landmark2] in settings.items():\n",
    "        scene = pv.Plotter()\n",
    "        scene.add_mesh(mesh_local, opacity=0.1)\n",
    "        visual.plot_angle(scene, df_local, landmark_origin, landmark1, landmark2, actue_angle=True, name=name)\n",
    "        scene.show()\n",
    "        scene.screenshot(f'output/visual/{name}.png')"
   ]
  },
  {
   "cell_type": "code",
   "execution_count": 29,
   "metadata": {},
   "outputs": [
    {
     "data": {
      "application/vnd.jupyter.widget-view+json": {
       "model_id": "e8acd76a1d3c4abfb97b3e88a4fbd0d5",
       "version_major": 2,
       "version_minor": 0
      },
      "text/plain": [
       "Widget(value=\"<iframe src='http://localhost:64774/index.html?ui=P_0x7fd4e185a220_48&reconnect=auto' style='wid…"
      ]
     },
     "metadata": {},
     "output_type": "display_data"
    }
   ],
   "source": [
    "if is_plot:\n",
    "    settings = {\n",
    "        'ABW': ['P4', 'P5'],\n",
    "    }\n",
    "\n",
    "    for name, [landmark1, landmark2] in settings.items():\n",
    "        scene = pv.Plotter()\n",
    "        scene.add_mesh(mesh_local, opacity=0.1)\n",
    "        visual.plot_dist(scene, df_local, landmark1, landmark2, name=name)\n",
    "        scene.show()\n",
    "        scene.screenshot(f'output/visual/{name}.png')"
   ]
  },
  {
   "cell_type": "code",
   "execution_count": 27,
   "metadata": {},
   "outputs": [
    {
     "data": {
      "application/vnd.jupyter.widget-view+json": {
       "model_id": "77bc77babeab464bb9004551e5a3d8b4",
       "version_major": 2,
       "version_minor": 0
      },
      "text/plain": [
       "Widget(value=\"<iframe src='http://localhost:64774/index.html?ui=P_0x7fd4e18dd7c0_44&reconnect=auto' style='wid…"
      ]
     },
     "metadata": {},
     "output_type": "display_data"
    }
   ],
   "source": [
    "if is_plot:\n",
    "    scene = pv.Plotter()\n",
    "    scene.add_mesh(mesh_local, opacity=0.1)\n",
    "    visual.plot_circ_pass_2landmarks(scene, df_local, mesh_local, ['P4', 'P5'], tangent_axis='z', name='ABG')\n",
    "    scene.show()\n",
    "    scene.screenshot(f'output/visual/ABG.png')"
   ]
  },
  {
   "cell_type": "code",
   "execution_count": 26,
   "metadata": {},
   "outputs": [
    {
     "data": {
      "application/vnd.jupyter.widget-view+json": {
       "model_id": "d5208b56126142dd8f85293776c23dbc",
       "version_major": 2,
       "version_minor": 0
      },
      "text/plain": [
       "Widget(value=\"<iframe src='http://localhost:64774/index.html?ui=P_0x7fd4e18ddd90_43&reconnect=auto' style='wid…"
      ]
     },
     "metadata": {},
     "output_type": "display_data"
    }
   ],
   "source": [
    "if is_plot:\n",
    "    scene = pv.Plotter()\n",
    "    scene.add_mesh(mesh_local, opacity=0.1)\n",
    "    visual.plot_circ_pass_landmark(scene, df_local, mesh_local, 'P6', 'x', name='IG')\n",
    "    scene.show()\n",
    "    scene.screenshot(f'output/visual/IG.png')"
   ]
  },
  {
   "cell_type": "code",
   "execution_count": null,
   "metadata": {},
   "outputs": [],
   "source": []
  }
 ],
 "metadata": {
  "kernelspec": {
   "display_name": "mesh4d",
   "language": "python",
   "name": "python3"
  },
  "language_info": {
   "codemirror_mode": {
    "name": "ipython",
    "version": 3
   },
   "file_extension": ".py",
   "mimetype": "text/x-python",
   "name": "python",
   "nbconvert_exporter": "python",
   "pygments_lexer": "ipython3",
   "version": "3.9.16"
  }
 },
 "nbformat": 4,
 "nbformat_minor": 2
}
