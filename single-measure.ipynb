{
 "cells": [
  {
   "cell_type": "code",
   "execution_count": 13,
   "metadata": {},
   "outputs": [],
   "source": [
    "from pathlib import Path\n",
    "\n",
    "file = Path('data/stl/020_l.stl')\n",
    "is_plot = True"
   ]
  },
  {
   "cell_type": "markdown",
   "metadata": {},
   "source": [
    "## Load landmarks labelling"
   ]
  },
  {
   "cell_type": "code",
   "execution_count": 16,
   "metadata": {},
   "outputs": [
    {
     "data": {
      "text/html": [
       "<div>\n",
       "<style scoped>\n",
       "    .dataframe tbody tr th:only-of-type {\n",
       "        vertical-align: middle;\n",
       "    }\n",
       "\n",
       "    .dataframe tbody tr th {\n",
       "        vertical-align: top;\n",
       "    }\n",
       "\n",
       "    .dataframe thead th {\n",
       "        text-align: right;\n",
       "    }\n",
       "</style>\n",
       "<table border=\"1\" class=\"dataframe\">\n",
       "  <thead>\n",
       "    <tr style=\"text-align: right;\">\n",
       "      <th>coord</th>\n",
       "      <th>x</th>\n",
       "      <th>y</th>\n",
       "      <th>z</th>\n",
       "    </tr>\n",
       "    <tr>\n",
       "      <th>landmark</th>\n",
       "      <th></th>\n",
       "      <th></th>\n",
       "      <th></th>\n",
       "    </tr>\n",
       "  </thead>\n",
       "  <tbody>\n",
       "    <tr>\n",
       "      <th>P1</th>\n",
       "      <td>69.653463</td>\n",
       "      <td>54.673492</td>\n",
       "      <td>-7.735388</td>\n",
       "    </tr>\n",
       "    <tr>\n",
       "      <th>P10</th>\n",
       "      <td>-168.788818</td>\n",
       "      <td>79.678271</td>\n",
       "      <td>-11.032859</td>\n",
       "    </tr>\n",
       "    <tr>\n",
       "      <th>P11</th>\n",
       "      <td>-122.558701</td>\n",
       "      <td>102.675117</td>\n",
       "      <td>-60.435042</td>\n",
       "    </tr>\n",
       "    <tr>\n",
       "      <th>P12</th>\n",
       "      <td>-123.716329</td>\n",
       "      <td>31.840291</td>\n",
       "      <td>-67.462064</td>\n",
       "    </tr>\n",
       "    <tr>\n",
       "      <th>P2</th>\n",
       "      <td>59.080175</td>\n",
       "      <td>94.482407</td>\n",
       "      <td>-9.113344</td>\n",
       "    </tr>\n",
       "    <tr>\n",
       "      <th>P3</th>\n",
       "      <td>18.191420</td>\n",
       "      <td>5.494654</td>\n",
       "      <td>-10.807760</td>\n",
       "    </tr>\n",
       "    <tr>\n",
       "      <th>P4</th>\n",
       "      <td>19.126142</td>\n",
       "      <td>99.146723</td>\n",
       "      <td>-18.009934</td>\n",
       "    </tr>\n",
       "    <tr>\n",
       "      <th>P5</th>\n",
       "      <td>-15.352643</td>\n",
       "      <td>2.470859</td>\n",
       "      <td>-11.472470</td>\n",
       "    </tr>\n",
       "    <tr>\n",
       "      <th>P6</th>\n",
       "      <td>-34.886927</td>\n",
       "      <td>64.674735</td>\n",
       "      <td>-62.592272</td>\n",
       "    </tr>\n",
       "    <tr>\n",
       "      <th>P7</th>\n",
       "      <td>-53.684757</td>\n",
       "      <td>68.070063</td>\n",
       "      <td>-71.413231</td>\n",
       "    </tr>\n",
       "    <tr>\n",
       "      <th>P8</th>\n",
       "      <td>-130.517046</td>\n",
       "      <td>102.431932</td>\n",
       "      <td>-6.028035</td>\n",
       "    </tr>\n",
       "    <tr>\n",
       "      <th>P9</th>\n",
       "      <td>-144.132384</td>\n",
       "      <td>39.577845</td>\n",
       "      <td>-8.140953</td>\n",
       "    </tr>\n",
       "  </tbody>\n",
       "</table>\n",
       "</div>"
      ],
      "text/plain": [
       "coord              x           y          z\n",
       "landmark                                   \n",
       "P1         69.653463   54.673492  -7.735388\n",
       "P10      -168.788818   79.678271 -11.032859\n",
       "P11      -122.558701  102.675117 -60.435042\n",
       "P12      -123.716329   31.840291 -67.462064\n",
       "P2         59.080175   94.482407  -9.113344\n",
       "P3         18.191420    5.494654 -10.807760\n",
       "P4         19.126142   99.146723 -18.009934\n",
       "P5        -15.352643    2.470859 -11.472470\n",
       "P6        -34.886927   64.674735 -62.592272\n",
       "P7        -53.684757   68.070063 -71.413231\n",
       "P8       -130.517046  102.431932  -6.028035\n",
       "P9       -144.132384   39.577845  -8.140953"
      ]
     },
     "execution_count": 16,
     "metadata": {},
     "output_type": "execute_result"
    }
   ],
   "source": [
    "import pandas as pd\n",
    "\n",
    "df = pd.read_pickle(file.with_suffix('.pkl'))\n",
    "df"
   ]
  },
  {
   "cell_type": "markdown",
   "metadata": {},
   "source": [
    "## Local frame"
   ]
  },
  {
   "cell_type": "code",
   "execution_count": 18,
   "metadata": {},
   "outputs": [
    {
     "data": {
      "application/vnd.jupyter.widget-view+json": {
       "model_id": "3a148d5c91bf442bb00ec963499e50fc",
       "version_major": 2,
       "version_minor": 0
      },
      "text/plain": [
       "Widget(value=\"<iframe src='http://localhost:60715/index.html?ui=P_0x7f86805feb50_0&reconnect=auto' style='widt…"
      ]
     },
     "metadata": {},
     "output_type": "display_data"
    }
   ],
   "source": [
    "import pyvista as pv\n",
    "from measure import frame\n",
    "from mesh4d.analyse import crave\n",
    "\n",
    "mesh = crave.fix_pvmesh_disconnect(pv.read(file))\n",
    "\n",
    "# foot bottom cropped for estimating foot local frame\n",
    "if is_plot:\n",
    "    frame.plantar_clip(mesh, df).plot()"
   ]
  },
  {
   "cell_type": "code",
   "execution_count": 19,
   "metadata": {},
   "outputs": [
    {
     "data": {
      "application/vnd.jupyter.widget-view+json": {
       "model_id": "f5cb5510430f403689cce96f23962919",
       "version_major": 2,
       "version_minor": 0
      },
      "text/plain": [
       "Widget(value=\"<iframe src='http://localhost:60715/index.html?ui=P_0x7f8682355fa0_1&reconnect=auto' style='widt…"
      ]
     },
     "metadata": {},
     "output_type": "display_data"
    }
   ],
   "source": [
    "from measure import visual\n",
    "\n",
    "axes_frame, origin = frame.estimate_foot_frame(mesh, df)\n",
    "\n",
    "if is_plot:\n",
    "    visual.plot_axes(origin, axes_frame, mesh)"
   ]
  },
  {
   "cell_type": "code",
   "execution_count": 20,
   "metadata": {},
   "outputs": [
    {
     "data": {
      "application/vnd.jupyter.widget-view+json": {
       "model_id": "d23687a2ee1d40ada3e385aa2c01a766",
       "version_major": 2,
       "version_minor": 0
      },
      "text/plain": [
       "Widget(value=\"<iframe src='http://localhost:60715/index.html?ui=P_0x7f8681533c10_2&reconnect=auto' style='widt…"
      ]
     },
     "metadata": {},
     "output_type": "display_data"
    }
   ],
   "source": [
    "mesh_clip = frame.foot_clip(mesh, df)\n",
    "mesh_local = frame.foot2local(mesh_clip, axes_frame, origin)\n",
    "\n",
    "if is_plot:\n",
    "    mesh_local.plot()"
   ]
  },
  {
   "cell_type": "code",
   "execution_count": 21,
   "metadata": {},
   "outputs": [
    {
     "data": {
      "text/html": [
       "<div>\n",
       "<style scoped>\n",
       "    .dataframe tbody tr th:only-of-type {\n",
       "        vertical-align: middle;\n",
       "    }\n",
       "\n",
       "    .dataframe tbody tr th {\n",
       "        vertical-align: top;\n",
       "    }\n",
       "\n",
       "    .dataframe thead th {\n",
       "        text-align: right;\n",
       "    }\n",
       "</style>\n",
       "<table border=\"1\" class=\"dataframe\">\n",
       "  <thead>\n",
       "    <tr style=\"text-align: right;\">\n",
       "      <th>coord</th>\n",
       "      <th>x</th>\n",
       "      <th>y</th>\n",
       "      <th>z</th>\n",
       "    </tr>\n",
       "    <tr>\n",
       "      <th>landmark</th>\n",
       "      <th></th>\n",
       "      <th></th>\n",
       "      <th></th>\n",
       "    </tr>\n",
       "  </thead>\n",
       "  <tbody>\n",
       "    <tr>\n",
       "      <th>P1</th>\n",
       "      <td>95.204932</td>\n",
       "      <td>-0.753839</td>\n",
       "      <td>6.982687</td>\n",
       "    </tr>\n",
       "    <tr>\n",
       "      <th>P10</th>\n",
       "      <td>-144.178050</td>\n",
       "      <td>-12.993784</td>\n",
       "      <td>13.050465</td>\n",
       "    </tr>\n",
       "    <tr>\n",
       "      <th>P11</th>\n",
       "      <td>-98.644717</td>\n",
       "      <td>-39.191606</td>\n",
       "      <td>61.496780</td>\n",
       "    </tr>\n",
       "    <tr>\n",
       "      <th>P12</th>\n",
       "      <td>-95.904574</td>\n",
       "      <td>31.487068</td>\n",
       "      <td>69.578191</td>\n",
       "    </tr>\n",
       "    <tr>\n",
       "      <th>P2</th>\n",
       "      <td>82.524019</td>\n",
       "      <td>-39.955482</td>\n",
       "      <td>7.914767</td>\n",
       "    </tr>\n",
       "    <tr>\n",
       "      <th>P3</th>\n",
       "      <td>46.503865</td>\n",
       "      <td>51.058825</td>\n",
       "      <td>11.454183</td>\n",
       "    </tr>\n",
       "    <tr>\n",
       "      <th>P4</th>\n",
       "      <td>42.489928</td>\n",
       "      <td>-42.608438</td>\n",
       "      <td>17.266966</td>\n",
       "    </tr>\n",
       "    <tr>\n",
       "      <th>P5</th>\n",
       "      <td>13.181717</td>\n",
       "      <td>55.865117</td>\n",
       "      <td>12.604671</td>\n",
       "    </tr>\n",
       "    <tr>\n",
       "      <th>P6</th>\n",
       "      <td>-9.036342</td>\n",
       "      <td>-5.981267</td>\n",
       "      <td>63.057902</td>\n",
       "    </tr>\n",
       "    <tr>\n",
       "      <th>P7</th>\n",
       "      <td>-27.879151</td>\n",
       "      <td>-8.499677</td>\n",
       "      <td>72.074679</td>\n",
       "    </tr>\n",
       "    <tr>\n",
       "      <th>P8</th>\n",
       "      <td>-107.250000</td>\n",
       "      <td>-37.685866</td>\n",
       "      <td>7.208664</td>\n",
       "    </tr>\n",
       "    <tr>\n",
       "      <th>P9</th>\n",
       "      <td>-117.438471</td>\n",
       "      <td>25.767564</td>\n",
       "      <td>10.423656</td>\n",
       "    </tr>\n",
       "  </tbody>\n",
       "</table>\n",
       "</div>"
      ],
      "text/plain": [
       "coord              x          y          z\n",
       "landmark                                  \n",
       "P1         95.204932  -0.753839   6.982687\n",
       "P10      -144.178050 -12.993784  13.050465\n",
       "P11       -98.644717 -39.191606  61.496780\n",
       "P12       -95.904574  31.487068  69.578191\n",
       "P2         82.524019 -39.955482   7.914767\n",
       "P3         46.503865  51.058825  11.454183\n",
       "P4         42.489928 -42.608438  17.266966\n",
       "P5         13.181717  55.865117  12.604671\n",
       "P6         -9.036342  -5.981267  63.057902\n",
       "P7        -27.879151  -8.499677  72.074679\n",
       "P8       -107.250000 -37.685866   7.208664\n",
       "P9       -117.438471  25.767564  10.423656"
      ]
     },
     "execution_count": 21,
     "metadata": {},
     "output_type": "execute_result"
    }
   ],
   "source": [
    "df_local = frame.df2local(df, axes_frame, origin)\n",
    "df_local"
   ]
  },
  {
   "cell_type": "markdown",
   "metadata": {},
   "source": [
    "## Metrics"
   ]
  },
  {
   "cell_type": "code",
   "execution_count": 33,
   "metadata": {},
   "outputs": [],
   "source": [
    "results = [\n",
    "    {\n",
    "        'file': 'description',\n",
    "        'FL': 'foot length (mm)',\n",
    "        'MBL': 'medial ball length (mm)',\n",
    "        'LBL': 'lateral ball length (mm)',\n",
    "        'ABW': 'anatomical ball width (mm)',\n",
    "        'OBW': 'orthogonal ball width (mm)',\n",
    "        'OHW': 'orthogonal heel width (mm)',\n",
    "        'BH': 'ball heigh (mm)',\n",
    "        'IH': 'instep height (mm)',\n",
    "        'BA': 'ball angle (°)',\n",
    "        'T1A': 'toe 1 angle (°)',\n",
    "        'T5A': 'toe 5 angle (°)',\n",
    "        'ABG': 'anatomical ball girth (mm)',\n",
    "        'IG': 'instep girth (mm)',\n",
    "    }\n",
    "]"
   ]
  },
  {
   "cell_type": "code",
   "execution_count": 34,
   "metadata": {},
   "outputs": [],
   "source": [
    "from measure import metric\n",
    "\n",
    "results.append(\n",
    "    {\n",
    "        'file': str(file),\n",
    "        'FL': metric.fl(df_local),\n",
    "        'MBL': metric.mbl(df_local),\n",
    "        'LBL': metric.lbl(df_local),\n",
    "        'ABW': metric.abw(df_local),\n",
    "        'OBW': metric.obw(df_local),\n",
    "        'OHW': metric.ohw(df_local),\n",
    "        'BH': metric.bh(df_local),\n",
    "        'IH': metric.ih(df_local),\n",
    "        'BA': metric.ba(df_local),\n",
    "        'T1A': metric.t1a(df_local),\n",
    "        'T5A': metric.t5a(df_local),\n",
    "        'ABG': metric.abg(df_local, mesh_local),\n",
    "        'IG': metric.ig(df_local, mesh_local),\n",
    "    }\n",
    ")"
   ]
  },
  {
   "cell_type": "code",
   "execution_count": 35,
   "metadata": {},
   "outputs": [
    {
     "data": {
      "text/html": [
       "<div>\n",
       "<style scoped>\n",
       "    .dataframe tbody tr th:only-of-type {\n",
       "        vertical-align: middle;\n",
       "    }\n",
       "\n",
       "    .dataframe tbody tr th {\n",
       "        vertical-align: top;\n",
       "    }\n",
       "\n",
       "    .dataframe thead th {\n",
       "        text-align: right;\n",
       "    }\n",
       "</style>\n",
       "<table border=\"1\" class=\"dataframe\">\n",
       "  <thead>\n",
       "    <tr style=\"text-align: right;\">\n",
       "      <th></th>\n",
       "      <th>FL</th>\n",
       "      <th>MBL</th>\n",
       "      <th>LBL</th>\n",
       "      <th>ABW</th>\n",
       "      <th>OBW</th>\n",
       "      <th>OHW</th>\n",
       "      <th>BH</th>\n",
       "      <th>IH</th>\n",
       "      <th>BA</th>\n",
       "      <th>T1A</th>\n",
       "      <th>T5A</th>\n",
       "      <th>ABG</th>\n",
       "      <th>IG</th>\n",
       "    </tr>\n",
       "    <tr>\n",
       "      <th>file</th>\n",
       "      <th></th>\n",
       "      <th></th>\n",
       "      <th></th>\n",
       "      <th></th>\n",
       "      <th></th>\n",
       "      <th></th>\n",
       "      <th></th>\n",
       "      <th></th>\n",
       "      <th></th>\n",
       "      <th></th>\n",
       "      <th></th>\n",
       "      <th></th>\n",
       "      <th></th>\n",
       "    </tr>\n",
       "  </thead>\n",
       "  <tbody>\n",
       "    <tr>\n",
       "      <th>description</th>\n",
       "      <td>foot length (mm)</td>\n",
       "      <td>medial ball length (mm)</td>\n",
       "      <td>lateral ball length (mm)</td>\n",
       "      <td>anatomical ball width (mm)</td>\n",
       "      <td>orthogonal ball width (mm)</td>\n",
       "      <td>orthogonal heel width (mm)</td>\n",
       "      <td>ball heigh (mm)</td>\n",
       "      <td>instep height (mm)</td>\n",
       "      <td>ball angle (°)</td>\n",
       "      <td>toe 1 angle (°)</td>\n",
       "      <td>toe 5 angle (°)</td>\n",
       "      <td>anatomical ball girth (mm)</td>\n",
       "      <td>instep girth (mm)</td>\n",
       "    </tr>\n",
       "    <tr>\n",
       "      <th>data/stl/020_l.stl</th>\n",
       "      <td>239.382982</td>\n",
       "      <td>186.667978</td>\n",
       "      <td>157.359766</td>\n",
       "      <td>102.848186</td>\n",
       "      <td>93.667263</td>\n",
       "      <td>63.45343</td>\n",
       "      <td>63.057902</td>\n",
       "      <td>72.074679</td>\n",
       "      <td>71.421904</td>\n",
       "      <td>17.873216</td>\n",
       "      <td>21.37628</td>\n",
       "      <td>250.609346</td>\n",
       "      <td>254.362386</td>\n",
       "    </tr>\n",
       "  </tbody>\n",
       "</table>\n",
       "</div>"
      ],
      "text/plain": [
       "                                  FL                      MBL  \\\n",
       "file                                                            \n",
       "description         foot length (mm)  medial ball length (mm)   \n",
       "data/stl/020_l.stl        239.382982               186.667978   \n",
       "\n",
       "                                         LBL                         ABW  \\\n",
       "file                                                                       \n",
       "description         lateral ball length (mm)  anatomical ball width (mm)   \n",
       "data/stl/020_l.stl                157.359766                  102.848186   \n",
       "\n",
       "                                           OBW                         OHW  \\\n",
       "file                                                                         \n",
       "description         orthogonal ball width (mm)  orthogonal heel width (mm)   \n",
       "data/stl/020_l.stl                   93.667263                    63.45343   \n",
       "\n",
       "                                 BH                  IH              BA  \\\n",
       "file                                                                      \n",
       "description         ball heigh (mm)  instep height (mm)  ball angle (°)   \n",
       "data/stl/020_l.stl        63.057902           72.074679       71.421904   \n",
       "\n",
       "                                T1A              T5A  \\\n",
       "file                                                   \n",
       "description         toe 1 angle (°)  toe 5 angle (°)   \n",
       "data/stl/020_l.stl        17.873216         21.37628   \n",
       "\n",
       "                                           ABG                 IG  \n",
       "file                                                               \n",
       "description         anatomical ball girth (mm)  instep girth (mm)  \n",
       "data/stl/020_l.stl                  250.609346         254.362386  "
      ]
     },
     "execution_count": 35,
     "metadata": {},
     "output_type": "execute_result"
    }
   ],
   "source": [
    "df_metric = pd.DataFrame(results).set_index('file')\n",
    "df_metric"
   ]
  },
  {
   "cell_type": "markdown",
   "metadata": {},
   "source": [
    "### Visualization"
   ]
  },
  {
   "cell_type": "code",
   "execution_count": 38,
   "metadata": {},
   "outputs": [
    {
     "data": {
      "application/vnd.jupyter.widget-view+json": {
       "model_id": "ce3c7d831c1d47b7b1804d35de78cf7e",
       "version_major": 2,
       "version_minor": 0
      },
      "text/plain": [
       "Widget(value=\"<iframe src='http://localhost:60715/index.html?ui=P_0x7f867183f3d0_3&reconnect=auto' style='widt…"
      ]
     },
     "metadata": {},
     "output_type": "display_data"
    },
    {
     "data": {
      "application/vnd.jupyter.widget-view+json": {
       "model_id": "1c57ff28acf44f4495f89f502bc8363e",
       "version_major": 2,
       "version_minor": 0
      },
      "text/plain": [
       "Widget(value=\"<iframe src='http://localhost:60715/index.html?ui=P_0x7f8694f57a90_4&reconnect=auto' style='widt…"
      ]
     },
     "metadata": {},
     "output_type": "display_data"
    },
    {
     "data": {
      "application/vnd.jupyter.widget-view+json": {
       "model_id": "09473452d4884b34b1d04bff176b2fe9",
       "version_major": 2,
       "version_minor": 0
      },
      "text/plain": [
       "Widget(value=\"<iframe src='http://localhost:60715/index.html?ui=P_0x7f86814e1fd0_5&reconnect=auto' style='widt…"
      ]
     },
     "metadata": {},
     "output_type": "display_data"
    },
    {
     "data": {
      "application/vnd.jupyter.widget-view+json": {
       "model_id": "12a0c0eb99a6485e9947753eb3ba98f1",
       "version_major": 2,
       "version_minor": 0
      },
      "text/plain": [
       "Widget(value=\"<iframe src='http://localhost:60715/index.html?ui=P_0x7f8694f57b80_6&reconnect=auto' style='widt…"
      ]
     },
     "metadata": {},
     "output_type": "display_data"
    },
    {
     "data": {
      "application/vnd.jupyter.widget-view+json": {
       "model_id": "d6c7c219c179436090268b585d39797e",
       "version_major": 2,
       "version_minor": 0
      },
      "text/plain": [
       "Widget(value=\"<iframe src='http://localhost:60715/index.html?ui=P_0x7f8671827c70_7&reconnect=auto' style='widt…"
      ]
     },
     "metadata": {},
     "output_type": "display_data"
    }
   ],
   "source": [
    "if is_plot:\n",
    "    settings = {\n",
    "        'FL': ['P1', 'P10', 'x'],\n",
    "        'MBL': ['P4', 'P10', 'x'],\n",
    "        'LBL': ['P5', 'P10', 'x'],\n",
    "        'OBW': ['P4', 'P3', 'y'],\n",
    "        'OHW': ['P9', 'P8', 'y'],\n",
    "    }\n",
    "\n",
    "    for name, [landmark1, landmark2, axis] in settings.items():\n",
    "        scene = pv.Plotter()\n",
    "        scene.add_mesh(mesh_local, opacity=0.1)\n",
    "        visual.plot_dist_along_axis(scene, df_local, landmark1, landmark2, axis, name=name)\n",
    "        scene.show()"
   ]
  },
  {
   "cell_type": "code",
   "execution_count": 39,
   "metadata": {},
   "outputs": [
    {
     "data": {
      "application/vnd.jupyter.widget-view+json": {
       "model_id": "a87ac0dd9c7a45deb12dcec566913c5b",
       "version_major": 2,
       "version_minor": 0
      },
      "text/plain": [
       "Widget(value=\"<iframe src='http://localhost:60715/index.html?ui=P_0x7f8682ab7f40_8&reconnect=auto' style='widt…"
      ]
     },
     "metadata": {},
     "output_type": "display_data"
    },
    {
     "data": {
      "application/vnd.jupyter.widget-view+json": {
       "model_id": "15c5171e86da461a9ee5164dbf36f505",
       "version_major": 2,
       "version_minor": 0
      },
      "text/plain": [
       "Widget(value=\"<iframe src='http://localhost:60715/index.html?ui=P_0x7f86934cc850_9&reconnect=auto' style='widt…"
      ]
     },
     "metadata": {},
     "output_type": "display_data"
    }
   ],
   "source": [
    "if is_plot:\n",
    "    settings = {\n",
    "        'BH': 'P6',\n",
    "        'IH': 'P7',\n",
    "    }\n",
    "\n",
    "    for name, landmark in settings.items():\n",
    "        scene = pv.Plotter()\n",
    "        scene.add_mesh(mesh_local, opacity=0.1)\n",
    "        visual.plot_height(scene, df_local, landmark, name=name)\n",
    "        scene.show()"
   ]
  },
  {
   "cell_type": "code",
   "execution_count": 40,
   "metadata": {},
   "outputs": [
    {
     "data": {
      "application/vnd.jupyter.widget-view+json": {
       "model_id": "c302f169c53a4c69be7482aa0f932eaf",
       "version_major": 2,
       "version_minor": 0
      },
      "text/plain": [
       "Widget(value=\"<iframe src='http://localhost:60715/index.html?ui=P_0x7f862078dcd0_10&reconnect=auto' style='wid…"
      ]
     },
     "metadata": {},
     "output_type": "display_data"
    },
    {
     "data": {
      "application/vnd.jupyter.widget-view+json": {
       "model_id": "6b783a3037724dfd87802ff7c0f34f7e",
       "version_major": 2,
       "version_minor": 0
      },
      "text/plain": [
       "Widget(value=\"<iframe src='http://localhost:60715/index.html?ui=P_0x7f86a282ce50_11&reconnect=auto' style='wid…"
      ]
     },
     "metadata": {},
     "output_type": "display_data"
    },
    {
     "data": {
      "application/vnd.jupyter.widget-view+json": {
       "model_id": "530c6b7df8464f8fa1f9d51d5119b48c",
       "version_major": 2,
       "version_minor": 0
      },
      "text/plain": [
       "Widget(value=\"<iframe src='http://localhost:60715/index.html?ui=P_0x7f86717f53a0_12&reconnect=auto' style='wid…"
      ]
     },
     "metadata": {},
     "output_type": "display_data"
    }
   ],
   "source": [
    "if is_plot:\n",
    "    settings = {\n",
    "        'BA': ['P4', 'P5', 'P8'],\n",
    "        'T1A': ['P4', 'P2', 'P8'],\n",
    "        'T5A': ['P5', 'P3', 'P9'],\n",
    "    }\n",
    "\n",
    "    for name, [landmark_origin, landmark1, landmark2] in settings.items():\n",
    "        scene = pv.Plotter()\n",
    "        scene.add_mesh(mesh_local, opacity=0.1)\n",
    "        visual.plot_angle(scene, df_local, landmark_origin, landmark1, landmark2, actue_angle=True, name=name)\n",
    "        scene.show()"
   ]
  },
  {
   "cell_type": "code",
   "execution_count": 41,
   "metadata": {},
   "outputs": [
    {
     "data": {
      "application/vnd.jupyter.widget-view+json": {
       "model_id": "5eea146b72f7454590df685a23bc6172",
       "version_major": 2,
       "version_minor": 0
      },
      "text/plain": [
       "Widget(value=\"<iframe src='http://localhost:60715/index.html?ui=P_0x7f86207bd4c0_13&reconnect=auto' style='wid…"
      ]
     },
     "metadata": {},
     "output_type": "display_data"
    }
   ],
   "source": [
    "if is_plot:\n",
    "    scene = pv.Plotter()\n",
    "    scene.add_mesh(mesh_local, opacity=0.1)\n",
    "    visual.plot_circ_pass_2landmarks(scene, df_local, mesh_local, ['P4', 'P5'], tangent_axis='z', name='ABG')\n",
    "    scene.show()"
   ]
  },
  {
   "cell_type": "code",
   "execution_count": 42,
   "metadata": {},
   "outputs": [
    {
     "data": {
      "application/vnd.jupyter.widget-view+json": {
       "model_id": "33ce0a4901b74c17bef0dc125c199911",
       "version_major": 2,
       "version_minor": 0
      },
      "text/plain": [
       "Widget(value=\"<iframe src='http://localhost:60715/index.html?ui=P_0x7f86207bd040_14&reconnect=auto' style='wid…"
      ]
     },
     "metadata": {},
     "output_type": "display_data"
    }
   ],
   "source": [
    "if is_plot:\n",
    "    scene = pv.Plotter()\n",
    "    scene.add_mesh(mesh_local, opacity=0.1)\n",
    "    visual.plot_circ_pass_landmark(scene, df_local, mesh_local, 'P6', 'x', name='IG')\n",
    "    scene.show()"
   ]
  },
  {
   "cell_type": "code",
   "execution_count": null,
   "metadata": {},
   "outputs": [],
   "source": []
  }
 ],
 "metadata": {
  "kernelspec": {
   "display_name": "mesh4d",
   "language": "python",
   "name": "python3"
  },
  "language_info": {
   "codemirror_mode": {
    "name": "ipython",
    "version": 3
   },
   "file_extension": ".py",
   "mimetype": "text/x-python",
   "name": "python",
   "nbconvert_exporter": "python",
   "pygments_lexer": "ipython3",
   "version": "3.9.16"
  }
 },
 "nbformat": 4,
 "nbformat_minor": 2
}
