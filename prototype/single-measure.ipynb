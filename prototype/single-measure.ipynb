{
 "cells": [
  {
   "cell_type": "code",
   "execution_count": 1,
   "metadata": {},
   "outputs": [],
   "source": [
    "import sys\n",
    "sys.path.append(\"..\")"
   ]
  },
  {
   "cell_type": "code",
   "execution_count": 2,
   "metadata": {},
   "outputs": [],
   "source": [
    "file = '/Users/knpob/Territory/Kolmo/code/foot-measure/data/stl/15032021_001_l 1.stl'\n",
    "label_path = '/Users/knpob/Territory/Kolmo/code/foot-measure/data/stl/15032021_001_l 1.pkl'\n",
    "is_plot = True"
   ]
  },
  {
   "cell_type": "markdown",
   "metadata": {},
   "source": [
    "## Load landmarks labelling"
   ]
  },
  {
   "cell_type": "code",
   "execution_count": 3,
   "metadata": {},
   "outputs": [
    {
     "data": {
      "text/html": [
       "<div>\n",
       "<style scoped>\n",
       "    .dataframe tbody tr th:only-of-type {\n",
       "        vertical-align: middle;\n",
       "    }\n",
       "\n",
       "    .dataframe tbody tr th {\n",
       "        vertical-align: top;\n",
       "    }\n",
       "\n",
       "    .dataframe thead th {\n",
       "        text-align: right;\n",
       "    }\n",
       "</style>\n",
       "<table border=\"1\" class=\"dataframe\">\n",
       "  <thead>\n",
       "    <tr style=\"text-align: right;\">\n",
       "      <th></th>\n",
       "      <th>coord</th>\n",
       "      <th>x</th>\n",
       "      <th>y</th>\n",
       "      <th>z</th>\n",
       "    </tr>\n",
       "    <tr>\n",
       "      <th>file</th>\n",
       "      <th>landmark</th>\n",
       "      <th></th>\n",
       "      <th></th>\n",
       "      <th></th>\n",
       "    </tr>\n",
       "  </thead>\n",
       "  <tbody>\n",
       "    <tr>\n",
       "      <th rowspan=\"12\" valign=\"top\">/Users/knpob/Territory/Kolmo/code/foot-measure/data/stl/15032021_001_l 1.stl</th>\n",
       "      <th>P1</th>\n",
       "      <td>56.321947</td>\n",
       "      <td>68.714972</td>\n",
       "      <td>-6.487760</td>\n",
       "    </tr>\n",
       "    <tr>\n",
       "      <th>P10</th>\n",
       "      <td>-182.886558</td>\n",
       "      <td>62.749513</td>\n",
       "      <td>-17.147384</td>\n",
       "    </tr>\n",
       "    <tr>\n",
       "      <th>P11</th>\n",
       "      <td>-123.357072</td>\n",
       "      <td>97.606296</td>\n",
       "      <td>-59.674913</td>\n",
       "    </tr>\n",
       "    <tr>\n",
       "      <th>P12</th>\n",
       "      <td>-125.791490</td>\n",
       "      <td>28.127211</td>\n",
       "      <td>-61.804787</td>\n",
       "    </tr>\n",
       "    <tr>\n",
       "      <th>P2</th>\n",
       "      <td>42.513113</td>\n",
       "      <td>111.336435</td>\n",
       "      <td>-6.030457</td>\n",
       "    </tr>\n",
       "    <tr>\n",
       "      <th>P3</th>\n",
       "      <td>8.947728</td>\n",
       "      <td>13.609714</td>\n",
       "      <td>-8.369461</td>\n",
       "    </tr>\n",
       "    <tr>\n",
       "      <th>P4</th>\n",
       "      <td>-2.691079</td>\n",
       "      <td>114.532845</td>\n",
       "      <td>-18.445211</td>\n",
       "    </tr>\n",
       "    <tr>\n",
       "      <th>P5</th>\n",
       "      <td>-25.348262</td>\n",
       "      <td>10.151830</td>\n",
       "      <td>-11.298273</td>\n",
       "    </tr>\n",
       "    <tr>\n",
       "      <th>P6</th>\n",
       "      <td>-50.272838</td>\n",
       "      <td>68.595718</td>\n",
       "      <td>-52.907105</td>\n",
       "    </tr>\n",
       "    <tr>\n",
       "      <th>P7</th>\n",
       "      <td>-68.890782</td>\n",
       "      <td>72.850203</td>\n",
       "      <td>-63.107783</td>\n",
       "    </tr>\n",
       "    <tr>\n",
       "      <th>P8</th>\n",
       "      <td>-154.958698</td>\n",
       "      <td>88.408319</td>\n",
       "      <td>-12.479075</td>\n",
       "    </tr>\n",
       "    <tr>\n",
       "      <th>P9</th>\n",
       "      <td>-153.365039</td>\n",
       "      <td>24.436464</td>\n",
       "      <td>-10.606368</td>\n",
       "    </tr>\n",
       "  </tbody>\n",
       "</table>\n",
       "</div>"
      ],
      "text/plain": [
       "coord                                                                 x  \\\n",
       "file                                               landmark               \n",
       "/Users/knpob/Territory/Kolmo/code/foot-measure/... P1         56.321947   \n",
       "                                                   P10      -182.886558   \n",
       "                                                   P11      -123.357072   \n",
       "                                                   P12      -125.791490   \n",
       "                                                   P2         42.513113   \n",
       "                                                   P3          8.947728   \n",
       "                                                   P4         -2.691079   \n",
       "                                                   P5        -25.348262   \n",
       "                                                   P6        -50.272838   \n",
       "                                                   P7        -68.890782   \n",
       "                                                   P8       -154.958698   \n",
       "                                                   P9       -153.365039   \n",
       "\n",
       "coord                                                                 y  \\\n",
       "file                                               landmark               \n",
       "/Users/knpob/Territory/Kolmo/code/foot-measure/... P1         68.714972   \n",
       "                                                   P10        62.749513   \n",
       "                                                   P11        97.606296   \n",
       "                                                   P12        28.127211   \n",
       "                                                   P2        111.336435   \n",
       "                                                   P3         13.609714   \n",
       "                                                   P4        114.532845   \n",
       "                                                   P5         10.151830   \n",
       "                                                   P6         68.595718   \n",
       "                                                   P7         72.850203   \n",
       "                                                   P8         88.408319   \n",
       "                                                   P9         24.436464   \n",
       "\n",
       "coord                                                                z  \n",
       "file                                               landmark             \n",
       "/Users/knpob/Territory/Kolmo/code/foot-measure/... P1        -6.487760  \n",
       "                                                   P10      -17.147384  \n",
       "                                                   P11      -59.674913  \n",
       "                                                   P12      -61.804787  \n",
       "                                                   P2        -6.030457  \n",
       "                                                   P3        -8.369461  \n",
       "                                                   P4       -18.445211  \n",
       "                                                   P5       -11.298273  \n",
       "                                                   P6       -52.907105  \n",
       "                                                   P7       -63.107783  \n",
       "                                                   P8       -12.479075  \n",
       "                                                   P9       -10.606368  "
      ]
     },
     "execution_count": 3,
     "metadata": {},
     "output_type": "execute_result"
    }
   ],
   "source": [
    "import pandas as pd\n",
    "\n",
    "df = pd.read_pickle(label_path)\n",
    "df"
   ]
  },
  {
   "cell_type": "markdown",
   "metadata": {},
   "source": [
    "## Local frame"
   ]
  },
  {
   "cell_type": "code",
   "execution_count": 4,
   "metadata": {},
   "outputs": [
    {
     "data": {
      "application/vnd.jupyter.widget-view+json": {
       "model_id": "4ce76479770d497ea038e29668985af5",
       "version_major": 2,
       "version_minor": 0
      },
      "text/plain": [
       "Widget(value=\"<iframe src='http://localhost:54525/index.html?ui=P_0x7fca78d2da60_0&reconnect=auto' style='widt…"
      ]
     },
     "metadata": {},
     "output_type": "display_data"
    }
   ],
   "source": [
    "import pyvista as pv\n",
    "from measure import frame\n",
    "from mesh4d.analyse import crave\n",
    "\n",
    "mesh = crave.fix_pvmesh_disconnect(pv.read(file))\n",
    "\n",
    "# foot bottom cropped for estimating foot local frame\n",
    "mesh_clip = frame.foot_clip(mesh, df, file, ['P2', 'P3', 'P4', 'P5', 'P8', 'P9'], invert=False)\n",
    "\n",
    "if is_plot:\n",
    "    mesh_clip.plot()"
   ]
  },
  {
   "cell_type": "code",
   "execution_count": 5,
   "metadata": {},
   "outputs": [
    {
     "data": {
      "application/vnd.jupyter.widget-view+json": {
       "model_id": "062cee1949254408ac87bd93d7a291bc",
       "version_major": 2,
       "version_minor": 0
      },
      "text/plain": [
       "Widget(value=\"<iframe src='http://localhost:54525/index.html?ui=P_0x7fca98d2ac10_1&reconnect=auto' style='widt…"
      ]
     },
     "metadata": {},
     "output_type": "display_data"
    }
   ],
   "source": [
    "from measure import visual\n",
    "\n",
    "axes_frame, origin = frame.estimate_foot_frame(mesh, file, df, invert=False)\n",
    "\n",
    "if is_plot:\n",
    "    visual.plot_axes(origin, axes_frame, mesh)"
   ]
  },
  {
   "cell_type": "code",
   "execution_count": 7,
   "metadata": {},
   "outputs": [
    {
     "data": {
      "application/vnd.jupyter.widget-view+json": {
       "model_id": "7337bbc0285d41e1bcd907a9289a65a8",
       "version_major": 2,
       "version_minor": 0
      },
      "text/plain": [
       "Widget(value=\"<iframe src='http://localhost:54525/index.html?ui=P_0x7fca8c27f940_3&reconnect=auto' style='widt…"
      ]
     },
     "metadata": {},
     "output_type": "display_data"
    }
   ],
   "source": [
    "mesh_clip = frame.foot_clip(mesh, df, file, invert=False)\n",
    "mesh_local = frame.foot2local(mesh_clip, axes_frame, origin)\n",
    "\n",
    "if is_plot:\n",
    "    mesh_local.plot()"
   ]
  },
  {
   "cell_type": "code",
   "execution_count": 8,
   "metadata": {},
   "outputs": [
    {
     "data": {
      "text/html": [
       "<div>\n",
       "<style scoped>\n",
       "    .dataframe tbody tr th:only-of-type {\n",
       "        vertical-align: middle;\n",
       "    }\n",
       "\n",
       "    .dataframe tbody tr th {\n",
       "        vertical-align: top;\n",
       "    }\n",
       "\n",
       "    .dataframe thead th {\n",
       "        text-align: right;\n",
       "    }\n",
       "</style>\n",
       "<table border=\"1\" class=\"dataframe\">\n",
       "  <thead>\n",
       "    <tr style=\"text-align: right;\">\n",
       "      <th></th>\n",
       "      <th>coord</th>\n",
       "      <th>x</th>\n",
       "      <th>y</th>\n",
       "      <th>z</th>\n",
       "    </tr>\n",
       "    <tr>\n",
       "      <th>file</th>\n",
       "      <th>landmark</th>\n",
       "      <th></th>\n",
       "      <th></th>\n",
       "      <th></th>\n",
       "    </tr>\n",
       "  </thead>\n",
       "  <tbody>\n",
       "    <tr>\n",
       "      <th rowspan=\"12\" valign=\"top\">/Users/knpob/Territory/Kolmo/code/foot-measure/data/stl/15032021_001_l 1.stl</th>\n",
       "      <th>P1</th>\n",
       "      <td>117.514572</td>\n",
       "      <td>23.480702</td>\n",
       "      <td>7.482238</td>\n",
       "    </tr>\n",
       "    <tr>\n",
       "      <th>P10</th>\n",
       "      <td>-118.677353</td>\n",
       "      <td>-15.304367</td>\n",
       "      <td>16.371141</td>\n",
       "    </tr>\n",
       "    <tr>\n",
       "      <th>P11</th>\n",
       "      <td>-53.881743</td>\n",
       "      <td>-39.375917</td>\n",
       "      <td>58.672851</td>\n",
       "    </tr>\n",
       "    <tr>\n",
       "      <th>P12</th>\n",
       "      <td>-69.194022</td>\n",
       "      <td>28.382871</td>\n",
       "      <td>62.149512</td>\n",
       "    </tr>\n",
       "    <tr>\n",
       "      <th>P2</th>\n",
       "      <td>111.868776</td>\n",
       "      <td>-20.944913</td>\n",
       "      <td>6.077941</td>\n",
       "    </tr>\n",
       "    <tr>\n",
       "      <th>P3</th>\n",
       "      <td>60.717836</td>\n",
       "      <td>68.778177</td>\n",
       "      <td>10.073834</td>\n",
       "    </tr>\n",
       "    <tr>\n",
       "      <th>P4</th>\n",
       "      <td>67.995581</td>\n",
       "      <td>-32.738062</td>\n",
       "      <td>18.070705</td>\n",
       "    </tr>\n",
       "    <tr>\n",
       "      <th>P5</th>\n",
       "      <td>26.364959</td>\n",
       "      <td>65.745090</td>\n",
       "      <td>12.799645</td>\n",
       "    </tr>\n",
       "    <tr>\n",
       "      <th>P6</th>\n",
       "      <td>12.565366</td>\n",
       "      <td>2.836922</td>\n",
       "      <td>53.053233</td>\n",
       "    </tr>\n",
       "    <tr>\n",
       "      <th>P7</th>\n",
       "      <td>-4.979226</td>\n",
       "      <td>-5.012254</td>\n",
       "      <td>63.021184</td>\n",
       "    </tr>\n",
       "    <tr>\n",
       "      <th>P8</th>\n",
       "      <td>-86.448825</td>\n",
       "      <td>-35.227593</td>\n",
       "      <td>11.419395</td>\n",
       "    </tr>\n",
       "    <tr>\n",
       "      <th>P9</th>\n",
       "      <td>-96.763419</td>\n",
       "      <td>27.952251</td>\n",
       "      <td>10.817816</td>\n",
       "    </tr>\n",
       "  </tbody>\n",
       "</table>\n",
       "</div>"
      ],
      "text/plain": [
       "coord                                                                 x  \\\n",
       "file                                               landmark               \n",
       "/Users/knpob/Territory/Kolmo/code/foot-measure/... P1        117.514572   \n",
       "                                                   P10      -118.677353   \n",
       "                                                   P11       -53.881743   \n",
       "                                                   P12       -69.194022   \n",
       "                                                   P2        111.868776   \n",
       "                                                   P3         60.717836   \n",
       "                                                   P4         67.995581   \n",
       "                                                   P5         26.364959   \n",
       "                                                   P6         12.565366   \n",
       "                                                   P7         -4.979226   \n",
       "                                                   P8        -86.448825   \n",
       "                                                   P9        -96.763419   \n",
       "\n",
       "coord                                                                y  \\\n",
       "file                                               landmark              \n",
       "/Users/knpob/Territory/Kolmo/code/foot-measure/... P1        23.480702   \n",
       "                                                   P10      -15.304367   \n",
       "                                                   P11      -39.375917   \n",
       "                                                   P12       28.382871   \n",
       "                                                   P2       -20.944913   \n",
       "                                                   P3        68.778177   \n",
       "                                                   P4       -32.738062   \n",
       "                                                   P5        65.745090   \n",
       "                                                   P6         2.836922   \n",
       "                                                   P7        -5.012254   \n",
       "                                                   P8       -35.227593   \n",
       "                                                   P9        27.952251   \n",
       "\n",
       "coord                                                                z  \n",
       "file                                               landmark             \n",
       "/Users/knpob/Territory/Kolmo/code/foot-measure/... P1         7.482238  \n",
       "                                                   P10       16.371141  \n",
       "                                                   P11       58.672851  \n",
       "                                                   P12       62.149512  \n",
       "                                                   P2         6.077941  \n",
       "                                                   P3        10.073834  \n",
       "                                                   P4        18.070705  \n",
       "                                                   P5        12.799645  \n",
       "                                                   P6        53.053233  \n",
       "                                                   P7        63.021184  \n",
       "                                                   P8        11.419395  \n",
       "                                                   P9        10.817816  "
      ]
     },
     "execution_count": 8,
     "metadata": {},
     "output_type": "execute_result"
    }
   ],
   "source": [
    "df_local = frame.df2local(df, axes_frame, origin)\n",
    "df_local"
   ]
  },
  {
   "cell_type": "markdown",
   "metadata": {},
   "source": [
    "## Metrics"
   ]
  },
  {
   "cell_type": "code",
   "execution_count": 9,
   "metadata": {},
   "outputs": [],
   "source": [
    "results = [\n",
    "    {\n",
    "        'file': 'description',\n",
    "        'FL': 'foot length (mm)',\n",
    "        'MBL': 'medial ball length (mm)',\n",
    "        'LBL': 'lateral ball length (mm)',\n",
    "        'ABW': 'anatomical ball width (mm)',\n",
    "        'OBW': 'orthogonal ball width (mm)',\n",
    "        'OHW': 'orthogonal heel width (mm)',\n",
    "        'BH': 'ball heigh (mm)',\n",
    "        'IH': 'instep height (mm)',\n",
    "        'BA': 'ball angle (°)',\n",
    "        'T1A': 'toe 1 angle (°)',\n",
    "        'T5A': 'toe 5 angle (°)',\n",
    "        'ABG': 'anatomical ball girth (mm)',\n",
    "        'IG': 'instep girth (mm)',\n",
    "    }\n",
    "]"
   ]
  },
  {
   "cell_type": "code",
   "execution_count": 10,
   "metadata": {},
   "outputs": [],
   "source": [
    "from measure import metric\n",
    "\n",
    "results.append(\n",
    "    {\n",
    "        'file': file,\n",
    "        'FL': metric.fl(df_local, file),\n",
    "        'MBL': metric.mbl(df_local, file),\n",
    "        'LBL': metric.lbl(df_local, file),\n",
    "        'ABW': metric.abw(df_local, file),\n",
    "        'OBW': metric.obw(df_local, file),\n",
    "        'OHW': metric.ohw(df_local, file),\n",
    "        'BH': metric.bh(df_local, file),\n",
    "        'IH': metric.ih(df_local, file),\n",
    "        'BA': metric.ba(df_local, file),\n",
    "        'T1A': metric.t1a(df_local, file),\n",
    "        'T5A': metric.t5a(df_local, file),\n",
    "        'ABG': metric.abg(df_local, file, mesh_local),\n",
    "        'IG': metric.ig(df_local, file, mesh_local),\n",
    "    }\n",
    ")"
   ]
  },
  {
   "cell_type": "code",
   "execution_count": 11,
   "metadata": {},
   "outputs": [
    {
     "data": {
      "text/html": [
       "<div>\n",
       "<style scoped>\n",
       "    .dataframe tbody tr th:only-of-type {\n",
       "        vertical-align: middle;\n",
       "    }\n",
       "\n",
       "    .dataframe tbody tr th {\n",
       "        vertical-align: top;\n",
       "    }\n",
       "\n",
       "    .dataframe thead th {\n",
       "        text-align: right;\n",
       "    }\n",
       "</style>\n",
       "<table border=\"1\" class=\"dataframe\">\n",
       "  <thead>\n",
       "    <tr style=\"text-align: right;\">\n",
       "      <th></th>\n",
       "      <th>FL</th>\n",
       "      <th>MBL</th>\n",
       "      <th>LBL</th>\n",
       "      <th>ABW</th>\n",
       "      <th>OBW</th>\n",
       "      <th>OHW</th>\n",
       "      <th>BH</th>\n",
       "      <th>IH</th>\n",
       "      <th>BA</th>\n",
       "      <th>T1A</th>\n",
       "      <th>T5A</th>\n",
       "      <th>ABG</th>\n",
       "      <th>IG</th>\n",
       "    </tr>\n",
       "    <tr>\n",
       "      <th>file</th>\n",
       "      <th></th>\n",
       "      <th></th>\n",
       "      <th></th>\n",
       "      <th></th>\n",
       "      <th></th>\n",
       "      <th></th>\n",
       "      <th></th>\n",
       "      <th></th>\n",
       "      <th></th>\n",
       "      <th></th>\n",
       "      <th></th>\n",
       "      <th></th>\n",
       "      <th></th>\n",
       "    </tr>\n",
       "  </thead>\n",
       "  <tbody>\n",
       "    <tr>\n",
       "      <th>description</th>\n",
       "      <td>foot length (mm)</td>\n",
       "      <td>medial ball length (mm)</td>\n",
       "      <td>lateral ball length (mm)</td>\n",
       "      <td>anatomical ball width (mm)</td>\n",
       "      <td>orthogonal ball width (mm)</td>\n",
       "      <td>orthogonal heel width (mm)</td>\n",
       "      <td>ball heigh (mm)</td>\n",
       "      <td>instep height (mm)</td>\n",
       "      <td>ball angle (°)</td>\n",
       "      <td>toe 1 angle (°)</td>\n",
       "      <td>toe 5 angle (°)</td>\n",
       "      <td>anatomical ball girth (mm)</td>\n",
       "      <td>instep girth (mm)</td>\n",
       "    </tr>\n",
       "    <tr>\n",
       "      <th>/Users/knpob/Territory/Kolmo/code/foot-measure/data/stl/15032021_001_l 1.stl</th>\n",
       "      <td>236.191925</td>\n",
       "      <td>186.672934</td>\n",
       "      <td>145.042312</td>\n",
       "      <td>107.050567</td>\n",
       "      <td>101.516239</td>\n",
       "      <td>63.179844</td>\n",
       "      <td>53.053233</td>\n",
       "      <td>63.021184</td>\n",
       "      <td>67.927367</td>\n",
       "      <td>22.209286</td>\n",
       "      <td>13.165781</td>\n",
       "      <td>250.412361</td>\n",
       "      <td>245.483957</td>\n",
       "    </tr>\n",
       "  </tbody>\n",
       "</table>\n",
       "</div>"
      ],
      "text/plain": [
       "                                                                  FL  \\\n",
       "file                                                                   \n",
       "description                                         foot length (mm)   \n",
       "/Users/knpob/Territory/Kolmo/code/foot-measure/...        236.191925   \n",
       "\n",
       "                                                                        MBL  \\\n",
       "file                                                                          \n",
       "description                                         medial ball length (mm)   \n",
       "/Users/knpob/Territory/Kolmo/code/foot-measure/...               186.672934   \n",
       "\n",
       "                                                                         LBL  \\\n",
       "file                                                                           \n",
       "description                                         lateral ball length (mm)   \n",
       "/Users/knpob/Territory/Kolmo/code/foot-measure/...                145.042312   \n",
       "\n",
       "                                                                           ABW  \\\n",
       "file                                                                             \n",
       "description                                         anatomical ball width (mm)   \n",
       "/Users/knpob/Territory/Kolmo/code/foot-measure/...                  107.050567   \n",
       "\n",
       "                                                                           OBW  \\\n",
       "file                                                                             \n",
       "description                                         orthogonal ball width (mm)   \n",
       "/Users/knpob/Territory/Kolmo/code/foot-measure/...                  101.516239   \n",
       "\n",
       "                                                                           OHW  \\\n",
       "file                                                                             \n",
       "description                                         orthogonal heel width (mm)   \n",
       "/Users/knpob/Territory/Kolmo/code/foot-measure/...                   63.179844   \n",
       "\n",
       "                                                                 BH  \\\n",
       "file                                                                  \n",
       "description                                         ball heigh (mm)   \n",
       "/Users/knpob/Territory/Kolmo/code/foot-measure/...        53.053233   \n",
       "\n",
       "                                                                    IH  \\\n",
       "file                                                                     \n",
       "description                                         instep height (mm)   \n",
       "/Users/knpob/Territory/Kolmo/code/foot-measure/...           63.021184   \n",
       "\n",
       "                                                                BA  \\\n",
       "file                                                                 \n",
       "description                                         ball angle (°)   \n",
       "/Users/knpob/Territory/Kolmo/code/foot-measure/...       67.927367   \n",
       "\n",
       "                                                                T1A  \\\n",
       "file                                                                  \n",
       "description                                         toe 1 angle (°)   \n",
       "/Users/knpob/Territory/Kolmo/code/foot-measure/...        22.209286   \n",
       "\n",
       "                                                                T5A  \\\n",
       "file                                                                  \n",
       "description                                         toe 5 angle (°)   \n",
       "/Users/knpob/Territory/Kolmo/code/foot-measure/...        13.165781   \n",
       "\n",
       "                                                                           ABG  \\\n",
       "file                                                                             \n",
       "description                                         anatomical ball girth (mm)   \n",
       "/Users/knpob/Territory/Kolmo/code/foot-measure/...                  250.412361   \n",
       "\n",
       "                                                                   IG  \n",
       "file                                                                   \n",
       "description                                         instep girth (mm)  \n",
       "/Users/knpob/Territory/Kolmo/code/foot-measure/...         245.483957  "
      ]
     },
     "execution_count": 11,
     "metadata": {},
     "output_type": "execute_result"
    }
   ],
   "source": [
    "df_metric = pd.DataFrame(results).set_index('file')\n",
    "df_metric"
   ]
  },
  {
   "cell_type": "markdown",
   "metadata": {},
   "source": [
    "### Visualization"
   ]
  },
  {
   "cell_type": "code",
   "execution_count": 12,
   "metadata": {},
   "outputs": [
    {
     "data": {
      "application/vnd.jupyter.widget-view+json": {
       "model_id": "6b83c258b46449e98a80567ef4017041",
       "version_major": 2,
       "version_minor": 0
      },
      "text/plain": [
       "Widget(value=\"<iframe src='http://localhost:54525/index.html?ui=P_0x7fca99ba2940_4&reconnect=auto' style='widt…"
      ]
     },
     "metadata": {},
     "output_type": "display_data"
    },
    {
     "data": {
      "application/vnd.jupyter.widget-view+json": {
       "model_id": "f83518579bc7434d915c4edc9af205e8",
       "version_major": 2,
       "version_minor": 0
      },
      "text/plain": [
       "Widget(value=\"<iframe src='http://localhost:54525/index.html?ui=P_0x7fca8c274610_5&reconnect=auto' style='widt…"
      ]
     },
     "metadata": {},
     "output_type": "display_data"
    },
    {
     "data": {
      "application/vnd.jupyter.widget-view+json": {
       "model_id": "9330014901dc4904861617b5d773c8a2",
       "version_major": 2,
       "version_minor": 0
      },
      "text/plain": [
       "Widget(value=\"<iframe src='http://localhost:54525/index.html?ui=P_0x7fca8c48c760_6&reconnect=auto' style='widt…"
      ]
     },
     "metadata": {},
     "output_type": "display_data"
    },
    {
     "data": {
      "application/vnd.jupyter.widget-view+json": {
       "model_id": "c4dc88ed8d864bf7b25063a1afb0e874",
       "version_major": 2,
       "version_minor": 0
      },
      "text/plain": [
       "Widget(value=\"<iframe src='http://localhost:54525/index.html?ui=P_0x7fca8c426580_7&reconnect=auto' style='widt…"
      ]
     },
     "metadata": {},
     "output_type": "display_data"
    },
    {
     "data": {
      "application/vnd.jupyter.widget-view+json": {
       "model_id": "5150a32eb5be466f860565f80cc39453",
       "version_major": 2,
       "version_minor": 0
      },
      "text/plain": [
       "Widget(value=\"<iframe src='http://localhost:54525/index.html?ui=P_0x7fca99c46dc0_8&reconnect=auto' style='widt…"
      ]
     },
     "metadata": {},
     "output_type": "display_data"
    }
   ],
   "source": [
    "if is_plot:\n",
    "    settings = {\n",
    "        'FL': ['P1', 'P10', 'x'],\n",
    "        'MBL': ['P4', 'P10', 'x'],\n",
    "        'LBL': ['P5', 'P10', 'x'],\n",
    "        'OBW': ['P4', 'P3', 'y'],\n",
    "        'OHW': ['P9', 'P8', 'y'],\n",
    "    }\n",
    "\n",
    "    for name, [landmark1, landmark2, axis] in settings.items():\n",
    "        scene = pv.Plotter()\n",
    "        scene.add_mesh(mesh_local, opacity=0.1)\n",
    "        visual.plot_dist_along_axis(scene, df_local, file, landmark1, landmark2, axis, name=name)\n",
    "        scene.show()"
   ]
  },
  {
   "cell_type": "code",
   "execution_count": 13,
   "metadata": {},
   "outputs": [
    {
     "data": {
      "application/vnd.jupyter.widget-view+json": {
       "model_id": "2f2ef4da9a934e9aa42c90bb27c47a48",
       "version_major": 2,
       "version_minor": 0
      },
      "text/plain": [
       "Widget(value=\"<iframe src='http://localhost:54525/index.html?ui=P_0x7fca842f6fa0_9&reconnect=auto' style='widt…"
      ]
     },
     "metadata": {},
     "output_type": "display_data"
    },
    {
     "data": {
      "application/vnd.jupyter.widget-view+json": {
       "model_id": "13a91143ffbe4de2bea5765749710e8a",
       "version_major": 2,
       "version_minor": 0
      },
      "text/plain": [
       "Widget(value=\"<iframe src='http://localhost:54525/index.html?ui=P_0x7fca99c88d00_10&reconnect=auto' style='wid…"
      ]
     },
     "metadata": {},
     "output_type": "display_data"
    }
   ],
   "source": [
    "if is_plot:\n",
    "    settings = {\n",
    "        'BH': 'P6',\n",
    "        'IH': 'P7',\n",
    "    }\n",
    "\n",
    "    for name, landmark in settings.items():\n",
    "        scene = pv.Plotter()\n",
    "        scene.add_mesh(mesh_local, opacity=0.1)\n",
    "        visual.plot_height(scene, df_local, file, landmark, name=name)\n",
    "        scene.show()"
   ]
  },
  {
   "cell_type": "code",
   "execution_count": 14,
   "metadata": {},
   "outputs": [
    {
     "data": {
      "application/vnd.jupyter.widget-view+json": {
       "model_id": "a04518baeea341938a23105a8eba8236",
       "version_major": 2,
       "version_minor": 0
      },
      "text/plain": [
       "Widget(value=\"<iframe src='http://localhost:54525/index.html?ui=P_0x7fca8ca82910_11&reconnect=auto' style='wid…"
      ]
     },
     "metadata": {},
     "output_type": "display_data"
    },
    {
     "data": {
      "application/vnd.jupyter.widget-view+json": {
       "model_id": "9394d5ff22c14f51816f307a56311860",
       "version_major": 2,
       "version_minor": 0
      },
      "text/plain": [
       "Widget(value=\"<iframe src='http://localhost:54525/index.html?ui=P_0x7fca842f6d00_12&reconnect=auto' style='wid…"
      ]
     },
     "metadata": {},
     "output_type": "display_data"
    },
    {
     "data": {
      "application/vnd.jupyter.widget-view+json": {
       "model_id": "387ffcfefd4e4dae917126812ea63887",
       "version_major": 2,
       "version_minor": 0
      },
      "text/plain": [
       "Widget(value=\"<iframe src='http://localhost:54525/index.html?ui=P_0x7fca99c88550_13&reconnect=auto' style='wid…"
      ]
     },
     "metadata": {},
     "output_type": "display_data"
    }
   ],
   "source": [
    "if is_plot:\n",
    "    settings = {\n",
    "        'BA': ['P4', 'P5', 'P8'],\n",
    "        'T1A': ['P4', 'P2', 'P8'],\n",
    "        'T5A': ['P5', 'P3', 'P9'],\n",
    "    }\n",
    "\n",
    "    for name, [landmark_origin, landmark1, landmark2] in settings.items():\n",
    "        scene = pv.Plotter()\n",
    "        scene.add_mesh(mesh_local, opacity=0.1)\n",
    "        visual.plot_angle(scene, df_local, file, landmark_origin, landmark1, landmark2, actue_angle=True, name=name)\n",
    "        scene.show()"
   ]
  },
  {
   "cell_type": "code",
   "execution_count": 15,
   "metadata": {},
   "outputs": [
    {
     "data": {
      "application/vnd.jupyter.widget-view+json": {
       "model_id": "46c2d5116e8b45ceab4a26a56a481515",
       "version_major": 2,
       "version_minor": 0
      },
      "text/plain": [
       "Widget(value=\"<iframe src='http://localhost:54525/index.html?ui=P_0x7fca99ba29a0_14&reconnect=auto' style='wid…"
      ]
     },
     "metadata": {},
     "output_type": "display_data"
    }
   ],
   "source": [
    "if is_plot:\n",
    "    scene = pv.Plotter()\n",
    "    scene.add_mesh(mesh_local, opacity=0.1)\n",
    "    visual.plot_circ_pass_2landmarks(scene, df_local, file, mesh_local, ['P4', 'P5'], tangent_axis='z', name='ABG')\n",
    "    scene.show()"
   ]
  },
  {
   "cell_type": "code",
   "execution_count": 16,
   "metadata": {},
   "outputs": [
    {
     "data": {
      "application/vnd.jupyter.widget-view+json": {
       "model_id": "1392b30ff74140c4aac0d92bd467cdb8",
       "version_major": 2,
       "version_minor": 0
      },
      "text/plain": [
       "Widget(value=\"<iframe src='http://localhost:54525/index.html?ui=P_0x7fca83ea7850_15&reconnect=auto' style='wid…"
      ]
     },
     "metadata": {},
     "output_type": "display_data"
    }
   ],
   "source": [
    "if is_plot:\n",
    "    scene = pv.Plotter()\n",
    "    scene.add_mesh(mesh_local, opacity=0.1)\n",
    "    visual.plot_circ_pass_landmark(scene, df_local, file, mesh_local, 'P6', 'x', name='IG')\n",
    "    scene.show()"
   ]
  },
  {
   "cell_type": "code",
   "execution_count": null,
   "metadata": {},
   "outputs": [],
   "source": []
  }
 ],
 "metadata": {
  "kernelspec": {
   "display_name": "mesh4d",
   "language": "python",
   "name": "python3"
  },
  "language_info": {
   "codemirror_mode": {
    "name": "ipython",
    "version": 3
   },
   "file_extension": ".py",
   "mimetype": "text/x-python",
   "name": "python",
   "nbconvert_exporter": "python",
   "pygments_lexer": "ipython3",
   "version": "3.9.16"
  }
 },
 "nbformat": 4,
 "nbformat_minor": 2
}
