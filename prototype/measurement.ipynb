{
 "cells": [
  {
   "cell_type": "code",
   "execution_count": 1,
   "metadata": {},
   "outputs": [
    {
     "data": {
      "text/plain": [
       "(5, 12, 3)"
      ]
     },
     "execution_count": 1,
     "metadata": {},
     "output_type": "execute_result"
    }
   ],
   "source": [
    "from mesh4d import utils\n",
    "\n",
    "landmarks = utils.load_pkl_object('output/transform/fast_transform.pkl')\n",
    "landmarks.to_array()[0].shape"
   ]
  },
  {
   "cell_type": "markdown",
   "metadata": {},
   "source": [
    "## Calculations...\n",
    "\n",
    "> Zhang, L. Y., Yick, K. L., Yue, M. J., Yip, J., & Ng, S. P. (2023). An exploratory study of dynamic foot shape measurements with 4D scanning system. Scientific Reports, 13(1), 8628."
   ]
  },
  {
   "cell_type": "code",
   "execution_count": 2,
   "metadata": {},
   "outputs": [],
   "source": [
    "import numpy as np\n",
    "\n",
    "metric = {}\n",
    "\n",
    "metric['FL'] = ['foot length'] + list(np.abs(landmarks.markers['P1'].coord[1] - landmarks.markers['P10'].coord[1]))\n",
    "metric['MBL'] = ['medial ball length'] + list(np.abs(landmarks.markers['P4'].coord[1] - landmarks.markers['P10'].coord[1]))\n",
    "metric['LBL'] = ['lateral ball length'] + list(np.abs(landmarks.markers['P5'].coord[1] - landmarks.markers['P10'].coord[1]))\n",
    "metric['ABW'] = ['anatomical ball width'] + list(np.sqrt(\n",
    "    (landmarks.markers['P4'].coord[1] - landmarks.markers['P3'].coord[1])**2\n",
    "    + (landmarks.markers['P4'].coord[0] - landmarks.markers['P3'].coord[0])**2\n",
    "    ))\n",
    "metric['OBW'] = ['orthogonal ball width'] + list(np.abs(landmarks.markers['P4'].coord[0] - landmarks.markers['P3'].coord[0]))\n",
    "metric['OHW'] = ['orthogonal heel width'] + list(np.abs(landmarks.markers['P9'].coord[0] - landmarks.markers['P8'].coord[0]))\n",
    "metric['BH'] = ['ball heigh'] + list(np.abs(landmarks.markers['P6'].coord[2]))\n",
    "metric['IH'] = ['instep height'] + list(np.abs(landmarks.markers['P7'].coord[2]))"
   ]
  },
  {
   "cell_type": "markdown",
   "metadata": {},
   "source": [
    "## Table"
   ]
  },
  {
   "cell_type": "code",
   "execution_count": 3,
   "metadata": {},
   "outputs": [
    {
     "data": {
      "text/html": [
       "<div>\n",
       "<style scoped>\n",
       "    .dataframe tbody tr th:only-of-type {\n",
       "        vertical-align: middle;\n",
       "    }\n",
       "\n",
       "    .dataframe tbody tr th {\n",
       "        vertical-align: top;\n",
       "    }\n",
       "\n",
       "    .dataframe thead th {\n",
       "        text-align: right;\n",
       "    }\n",
       "</style>\n",
       "<table border=\"1\" class=\"dataframe\">\n",
       "  <thead>\n",
       "    <tr style=\"text-align: right;\">\n",
       "      <th></th>\n",
       "      <th>FL</th>\n",
       "      <th>MBL</th>\n",
       "      <th>LBL</th>\n",
       "      <th>ABW</th>\n",
       "      <th>OBW</th>\n",
       "      <th>OHW</th>\n",
       "      <th>BH</th>\n",
       "      <th>IH</th>\n",
       "    </tr>\n",
       "  </thead>\n",
       "  <tbody>\n",
       "    <tr>\n",
       "      <th>description</th>\n",
       "      <td>foot length</td>\n",
       "      <td>medial ball length</td>\n",
       "      <td>lateral ball length</td>\n",
       "      <td>anatomical ball width</td>\n",
       "      <td>orthogonal ball width</td>\n",
       "      <td>orthogonal heel width</td>\n",
       "      <td>ball heigh</td>\n",
       "      <td>instep height</td>\n",
       "    </tr>\n",
       "    <tr>\n",
       "      <th>frame0</th>\n",
       "      <td>206.828484</td>\n",
       "      <td>177.049015</td>\n",
       "      <td>117.650856</td>\n",
       "      <td>31.859235</td>\n",
       "      <td>13.032218</td>\n",
       "      <td>14.20338</td>\n",
       "      <td>67.823856</td>\n",
       "      <td>77.452649</td>\n",
       "    </tr>\n",
       "    <tr>\n",
       "      <th>frame1</th>\n",
       "      <td>216.188804</td>\n",
       "      <td>177.577767</td>\n",
       "      <td>137.742277</td>\n",
       "      <td>19.714708</td>\n",
       "      <td>11.443213</td>\n",
       "      <td>12.866941</td>\n",
       "      <td>32.605442</td>\n",
       "      <td>34.116409</td>\n",
       "    </tr>\n",
       "    <tr>\n",
       "      <th>frame2</th>\n",
       "      <td>217.931521</td>\n",
       "      <td>173.794353</td>\n",
       "      <td>133.890667</td>\n",
       "      <td>18.321913</td>\n",
       "      <td>13.222202</td>\n",
       "      <td>17.194629</td>\n",
       "      <td>29.140415</td>\n",
       "      <td>31.393023</td>\n",
       "    </tr>\n",
       "    <tr>\n",
       "      <th>frame3</th>\n",
       "      <td>215.48088</td>\n",
       "      <td>167.711107</td>\n",
       "      <td>132.921727</td>\n",
       "      <td>21.747653</td>\n",
       "      <td>20.836195</td>\n",
       "      <td>16.852156</td>\n",
       "      <td>21.418944</td>\n",
       "      <td>28.696312</td>\n",
       "    </tr>\n",
       "    <tr>\n",
       "      <th>frame4</th>\n",
       "      <td>185.108207</td>\n",
       "      <td>130.136817</td>\n",
       "      <td>105.16714</td>\n",
       "      <td>21.791462</td>\n",
       "      <td>19.133583</td>\n",
       "      <td>21.282556</td>\n",
       "      <td>6.151678</td>\n",
       "      <td>10.659648</td>\n",
       "    </tr>\n",
       "  </tbody>\n",
       "</table>\n",
       "</div>"
      ],
      "text/plain": [
       "                      FL                 MBL                  LBL  \\\n",
       "description  foot length  medial ball length  lateral ball length   \n",
       "frame0        206.828484          177.049015           117.650856   \n",
       "frame1        216.188804          177.577767           137.742277   \n",
       "frame2        217.931521          173.794353           133.890667   \n",
       "frame3         215.48088          167.711107           132.921727   \n",
       "frame4        185.108207          130.136817            105.16714   \n",
       "\n",
       "                               ABW                    OBW  \\\n",
       "description  anatomical ball width  orthogonal ball width   \n",
       "frame0                   31.859235              13.032218   \n",
       "frame1                   19.714708              11.443213   \n",
       "frame2                   18.321913              13.222202   \n",
       "frame3                   21.747653              20.836195   \n",
       "frame4                   21.791462              19.133583   \n",
       "\n",
       "                               OHW          BH             IH  \n",
       "description  orthogonal heel width  ball heigh  instep height  \n",
       "frame0                    14.20338   67.823856      77.452649  \n",
       "frame1                   12.866941   32.605442      34.116409  \n",
       "frame2                   17.194629   29.140415      31.393023  \n",
       "frame3                   16.852156   21.418944      28.696312  \n",
       "frame4                   21.282556    6.151678      10.659648  "
      ]
     },
     "execution_count": 3,
     "metadata": {},
     "output_type": "execute_result"
    }
   ],
   "source": [
    "import pandas as pd\n",
    "\n",
    "df = pd.DataFrame(metric, index=['description'] + [f'frame{idx}' for idx in range(len(landmarks.to_array()[0]))])\n",
    "df"
   ]
  },
  {
   "cell_type": "code",
   "execution_count": 4,
   "metadata": {},
   "outputs": [
    {
     "data": {
      "text/plain": [
       "<Axes: >"
      ]
     },
     "execution_count": 4,
     "metadata": {},
     "output_type": "execute_result"
    },
    {
     "data": {
      "image/png": "[encoded data removed]",
      "text/plain": [
       "<Figure size 640x480 with 1 Axes>"
      ]
     },
     "metadata": {},
     "output_type": "display_data"
    }
   ],
   "source": [
    "df['frame0':'frame4'].plot()"
   ]
  },
  {
   "cell_type": "code",
   "execution_count": null,
   "metadata": {},
   "outputs": [],
   "source": []
  }
 ],
 "metadata": {
  "kernelspec": {
   "display_name": "mesh4d",
   "language": "python",
   "name": "python3"
  },
  "language_info": {
   "codemirror_mode": {
    "name": "ipython",
    "version": 3
   },
   "file_extension": ".py",
   "mimetype": "text/x-python",
   "name": "python",
   "nbconvert_exporter": "python",
   "pygments_lexer": "ipython3",
   "version": "3.9.16"
  }
 },
 "nbformat": 4,
 "nbformat_minor": 2
}
