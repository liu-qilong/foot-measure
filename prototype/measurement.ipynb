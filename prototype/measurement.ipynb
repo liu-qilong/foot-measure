{
 "cells": [
  {
   "cell_type": "code",
   "execution_count": 1,
   "metadata": {},
   "outputs": [
    {
     "data": {
      "text/plain": [
       "(5, 12, 3)"
      ]
     },
     "execution_count": 1,
     "metadata": {},
     "output_type": "execute_result"
    }
   ],
   "source": [
    "from mesh4d import utils\n",
    "\n",
    "landmarks = utils.load_pkl_object('output/transform/fast_transform.pkl')\n",
    "landmarks.to_array()[0].shape"
   ]
  },
  {
   "cell_type": "markdown",
   "metadata": {},
   "source": [
    "## Euclidean measurements\n",
    "\n",
    "> Zhang, L. Y., Yick, K. L., Yue, M. J., Yip, J., & Ng, S. P. (2023). An exploratory study of dynamic foot shape measurements with 4D scanning system. Scientific Reports, 13(1), 8628."
   ]
  },
  {
   "cell_type": "code",
   "execution_count": 2,
   "metadata": {},
   "outputs": [],
   "source": [
    "def get(landmarks, marker_name, coord):\n",
    "    coord2idx = {\n",
    "        'x': 0,\n",
    "        'y': 1,\n",
    "        'z': 2\n",
    "    }\n",
    "    return landmarks.markers[marker_name].coord[coord2idx[coord]]"
   ]
  },
  {
   "cell_type": "code",
   "execution_count": 3,
   "metadata": {},
   "outputs": [],
   "source": [
    "import numpy as np\n",
    "\n",
    "metric = {}\n",
    "\n",
    "metric['FL'] = ['foot length'] + list(np.abs(get(landmarks, 'P1', 'y') - get(landmarks, 'P10', 'y')))\n",
    "metric['MBL'] = ['medial ball length'] + list(np.abs(get(landmarks, 'P4', 'y') - get(landmarks, 'P10', 'y')))\n",
    "metric['LBL'] = ['lateral ball length'] + list(np.abs(get(landmarks, 'P5', 'y') - get(landmarks, 'P10', 'y')))\n",
    "metric['ABW'] = ['anatomical ball width'] + list(np.sqrt(\n",
    "    (get(landmarks, 'P4', 'y') - get(landmarks, 'P3', 'y'))**2\n",
    "    + (get(landmarks, 'P4', 'x') - get(landmarks, 'P3', 'x'))**2\n",
    "    ))\n",
    "metric['OBW'] = ['orthogonal ball width'] + list(np.abs(get(landmarks, 'P4', 'x') - get(landmarks, 'P3', 'x')))\n",
    "metric['OHW'] = ['orthogonal heel width'] + list(np.abs(get(landmarks, 'P9', 'x') - get(landmarks, 'P8', 'x')))\n",
    "metric['BH'] = ['ball heigh'] + list(np.abs(get(landmarks, 'P6', 'z')))\n",
    "metric['IH'] = ['instep height'] + list(np.abs(get(landmarks, 'P7', 'z')))"
   ]
  },
  {
   "cell_type": "code",
   "execution_count": 4,
   "metadata": {},
   "outputs": [
    {
     "data": {
      "text/html": [
       "<div>\n",
       "<style scoped>\n",
       "    .dataframe tbody tr th:only-of-type {\n",
       "        vertical-align: middle;\n",
       "    }\n",
       "\n",
       "    .dataframe tbody tr th {\n",
       "        vertical-align: top;\n",
       "    }\n",
       "\n",
       "    .dataframe thead th {\n",
       "        text-align: right;\n",
       "    }\n",
       "</style>\n",
       "<table border=\"1\" class=\"dataframe\">\n",
       "  <thead>\n",
       "    <tr style=\"text-align: right;\">\n",
       "      <th></th>\n",
       "      <th>FL</th>\n",
       "      <th>MBL</th>\n",
       "      <th>LBL</th>\n",
       "      <th>ABW</th>\n",
       "      <th>OBW</th>\n",
       "      <th>OHW</th>\n",
       "      <th>BH</th>\n",
       "      <th>IH</th>\n",
       "    </tr>\n",
       "  </thead>\n",
       "  <tbody>\n",
       "    <tr>\n",
       "      <th>description</th>\n",
       "      <td>foot length</td>\n",
       "      <td>medial ball length</td>\n",
       "      <td>lateral ball length</td>\n",
       "      <td>anatomical ball width</td>\n",
       "      <td>orthogonal ball width</td>\n",
       "      <td>orthogonal heel width</td>\n",
       "      <td>ball heigh</td>\n",
       "      <td>instep height</td>\n",
       "    </tr>\n",
       "    <tr>\n",
       "      <th>frame0</th>\n",
       "      <td>9.438303</td>\n",
       "      <td>36.844064</td>\n",
       "      <td>45.787799</td>\n",
       "      <td>84.808372</td>\n",
       "      <td>1.562493</td>\n",
       "      <td>4.246227</td>\n",
       "      <td>33.190416</td>\n",
       "      <td>46.391936</td>\n",
       "    </tr>\n",
       "    <tr>\n",
       "      <th>frame1</th>\n",
       "      <td>8.651849</td>\n",
       "      <td>37.763568</td>\n",
       "      <td>49.8433</td>\n",
       "      <td>93.012446</td>\n",
       "      <td>3.082296</td>\n",
       "      <td>5.162034</td>\n",
       "      <td>36.835374</td>\n",
       "      <td>53.541192</td>\n",
       "    </tr>\n",
       "    <tr>\n",
       "      <th>frame2</th>\n",
       "      <td>11.2752</td>\n",
       "      <td>32.129279</td>\n",
       "      <td>56.622528</td>\n",
       "      <td>93.468188</td>\n",
       "      <td>1.151417</td>\n",
       "      <td>12.351665</td>\n",
       "      <td>33.808143</td>\n",
       "      <td>47.29867</td>\n",
       "    </tr>\n",
       "    <tr>\n",
       "      <th>frame3</th>\n",
       "      <td>11.202253</td>\n",
       "      <td>31.691739</td>\n",
       "      <td>58.005154</td>\n",
       "      <td>91.542056</td>\n",
       "      <td>0.723595</td>\n",
       "      <td>3.241977</td>\n",
       "      <td>32.514522</td>\n",
       "      <td>43.742458</td>\n",
       "    </tr>\n",
       "    <tr>\n",
       "      <th>frame4</th>\n",
       "      <td>13.365737</td>\n",
       "      <td>29.528376</td>\n",
       "      <td>56.300205</td>\n",
       "      <td>86.982529</td>\n",
       "      <td>0.937706</td>\n",
       "      <td>9.352607</td>\n",
       "      <td>27.930671</td>\n",
       "      <td>40.848288</td>\n",
       "    </tr>\n",
       "  </tbody>\n",
       "</table>\n",
       "</div>"
      ],
      "text/plain": [
       "                      FL                 MBL                  LBL  \\\n",
       "description  foot length  medial ball length  lateral ball length   \n",
       "frame0          9.438303           36.844064            45.787799   \n",
       "frame1          8.651849           37.763568              49.8433   \n",
       "frame2           11.2752           32.129279            56.622528   \n",
       "frame3         11.202253           31.691739            58.005154   \n",
       "frame4         13.365737           29.528376            56.300205   \n",
       "\n",
       "                               ABW                    OBW  \\\n",
       "description  anatomical ball width  orthogonal ball width   \n",
       "frame0                   84.808372               1.562493   \n",
       "frame1                   93.012446               3.082296   \n",
       "frame2                   93.468188               1.151417   \n",
       "frame3                   91.542056               0.723595   \n",
       "frame4                   86.982529               0.937706   \n",
       "\n",
       "                               OHW          BH             IH  \n",
       "description  orthogonal heel width  ball heigh  instep height  \n",
       "frame0                    4.246227   33.190416      46.391936  \n",
       "frame1                    5.162034   36.835374      53.541192  \n",
       "frame2                   12.351665   33.808143       47.29867  \n",
       "frame3                    3.241977   32.514522      43.742458  \n",
       "frame4                    9.352607   27.930671      40.848288  "
      ]
     },
     "execution_count": 4,
     "metadata": {},
     "output_type": "execute_result"
    }
   ],
   "source": [
    "import pandas as pd\n",
    "\n",
    "df = pd.DataFrame(metric, index=['description'] + [f'frame{idx}' for idx in range(len(landmarks.to_array()[0]))])\n",
    "df"
   ]
  },
  {
   "cell_type": "code",
   "execution_count": 5,
   "metadata": {},
   "outputs": [
    {
     "data": {
      "text/plain": [
       "<Axes: >"
      ]
     },
     "execution_count": 5,
     "metadata": {},
     "output_type": "execute_result"
    },
    {
     "data": {
      "image/png": "[encoded data removed]",
      "text/plain": [
       "<Figure size 640x480 with 1 Axes>"
      ]
     },
     "metadata": {},
     "output_type": "display_data"
    }
   ],
   "source": [
    "df['frame0':'frame4'].plot()"
   ]
  },
  {
   "cell_type": "markdown",
   "metadata": {},
   "source": [
    "## Geodesic measurements"
   ]
  },
  {
   "cell_type": "markdown",
   "metadata": {},
   "source": [
    "### Data loading and reorientation"
   ]
  },
  {
   "cell_type": "code",
   "execution_count": 6,
   "metadata": {},
   "outputs": [
    {
     "name": "stdout",
     "output_type": "stream",
     "text": [
      "[====================] 100.0% loading: /Users/knpob/Territory/Kolmo/data/DynaFootLite/Fast/Sub05_Fast_L1_102_143.000031.obj\n"
     ]
    }
   ],
   "source": [
    "from mesh4d import obj3d\n",
    "\n",
    "mesh_ls, _ = obj3d.load_mesh_series(\n",
    "    folder='/Users/knpob/Territory/Kolmo/data/DynaFootLite/Fast',\n",
    "    start=0,\n",
    "    stride=1,\n",
    "    end=4,\n",
    "    load_texture=False,\n",
    ")"
   ]
  },
  {
   "cell_type": "code",
   "execution_count": 7,
   "metadata": {},
   "outputs": [
    {
     "data": {
      "text/plain": [
       "[{'mean': array([ -19.35173802, -110.94776322,   74.37263339]),\n",
       "  'axes': array([[ 0.19903776, -0.14165672,  0.96969962],\n",
       "         [-0.92427362, -0.3560279 ,  0.13770409],\n",
       "         [-0.32573341,  0.92367608,  0.20179257]]),\n",
       "  'stds': array([80.52793393, 32.42319736, 23.02691387])},\n",
       " {'mean': array([ -22.42135458, -127.11639593,   64.8034745 ]),\n",
       "  'axes': array([[ 0.20051408,  0.02323243,  0.97941531],\n",
       "         [-0.94901286, -0.24361279,  0.2000685 ],\n",
       "         [-0.24324617,  0.96959428,  0.02679992]]),\n",
       "  'stds': array([83.00320047, 33.24360171, 25.43468768])},\n",
       " {'mean': array([ -19.68341878, -132.24813197,   59.90065043]),\n",
       "  'axes': array([[ 0.17702965,  0.07655359,  0.98122375],\n",
       "         [-0.95378109, -0.23262645,  0.19022768],\n",
       "         [-0.24282121,  0.9695486 , -0.03183359]]),\n",
       "  'stds': array([81.78863716, 34.32191984, 23.11622719])},\n",
       " {'mean': array([ -18.23912556, -128.04792848,   59.43811265]),\n",
       "  'axes': array([[ 0.2030801 ,  0.13585729,  0.96969133],\n",
       "         [-0.94794561, -0.22078855,  0.22945922],\n",
       "         [-0.24527045,  0.96581324, -0.08394756]]),\n",
       "  'stds': array([83.55651996, 33.78822419, 22.06787456])},\n",
       " {'mean': array([ -18.34636964, -113.5471129 ,   54.2051071 ]),\n",
       "  'axes': array([[ 0.19280286,  0.32678208,  0.92522458],\n",
       "         [-0.92239712, -0.26125029,  0.28448522],\n",
       "         [-0.33467987,  0.90827405, -0.25105305]]),\n",
       "  'stds': array([80.16409504, 32.67287777, 20.57002667])}]"
      ]
     },
     "execution_count": 7,
     "metadata": {},
     "output_type": "execute_result"
    }
   ],
   "source": [
    "from mesh4d import utils\n",
    "\n",
    "axes_ls = utils.load_pkl_object('output/axes/fast_axes.pkl')\n",
    "axes_ls"
   ]
  },
  {
   "cell_type": "code",
   "execution_count": 8,
   "metadata": {},
   "outputs": [],
   "source": [
    "# helper functions\n",
    "def coord_cartesian2homo(vertices):\n",
    "    shape = list(vertices.shape)\n",
    "    shape[1] += 1\n",
    "\n",
    "    vertices_homo = np.ones(shape)\n",
    "    vertices_homo[:, :3] = vertices\n",
    "    return vertices_homo\n",
    "\n",
    "def coord_homo2cartesian(vertices_homo):\n",
    "    return vertices_homo[:, :3] / vertices_homo[:, [-1]]\n",
    "\n",
    "def transformation_matrix2global(axes, origin):\n",
    "    \"\"\"e(i) -> a_i + t\"\"\"\n",
    "    matrix = np.eye(4)\n",
    "    matrix[:3, :3] = axes.T\n",
    "    matrix[:3, 3] = origin\n",
    "    \n",
    "    return matrix\n",
    "\n",
    "def transformation_matrix2local(axes, origin):\n",
    "    \"\"\"a_i + t -> e(i)\"\"\"\n",
    "    matrix2golbal = transformation_matrix2global(axes, origin)\n",
    "    return np.linalg.inv(matrix2golbal)\n",
    "\n",
    "def transform(matrix, vertices):\n",
    "    vertices_homo = coord_cartesian2homo(vertices)\n",
    "    vertices_transform = (matrix @ vertices_homo.T).T\n",
    "    return coord_homo2cartesian(vertices_transform)"
   ]
  },
  {
   "cell_type": "code",
   "execution_count": 9,
   "metadata": {},
   "outputs": [],
   "source": [
    "mesh_transform_ls = []\n",
    "\n",
    "for idx in range(len(mesh_ls)):\n",
    "    matrix = transformation_matrix2local(axes_ls[idx]['axes'], axes_ls[idx]['mean'])\n",
    "    mesh_transform_ls.append(mesh_ls[idx].transform(matrix, inplace=False))"
   ]
  },
  {
   "cell_type": "markdown",
   "metadata": {},
   "source": [
    "### Remove disconnected parts"
   ]
  },
  {
   "cell_type": "code",
   "execution_count": 92,
   "metadata": {},
   "outputs": [],
   "source": [
    "mesh_fix_ls = []\n",
    "\n",
    "for mesh in mesh_transform_ls:\n",
    "    clean = mesh.clean()\n",
    "    bodies = clean.split_bodies()\n",
    "\n",
    "    point_nums = [len(body.points) for body in bodies]\n",
    "    max_index = point_nums.index(max(point_nums))\n",
    "    mesh_fix_ls.append(bodies[max_index].extract_surface())"
   ]
  },
  {
   "cell_type": "code",
   "execution_count": 93,
   "metadata": {},
   "outputs": [
    {
     "data": {
      "application/vnd.jupyter.widget-view+json": {
       "model_id": "af5bb4d4216c488db7bd17ec926bbf82",
       "version_major": 2,
       "version_minor": 0
      },
      "text/plain": [
       "Widget(value=\"<iframe src='http://localhost:64614/index.html?ui=P_0x7fb66965f4c0_19&reconnect=auto' style='wid…"
      ]
     },
     "metadata": {},
     "output_type": "display_data"
    }
   ],
   "source": [
    "import pyvista as pv\n",
    "\n",
    "# plot example\n",
    "scene = pv.Plotter()\n",
    "color_ls = ['r', 'g', 'b', 'y', 'm', 'c']\n",
    "\n",
    "for idx, body in enumerate(bodies):\n",
    "    scene.add_mesh(body.extract_surface(), opacity=0.5, color=color_ls[idx])\n",
    "\n",
    "scene.show()"
   ]
  },
  {
   "cell_type": "markdown",
   "metadata": {},
   "source": [
    "### Circumference calculation"
   ]
  },
  {
   "cell_type": "code",
   "execution_count": 96,
   "metadata": {},
   "outputs": [],
   "source": [
    "from mesh4d.analyse import measure\n",
    "\n",
    "cir_ls = []\n",
    "\n",
    "for frame in range(len(mesh_fix_ls)):\n",
    "    p4 = landmarks.markers['P4'].coord[:, frame]\n",
    "    p5 = landmarks.markers['P5'].coord[:, frame]\n",
    "    id4 = mesh_fix_ls[frame].find_closest_point(p4)\n",
    "    id5 = mesh_fix_ls[frame].find_closest_point(p5)\n",
    "\n",
    "    # extract geodesic path\n",
    "    path = mesh_fix_ls[frame].geodesic(id4, id5)\n",
    "\n",
    "    # estimate circumference plane\n",
    "    norm, center = measure.estimate_plane_from_points(path.points)\n",
    "    mesh_clip = mesh_fix_ls[frame].clip(norm, origin=center, invert=True)\n",
    "\n",
    "    # calculate circumference\n",
    "    boundary = mesh_clip.extract_feature_edges(boundary_edges=True, feature_edges=False, manifold_edges=False)\n",
    "    cir_ls.append(boundary.length)"
   ]
  },
  {
   "cell_type": "code",
   "execution_count": 98,
   "metadata": {},
   "outputs": [
    {
     "data": {
      "text/html": [
       "<div>\n",
       "<style scoped>\n",
       "    .dataframe tbody tr th:only-of-type {\n",
       "        vertical-align: middle;\n",
       "    }\n",
       "\n",
       "    .dataframe tbody tr th {\n",
       "        vertical-align: top;\n",
       "    }\n",
       "\n",
       "    .dataframe thead th {\n",
       "        text-align: right;\n",
       "    }\n",
       "</style>\n",
       "<table border=\"1\" class=\"dataframe\">\n",
       "  <thead>\n",
       "    <tr style=\"text-align: right;\">\n",
       "      <th></th>\n",
       "      <th>FL</th>\n",
       "      <th>MBL</th>\n",
       "      <th>LBL</th>\n",
       "      <th>ABW</th>\n",
       "      <th>OBW</th>\n",
       "      <th>OHW</th>\n",
       "      <th>BH</th>\n",
       "      <th>IH</th>\n",
       "      <th>ABG</th>\n",
       "    </tr>\n",
       "  </thead>\n",
       "  <tbody>\n",
       "    <tr>\n",
       "      <th>description</th>\n",
       "      <td>foot length</td>\n",
       "      <td>medial ball length</td>\n",
       "      <td>lateral ball length</td>\n",
       "      <td>anatomical ball width</td>\n",
       "      <td>orthogonal ball width</td>\n",
       "      <td>orthogonal heel width</td>\n",
       "      <td>ball heigh</td>\n",
       "      <td>instep height</td>\n",
       "      <td>anatomical ball girth</td>\n",
       "    </tr>\n",
       "    <tr>\n",
       "      <th>frame0</th>\n",
       "      <td>9.438303</td>\n",
       "      <td>36.844064</td>\n",
       "      <td>45.787799</td>\n",
       "      <td>84.808372</td>\n",
       "      <td>1.562493</td>\n",
       "      <td>4.246227</td>\n",
       "      <td>33.190416</td>\n",
       "      <td>46.391936</td>\n",
       "      <td>132.788938</td>\n",
       "    </tr>\n",
       "    <tr>\n",
       "      <th>frame1</th>\n",
       "      <td>8.651849</td>\n",
       "      <td>37.763568</td>\n",
       "      <td>49.8433</td>\n",
       "      <td>93.012446</td>\n",
       "      <td>3.082296</td>\n",
       "      <td>5.162034</td>\n",
       "      <td>36.835374</td>\n",
       "      <td>53.541192</td>\n",
       "      <td>126.761068</td>\n",
       "    </tr>\n",
       "    <tr>\n",
       "      <th>frame2</th>\n",
       "      <td>11.2752</td>\n",
       "      <td>32.129279</td>\n",
       "      <td>56.622528</td>\n",
       "      <td>93.468188</td>\n",
       "      <td>1.151417</td>\n",
       "      <td>12.351665</td>\n",
       "      <td>33.808143</td>\n",
       "      <td>47.29867</td>\n",
       "      <td>350.22798</td>\n",
       "    </tr>\n",
       "    <tr>\n",
       "      <th>frame3</th>\n",
       "      <td>11.202253</td>\n",
       "      <td>31.691739</td>\n",
       "      <td>58.005154</td>\n",
       "      <td>91.542056</td>\n",
       "      <td>0.723595</td>\n",
       "      <td>3.241977</td>\n",
       "      <td>32.514522</td>\n",
       "      <td>43.742458</td>\n",
       "      <td>130.161966</td>\n",
       "    </tr>\n",
       "    <tr>\n",
       "      <th>frame4</th>\n",
       "      <td>13.365737</td>\n",
       "      <td>29.528376</td>\n",
       "      <td>56.300205</td>\n",
       "      <td>86.982529</td>\n",
       "      <td>0.937706</td>\n",
       "      <td>9.352607</td>\n",
       "      <td>27.930671</td>\n",
       "      <td>40.848288</td>\n",
       "      <td>122.91516</td>\n",
       "    </tr>\n",
       "  </tbody>\n",
       "</table>\n",
       "</div>"
      ],
      "text/plain": [
       "                      FL                 MBL                  LBL  \\\n",
       "description  foot length  medial ball length  lateral ball length   \n",
       "frame0          9.438303           36.844064            45.787799   \n",
       "frame1          8.651849           37.763568              49.8433   \n",
       "frame2           11.2752           32.129279            56.622528   \n",
       "frame3         11.202253           31.691739            58.005154   \n",
       "frame4         13.365737           29.528376            56.300205   \n",
       "\n",
       "                               ABW                    OBW  \\\n",
       "description  anatomical ball width  orthogonal ball width   \n",
       "frame0                   84.808372               1.562493   \n",
       "frame1                   93.012446               3.082296   \n",
       "frame2                   93.468188               1.151417   \n",
       "frame3                   91.542056               0.723595   \n",
       "frame4                   86.982529               0.937706   \n",
       "\n",
       "                               OHW          BH             IH  \\\n",
       "description  orthogonal heel width  ball heigh  instep height   \n",
       "frame0                    4.246227   33.190416      46.391936   \n",
       "frame1                    5.162034   36.835374      53.541192   \n",
       "frame2                   12.351665   33.808143       47.29867   \n",
       "frame3                    3.241977   32.514522      43.742458   \n",
       "frame4                    9.352607   27.930671      40.848288   \n",
       "\n",
       "                               ABG  \n",
       "description  anatomical ball girth  \n",
       "frame0                  132.788938  \n",
       "frame1                  126.761068  \n",
       "frame2                   350.22798  \n",
       "frame3                  130.161966  \n",
       "frame4                   122.91516  "
      ]
     },
     "execution_count": 98,
     "metadata": {},
     "output_type": "execute_result"
    }
   ],
   "source": [
    "df['ABG'] = ['anatomical ball girth'] + cir_ls\n",
    "df"
   ]
  },
  {
   "cell_type": "code",
   "execution_count": 105,
   "metadata": {},
   "outputs": [
    {
     "data": {
      "application/vnd.jupyter.widget-view+json": {
       "model_id": "ed03d31888074429a2ea48ab94e83a48",
       "version_major": 2,
       "version_minor": 0
      },
      "text/plain": [
       "Widget(value=\"<iframe src='http://localhost:64614/index.html?ui=P_0x7fb6cb2fe5e0_26&reconnect=auto' style='wid…"
      ]
     },
     "metadata": {},
     "output_type": "display_data"
    }
   ],
   "source": [
    "scene = pv.Plotter()\n",
    "scene.add_mesh(mesh_fix_ls[frame], opacity=0.5, color='white')\n",
    "# scene.add_mesh(path, line_width=5, color='k')\n",
    "scene.add_mesh(mesh_clip, opacity=0.5, color='r')\n",
    "scene.add_mesh(boundary, color='b')\n",
    "scene.show()"
   ]
  },
  {
   "cell_type": "markdown",
   "metadata": {},
   "source": [
    "###  and length"
   ]
  },
  {
   "cell_type": "code",
   "execution_count": 89,
   "metadata": {},
   "outputs": [
    {
     "data": {
      "application/vnd.jupyter.widget-view+json": {
       "model_id": "1d123bc58acc487ea37b1353248e91c6",
       "version_major": 2,
       "version_minor": 0
      },
      "text/plain": [
       "Widget(value=\"<iframe src='http://localhost:64614/index.html?ui=P_0x7fb67baf9bb0_18&reconnect=auto' style='wid…"
      ]
     },
     "metadata": {},
     "output_type": "display_data"
    }
   ],
   "source": [
    "\n",
    "\n",
    "\n",
    "mesh_clip.plot()"
   ]
  },
  {
   "cell_type": "code",
   "execution_count": null,
   "metadata": {},
   "outputs": [],
   "source": []
  }
 ],
 "metadata": {
  "kernelspec": {
   "display_name": "mesh4d",
   "language": "python",
   "name": "python3"
  },
  "language_info": {
   "codemirror_mode": {
    "name": "ipython",
    "version": 3
   },
   "file_extension": ".py",
   "mimetype": "text/x-python",
   "name": "python",
   "nbconvert_exporter": "python",
   "pygments_lexer": "ipython3",
   "version": "3.9.16"
  }
 },
 "nbformat": 4,
 "nbformat_minor": 2
}
