{
 "cells": [
  {
   "cell_type": "markdown",
   "metadata": {},
   "source": [
    "## Data loading"
   ]
  },
  {
   "cell_type": "markdown",
   "metadata": {},
   "source": [
    "### Mesh loading & reorientation"
   ]
  },
  {
   "cell_type": "code",
   "execution_count": 1,
   "metadata": {},
   "outputs": [
    {
     "name": "stdout",
     "output_type": "stream",
     "text": [
      "[====================] 100.0% loading: /Users/knpob/Territory/Kolmo/data/DynaFootLite/Fast/Sub05_Fast_L1_102_143.000031.obj\n"
     ]
    }
   ],
   "source": [
    "from mesh4d import obj3d\n",
    "\n",
    "mesh_ls, _ = obj3d.load_mesh_series(\n",
    "    folder='/Users/knpob/Territory/Kolmo/data/DynaFootLite/Fast',\n",
    "    start=0,\n",
    "    stride=1,\n",
    "    end=4,\n",
    "    load_texture=False,\n",
    ")"
   ]
  },
  {
   "cell_type": "code",
   "execution_count": 2,
   "metadata": {},
   "outputs": [],
   "source": [
    "# helper functions\n",
    "def coord_cartesian2homo(vertices):\n",
    "    shape = list(vertices.shape)\n",
    "    shape[1] += 1\n",
    "\n",
    "    vertices_homo = np.ones(shape)\n",
    "    vertices_homo[:, :3] = vertices\n",
    "    return vertices_homo\n",
    "\n",
    "def coord_homo2cartesian(vertices_homo):\n",
    "    return vertices_homo[:, :3] / vertices_homo[:, [-1]]\n",
    "\n",
    "def transformation_matrix2global(axes, origin):\n",
    "    \"\"\"e(i) -> a_i + t\"\"\"\n",
    "    matrix = np.eye(4)\n",
    "    matrix[:3, :3] = axes.T\n",
    "    matrix[:3, 3] = origin\n",
    "    \n",
    "    return matrix\n",
    "\n",
    "def transformation_matrix2local(axes, origin):\n",
    "    \"\"\"a_i + t -> e(i)\"\"\"\n",
    "    matrix2golbal = transformation_matrix2global(axes, origin)\n",
    "    return np.linalg.inv(matrix2golbal)\n",
    "\n",
    "def transform(matrix, vertices):\n",
    "    vertices_homo = coord_cartesian2homo(vertices)\n",
    "    vertices_transform = (matrix @ vertices_homo.T).T\n",
    "    return coord_homo2cartesian(vertices_transform)"
   ]
  },
  {
   "cell_type": "code",
   "execution_count": 4,
   "metadata": {},
   "outputs": [],
   "source": [
    "import numpy as np\n",
    "from mesh4d import utils\n",
    "\n",
    "axes_ls = utils.load_pkl_object('output/axes/fast_axes.pkl')\n",
    "\n",
    "mesh_transform_ls = []\n",
    "\n",
    "for idx in range(len(mesh_ls)):\n",
    "    matrix = transformation_matrix2local(axes_ls[idx]['axes'], axes_ls[idx]['mean'])\n",
    "    mesh_transform_ls.append(mesh_ls[idx].transform(matrix, inplace=False))"
   ]
  },
  {
   "cell_type": "markdown",
   "metadata": {},
   "source": [
    "### Add ground points to landmarks"
   ]
  },
  {
   "cell_type": "code",
   "execution_count": 5,
   "metadata": {},
   "outputs": [
    {
     "data": {
      "text/plain": [
       "(5, 12, 3)"
      ]
     },
     "execution_count": 5,
     "metadata": {},
     "output_type": "execute_result"
    }
   ],
   "source": [
    "landmarks = utils.load_pkl_object('output/transform/fast_transform.pkl')\n",
    "landmarks.to_array()[0].shape"
   ]
  },
  {
   "cell_type": "code",
   "execution_count": 6,
   "metadata": {},
   "outputs": [
    {
     "data": {
      "text/plain": [
       "array([[-224.9362   ,  -94.49914  , -147.99239  ],\n",
       "       [-228.71582  , -142.8754   ,  -98.01931  ],\n",
       "       [-230.79794  , -141.10628  ,  -78.01176  ],\n",
       "       [-229.56525  , -145.3405   ,  -67.79389  ],\n",
       "       [ 129.44643  ,   -4.3073916, -123.388115 ]], dtype=float32)"
      ]
     },
     "execution_count": 6,
     "metadata": {},
     "output_type": "execute_result"
    }
   ],
   "source": [
    "ground_ls = []\n",
    "\n",
    "for frame in range(len(mesh_transform_ls)):\n",
    "    min_idx = mesh_transform_ls[frame].points[:, -1].argmin()\n",
    "    ground = mesh_transform_ls[frame].points[min_idx]\n",
    "    ground_ls.append(ground)\n",
    "\n",
    "ground_array = np.array(ground_ls)\n",
    "ground_array"
   ]
  },
  {
   "cell_type": "code",
   "execution_count": 7,
   "metadata": {},
   "outputs": [],
   "source": [
    "from mesh4d.kps import MarkerSet\n",
    "\n",
    "array, names = landmarks.to_array()\n",
    "landmarks.load_from_array(\n",
    "    array=np.concatenate([array, np.expand_dims(ground_array, axis=-2)], axis=-2),\n",
    "    index=names + ['Ground'],\n",
    "    )"
   ]
  },
  {
   "cell_type": "markdown",
   "metadata": {},
   "source": [
    "## Euclidean measurements\n",
    "\n",
    "> Zhang, L. Y., Yick, K. L., Yue, M. J., Yip, J., & Ng, S. P. (2023). An exploratory study of dynamic foot shape measurements with 4D scanning system. Scientific Reports, 13(1), 8628."
   ]
  },
  {
   "cell_type": "code",
   "execution_count": 8,
   "metadata": {},
   "outputs": [],
   "source": [
    "# helper functions\n",
    "def get(landmarks, marker_name, axis):\n",
    "    axis2idx = {\n",
    "        'x': 0,\n",
    "        'y': 1,\n",
    "        'z': 2\n",
    "    }\n",
    "    return landmarks.markers[marker_name].coord[axis2idx[axis]]\n",
    "\n",
    "def dist_along_axis(landmarks, marker1, marker2, axis, is_abs=True):\n",
    "    dist = landmarks.get(marker1, axis) - landmarks.get(marker2, axis)\n",
    "\n",
    "    if is_abs:\n",
    "        return np.abs(dist)\n",
    "    else:\n",
    "        return dist\n",
    "\n",
    "def dist(landmarks, marker1, marker2):\n",
    "    return np.linalg.norm(landmarks.markers[marker1].coord - landmarks.markers[marker2].coord, axis=0)\n",
    "\n",
    "def angle(landmarks, marker_origin, marker1, marker2):\n",
    "    v1 = (landmarks.markers[marker1].coord - landmarks.markers[marker_origin].coord).T\n",
    "    v2 = (landmarks.markers[marker2].coord - landmarks.markers[marker_origin].coord).T\n",
    "    cos = np.abs(np.sum(v1 * v2, axis=-1)) / np.linalg.norm(v1, axis=-1) / np.linalg.norm(v2, axis=-1)\n",
    "    return np.arccos(cos) / np.pi * 180\n",
    "\n",
    "type(landmarks).get = get\n",
    "type(landmarks).dist_along_axis = dist_along_axis\n",
    "type(landmarks).dist = dist\n",
    "type(landmarks).angle = angle"
   ]
  },
  {
   "cell_type": "code",
   "execution_count": 20,
   "metadata": {},
   "outputs": [],
   "source": [
    "metric = {}\n",
    "\n",
    "metric['FL'] = ['foot length (mm)']\\\n",
    "    + list(landmarks.dist_along_axis('P1', 'P10', 'x'))\n",
    "metric['MBL'] = ['medial ball length (mm)']\\\n",
    "    + list(landmarks.dist_along_axis('P4', 'P10', 'x'))\n",
    "metric['LBL'] = ['lateral ball length (mm)']\\\n",
    "    + list(landmarks.dist_along_axis('P5', 'P10', 'x'))\n",
    "metric['ABW'] = ['anatomical ball width (mm)']\\\n",
    "    + list(landmarks.dist('P4', 'P5'))\n",
    "metric['OBW'] = ['orthogonal ball width (mm)']\\\n",
    "    + list(landmarks.dist_along_axis('P4', 'P3', 'y'))\n",
    "metric['OHW'] = ['orthogonal heel width (mm)']\\\n",
    "    + list(landmarks.dist_along_axis('P9', 'P8', 'y'))\n",
    "metric['BH'] = ['ball heigh (mm)']\\\n",
    "    + list(landmarks.dist_along_axis('P6', 'Ground', 'z'))\n",
    "metric['IH'] = ['instep height (mm)']\\\n",
    "    + list(landmarks.dist_along_axis('P7', 'Ground', 'z'))\n",
    "metric['BA'] = ['ball angle (°)']\\\n",
    "    + list(landmarks.angle('P4', 'P5', 'P8'))\n",
    "metric['T1A'] = ['toe 1 angle (°)']\\\n",
    "    + list(180 - landmarks.angle('P4', 'P2', 'P8'))\n",
    "metric['T5A'] = ['toe 5 angle (°)']\\\n",
    "    + list(180 -landmarks.angle('P5', 'P3', 'P9'))"
   ]
  },
  {
   "cell_type": "code",
   "execution_count": 21,
   "metadata": {},
   "outputs": [
    {
     "data": {
      "text/html": [
       "<div>\n",
       "<style scoped>\n",
       "    .dataframe tbody tr th:only-of-type {\n",
       "        vertical-align: middle;\n",
       "    }\n",
       "\n",
       "    .dataframe tbody tr th {\n",
       "        vertical-align: top;\n",
       "    }\n",
       "\n",
       "    .dataframe thead th {\n",
       "        text-align: right;\n",
       "    }\n",
       "</style>\n",
       "<table border=\"1\" class=\"dataframe\">\n",
       "  <thead>\n",
       "    <tr style=\"text-align: right;\">\n",
       "      <th></th>\n",
       "      <th>FL</th>\n",
       "      <th>MBL</th>\n",
       "      <th>LBL</th>\n",
       "      <th>ABW</th>\n",
       "      <th>OBW</th>\n",
       "      <th>OHW</th>\n",
       "      <th>BH</th>\n",
       "      <th>IH</th>\n",
       "      <th>BA</th>\n",
       "      <th>T1A</th>\n",
       "      <th>T5A</th>\n",
       "    </tr>\n",
       "  </thead>\n",
       "  <tbody>\n",
       "    <tr>\n",
       "      <th>description</th>\n",
       "      <td>foot length (mm)</td>\n",
       "      <td>medial ball length (mm)</td>\n",
       "      <td>lateral ball length (mm)</td>\n",
       "      <td>anatomical ball width (mm)</td>\n",
       "      <td>orthogonal ball width (mm)</td>\n",
       "      <td>orthogonal heel width (mm)</td>\n",
       "      <td>ball heigh (mm)</td>\n",
       "      <td>instep height (mm)</td>\n",
       "      <td>ball angle (°)</td>\n",
       "      <td>toe 1 angle (°)</td>\n",
       "      <td>toe 5 angle (°)</td>\n",
       "    </tr>\n",
       "    <tr>\n",
       "      <th>frame0</th>\n",
       "      <td>228.929442</td>\n",
       "      <td>178.560646</td>\n",
       "      <td>147.469258</td>\n",
       "      <td>88.830776</td>\n",
       "      <td>84.793977</td>\n",
       "      <td>61.817895</td>\n",
       "      <td>181.182802</td>\n",
       "      <td>194.384322</td>\n",
       "      <td>66.26804</td>\n",
       "      <td>165.455793</td>\n",
       "      <td>158.918937</td>\n",
       "    </tr>\n",
       "    <tr>\n",
       "      <th>frame1</th>\n",
       "      <td>230.429632</td>\n",
       "      <td>179.662188</td>\n",
       "      <td>157.309931</td>\n",
       "      <td>90.728457</td>\n",
       "      <td>92.961361</td>\n",
       "      <td>60.53912</td>\n",
       "      <td>134.854684</td>\n",
       "      <td>151.560502</td>\n",
       "      <td>71.75427</td>\n",
       "      <td>163.050042</td>\n",
       "      <td>173.647398</td>\n",
       "    </tr>\n",
       "    <tr>\n",
       "      <th>frame2</th>\n",
       "      <td>233.210296</td>\n",
       "      <td>180.575976</td>\n",
       "      <td>150.312609</td>\n",
       "      <td>94.605167</td>\n",
       "      <td>93.461096</td>\n",
       "      <td>61.408464</td>\n",
       "      <td>111.8199</td>\n",
       "      <td>125.310427</td>\n",
       "      <td>68.52086</td>\n",
       "      <td>165.931926</td>\n",
       "      <td>177.084967</td>\n",
       "    </tr>\n",
       "    <tr>\n",
       "      <th>frame3</th>\n",
       "      <td>234.539181</td>\n",
       "      <td>180.787102</td>\n",
       "      <td>152.578999</td>\n",
       "      <td>94.922436</td>\n",
       "      <td>91.539196</td>\n",
       "      <td>56.851708</td>\n",
       "      <td>100.308414</td>\n",
       "      <td>111.53635</td>\n",
       "      <td>68.70604</td>\n",
       "      <td>169.38002</td>\n",
       "      <td>171.411398</td>\n",
       "    </tr>\n",
       "    <tr>\n",
       "      <th>frame4</th>\n",
       "      <td>229.204787</td>\n",
       "      <td>174.767692</td>\n",
       "      <td>139.38236</td>\n",
       "      <td>93.4495</td>\n",
       "      <td>86.977474</td>\n",
       "      <td>55.608276</td>\n",
       "      <td>151.318786</td>\n",
       "      <td>164.236403</td>\n",
       "      <td>64.495468</td>\n",
       "      <td>168.259939</td>\n",
       "      <td>162.257729</td>\n",
       "    </tr>\n",
       "  </tbody>\n",
       "</table>\n",
       "</div>"
      ],
      "text/plain": [
       "                           FL                      MBL  \\\n",
       "description  foot length (mm)  medial ball length (mm)   \n",
       "frame0             228.929442               178.560646   \n",
       "frame1             230.429632               179.662188   \n",
       "frame2             233.210296               180.575976   \n",
       "frame3             234.539181               180.787102   \n",
       "frame4             229.204787               174.767692   \n",
       "\n",
       "                                  LBL                         ABW  \\\n",
       "description  lateral ball length (mm)  anatomical ball width (mm)   \n",
       "frame0                     147.469258                   88.830776   \n",
       "frame1                     157.309931                   90.728457   \n",
       "frame2                     150.312609                   94.605167   \n",
       "frame3                     152.578999                   94.922436   \n",
       "frame4                      139.38236                     93.4495   \n",
       "\n",
       "                                    OBW                         OHW  \\\n",
       "description  orthogonal ball width (mm)  orthogonal heel width (mm)   \n",
       "frame0                        84.793977                   61.817895   \n",
       "frame1                        92.961361                    60.53912   \n",
       "frame2                        93.461096                   61.408464   \n",
       "frame3                        91.539196                   56.851708   \n",
       "frame4                        86.977474                   55.608276   \n",
       "\n",
       "                          BH                  IH              BA  \\\n",
       "description  ball heigh (mm)  instep height (mm)  ball angle (°)   \n",
       "frame0            181.182802          194.384322        66.26804   \n",
       "frame1            134.854684          151.560502        71.75427   \n",
       "frame2              111.8199          125.310427        68.52086   \n",
       "frame3            100.308414           111.53635        68.70604   \n",
       "frame4            151.318786          164.236403       64.495468   \n",
       "\n",
       "                         T1A              T5A  \n",
       "description  toe 1 angle (°)  toe 5 angle (°)  \n",
       "frame0            165.455793       158.918937  \n",
       "frame1            163.050042       173.647398  \n",
       "frame2            165.931926       177.084967  \n",
       "frame3             169.38002       171.411398  \n",
       "frame4            168.259939       162.257729  "
      ]
     },
     "execution_count": 21,
     "metadata": {},
     "output_type": "execute_result"
    }
   ],
   "source": [
    "import pandas as pd\n",
    "\n",
    "df = pd.DataFrame(metric, index=['description'] + [f'frame{idx}' for idx in range(len(landmarks.to_array()[0]))])\n",
    "df"
   ]
  },
  {
   "cell_type": "markdown",
   "metadata": {},
   "source": [
    "### Visualization"
   ]
  },
  {
   "cell_type": "code",
   "execution_count": 22,
   "metadata": {},
   "outputs": [
    {
     "data": {
      "text/plain": [
       "<Axes: >"
      ]
     },
     "execution_count": 22,
     "metadata": {},
     "output_type": "execute_result"
    },
    {
     "data": {
      "image/png": "[encoded data removed]",
      "text/plain": [
       "<Figure size 640x480 with 1 Axes>"
      ]
     },
     "metadata": {},
     "output_type": "display_data"
    }
   ],
   "source": [
    "df['frame0':'frame4'].plot()"
   ]
  },
  {
   "cell_type": "code",
   "execution_count": 47,
   "metadata": {},
   "outputs": [],
   "source": [
    "import pyvista as pv\n",
    "\n",
    "# helper function\n",
    "def plot_markers(scene, landmarks, marker_ls, frame_id=0, plot_label=False, **kwargs):\n",
    "    points = np.array([landmarks.markers[marker].coord[:, frame_id] for marker in marker_ls])\n",
    "    scene.add_points(points, render_points_as_spheres=True, point_size=10, **kwargs)\n",
    "\n",
    "    if plot_label:\n",
    "        scene.add_point_labels(points, marker_ls, font_size=20)\n",
    "\n",
    "    return points\n",
    "\n",
    "def plot_dist_along_axis(scene, landmarks, marker1, marker2, axis, frame_id=0, name='dist', **kwargs):\n",
    "    marker_points = plot_markers(scene, landmarks, [marker1, marker2], frame_id, **kwargs)\n",
    "\n",
    "    # plot axis frame\n",
    "    dx = dist_along_axis(landmarks, marker1, marker2, 'x', is_abs=False)[frame_id]\n",
    "    dy = dist_along_axis(landmarks, marker1, marker2, 'y', is_abs=False)[frame_id]\n",
    "    dz = dist_along_axis(landmarks, marker1, marker2, 'z', is_abs=False)[frame_id]\n",
    "\n",
    "    points = np.vstack([\n",
    "        marker_points[1],\n",
    "        marker_points[1] + np.array([dx, 0, 0]),\n",
    "        marker_points[1] + np.array([dx, dy, 0]),\n",
    "        marker_points[0],\n",
    "        ])\n",
    "    pdata = pv.PolyData(points)\n",
    "    pdata.lines = np.hstack([[2, 0, 1], [2, 1, 2], [2, 2, 3]])\n",
    "    scene.add_mesh(pdata, line_width=2, **kwargs)\n",
    "\n",
    "    # plot axis dist\n",
    "    if axis == 'x':\n",
    "        points = np.vstack([\n",
    "            marker_points[1],\n",
    "            marker_points[1] + np.array([dx, 0, 0]),\n",
    "            ])\n",
    "        scene.add_point_labels([marker_points[1] + np.array([dx/2, 0, 0]),], [name,])\n",
    "    \n",
    "    elif axis == 'y':\n",
    "        points = np.vstack([\n",
    "            marker_points[1] + np.array([dx, 0, 0]),\n",
    "            marker_points[1] + np.array([dx, dy, 0]),\n",
    "            ])\n",
    "        scene.add_point_labels([marker_points[1] + np.array([dx, dy/2, 0]),], [name,])\n",
    "        \n",
    "    elif axis=='z':\n",
    "        points = np.vstack([\n",
    "            marker_points[1] + np.array([dx, dy, 0]),\n",
    "            marker_points[0],\n",
    "            ])\n",
    "        scene.add_point_labels([marker_points[1] + np.array([dx, dy, dz/2]),], [name,])\n",
    "        \n",
    "    pdata = pv.PolyData(points)\n",
    "    pdata.lines = np.hstack([[2, 0, 1]])\n",
    "    scene.add_mesh(pdata, line_width=5, **kwargs)\n",
    "\n",
    "def plot_dist(scene, landmarks, marker1, marker2, frame_id=0, name='dist', **kwargs):\n",
    "    points = plot_markers(scene, landmarks, [marker1, marker2], frame_id, **kwargs)\n",
    "    lines = np.hstack([[2, 0, 1]])\n",
    "    pdata = pv.PolyData(points)\n",
    "    pdata.lines = lines\n",
    "    scene.add_mesh(pdata, line_width=5, **kwargs)\n",
    "    scene.add_point_labels([points.mean(axis=0),], [name,])\n",
    "\n",
    "def plot_angle(scene, landmarks, marker_origin, marker1, marker2, frame_id=0, name='angle', **kwargs):\n",
    "    points = plot_markers(scene, landmarks, [marker_origin, marker1, marker2], frame_id, **kwargs)\n",
    "    pdata = pv.PolyData(points)\n",
    "    pdata.lines = np.hstack([[2, 0, 1], [2, 0, 2]])\n",
    "    scene.add_mesh(pdata, line_width=3, **kwargs)\n",
    "    scene.add_point_labels(points.mean(axis=0), [name,])"
   ]
  },
  {
   "cell_type": "code",
   "execution_count": 24,
   "metadata": {},
   "outputs": [],
   "source": [
    "frame_id = 0\n",
    "\n",
    "axis_dist_dict = {\n",
    "    'FL': ['P1', 'P10', 'x'],\n",
    "    'MBL': ['P4', 'P10', 'x'],\n",
    "    'LBL': ['P5', 'P10', 'x'],\n",
    "    'OBW': ['P4', 'P3', 'y'],\n",
    "    'OHW': ['P9', 'P8', 'y'],\n",
    "    'BH': ['P6', 'Ground', 'z'],\n",
    "    'IH': ['P7', 'Ground', 'z'],\n",
    "}\n",
    "\n",
    "for name, [marker1, marker2, axis] in axis_dist_dict.items():\n",
    "    scene = pv.Plotter()\n",
    "    scene.add_mesh(mesh_transform_ls[frame_id], color='white', opacity=0.5)\n",
    "    plot_dist_along_axis(scene, landmarks, marker1, marker2, axis, frame_id, name=name, color='green')\n",
    "    scene.screenshot(f'output/measure/{name}.png')"
   ]
  },
  {
   "cell_type": "code",
   "execution_count": 25,
   "metadata": {},
   "outputs": [],
   "source": [
    "frame_id = 0\n",
    "\n",
    "dist_dict = {\n",
    "    'ABW': ['P4', 'P5'],\n",
    "}\n",
    "\n",
    "for name, [marker1, marker2] in dist_dict.items():\n",
    "    scene = pv.Plotter()\n",
    "    scene.add_mesh(mesh_transform_ls[frame_id], color='white', opacity=0.5)\n",
    "    plot_dist(scene, landmarks, marker1, marker2, frame_id, name=name, color='green')\n",
    "    scene.screenshot(f'output/measure/{name}.png')"
   ]
  },
  {
   "cell_type": "code",
   "execution_count": null,
   "metadata": {},
   "outputs": [],
   "source": [
    "frame_id = 0\n",
    "\n",
    "angle_dict = {\n",
    "    'BA': ['P4', 'P5', 'P8'],\n",
    "    'T1A': ['P4', 'P2', 'P8'],\n",
    "    'T5A': ['P5', 'P3', 'P9'],\n",
    "}\n",
    "\n",
    "for name, [marker_origin, marker1, marker2] in angle_dict.items():\n",
    "    scene = pv.Plotter()\n",
    "    scene.add_mesh(mesh_transform_ls[frame_id], color='white', opacity=0.5)\n",
    "    plot_angle(scene, landmarks, marker_origin, marker1, marker2, frame_id, name=name, color='green')\n",
    "    scene.screenshot(f'output/measure/{name}.png')"
   ]
  },
  {
   "cell_type": "markdown",
   "metadata": {},
   "source": [
    "## Manifold measurements"
   ]
  },
  {
   "cell_type": "markdown",
   "metadata": {},
   "source": [
    "### Remove disconnected parts"
   ]
  },
  {
   "cell_type": "code",
   "execution_count": 26,
   "metadata": {},
   "outputs": [],
   "source": [
    "mesh_fix_ls = []\n",
    "\n",
    "for mesh in mesh_transform_ls:\n",
    "    clean = mesh.clean()\n",
    "    bodies = clean.split_bodies()\n",
    "\n",
    "    point_nums = [len(body.points) for body in bodies]\n",
    "    max_index = point_nums.index(max(point_nums))\n",
    "    mesh_fix_ls.append(bodies[max_index].extract_surface())"
   ]
  },
  {
   "cell_type": "code",
   "execution_count": 27,
   "metadata": {},
   "outputs": [
    {
     "data": {
      "application/vnd.jupyter.widget-view+json": {
       "model_id": "02c08a601f7b4e34b3b2d19656acf37b",
       "version_major": 2,
       "version_minor": 0
      },
      "text/plain": [
       "Widget(value=\"<iframe src='http://localhost:54025/index.html?ui=P_0x7fe781ad3ee0_18&reconnect=auto' style='wid…"
      ]
     },
     "metadata": {},
     "output_type": "display_data"
    }
   ],
   "source": [
    "# plot example\n",
    "scene = pv.Plotter()\n",
    "color_ls = ['r', 'g', 'b', 'y', 'm', 'c']\n",
    "\n",
    "for idx, body in enumerate(bodies):\n",
    "    scene.add_mesh(body.extract_surface(), opacity=0.5, color=color_ls[idx])\n",
    "\n",
    "scene.show()"
   ]
  },
  {
   "cell_type": "markdown",
   "metadata": {},
   "source": [
    "### Circumference calculation"
   ]
  },
  {
   "cell_type": "code",
   "execution_count": 28,
   "metadata": {},
   "outputs": [],
   "source": [
    "from mesh4d.analyse import measure\n",
    "\n",
    "cir_ls = []\n",
    "\n",
    "for frame in range(len(mesh_fix_ls)):\n",
    "    p4 = landmarks.markers['P4'].coord[:, frame]\n",
    "    p5 = landmarks.markers['P5'].coord[:, frame]\n",
    "    id4 = mesh_fix_ls[frame].find_closest_point(p4)\n",
    "    id5 = mesh_fix_ls[frame].find_closest_point(p5)\n",
    "\n",
    "    # extract geodesic path\n",
    "    path = mesh_fix_ls[frame].geodesic(id4, id5)\n",
    "\n",
    "    # estimate circumference plane\n",
    "    norm, center = measure.estimate_plane_from_points(path.points)\n",
    "    mesh_clip = mesh_fix_ls[frame].clip(norm, origin=center, invert=True)\n",
    "\n",
    "    # calculate circumference\n",
    "    boundary = mesh_clip.extract_feature_edges(boundary_edges=True, feature_edges=False, manifold_edges=False)\n",
    "    cir_ls.append(boundary.length)"
   ]
  },
  {
   "cell_type": "code",
   "execution_count": 29,
   "metadata": {},
   "outputs": [
    {
     "data": {
      "text/html": [
       "<div>\n",
       "<style scoped>\n",
       "    .dataframe tbody tr th:only-of-type {\n",
       "        vertical-align: middle;\n",
       "    }\n",
       "\n",
       "    .dataframe tbody tr th {\n",
       "        vertical-align: top;\n",
       "    }\n",
       "\n",
       "    .dataframe thead th {\n",
       "        text-align: right;\n",
       "    }\n",
       "</style>\n",
       "<table border=\"1\" class=\"dataframe\">\n",
       "  <thead>\n",
       "    <tr style=\"text-align: right;\">\n",
       "      <th></th>\n",
       "      <th>FL</th>\n",
       "      <th>MBL</th>\n",
       "      <th>LBL</th>\n",
       "      <th>ABW</th>\n",
       "      <th>OBW</th>\n",
       "      <th>OHW</th>\n",
       "      <th>BH</th>\n",
       "      <th>IH</th>\n",
       "      <th>BA</th>\n",
       "      <th>T1A</th>\n",
       "      <th>T5A</th>\n",
       "      <th>ABG</th>\n",
       "    </tr>\n",
       "  </thead>\n",
       "  <tbody>\n",
       "    <tr>\n",
       "      <th>description</th>\n",
       "      <td>foot length (mm)</td>\n",
       "      <td>medial ball length (mm)</td>\n",
       "      <td>lateral ball length (mm)</td>\n",
       "      <td>anatomical ball width (mm)</td>\n",
       "      <td>orthogonal ball width (mm)</td>\n",
       "      <td>orthogonal heel width (mm)</td>\n",
       "      <td>ball heigh (mm)</td>\n",
       "      <td>instep height (mm)</td>\n",
       "      <td>ball angle (°)</td>\n",
       "      <td>toe 1 angle (°)</td>\n",
       "      <td>toe 5 angle (°)</td>\n",
       "      <td>anatomical ball girth</td>\n",
       "    </tr>\n",
       "    <tr>\n",
       "      <th>frame0</th>\n",
       "      <td>228.929442</td>\n",
       "      <td>178.560646</td>\n",
       "      <td>147.469258</td>\n",
       "      <td>88.830776</td>\n",
       "      <td>84.793977</td>\n",
       "      <td>61.817895</td>\n",
       "      <td>181.182802</td>\n",
       "      <td>194.384322</td>\n",
       "      <td>66.26804</td>\n",
       "      <td>165.455793</td>\n",
       "      <td>158.918937</td>\n",
       "      <td>132.788938</td>\n",
       "    </tr>\n",
       "    <tr>\n",
       "      <th>frame1</th>\n",
       "      <td>230.429632</td>\n",
       "      <td>179.662188</td>\n",
       "      <td>157.309931</td>\n",
       "      <td>90.728457</td>\n",
       "      <td>92.961361</td>\n",
       "      <td>60.53912</td>\n",
       "      <td>134.854684</td>\n",
       "      <td>151.560502</td>\n",
       "      <td>71.75427</td>\n",
       "      <td>163.050042</td>\n",
       "      <td>173.647398</td>\n",
       "      <td>126.761068</td>\n",
       "    </tr>\n",
       "    <tr>\n",
       "      <th>frame2</th>\n",
       "      <td>233.210296</td>\n",
       "      <td>180.575976</td>\n",
       "      <td>150.312609</td>\n",
       "      <td>94.605167</td>\n",
       "      <td>93.461096</td>\n",
       "      <td>61.408464</td>\n",
       "      <td>111.8199</td>\n",
       "      <td>125.310427</td>\n",
       "      <td>68.52086</td>\n",
       "      <td>165.931926</td>\n",
       "      <td>177.084967</td>\n",
       "      <td>350.22798</td>\n",
       "    </tr>\n",
       "    <tr>\n",
       "      <th>frame3</th>\n",
       "      <td>234.539181</td>\n",
       "      <td>180.787102</td>\n",
       "      <td>152.578999</td>\n",
       "      <td>94.922436</td>\n",
       "      <td>91.539196</td>\n",
       "      <td>56.851708</td>\n",
       "      <td>100.308414</td>\n",
       "      <td>111.53635</td>\n",
       "      <td>68.70604</td>\n",
       "      <td>169.38002</td>\n",
       "      <td>171.411398</td>\n",
       "      <td>130.161966</td>\n",
       "    </tr>\n",
       "    <tr>\n",
       "      <th>frame4</th>\n",
       "      <td>229.204787</td>\n",
       "      <td>174.767692</td>\n",
       "      <td>139.38236</td>\n",
       "      <td>93.4495</td>\n",
       "      <td>86.977474</td>\n",
       "      <td>55.608276</td>\n",
       "      <td>151.318786</td>\n",
       "      <td>164.236403</td>\n",
       "      <td>64.495468</td>\n",
       "      <td>168.259939</td>\n",
       "      <td>162.257729</td>\n",
       "      <td>122.91516</td>\n",
       "    </tr>\n",
       "  </tbody>\n",
       "</table>\n",
       "</div>"
      ],
      "text/plain": [
       "                           FL                      MBL  \\\n",
       "description  foot length (mm)  medial ball length (mm)   \n",
       "frame0             228.929442               178.560646   \n",
       "frame1             230.429632               179.662188   \n",
       "frame2             233.210296               180.575976   \n",
       "frame3             234.539181               180.787102   \n",
       "frame4             229.204787               174.767692   \n",
       "\n",
       "                                  LBL                         ABW  \\\n",
       "description  lateral ball length (mm)  anatomical ball width (mm)   \n",
       "frame0                     147.469258                   88.830776   \n",
       "frame1                     157.309931                   90.728457   \n",
       "frame2                     150.312609                   94.605167   \n",
       "frame3                     152.578999                   94.922436   \n",
       "frame4                      139.38236                     93.4495   \n",
       "\n",
       "                                    OBW                         OHW  \\\n",
       "description  orthogonal ball width (mm)  orthogonal heel width (mm)   \n",
       "frame0                        84.793977                   61.817895   \n",
       "frame1                        92.961361                    60.53912   \n",
       "frame2                        93.461096                   61.408464   \n",
       "frame3                        91.539196                   56.851708   \n",
       "frame4                        86.977474                   55.608276   \n",
       "\n",
       "                          BH                  IH              BA  \\\n",
       "description  ball heigh (mm)  instep height (mm)  ball angle (°)   \n",
       "frame0            181.182802          194.384322        66.26804   \n",
       "frame1            134.854684          151.560502        71.75427   \n",
       "frame2              111.8199          125.310427        68.52086   \n",
       "frame3            100.308414           111.53635        68.70604   \n",
       "frame4            151.318786          164.236403       64.495468   \n",
       "\n",
       "                         T1A              T5A                    ABG  \n",
       "description  toe 1 angle (°)  toe 5 angle (°)  anatomical ball girth  \n",
       "frame0            165.455793       158.918937             132.788938  \n",
       "frame1            163.050042       173.647398             126.761068  \n",
       "frame2            165.931926       177.084967              350.22798  \n",
       "frame3             169.38002       171.411398             130.161966  \n",
       "frame4            168.259939       162.257729              122.91516  "
      ]
     },
     "execution_count": 29,
     "metadata": {},
     "output_type": "execute_result"
    }
   ],
   "source": [
    "df['ABG'] = ['anatomical ball girth'] + cir_ls\n",
    "df"
   ]
  },
  {
   "cell_type": "markdown",
   "metadata": {},
   "source": [
    "### Visualization"
   ]
  },
  {
   "cell_type": "code",
   "execution_count": 37,
   "metadata": {},
   "outputs": [
    {
     "data": {
      "application/vnd.jupyter.widget-view+json": {
       "model_id": "a4f350ec4e544040ba669561febbde61",
       "version_major": 2,
       "version_minor": 0
      },
      "text/plain": [
       "Widget(value=\"<iframe src='http://localhost:54025/index.html?ui=P_0x7fe7b3eb06d0_26&reconnect=auto' style='wid…"
      ]
     },
     "metadata": {},
     "output_type": "display_data"
    }
   ],
   "source": [
    "scene = pv.Plotter()\n",
    "scene.add_mesh(mesh_fix_ls[frame], opacity=0.5, color='white')\n",
    "plot_markers(scene, landmarks, ['P4', 'P5'], frame, plot_label=True)\n",
    "scene.add_mesh(mesh_clip, opacity=0.5, color='r')\n",
    "scene.add_mesh(boundary, color='black')\n",
    "scene.screenshot('output/measure/ABG.png')\n",
    "scene.show()"
   ]
  },
  {
   "cell_type": "code",
   "execution_count": null,
   "metadata": {},
   "outputs": [],
   "source": []
  }
 ],
 "metadata": {
  "kernelspec": {
   "display_name": "mesh4d",
   "language": "python",
   "name": "python3"
  },
  "language_info": {
   "codemirror_mode": {
    "name": "ipython",
    "version": 3
   },
   "file_extension": ".py",
   "mimetype": "text/x-python",
   "name": "python",
   "nbconvert_exporter": "python",
   "pygments_lexer": "ipython3",
   "version": "3.9.16"
  }
 },
 "nbformat": 4,
 "nbformat_minor": 2
}
