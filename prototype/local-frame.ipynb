{
 "cells": [
  {
   "cell_type": "markdown",
   "metadata": {},
   "source": [
    "## Data loading"
   ]
  },
  {
   "cell_type": "code",
   "execution_count": 1,
   "metadata": {},
   "outputs": [],
   "source": [
    "import pyvista as pv\n",
    "\n",
    "foot = pv.read('/Users/knpob/Territory/Kolmo/data/DynaFootLite/Fast/Sub05_Fast_L1_102_143.000006.obj')"
   ]
  },
  {
   "cell_type": "code",
   "execution_count": 5,
   "metadata": {},
   "outputs": [
    {
     "data": {
      "text/plain": [
       "(34761, 3)"
      ]
     },
     "execution_count": 5,
     "metadata": {},
     "output_type": "execute_result"
    }
   ],
   "source": [
    "import numpy as np\n",
    "\n",
    "vertices = np.array(foot.points)\n",
    "vertices.shape"
   ]
  },
  {
   "cell_type": "markdown",
   "metadata": {},
   "source": [
    "## PCA"
   ]
  },
  {
   "cell_type": "code",
   "execution_count": 71,
   "metadata": {},
   "outputs": [
    {
     "data": {
      "text/plain": [
       "(array([[-0.02860285, -0.610531  , -0.79147565],\n",
       "        [-0.11746705,  0.78836614, -0.60388714],\n",
       "        [ 0.9926647 ,  0.0756994 , -0.0942668 ]], dtype=float32),\n",
       " array([107.83715 ,  59.626553,  28.893957], dtype=float32))"
      ]
     },
     "execution_count": 71,
     "metadata": {},
     "output_type": "execute_result"
    }
   ],
   "source": [
    "from sklearn.decomposition import PCA\n",
    "\n",
    "pca = PCA()\n",
    "pca.fit(vertices)\n",
    "\n",
    "stds = np.sqrt(pca.explained_variance_)\n",
    "axes = pca.components_\n",
    "axes, stds"
   ]
  },
  {
   "cell_type": "code",
   "execution_count": 87,
   "metadata": {},
   "outputs": [
    {
     "data": {
      "application/vnd.jupyter.widget-view+json": {
       "model_id": "40288d8692334e3a8333901e3312cfd4",
       "version_major": 2,
       "version_minor": 0
      },
      "text/plain": [
       "Widget(value=\"<iframe src='http://localhost:60157/index.html?ui=P_0x7fa091e800a0_51&reconnect=auto' style='wid…"
      ]
     },
     "metadata": {},
     "output_type": "display_data"
    }
   ],
   "source": [
    "import numpy as np\n",
    "\n",
    "scene = pv.Plotter()\n",
    "\n",
    "for i in range(3):\n",
    "    start_point = pca.mean_\n",
    "    end_point = pca.mean_ + 3 * stds[i] * axes[i]\n",
    "    scene.add_lines(np.array([start_point, end_point]), color='goldenrod')\n",
    "    scene.add_point_labels(\n",
    "        end_point, [f\"PC{i + 1}@({axes[i][0]:.2f}, {axes[i][1]:.2f}, {axes[i][2]:.2f})var{stds[i]:.2f}\"], \n",
    "        font_size=15, point_size=0, shape='rounded_rect',\n",
    "        point_color='goldenrod', always_visible=True,\n",
    "        )\n",
    "\n",
    "scene.add_mesh(foot, opacity=0.5)\n",
    "\n",
    "scene.camera_position = 'zy'\n",
    "scene.show()"
   ]
  },
  {
   "cell_type": "code",
   "execution_count": null,
   "metadata": {},
   "outputs": [],
   "source": []
  }
 ],
 "metadata": {
  "kernelspec": {
   "display_name": "mesh4d",
   "language": "python",
   "name": "python3"
  },
  "language_info": {
   "codemirror_mode": {
    "name": "ipython",
    "version": 3
   },
   "file_extension": ".py",
   "mimetype": "text/x-python",
   "name": "python",
   "nbconvert_exporter": "python",
   "pygments_lexer": "ipython3",
   "version": "3.9.16"
  }
 },
 "nbformat": 4,
 "nbformat_minor": 2
}
