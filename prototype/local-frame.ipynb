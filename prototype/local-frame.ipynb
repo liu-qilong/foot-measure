{
 "cells": [
  {
   "cell_type": "markdown",
   "metadata": {},
   "source": [
    "## Data loading"
   ]
  },
  {
   "cell_type": "code",
   "execution_count": 1,
   "metadata": {},
   "outputs": [
    {
     "name": "stdout",
     "output_type": "stream",
     "text": [
      "[====================] 100.0% loading: /Users/knpob/Territory/Kolmo/data/DynaFootLite/Fast/Sub05_Fast_L1_102_143.000031.obj\n"
     ]
    }
   ],
   "source": [
    "from mesh4d import obj3d\n",
    "\n",
    "mesh_ls, _ = obj3d.load_mesh_series(\n",
    "    folder='/Users/knpob/Territory/Kolmo/data/DynaFootLite/Fast',\n",
    "    start=0,\n",
    "    stride=1,\n",
    "    end=4,\n",
    "    load_texture=False,\n",
    ")"
   ]
  },
  {
   "cell_type": "code",
   "execution_count": 2,
   "metadata": {},
   "outputs": [],
   "source": [
    "from mesh4d import utils\n",
    "from mesh4d.analyse.crave import clip_with_contour\n",
    "\n",
    "landmarks = utils.load_pkl_object('output/fast.pkl')\n",
    "landmarks.interp_field()\n",
    "\n",
    "contour = landmarks.extract(('P7', 'P10', 'P11', 'P12'))\n",
    "mesh_clip_ls = clip_with_contour(mesh_ls, start_time=0, fps=40, contour=contour, clip_bound='', margin=0, invert=True)"
   ]
  },
  {
   "cell_type": "code",
   "execution_count": 3,
   "metadata": {},
   "outputs": [],
   "source": [
    "foot_ls = obj3d.init_obj_series(\n",
    "    mesh_clip_ls,\n",
    "    obj_type=obj3d.Obj3d_Deform\n",
    "    )"
   ]
  },
  {
   "cell_type": "markdown",
   "metadata": {},
   "source": [
    "## PCA axes"
   ]
  },
  {
   "cell_type": "code",
   "execution_count": 4,
   "metadata": {},
   "outputs": [],
   "source": [
    "import numpy as np\n",
    "from sklearn.decomposition import PCA\n",
    "\n",
    "def pca_axes(vertices):\n",
    "    pca = PCA()\n",
    "    pca.fit(vertices)\n",
    "\n",
    "    stds = np.sqrt(pca.explained_variance_)\n",
    "    axes = pca.components_  # (n_axes, n_coords)\n",
    "    mean = pca.mean_ # (n_coords)\n",
    "    return mean, axes, stds"
   ]
  },
  {
   "cell_type": "code",
   "execution_count": 5,
   "metadata": {},
   "outputs": [],
   "source": [
    "import pyvista as pv\n",
    "\n",
    "def draw_axes(mean, axes, stds, mesh, is_export: bool = False, export_path: str = ''):\n",
    "    scene = pv.Plotter()\n",
    "\n",
    "    for i in range(3):\n",
    "        start_point = mean\n",
    "        end_point = mean + 3 * stds[i] * axes[i]\n",
    "        scene.add_lines(np.array([start_point, end_point]), color='goldenrod')\n",
    "        scene.add_point_labels(\n",
    "            end_point, [f\"PC{i + 1}@({axes[i][0]:.2f}, {axes[i][1]:.2f}, {axes[i][2]:.2f})var{stds[i]:.2f}\"], \n",
    "            font_size=15, point_size=0, shape='rounded_rect',\n",
    "            point_color='goldenrod', always_visible=True,\n",
    "            )\n",
    "\n",
    "    scene.add_mesh(mesh, opacity=0.5)\n",
    "    scene.camera_position = 'zy'\n",
    "    \n",
    "    if is_export:\n",
    "        scene.screenshot(export_path)\n",
    "    else:\n",
    "        scene.show()"
   ]
  },
  {
   "cell_type": "code",
   "execution_count": 6,
   "metadata": {},
   "outputs": [
    {
     "name": "stdout",
     "output_type": "stream",
     "text": [
      "--------------------------------------------------\n",
      "origin: [ -19.35173802 -110.94776322   74.37263339]\n",
      "axes: [[ 0.19903776 -0.14165672  0.96969962]\n",
      " [-0.92427362 -0.3560279   0.13770409]\n",
      " [-0.32573341  0.92367608  0.20179257]]\n",
      "stds: [80.52793393 32.42319736 23.02691387]\n",
      "--------------------------------------------------\n",
      "origin: [ -22.42135458 -127.11639593   64.8034745 ]\n",
      "axes: [[ 0.20051408  0.02323243  0.97941531]\n",
      " [-0.94901286 -0.24361279  0.2000685 ]\n",
      " [-0.24324617  0.96959428  0.02679992]]\n",
      "stds: [83.00320047 33.24360171 25.43468768]\n",
      "--------------------------------------------------\n",
      "origin: [ -19.68341878 -132.24813197   59.90065043]\n",
      "axes: [[ 0.17702965  0.07655359  0.98122375]\n",
      " [-0.95378109 -0.23262645  0.19022768]\n",
      " [-0.24282121  0.9695486  -0.03183359]]\n",
      "stds: [81.78863716 34.32191984 23.11622719]\n",
      "--------------------------------------------------\n",
      "origin: [ -18.23912556 -128.04792848   59.43811265]\n",
      "axes: [[ 0.2030801   0.13585729  0.96969133]\n",
      " [-0.94794561 -0.22078855  0.22945922]\n",
      " [-0.24527045  0.96581324 -0.08394756]]\n",
      "stds: [83.55651996 33.78822419 22.06787456]\n",
      "--------------------------------------------------\n",
      "origin: [ -18.34636964 -113.5471129    54.2051071 ]\n",
      "axes: [[ 0.19280286  0.32678208  0.92522458]\n",
      " [-0.92239712 -0.26125029  0.28448522]\n",
      " [-0.33467987  0.90827405 -0.25105305]]\n",
      "stds: [80.16409504 32.67287777 20.57002667]\n"
     ]
    }
   ],
   "source": [
    "import os\n",
    "\n",
    "axes_ls = []\n",
    "\n",
    "for idx in range(5):\n",
    "    vertices = landmarks.to_array()[0][idx][:10]\n",
    "    mean, axes, stds = pca_axes(vertices)\n",
    "    axes_ls.append({'mean': mean, 'axes': axes, 'stds': stds})\n",
    "    \n",
    "    # visual\n",
    "    draw_axes(mean, axes, stds, mesh_ls[idx], is_export=True, export_path=os.path.join('output', 'axes', f'fast_axes_{idx}.png'))\n",
    "    print('-'*50)\n",
    "    print(f'origin: {mean}\\naxes: {axes}\\nstds: {stds}')\n",
    "    "
   ]
  },
  {
   "cell_type": "code",
   "execution_count": 83,
   "metadata": {},
   "outputs": [
    {
     "data": {
      "text/plain": [
       "[{'mean': array([ -19.35173802, -110.94776322,   74.37263339]),\n",
       "  'axes': array([[ 0.19903776, -0.14165672,  0.96969962],\n",
       "         [-0.92427362, -0.3560279 ,  0.13770409],\n",
       "         [-0.32573341,  0.92367608,  0.20179257]]),\n",
       "  'stds': array([80.52793393, 32.42319736, 23.02691387])},\n",
       " {'mean': array([ -22.42135458, -127.11639593,   64.8034745 ]),\n",
       "  'axes': array([[ 0.20051408,  0.02323243,  0.97941531],\n",
       "         [-0.94901286, -0.24361279,  0.2000685 ],\n",
       "         [-0.24324617,  0.96959428,  0.02679992]]),\n",
       "  'stds': array([83.00320047, 33.24360171, 25.43468768])},\n",
       " {'mean': array([ -19.68341878, -132.24813197,   59.90065043]),\n",
       "  'axes': array([[ 0.17702965,  0.07655359,  0.98122375],\n",
       "         [-0.95378109, -0.23262645,  0.19022768],\n",
       "         [-0.24282121,  0.9695486 , -0.03183359]]),\n",
       "  'stds': array([81.78863716, 34.32191984, 23.11622719])},\n",
       " {'mean': array([ -18.23912556, -128.04792848,   59.43811265]),\n",
       "  'axes': array([[ 0.2030801 ,  0.13585729,  0.96969133],\n",
       "         [-0.94794561, -0.22078855,  0.22945922],\n",
       "         [-0.24527045,  0.96581324, -0.08394756]]),\n",
       "  'stds': array([83.55651996, 33.78822419, 22.06787456])},\n",
       " {'mean': array([ -18.34636964, -113.5471129 ,   54.2051071 ]),\n",
       "  'axes': array([[ 0.19280286,  0.32678208,  0.92522458],\n",
       "         [-0.92239712, -0.26125029,  0.28448522],\n",
       "         [-0.33467987,  0.90827405, -0.25105305]]),\n",
       "  'stds': array([80.16409504, 32.67287777, 20.57002667])}]"
      ]
     },
     "execution_count": 83,
     "metadata": {},
     "output_type": "execute_result"
    }
   ],
   "source": [
    "axes_ls"
   ]
  },
  {
   "cell_type": "code",
   "execution_count": 86,
   "metadata": {},
   "outputs": [],
   "source": [
    "from mesh4d import utils\n",
    "\n",
    "utils.save_pkl_object(axes_ls, 'output/axes', 'fast_axes')"
   ]
  },
  {
   "cell_type": "markdown",
   "metadata": {},
   "source": [
    "## Convert to local frames\n",
    "\n",
    "$$M (a_i + t) = e(i)$$\n",
    "$$\\Rightarrow M (A + t) = I$$\n",
    "$$\\Rightarrow M = (A + t)^{-1}$$"
   ]
  },
  {
   "cell_type": "code",
   "execution_count": 7,
   "metadata": {},
   "outputs": [],
   "source": [
    "def coord_cartesian2homo(vertices):\n",
    "    shape = list(vertices.shape)\n",
    "    shape[1] += 1\n",
    "\n",
    "    vertices_homo = np.ones(shape)\n",
    "    vertices_homo[:, :3] = vertices\n",
    "    return vertices_homo"
   ]
  },
  {
   "cell_type": "code",
   "execution_count": 79,
   "metadata": {},
   "outputs": [],
   "source": [
    "def coord_homo2cartesian(vertices_homo):\n",
    "    return vertices_homo[:, :3] / vertices_homo[:, [-1]]"
   ]
  },
  {
   "cell_type": "code",
   "execution_count": 59,
   "metadata": {},
   "outputs": [],
   "source": [
    "def transformation_matrix2global(axes, origin):\n",
    "    \"\"\"e(i) -> a_i + t\"\"\"\n",
    "    matrix = np.eye(4)\n",
    "    matrix[:3, :3] = axes.T\n",
    "    matrix[:3, 3] = origin\n",
    "    \n",
    "    return matrix"
   ]
  },
  {
   "cell_type": "code",
   "execution_count": 60,
   "metadata": {},
   "outputs": [],
   "source": [
    "def transformation_matrix2local(axes, origin):\n",
    "    \"\"\"a_i + t -> e(i)\"\"\"\n",
    "    matrix2golbal = transformation_matrix2global(axes, origin)\n",
    "    return np.linalg.inv(matrix2golbal)"
   ]
  },
  {
   "cell_type": "code",
   "execution_count": 64,
   "metadata": {},
   "outputs": [],
   "source": [
    "def transform(matrix, vertices):\n",
    "    vertices_homo = coord_cartesian2homo(vertices)\n",
    "    vertices_transform = (matrix @ vertices_homo.T).T\n",
    "    return coord_homo2cartesian(vertices_transform)"
   ]
  },
  {
   "cell_type": "code",
   "execution_count": 81,
   "metadata": {},
   "outputs": [],
   "source": [
    "arr, names = landmarks.to_array()\n",
    "arr_transform = []\n",
    "\n",
    "for idx in range(len(mesh_clip_ls)):\n",
    "    matrix = transformation_matrix2local(axes_ls[idx]['axes'], axes_ls[idx]['mean'])\n",
    "    mesh_transform = mesh_clip_ls[idx].transform(matrix, inplace=False)\n",
    "\n",
    "    vertices = arr[idx]\n",
    "    vertices_transform = transform(matrix, arr[idx])\n",
    "    arr_transform.append(vertices_transform)\n",
    "\n",
    "    # visual\n",
    "    scene = pv.Plotter()\n",
    "    scene.add_mesh(mesh_transform, opacity=0.5, color='goldenrod')\n",
    "    scene.add_mesh(mesh_clip_ls[idx], opacity=0.5)\n",
    "    scene.add_points(vertices, color='black', point_size=10, render_points_as_spheres=True)\n",
    "    scene.add_points(vertices_transform, color='red', point_size=10, render_points_as_spheres=True)\n",
    "    scene.screenshot(os.path.join('output', 'transform', f'fast_transform_{idx}.png'))\n",
    "\n",
    "arr_transform = np.array(arr_transform)"
   ]
  },
  {
   "cell_type": "code",
   "execution_count": 82,
   "metadata": {},
   "outputs": [],
   "source": [
    "from mesh4d import kps\n",
    "\n",
    "landmarks_transform = kps.MarkerSet()\n",
    "landmarks_transform.load_from_array(arr_transform, start_time=0, fps=landmarks.fps, index=names)\n",
    "landmarks_transform.interp_field()\n",
    "utils.save_pkl_object(landmarks_transform, 'output/transform', 'fast_transform')"
   ]
  },
  {
   "cell_type": "code",
   "execution_count": null,
   "metadata": {},
   "outputs": [],
   "source": []
  }
 ],
 "metadata": {
  "kernelspec": {
   "display_name": "mesh4d",
   "language": "python",
   "name": "python3"
  },
  "language_info": {
   "codemirror_mode": {
    "name": "ipython",
    "version": 3
   },
   "file_extension": ".py",
   "mimetype": "text/x-python",
   "name": "python",
   "nbconvert_exporter": "python",
   "pygments_lexer": "ipython3",
   "version": "3.9.16"
  }
 },
 "nbformat": 4,
 "nbformat_minor": 2
}
