{
 "cells": [
  {
   "cell_type": "code",
   "execution_count": 56,
   "metadata": {},
   "outputs": [],
   "source": [
    "import sys\n",
    "sys.path.append(\"..\")"
   ]
  },
  {
   "cell_type": "code",
   "execution_count": 57,
   "metadata": {},
   "outputs": [],
   "source": [
    "label_path = '../output/test.pkl'\n",
    "file = '/Users/knpob/Territory/Kolmo/code/foot-measure/data/22.obj'\n",
    "is_plot = True"
   ]
  },
  {
   "cell_type": "markdown",
   "metadata": {},
   "source": [
    "## Load landmarks labelling"
   ]
  },
  {
   "cell_type": "code",
   "execution_count": 58,
   "metadata": {},
   "outputs": [
    {
     "data": {
      "text/html": [
       "<div>\n",
       "<style scoped>\n",
       "    .dataframe tbody tr th:only-of-type {\n",
       "        vertical-align: middle;\n",
       "    }\n",
       "\n",
       "    .dataframe tbody tr th {\n",
       "        vertical-align: top;\n",
       "    }\n",
       "\n",
       "    .dataframe thead th {\n",
       "        text-align: right;\n",
       "    }\n",
       "</style>\n",
       "<table border=\"1\" class=\"dataframe\">\n",
       "  <thead>\n",
       "    <tr style=\"text-align: right;\">\n",
       "      <th></th>\n",
       "      <th>coord</th>\n",
       "      <th>x</th>\n",
       "      <th>y</th>\n",
       "      <th>z</th>\n",
       "    </tr>\n",
       "    <tr>\n",
       "      <th>file</th>\n",
       "      <th>landmark</th>\n",
       "      <th></th>\n",
       "      <th></th>\n",
       "      <th></th>\n",
       "    </tr>\n",
       "  </thead>\n",
       "  <tbody>\n",
       "    <tr>\n",
       "      <th rowspan=\"12\" valign=\"top\">/Users/knpob/Territory/Kolmo/code/foot-measure/data/22.obj</th>\n",
       "      <th>P1</th>\n",
       "      <td>5.403781</td>\n",
       "      <td>-148.230339</td>\n",
       "      <td>-89.845244</td>\n",
       "    </tr>\n",
       "    <tr>\n",
       "      <th>P10</th>\n",
       "      <td>37.420189</td>\n",
       "      <td>-134.368848</td>\n",
       "      <td>130.528426</td>\n",
       "    </tr>\n",
       "    <tr>\n",
       "      <th>P11</th>\n",
       "      <td>60.707325</td>\n",
       "      <td>-83.435721</td>\n",
       "      <td>56.076134</td>\n",
       "    </tr>\n",
       "    <tr>\n",
       "      <th>P12</th>\n",
       "      <td>-13.437896</td>\n",
       "      <td>-100.379473</td>\n",
       "      <td>73.471696</td>\n",
       "    </tr>\n",
       "    <tr>\n",
       "      <th>P2</th>\n",
       "      <td>39.791413</td>\n",
       "      <td>-151.940277</td>\n",
       "      <td>-79.201353</td>\n",
       "    </tr>\n",
       "    <tr>\n",
       "      <th>P3</th>\n",
       "      <td>-36.608820</td>\n",
       "      <td>-149.343529</td>\n",
       "      <td>-43.588958</td>\n",
       "    </tr>\n",
       "    <tr>\n",
       "      <th>P4</th>\n",
       "      <td>60.029866</td>\n",
       "      <td>-143.176643</td>\n",
       "      <td>-43.305646</td>\n",
       "    </tr>\n",
       "    <tr>\n",
       "      <th>P5</th>\n",
       "      <td>-34.857391</td>\n",
       "      <td>-146.440812</td>\n",
       "      <td>-9.256272</td>\n",
       "    </tr>\n",
       "    <tr>\n",
       "      <th>P6</th>\n",
       "      <td>25.580183</td>\n",
       "      <td>-99.863963</td>\n",
       "      <td>7.762573</td>\n",
       "    </tr>\n",
       "    <tr>\n",
       "      <th>P7</th>\n",
       "      <td>25.017647</td>\n",
       "      <td>-90.009337</td>\n",
       "      <td>23.855555</td>\n",
       "    </tr>\n",
       "    <tr>\n",
       "      <th>P8</th>\n",
       "      <td>62.422166</td>\n",
       "      <td>-132.355347</td>\n",
       "      <td>91.321825</td>\n",
       "    </tr>\n",
       "    <tr>\n",
       "      <th>P9</th>\n",
       "      <td>5.118006</td>\n",
       "      <td>-138.997939</td>\n",
       "      <td>106.235944</td>\n",
       "    </tr>\n",
       "  </tbody>\n",
       "</table>\n",
       "</div>"
      ],
      "text/plain": [
       "coord                                                                x  \\\n",
       "file                                               landmark              \n",
       "/Users/knpob/Territory/Kolmo/code/foot-measure/... P1         5.403781   \n",
       "                                                   P10       37.420189   \n",
       "                                                   P11       60.707325   \n",
       "                                                   P12      -13.437896   \n",
       "                                                   P2        39.791413   \n",
       "                                                   P3       -36.608820   \n",
       "                                                   P4        60.029866   \n",
       "                                                   P5       -34.857391   \n",
       "                                                   P6        25.580183   \n",
       "                                                   P7        25.017647   \n",
       "                                                   P8        62.422166   \n",
       "                                                   P9         5.118006   \n",
       "\n",
       "coord                                                                 y  \\\n",
       "file                                               landmark               \n",
       "/Users/knpob/Territory/Kolmo/code/foot-measure/... P1       -148.230339   \n",
       "                                                   P10      -134.368848   \n",
       "                                                   P11       -83.435721   \n",
       "                                                   P12      -100.379473   \n",
       "                                                   P2       -151.940277   \n",
       "                                                   P3       -149.343529   \n",
       "                                                   P4       -143.176643   \n",
       "                                                   P5       -146.440812   \n",
       "                                                   P6        -99.863963   \n",
       "                                                   P7        -90.009337   \n",
       "                                                   P8       -132.355347   \n",
       "                                                   P9       -138.997939   \n",
       "\n",
       "coord                                                                 z  \n",
       "file                                               landmark              \n",
       "/Users/knpob/Territory/Kolmo/code/foot-measure/... P1        -89.845244  \n",
       "                                                   P10       130.528426  \n",
       "                                                   P11        56.076134  \n",
       "                                                   P12        73.471696  \n",
       "                                                   P2        -79.201353  \n",
       "                                                   P3        -43.588958  \n",
       "                                                   P4        -43.305646  \n",
       "                                                   P5         -9.256272  \n",
       "                                                   P6          7.762573  \n",
       "                                                   P7         23.855555  \n",
       "                                                   P8         91.321825  \n",
       "                                                   P9        106.235944  "
      ]
     },
     "execution_count": 58,
     "metadata": {},
     "output_type": "execute_result"
    }
   ],
   "source": [
    "import pandas as pd\n",
    "\n",
    "df = pd.read_pickle(label_path)\n",
    "df"
   ]
  },
  {
   "cell_type": "markdown",
   "metadata": {},
   "source": [
    "## Local frame"
   ]
  },
  {
   "cell_type": "code",
   "execution_count": 59,
   "metadata": {},
   "outputs": [
    {
     "data": {
      "application/vnd.jupyter.widget-view+json": {
       "model_id": "4586e140f56e439db385c8d2d1cac814",
       "version_major": 2,
       "version_minor": 0
      },
      "text/plain": [
       "Widget(value=\"<iframe src='http://localhost:57332/index.html?ui=P_0x7f84d36de190_28&reconnect=auto' style='wid…"
      ]
     },
     "metadata": {},
     "output_type": "display_data"
    }
   ],
   "source": [
    "import pyvista as pv\n",
    "from measure import frame, visual\n",
    "from mesh4d.analyse import crave\n",
    "\n",
    "mesh = crave.fix_pvmesh_disconnect(pv.read(file))\n",
    "axes_frame, origin = frame.estimate_foot_frame(mesh, file, df)\n",
    "\n",
    "if is_plot:\n",
    "    visual.plot_axes(origin, axes_frame, mesh)"
   ]
  },
  {
   "cell_type": "code",
   "execution_count": 60,
   "metadata": {},
   "outputs": [
    {
     "data": {
      "application/vnd.jupyter.widget-view+json": {
       "model_id": "b13adbb0cf3f4386bc578d31531878e5",
       "version_major": 2,
       "version_minor": 0
      },
      "text/plain": [
       "Widget(value=\"<iframe src='http://localhost:57332/index.html?ui=P_0x7f84b0ea5b80_29&reconnect=auto' style='wid…"
      ]
     },
     "metadata": {},
     "output_type": "display_data"
    }
   ],
   "source": [
    "mesh_clip = frame.foot_clip(mesh, df, file)\n",
    "mesh_local = frame.foot2local(mesh_clip, axes_frame, origin)\n",
    "\n",
    "if is_plot:\n",
    "    mesh_local.plot()"
   ]
  },
  {
   "cell_type": "code",
   "execution_count": 61,
   "metadata": {},
   "outputs": [
    {
     "data": {
      "text/html": [
       "<div>\n",
       "<style scoped>\n",
       "    .dataframe tbody tr th:only-of-type {\n",
       "        vertical-align: middle;\n",
       "    }\n",
       "\n",
       "    .dataframe tbody tr th {\n",
       "        vertical-align: top;\n",
       "    }\n",
       "\n",
       "    .dataframe thead th {\n",
       "        text-align: right;\n",
       "    }\n",
       "</style>\n",
       "<table border=\"1\" class=\"dataframe\">\n",
       "  <thead>\n",
       "    <tr style=\"text-align: right;\">\n",
       "      <th></th>\n",
       "      <th>coord</th>\n",
       "      <th>x</th>\n",
       "      <th>y</th>\n",
       "      <th>z</th>\n",
       "    </tr>\n",
       "    <tr>\n",
       "      <th>file</th>\n",
       "      <th>landmark</th>\n",
       "      <th></th>\n",
       "      <th></th>\n",
       "      <th></th>\n",
       "    </tr>\n",
       "  </thead>\n",
       "  <tbody>\n",
       "    <tr>\n",
       "      <th rowspan=\"12\" valign=\"top\">/Users/knpob/Territory/Kolmo/code/foot-measure/data/22.obj</th>\n",
       "      <th>P1</th>\n",
       "      <td>96.988697</td>\n",
       "      <td>1.732191</td>\n",
       "      <td>22.840222</td>\n",
       "    </tr>\n",
       "    <tr>\n",
       "      <th>P10</th>\n",
       "      <td>-125.356467</td>\n",
       "      <td>-13.248616</td>\n",
       "      <td>16.990838</td>\n",
       "    </tr>\n",
       "    <tr>\n",
       "      <th>P11</th>\n",
       "      <td>-56.817110</td>\n",
       "      <td>-47.454658</td>\n",
       "      <td>70.588888</td>\n",
       "    </tr>\n",
       "    <tr>\n",
       "      <th>P12</th>\n",
       "      <td>-68.192168</td>\n",
       "      <td>29.177257</td>\n",
       "      <td>60.204955</td>\n",
       "    </tr>\n",
       "    <tr>\n",
       "      <th>P2</th>\n",
       "      <td>84.578820</td>\n",
       "      <td>-31.137591</td>\n",
       "      <td>14.799827</td>\n",
       "    </tr>\n",
       "    <tr>\n",
       "      <th>P3</th>\n",
       "      <td>53.644933</td>\n",
       "      <td>47.318385</td>\n",
       "      <td>22.687951</td>\n",
       "    </tr>\n",
       "    <tr>\n",
       "      <th>P4</th>\n",
       "      <td>46.912579</td>\n",
       "      <td>-49.115611</td>\n",
       "      <td>18.738618</td>\n",
       "    </tr>\n",
       "    <tr>\n",
       "      <th>P5</th>\n",
       "      <td>19.144668</td>\n",
       "      <td>48.122008</td>\n",
       "      <td>22.850279</td>\n",
       "    </tr>\n",
       "    <tr>\n",
       "      <th>P6</th>\n",
       "      <td>-5.261559</td>\n",
       "      <td>-14.980776</td>\n",
       "      <td>61.511911</td>\n",
       "    </tr>\n",
       "    <tr>\n",
       "      <th>P7</th>\n",
       "      <td>-22.031736</td>\n",
       "      <td>-14.062715</td>\n",
       "      <td>70.157216</td>\n",
       "    </tr>\n",
       "    <tr>\n",
       "      <th>P8</th>\n",
       "      <td>-88.051106</td>\n",
       "      <td>-41.470343</td>\n",
       "      <td>19.283884</td>\n",
       "    </tr>\n",
       "    <tr>\n",
       "      <th>P9</th>\n",
       "      <td>-98.824266</td>\n",
       "      <td>17.245417</td>\n",
       "      <td>17.550502</td>\n",
       "    </tr>\n",
       "  </tbody>\n",
       "</table>\n",
       "</div>"
      ],
      "text/plain": [
       "coord                                                                 x  \\\n",
       "file                                               landmark               \n",
       "/Users/knpob/Territory/Kolmo/code/foot-measure/... P1         96.988697   \n",
       "                                                   P10      -125.356467   \n",
       "                                                   P11       -56.817110   \n",
       "                                                   P12       -68.192168   \n",
       "                                                   P2         84.578820   \n",
       "                                                   P3         53.644933   \n",
       "                                                   P4         46.912579   \n",
       "                                                   P5         19.144668   \n",
       "                                                   P6         -5.261559   \n",
       "                                                   P7        -22.031736   \n",
       "                                                   P8        -88.051106   \n",
       "                                                   P9        -98.824266   \n",
       "\n",
       "coord                                                                y  \\\n",
       "file                                               landmark              \n",
       "/Users/knpob/Territory/Kolmo/code/foot-measure/... P1         1.732191   \n",
       "                                                   P10      -13.248616   \n",
       "                                                   P11      -47.454658   \n",
       "                                                   P12       29.177257   \n",
       "                                                   P2       -31.137591   \n",
       "                                                   P3        47.318385   \n",
       "                                                   P4       -49.115611   \n",
       "                                                   P5        48.122008   \n",
       "                                                   P6       -14.980776   \n",
       "                                                   P7       -14.062715   \n",
       "                                                   P8       -41.470343   \n",
       "                                                   P9        17.245417   \n",
       "\n",
       "coord                                                                z  \n",
       "file                                               landmark             \n",
       "/Users/knpob/Territory/Kolmo/code/foot-measure/... P1        22.840222  \n",
       "                                                   P10       16.990838  \n",
       "                                                   P11       70.588888  \n",
       "                                                   P12       60.204955  \n",
       "                                                   P2        14.799827  \n",
       "                                                   P3        22.687951  \n",
       "                                                   P4        18.738618  \n",
       "                                                   P5        22.850279  \n",
       "                                                   P6        61.511911  \n",
       "                                                   P7        70.157216  \n",
       "                                                   P8        19.283884  \n",
       "                                                   P9        17.550502  "
      ]
     },
     "execution_count": 61,
     "metadata": {},
     "output_type": "execute_result"
    }
   ],
   "source": [
    "df_local = frame.df2local(df, axes_frame, origin)\n",
    "df_local"
   ]
  },
  {
   "cell_type": "markdown",
   "metadata": {},
   "source": [
    "## Metrics"
   ]
  },
  {
   "cell_type": "code",
   "execution_count": 62,
   "metadata": {},
   "outputs": [],
   "source": [
    "results = [\n",
    "    {\n",
    "        'file': 'description',\n",
    "        'FL': 'foot length (mm)',\n",
    "        'MBL': 'medial ball length (mm)',\n",
    "        'LBL': 'lateral ball length (mm)',\n",
    "        'ABW': 'anatomical ball width (mm)',\n",
    "        'OBW': 'orthogonal ball width (mm)',\n",
    "        'OHW': 'orthogonal heel width (mm)',\n",
    "        'BH': 'ball heigh (mm)',\n",
    "        'IH': 'instep height (mm)',\n",
    "        'BA': 'ball angle (°)',\n",
    "        'T1A': 'toe 1 angle (°)',\n",
    "        'T5A': 'toe 5 angle (°)',\n",
    "        'ABG': 'anatomical ball girth (mm)',\n",
    "        'IG': 'instep girth (mm)',\n",
    "    }\n",
    "]"
   ]
  },
  {
   "cell_type": "code",
   "execution_count": 63,
   "metadata": {},
   "outputs": [],
   "source": [
    "from measure import metric\n",
    "\n",
    "results.append(\n",
    "    {\n",
    "        'file': file,\n",
    "        'FL': metric.fl(df_local, file),\n",
    "        'MBL': metric.mbl(df_local, file),\n",
    "        'LBL': metric.lbl(df_local, file),\n",
    "        'ABW': metric.abw(df_local, file),\n",
    "        'OBW': metric.obw(df_local, file),\n",
    "        'OHW': metric.ohw(df_local, file),\n",
    "        'BH': metric.bh(df_local, file),\n",
    "        'IH': metric.ih(df_local, file),\n",
    "        'BA': metric.ba(df_local, file),\n",
    "        'T1A': metric.t1a(df_local, file),\n",
    "        'T5A': metric.t5a(df_local, file),\n",
    "        'ABG': metric.abg(df_local, file, mesh_local),\n",
    "        'IG': metric.ig(df_local, file, mesh_local),\n",
    "    }\n",
    ")"
   ]
  },
  {
   "cell_type": "code",
   "execution_count": 64,
   "metadata": {},
   "outputs": [
    {
     "data": {
      "text/html": [
       "<div>\n",
       "<style scoped>\n",
       "    .dataframe tbody tr th:only-of-type {\n",
       "        vertical-align: middle;\n",
       "    }\n",
       "\n",
       "    .dataframe tbody tr th {\n",
       "        vertical-align: top;\n",
       "    }\n",
       "\n",
       "    .dataframe thead th {\n",
       "        text-align: right;\n",
       "    }\n",
       "</style>\n",
       "<table border=\"1\" class=\"dataframe\">\n",
       "  <thead>\n",
       "    <tr style=\"text-align: right;\">\n",
       "      <th></th>\n",
       "      <th>FL</th>\n",
       "      <th>MBL</th>\n",
       "      <th>LBL</th>\n",
       "      <th>ABW</th>\n",
       "      <th>OBW</th>\n",
       "      <th>OHW</th>\n",
       "      <th>BH</th>\n",
       "      <th>IH</th>\n",
       "      <th>BA</th>\n",
       "      <th>T1A</th>\n",
       "      <th>T5A</th>\n",
       "      <th>ABG</th>\n",
       "      <th>IG</th>\n",
       "    </tr>\n",
       "    <tr>\n",
       "      <th>file</th>\n",
       "      <th></th>\n",
       "      <th></th>\n",
       "      <th></th>\n",
       "      <th></th>\n",
       "      <th></th>\n",
       "      <th></th>\n",
       "      <th></th>\n",
       "      <th></th>\n",
       "      <th></th>\n",
       "      <th></th>\n",
       "      <th></th>\n",
       "      <th></th>\n",
       "      <th></th>\n",
       "    </tr>\n",
       "  </thead>\n",
       "  <tbody>\n",
       "    <tr>\n",
       "      <th>description</th>\n",
       "      <td>foot length (mm)</td>\n",
       "      <td>medial ball length (mm)</td>\n",
       "      <td>lateral ball length (mm)</td>\n",
       "      <td>anatomical ball width (mm)</td>\n",
       "      <td>orthogonal ball width (mm)</td>\n",
       "      <td>orthogonal heel width (mm)</td>\n",
       "      <td>ball heigh (mm)</td>\n",
       "      <td>instep height (mm)</td>\n",
       "      <td>ball angle (°)</td>\n",
       "      <td>toe 1 angle (°)</td>\n",
       "      <td>toe 5 angle (°)</td>\n",
       "      <td>anatomical ball girth (mm)</td>\n",
       "      <td>instep girth (mm)</td>\n",
       "    </tr>\n",
       "    <tr>\n",
       "      <th>/Users/knpob/Territory/Kolmo/code/foot-measure/data/22.obj</th>\n",
       "      <td>222.345164</td>\n",
       "      <td>172.269046</td>\n",
       "      <td>144.501135</td>\n",
       "      <td>101.208286</td>\n",
       "      <td>96.433996</td>\n",
       "      <td>58.71576</td>\n",
       "      <td>61.511911</td>\n",
       "      <td>70.157216</td>\n",
       "      <td>70.82689</td>\n",
       "      <td>150.827971</td>\n",
       "      <td>163.766897</td>\n",
       "      <td>135.15444</td>\n",
       "      <td>148.002131</td>\n",
       "    </tr>\n",
       "  </tbody>\n",
       "</table>\n",
       "</div>"
      ],
      "text/plain": [
       "                                                                  FL  \\\n",
       "file                                                                   \n",
       "description                                         foot length (mm)   \n",
       "/Users/knpob/Territory/Kolmo/code/foot-measure/...        222.345164   \n",
       "\n",
       "                                                                        MBL  \\\n",
       "file                                                                          \n",
       "description                                         medial ball length (mm)   \n",
       "/Users/knpob/Territory/Kolmo/code/foot-measure/...               172.269046   \n",
       "\n",
       "                                                                         LBL  \\\n",
       "file                                                                           \n",
       "description                                         lateral ball length (mm)   \n",
       "/Users/knpob/Territory/Kolmo/code/foot-measure/...                144.501135   \n",
       "\n",
       "                                                                           ABW  \\\n",
       "file                                                                             \n",
       "description                                         anatomical ball width (mm)   \n",
       "/Users/knpob/Territory/Kolmo/code/foot-measure/...                  101.208286   \n",
       "\n",
       "                                                                           OBW  \\\n",
       "file                                                                             \n",
       "description                                         orthogonal ball width (mm)   \n",
       "/Users/knpob/Territory/Kolmo/code/foot-measure/...                   96.433996   \n",
       "\n",
       "                                                                           OHW  \\\n",
       "file                                                                             \n",
       "description                                         orthogonal heel width (mm)   \n",
       "/Users/knpob/Territory/Kolmo/code/foot-measure/...                    58.71576   \n",
       "\n",
       "                                                                 BH  \\\n",
       "file                                                                  \n",
       "description                                         ball heigh (mm)   \n",
       "/Users/knpob/Territory/Kolmo/code/foot-measure/...        61.511911   \n",
       "\n",
       "                                                                    IH  \\\n",
       "file                                                                     \n",
       "description                                         instep height (mm)   \n",
       "/Users/knpob/Territory/Kolmo/code/foot-measure/...           70.157216   \n",
       "\n",
       "                                                                BA  \\\n",
       "file                                                                 \n",
       "description                                         ball angle (°)   \n",
       "/Users/knpob/Territory/Kolmo/code/foot-measure/...        70.82689   \n",
       "\n",
       "                                                                T1A  \\\n",
       "file                                                                  \n",
       "description                                         toe 1 angle (°)   \n",
       "/Users/knpob/Territory/Kolmo/code/foot-measure/...       150.827971   \n",
       "\n",
       "                                                                T5A  \\\n",
       "file                                                                  \n",
       "description                                         toe 5 angle (°)   \n",
       "/Users/knpob/Territory/Kolmo/code/foot-measure/...       163.766897   \n",
       "\n",
       "                                                                           ABG  \\\n",
       "file                                                                             \n",
       "description                                         anatomical ball girth (mm)   \n",
       "/Users/knpob/Territory/Kolmo/code/foot-measure/...                   135.15444   \n",
       "\n",
       "                                                                   IG  \n",
       "file                                                                   \n",
       "description                                         instep girth (mm)  \n",
       "/Users/knpob/Territory/Kolmo/code/foot-measure/...         148.002131  "
      ]
     },
     "execution_count": 64,
     "metadata": {},
     "output_type": "execute_result"
    }
   ],
   "source": [
    "df_metric = pd.DataFrame(results).set_index('file')\n",
    "df_metric"
   ]
  },
  {
   "cell_type": "markdown",
   "metadata": {},
   "source": [
    "### Visualization"
   ]
  },
  {
   "cell_type": "code",
   "execution_count": 65,
   "metadata": {},
   "outputs": [
    {
     "data": {
      "application/vnd.jupyter.widget-view+json": {
       "model_id": "7c7c57cb30bd4eea8f7d1410b8aa933e",
       "version_major": 2,
       "version_minor": 0
      },
      "text/plain": [
       "Widget(value=\"<iframe src='http://localhost:57332/index.html?ui=P_0x7f8490894610_30&reconnect=auto' style='wid…"
      ]
     },
     "metadata": {},
     "output_type": "display_data"
    },
    {
     "data": {
      "application/vnd.jupyter.widget-view+json": {
       "model_id": "3f2762b1d4474bc7b9eeb95f1c87ca10",
       "version_major": 2,
       "version_minor": 0
      },
      "text/plain": [
       "Widget(value=\"<iframe src='http://localhost:57332/index.html?ui=P_0x7f8490782be0_31&reconnect=auto' style='wid…"
      ]
     },
     "metadata": {},
     "output_type": "display_data"
    },
    {
     "data": {
      "application/vnd.jupyter.widget-view+json": {
       "model_id": "7352e1cf37da4ab8ad60da2deb03b2cf",
       "version_major": 2,
       "version_minor": 0
      },
      "text/plain": [
       "Widget(value=\"<iframe src='http://localhost:57332/index.html?ui=P_0x7f84a0228a90_32&reconnect=auto' style='wid…"
      ]
     },
     "metadata": {},
     "output_type": "display_data"
    },
    {
     "data": {
      "application/vnd.jupyter.widget-view+json": {
       "model_id": "b3dd3261f96549eeae0fe063d5b2bce7",
       "version_major": 2,
       "version_minor": 0
      },
      "text/plain": [
       "Widget(value=\"<iframe src='http://localhost:57332/index.html?ui=P_0x7f84907d2160_33&reconnect=auto' style='wid…"
      ]
     },
     "metadata": {},
     "output_type": "display_data"
    },
    {
     "data": {
      "application/vnd.jupyter.widget-view+json": {
       "model_id": "63c3e7755b7840688fcb999ae672a24f",
       "version_major": 2,
       "version_minor": 0
      },
      "text/plain": [
       "Widget(value=\"<iframe src='http://localhost:57332/index.html?ui=P_0x7f849078f5b0_34&reconnect=auto' style='wid…"
      ]
     },
     "metadata": {},
     "output_type": "display_data"
    }
   ],
   "source": [
    "if is_plot:\n",
    "    settings = {\n",
    "        'FL': ['P1', 'P10', 'x'],\n",
    "        'MBL': ['P4', 'P10', 'x'],\n",
    "        'LBL': ['P5', 'P10', 'x'],\n",
    "        'OBW': ['P4', 'P3', 'y'],\n",
    "        'OHW': ['P9', 'P8', 'y'],\n",
    "    }\n",
    "\n",
    "    for name, [landmark1, landmark2, axis] in settings.items():\n",
    "        scene = pv.Plotter()\n",
    "        scene.add_mesh(mesh_local, opacity=0.1)\n",
    "        visual.plot_dist_along_axis(scene, df_local, file, landmark1, landmark2, axis, name=name)\n",
    "        scene.show()"
   ]
  },
  {
   "cell_type": "code",
   "execution_count": 66,
   "metadata": {},
   "outputs": [
    {
     "data": {
      "application/vnd.jupyter.widget-view+json": {
       "model_id": "b1ea5b54bf244be696320941b621af91",
       "version_major": 2,
       "version_minor": 0
      },
      "text/plain": [
       "Widget(value=\"<iframe src='http://localhost:57332/index.html?ui=P_0x7f84a0296970_35&reconnect=auto' style='wid…"
      ]
     },
     "metadata": {},
     "output_type": "display_data"
    },
    {
     "data": {
      "application/vnd.jupyter.widget-view+json": {
       "model_id": "b9b6dcfeafc4407198c42518fe859288",
       "version_major": 2,
       "version_minor": 0
      },
      "text/plain": [
       "Widget(value=\"<iframe src='http://localhost:57332/index.html?ui=P_0x7f84907a4fd0_36&reconnect=auto' style='wid…"
      ]
     },
     "metadata": {},
     "output_type": "display_data"
    }
   ],
   "source": [
    "if is_plot:\n",
    "    settings = {\n",
    "        'BH': 'P6',\n",
    "        'IH': 'P7',\n",
    "    }\n",
    "\n",
    "    for name, landmark in settings.items():\n",
    "        scene = pv.Plotter()\n",
    "        scene.add_mesh(mesh_local, opacity=0.1)\n",
    "        visual.plot_height(scene, df_local, file, landmark, name=name)\n",
    "        scene.show()"
   ]
  },
  {
   "cell_type": "code",
   "execution_count": 67,
   "metadata": {},
   "outputs": [
    {
     "name": "stderr",
     "output_type": "stream",
     "text": [
      "ERROR:asyncio:Task exception was never retrieved\n",
      "future: <Task finished name='Task-14580' coro=<WslinkHandler.sendWrappedMessage() done, defined at /Users/knpob/opt/anaconda3/envs/mesh4d/lib/python3.9/site-packages/wslink/backends/aiohttp/__init__.py:584> exception=ConnectionResetError('Cannot write to closing transport')>\n",
      "Traceback (most recent call last):\n",
      "  File \"/Users/knpob/opt/anaconda3/envs/mesh4d/lib/python3.9/asyncio/tasks.py\", line 256, in __step\n",
      "    result = coro.send(None)\n",
      "  File \"/Users/knpob/opt/anaconda3/envs/mesh4d/lib/python3.9/site-packages/wslink/backends/aiohttp/__init__.py\", line 645, in sendWrappedMessage\n",
      "    await ws.send_str(encMsg)\n",
      "  File \"/Users/knpob/opt/anaconda3/envs/mesh4d/lib/python3.9/site-packages/aiohttp/web_ws.py\", line 308, in send_str\n",
      "    await self._writer.send(data, binary=False, compress=compress)\n",
      "  File \"/Users/knpob/opt/anaconda3/envs/mesh4d/lib/python3.9/site-packages/aiohttp/http_websocket.py\", line 690, in send\n",
      "    await self._send_frame(message, WSMsgType.TEXT, compress)\n",
      "  File \"/Users/knpob/opt/anaconda3/envs/mesh4d/lib/python3.9/site-packages/aiohttp/http_websocket.py\", line 653, in _send_frame\n",
      "    self._write(header + message)\n",
      "  File \"/Users/knpob/opt/anaconda3/envs/mesh4d/lib/python3.9/site-packages/aiohttp/http_websocket.py\", line 663, in _write\n",
      "    raise ConnectionResetError(\"Cannot write to closing transport\")\n",
      "ConnectionResetError: Cannot write to closing transport\n",
      "ERROR:asyncio:Task exception was never retrieved\n",
      "future: <Task finished name='Task-14587' coro=<WslinkHandler.sendWrappedMessage() done, defined at /Users/knpob/opt/anaconda3/envs/mesh4d/lib/python3.9/site-packages/wslink/backends/aiohttp/__init__.py:584> exception=ConnectionResetError('Cannot write to closing transport')>\n",
      "Traceback (most recent call last):\n",
      "  File \"/Users/knpob/opt/anaconda3/envs/mesh4d/lib/python3.9/asyncio/tasks.py\", line 256, in __step\n",
      "    result = coro.send(None)\n",
      "  File \"/Users/knpob/opt/anaconda3/envs/mesh4d/lib/python3.9/site-packages/wslink/backends/aiohttp/__init__.py\", line 645, in sendWrappedMessage\n",
      "    await ws.send_str(encMsg)\n",
      "  File \"/Users/knpob/opt/anaconda3/envs/mesh4d/lib/python3.9/site-packages/aiohttp/web_ws.py\", line 308, in send_str\n",
      "    await self._writer.send(data, binary=False, compress=compress)\n",
      "  File \"/Users/knpob/opt/anaconda3/envs/mesh4d/lib/python3.9/site-packages/aiohttp/http_websocket.py\", line 690, in send\n",
      "    await self._send_frame(message, WSMsgType.TEXT, compress)\n",
      "  File \"/Users/knpob/opt/anaconda3/envs/mesh4d/lib/python3.9/site-packages/aiohttp/http_websocket.py\", line 653, in _send_frame\n",
      "    self._write(header + message)\n",
      "  File \"/Users/knpob/opt/anaconda3/envs/mesh4d/lib/python3.9/site-packages/aiohttp/http_websocket.py\", line 663, in _write\n",
      "    raise ConnectionResetError(\"Cannot write to closing transport\")\n",
      "ConnectionResetError: Cannot write to closing transport\n",
      "ERROR:asyncio:Task exception was never retrieved\n",
      "future: <Task finished name='Task-14594' coro=<WslinkHandler.sendWrappedMessage() done, defined at /Users/knpob/opt/anaconda3/envs/mesh4d/lib/python3.9/site-packages/wslink/backends/aiohttp/__init__.py:584> exception=ConnectionResetError('Cannot write to closing transport')>\n",
      "Traceback (most recent call last):\n",
      "  File \"/Users/knpob/opt/anaconda3/envs/mesh4d/lib/python3.9/asyncio/tasks.py\", line 256, in __step\n",
      "    result = coro.send(None)\n",
      "  File \"/Users/knpob/opt/anaconda3/envs/mesh4d/lib/python3.9/site-packages/wslink/backends/aiohttp/__init__.py\", line 645, in sendWrappedMessage\n",
      "    await ws.send_str(encMsg)\n",
      "  File \"/Users/knpob/opt/anaconda3/envs/mesh4d/lib/python3.9/site-packages/aiohttp/web_ws.py\", line 308, in send_str\n",
      "    await self._writer.send(data, binary=False, compress=compress)\n",
      "  File \"/Users/knpob/opt/anaconda3/envs/mesh4d/lib/python3.9/site-packages/aiohttp/http_websocket.py\", line 690, in send\n",
      "    await self._send_frame(message, WSMsgType.TEXT, compress)\n",
      "  File \"/Users/knpob/opt/anaconda3/envs/mesh4d/lib/python3.9/site-packages/aiohttp/http_websocket.py\", line 653, in _send_frame\n",
      "    self._write(header + message)\n",
      "  File \"/Users/knpob/opt/anaconda3/envs/mesh4d/lib/python3.9/site-packages/aiohttp/http_websocket.py\", line 663, in _write\n",
      "    raise ConnectionResetError(\"Cannot write to closing transport\")\n",
      "ConnectionResetError: Cannot write to closing transport\n"
     ]
    },
    {
     "data": {
      "application/vnd.jupyter.widget-view+json": {
       "model_id": "eda9c04a9eae426bbb07dda91f0125f9",
       "version_major": 2,
       "version_minor": 0
      },
      "text/plain": [
       "Widget(value=\"<iframe src='http://localhost:57332/index.html?ui=P_0x7f84b0ea4c40_37&reconnect=auto' style='wid…"
      ]
     },
     "metadata": {},
     "output_type": "display_data"
    },
    {
     "data": {
      "application/vnd.jupyter.widget-view+json": {
       "model_id": "0dbd2c351e264a2fa625ca0258f1ea60",
       "version_major": 2,
       "version_minor": 0
      },
      "text/plain": [
       "Widget(value=\"<iframe src='http://localhost:57332/index.html?ui=P_0x7f84907827c0_38&reconnect=auto' style='wid…"
      ]
     },
     "metadata": {},
     "output_type": "display_data"
    },
    {
     "data": {
      "application/vnd.jupyter.widget-view+json": {
       "model_id": "f64711dcc22e4bdc81b4ddd4f7e598a9",
       "version_major": 2,
       "version_minor": 0
      },
      "text/plain": [
       "Widget(value=\"<iframe src='http://localhost:57332/index.html?ui=P_0x7f84a022a790_39&reconnect=auto' style='wid…"
      ]
     },
     "metadata": {},
     "output_type": "display_data"
    }
   ],
   "source": [
    "if is_plot:\n",
    "    settings = {\n",
    "        'BA': ['P4', 'P5', 'P8'],\n",
    "        'T1A': ['P4', 'P2', 'P8'],\n",
    "        'T5A': ['P5', 'P3', 'P9'],\n",
    "    }\n",
    "\n",
    "    for name, [landmark_origin, landmark1, landmark2] in settings.items():\n",
    "        scene = pv.Plotter()\n",
    "        scene.add_mesh(mesh_local, opacity=0.1)\n",
    "        visual.plot_angle(scene, df_local, file, landmark_origin, landmark1, landmark2, name=name)\n",
    "        scene.show()"
   ]
  },
  {
   "cell_type": "code",
   "execution_count": 68,
   "metadata": {},
   "outputs": [
    {
     "data": {
      "application/vnd.jupyter.widget-view+json": {
       "model_id": "39a6fb988d9f4d8595a81d14d146617e",
       "version_major": 2,
       "version_minor": 0
      },
      "text/plain": [
       "Widget(value=\"<iframe src='http://localhost:57332/index.html?ui=P_0x7f84a0228a60_40&reconnect=auto' style='wid…"
      ]
     },
     "metadata": {},
     "output_type": "display_data"
    }
   ],
   "source": [
    "if is_plot:\n",
    "    scene = pv.Plotter()\n",
    "    scene.add_mesh(mesh_local, opacity=0.1)\n",
    "    visual.plot_circ_pass_landmarks(scene, df_local, file, mesh_local, ['P4', 'P5'], name='ABG')\n",
    "    scene.show()"
   ]
  },
  {
   "cell_type": "code",
   "execution_count": 69,
   "metadata": {},
   "outputs": [
    {
     "data": {
      "application/vnd.jupyter.widget-view+json": {
       "model_id": "72cc0cc2faaa42ae8ffa642d7497e571",
       "version_major": 2,
       "version_minor": 0
      },
      "text/plain": [
       "Widget(value=\"<iframe src='http://localhost:57332/index.html?ui=P_0x7f8490894b20_41&reconnect=auto' style='wid…"
      ]
     },
     "metadata": {},
     "output_type": "display_data"
    }
   ],
   "source": [
    "if is_plot:\n",
    "    scene = pv.Plotter()\n",
    "    scene.add_mesh(mesh_local, opacity=0.1)\n",
    "    visual.plot_circ_pass_landmark(scene, df_local, file, mesh_local, 'P6', 'x', name='IG')\n",
    "    scene.show()"
   ]
  },
  {
   "cell_type": "code",
   "execution_count": null,
   "metadata": {},
   "outputs": [],
   "source": []
  }
 ],
 "metadata": {
  "kernelspec": {
   "display_name": "mesh4d",
   "language": "python",
   "name": "python3"
  },
  "language_info": {
   "codemirror_mode": {
    "name": "ipython",
    "version": 3
   },
   "file_extension": ".py",
   "mimetype": "text/x-python",
   "name": "python",
   "nbconvert_exporter": "python",
   "pygments_lexer": "ipython3",
   "version": "3.9.16"
  }
 },
 "nbformat": 4,
 "nbformat_minor": 2
}
