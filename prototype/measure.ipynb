{
 "cells": [
  {
   "cell_type": "code",
   "execution_count": 1,
   "metadata": {},
   "outputs": [],
   "source": [
    "import sys\n",
    "sys.path.append(\"..\")"
   ]
  },
  {
   "cell_type": "code",
   "execution_count": 2,
   "metadata": {},
   "outputs": [],
   "source": [
    "label_path = '../output/label.pkl'\n",
    "file = '/Users/knpob/Territory/Kolmo/data/DynaFootLite/Fast/Sub05_Fast_L1_102_143.000006.obj'\n",
    "is_plot = True"
   ]
  },
  {
   "cell_type": "markdown",
   "metadata": {},
   "source": [
    "## Load landmarks labelling"
   ]
  },
  {
   "cell_type": "code",
   "execution_count": 3,
   "metadata": {},
   "outputs": [
    {
     "data": {
      "text/html": [
       "<div>\n",
       "<style scoped>\n",
       "    .dataframe tbody tr th:only-of-type {\n",
       "        vertical-align: middle;\n",
       "    }\n",
       "\n",
       "    .dataframe tbody tr th {\n",
       "        vertical-align: top;\n",
       "    }\n",
       "\n",
       "    .dataframe thead th {\n",
       "        text-align: right;\n",
       "    }\n",
       "</style>\n",
       "<table border=\"1\" class=\"dataframe\">\n",
       "  <thead>\n",
       "    <tr style=\"text-align: right;\">\n",
       "      <th></th>\n",
       "      <th>coord</th>\n",
       "      <th>x</th>\n",
       "      <th>y</th>\n",
       "      <th>z</th>\n",
       "    </tr>\n",
       "    <tr>\n",
       "      <th>file</th>\n",
       "      <th>landmark</th>\n",
       "      <th></th>\n",
       "      <th></th>\n",
       "      <th></th>\n",
       "    </tr>\n",
       "  </thead>\n",
       "  <tbody>\n",
       "    <tr>\n",
       "      <th rowspan=\"12\" valign=\"top\">/Users/knpob/Territory/Kolmo/data/DynaFootLite/Fast/Sub05_Fast_L1_102_143.000006.obj</th>\n",
       "      <th>P1</th>\n",
       "      <td>-47.868675</td>\n",
       "      <td>-102.082951</td>\n",
       "      <td>-27.146627</td>\n",
       "    </tr>\n",
       "    <tr>\n",
       "      <th>P10</th>\n",
       "      <td>10.347754</td>\n",
       "      <td>-141.225175</td>\n",
       "      <td>191.482570</td>\n",
       "    </tr>\n",
       "    <tr>\n",
       "      <th>P11</th>\n",
       "      <td>27.356030</td>\n",
       "      <td>-66.791808</td>\n",
       "      <td>141.348713</td>\n",
       "    </tr>\n",
       "    <tr>\n",
       "      <th>P12</th>\n",
       "      <td>-40.068095</td>\n",
       "      <td>-98.773372</td>\n",
       "      <td>148.841208</td>\n",
       "    </tr>\n",
       "    <tr>\n",
       "      <th>P2</th>\n",
       "      <td>-6.773722</td>\n",
       "      <td>-102.914672</td>\n",
       "      <td>-29.897389</td>\n",
       "    </tr>\n",
       "    <tr>\n",
       "      <th>P3</th>\n",
       "      <td>-76.020657</td>\n",
       "      <td>-115.615363</td>\n",
       "      <td>27.144024</td>\n",
       "    </tr>\n",
       "    <tr>\n",
       "      <th>P4</th>\n",
       "      <td>7.909824</td>\n",
       "      <td>-105.273731</td>\n",
       "      <td>7.795904</td>\n",
       "    </tr>\n",
       "    <tr>\n",
       "      <th>P5</th>\n",
       "      <td>-66.313779</td>\n",
       "      <td>-133.365319</td>\n",
       "      <td>50.973984</td>\n",
       "    </tr>\n",
       "    <tr>\n",
       "      <th>P6</th>\n",
       "      <td>-15.675663</td>\n",
       "      <td>-75.853272</td>\n",
       "      <td>80.303229</td>\n",
       "    </tr>\n",
       "    <tr>\n",
       "      <th>P7</th>\n",
       "      <td>-11.845389</td>\n",
       "      <td>-63.623706</td>\n",
       "      <td>106.223576</td>\n",
       "    </tr>\n",
       "    <tr>\n",
       "      <th>P8</th>\n",
       "      <td>33.788057</td>\n",
       "      <td>-143.022407</td>\n",
       "      <td>163.758241</td>\n",
       "    </tr>\n",
       "    <tr>\n",
       "      <th>P9</th>\n",
       "      <td>-24.513464</td>\n",
       "      <td>-149.428966</td>\n",
       "      <td>172.440759</td>\n",
       "    </tr>\n",
       "  </tbody>\n",
       "</table>\n",
       "</div>"
      ],
      "text/plain": [
       "coord                                                                x  \\\n",
       "file                                               landmark              \n",
       "/Users/knpob/Territory/Kolmo/data/DynaFootLite/... P1       -47.868675   \n",
       "                                                   P10       10.347754   \n",
       "                                                   P11       27.356030   \n",
       "                                                   P12      -40.068095   \n",
       "                                                   P2        -6.773722   \n",
       "                                                   P3       -76.020657   \n",
       "                                                   P4         7.909824   \n",
       "                                                   P5       -66.313779   \n",
       "                                                   P6       -15.675663   \n",
       "                                                   P7       -11.845389   \n",
       "                                                   P8        33.788057   \n",
       "                                                   P9       -24.513464   \n",
       "\n",
       "coord                                                                 y  \\\n",
       "file                                               landmark               \n",
       "/Users/knpob/Territory/Kolmo/data/DynaFootLite/... P1       -102.082951   \n",
       "                                                   P10      -141.225175   \n",
       "                                                   P11       -66.791808   \n",
       "                                                   P12       -98.773372   \n",
       "                                                   P2       -102.914672   \n",
       "                                                   P3       -115.615363   \n",
       "                                                   P4       -105.273731   \n",
       "                                                   P5       -133.365319   \n",
       "                                                   P6        -75.853272   \n",
       "                                                   P7        -63.623706   \n",
       "                                                   P8       -143.022407   \n",
       "                                                   P9       -149.428966   \n",
       "\n",
       "coord                                                                 z  \n",
       "file                                               landmark              \n",
       "/Users/knpob/Territory/Kolmo/data/DynaFootLite/... P1        -27.146627  \n",
       "                                                   P10       191.482570  \n",
       "                                                   P11       141.348713  \n",
       "                                                   P12       148.841208  \n",
       "                                                   P2        -29.897389  \n",
       "                                                   P3         27.144024  \n",
       "                                                   P4          7.795904  \n",
       "                                                   P5         50.973984  \n",
       "                                                   P6         80.303229  \n",
       "                                                   P7        106.223576  \n",
       "                                                   P8        163.758241  \n",
       "                                                   P9        172.440759  "
      ]
     },
     "execution_count": 3,
     "metadata": {},
     "output_type": "execute_result"
    }
   ],
   "source": [
    "import pandas as pd\n",
    "\n",
    "df = pd.read_pickle(label_path)\n",
    "df"
   ]
  },
  {
   "cell_type": "markdown",
   "metadata": {},
   "source": [
    "## Local frame"
   ]
  },
  {
   "cell_type": "code",
   "execution_count": 4,
   "metadata": {},
   "outputs": [
    {
     "data": {
      "application/vnd.jupyter.widget-view+json": {
       "model_id": "d6fc512aa46148a1952c9b277d053e3f",
       "version_major": 2,
       "version_minor": 0
      },
      "text/plain": [
       "Widget(value=\"<iframe src='http://localhost:57332/index.html?ui=P_0x7f84e27e6a00_0&reconnect=auto' style='widt…"
      ]
     },
     "metadata": {},
     "output_type": "display_data"
    }
   ],
   "source": [
    "import pyvista as pv\n",
    "from measure import frame, visual\n",
    "from mesh4d.analyse import crave\n",
    "\n",
    "mesh = crave.fix_pvmesh_disconnect(pv.read(file))\n",
    "axes_frame, origin = frame.estimate_foot_frame(mesh, file, df)\n",
    "\n",
    "if is_plot:\n",
    "    visual.plot_axes(origin, axes_frame, mesh)"
   ]
  },
  {
   "cell_type": "code",
   "execution_count": 5,
   "metadata": {},
   "outputs": [
    {
     "data": {
      "application/vnd.jupyter.widget-view+json": {
       "model_id": "8da7a881f3e64c0aa361e419b3cfebc4",
       "version_major": 2,
       "version_minor": 0
      },
      "text/plain": [
       "Widget(value=\"<iframe src='http://localhost:57332/index.html?ui=P_0x7f84d07990a0_1&reconnect=auto' style='widt…"
      ]
     },
     "metadata": {},
     "output_type": "display_data"
    }
   ],
   "source": [
    "mesh_clip = frame.foot_clip(mesh, df, file)\n",
    "mesh_local = frame.foot2local(mesh_clip, axes_frame, origin)\n",
    "\n",
    "if is_plot:\n",
    "    mesh_local.plot()"
   ]
  },
  {
   "cell_type": "code",
   "execution_count": 6,
   "metadata": {},
   "outputs": [
    {
     "data": {
      "text/html": [
       "<div>\n",
       "<style scoped>\n",
       "    .dataframe tbody tr th:only-of-type {\n",
       "        vertical-align: middle;\n",
       "    }\n",
       "\n",
       "    .dataframe tbody tr th {\n",
       "        vertical-align: top;\n",
       "    }\n",
       "\n",
       "    .dataframe thead th {\n",
       "        text-align: right;\n",
       "    }\n",
       "</style>\n",
       "<table border=\"1\" class=\"dataframe\">\n",
       "  <thead>\n",
       "    <tr style=\"text-align: right;\">\n",
       "      <th></th>\n",
       "      <th>coord</th>\n",
       "      <th>x</th>\n",
       "      <th>y</th>\n",
       "      <th>z</th>\n",
       "    </tr>\n",
       "    <tr>\n",
       "      <th>file</th>\n",
       "      <th>landmark</th>\n",
       "      <th></th>\n",
       "      <th></th>\n",
       "      <th></th>\n",
       "    </tr>\n",
       "  </thead>\n",
       "  <tbody>\n",
       "    <tr>\n",
       "      <th rowspan=\"12\" valign=\"top\">/Users/knpob/Territory/Kolmo/data/DynaFootLite/Fast/Sub05_Fast_L1_102_143.000006.obj</th>\n",
       "      <th>P1</th>\n",
       "      <td>104.877372</td>\n",
       "      <td>9.131839</td>\n",
       "      <td>24.566920</td>\n",
       "    </tr>\n",
       "    <tr>\n",
       "      <th>P10</th>\n",
       "      <td>-124.412992</td>\n",
       "      <td>-5.143694</td>\n",
       "      <td>33.195440</td>\n",
       "    </tr>\n",
       "    <tr>\n",
       "      <th>P11</th>\n",
       "      <td>-64.506712</td>\n",
       "      <td>-38.117774</td>\n",
       "      <td>93.100196</td>\n",
       "    </tr>\n",
       "    <tr>\n",
       "      <th>P12</th>\n",
       "      <td>-63.916425</td>\n",
       "      <td>32.423743</td>\n",
       "      <td>67.595971</td>\n",
       "    </tr>\n",
       "    <tr>\n",
       "      <th>P2</th>\n",
       "      <td>98.482753</td>\n",
       "      <td>-31.516304</td>\n",
       "      <td>20.771757</td>\n",
       "    </tr>\n",
       "    <tr>\n",
       "      <th>P3</th>\n",
       "      <td>56.299284</td>\n",
       "      <td>47.691094</td>\n",
       "      <td>25.448109</td>\n",
       "    </tr>\n",
       "    <tr>\n",
       "      <th>P4</th>\n",
       "      <td>58.881029</td>\n",
       "      <td>-38.964888</td>\n",
       "      <td>26.259271</td>\n",
       "    </tr>\n",
       "    <tr>\n",
       "      <th>P5</th>\n",
       "      <td>27.729230</td>\n",
       "      <td>44.186342</td>\n",
       "      <td>13.089730</td>\n",
       "    </tr>\n",
       "    <tr>\n",
       "      <th>P6</th>\n",
       "      <td>1.043945</td>\n",
       "      <td>-5.919685</td>\n",
       "      <td>72.796017</td>\n",
       "    </tr>\n",
       "    <tr>\n",
       "      <th>P7</th>\n",
       "      <td>-21.907594</td>\n",
       "      <td>-6.284384</td>\n",
       "      <td>90.393067</td>\n",
       "    </tr>\n",
       "    <tr>\n",
       "      <th>P8</th>\n",
       "      <td>-103.399672</td>\n",
       "      <td>-32.843289</td>\n",
       "      <td>23.761532</td>\n",
       "    </tr>\n",
       "    <tr>\n",
       "      <th>P9</th>\n",
       "      <td>-100.491941</td>\n",
       "      <td>26.429013</td>\n",
       "      <td>22.865127</td>\n",
       "    </tr>\n",
       "  </tbody>\n",
       "</table>\n",
       "</div>"
      ],
      "text/plain": [
       "coord                                                                 x  \\\n",
       "file                                               landmark               \n",
       "/Users/knpob/Territory/Kolmo/data/DynaFootLite/... P1        104.877372   \n",
       "                                                   P10      -124.412992   \n",
       "                                                   P11       -64.506712   \n",
       "                                                   P12       -63.916425   \n",
       "                                                   P2         98.482753   \n",
       "                                                   P3         56.299284   \n",
       "                                                   P4         58.881029   \n",
       "                                                   P5         27.729230   \n",
       "                                                   P6          1.043945   \n",
       "                                                   P7        -21.907594   \n",
       "                                                   P8       -103.399672   \n",
       "                                                   P9       -100.491941   \n",
       "\n",
       "coord                                                                y  \\\n",
       "file                                               landmark              \n",
       "/Users/knpob/Territory/Kolmo/data/DynaFootLite/... P1         9.131839   \n",
       "                                                   P10       -5.143694   \n",
       "                                                   P11      -38.117774   \n",
       "                                                   P12       32.423743   \n",
       "                                                   P2       -31.516304   \n",
       "                                                   P3        47.691094   \n",
       "                                                   P4       -38.964888   \n",
       "                                                   P5        44.186342   \n",
       "                                                   P6        -5.919685   \n",
       "                                                   P7        -6.284384   \n",
       "                                                   P8       -32.843289   \n",
       "                                                   P9        26.429013   \n",
       "\n",
       "coord                                                                z  \n",
       "file                                               landmark             \n",
       "/Users/knpob/Territory/Kolmo/data/DynaFootLite/... P1        24.566920  \n",
       "                                                   P10       33.195440  \n",
       "                                                   P11       93.100196  \n",
       "                                                   P12       67.595971  \n",
       "                                                   P2        20.771757  \n",
       "                                                   P3        25.448109  \n",
       "                                                   P4        26.259271  \n",
       "                                                   P5        13.089730  \n",
       "                                                   P6        72.796017  \n",
       "                                                   P7        90.393067  \n",
       "                                                   P8        23.761532  \n",
       "                                                   P9        22.865127  "
      ]
     },
     "execution_count": 6,
     "metadata": {},
     "output_type": "execute_result"
    }
   ],
   "source": [
    "df_local = frame.df2local(df, axes_frame, origin)\n",
    "df_local"
   ]
  },
  {
   "cell_type": "markdown",
   "metadata": {},
   "source": [
    "## Metrics"
   ]
  },
  {
   "cell_type": "code",
   "execution_count": 7,
   "metadata": {},
   "outputs": [],
   "source": [
    "results = [\n",
    "    {\n",
    "        'file': 'description',\n",
    "        'FL': 'foot length (mm)',\n",
    "        'MBL': 'medial ball length (mm)',\n",
    "        'LBL': 'lateral ball length (mm)',\n",
    "        'ABW': 'anatomical ball width (mm)',\n",
    "        'OBW': 'orthogonal ball width (mm)',\n",
    "        'OHW': 'orthogonal heel width (mm)',\n",
    "        'BH': 'ball heigh (mm)',\n",
    "        'IH': 'instep height (mm)',\n",
    "        'BA': 'ball angle (°)',\n",
    "        'T1A': 'toe 1 angle (°)',\n",
    "        'T5A': 'toe 5 angle (°)',\n",
    "        'ABG': 'anatomical ball girth (mm)',\n",
    "        'IG': 'instep girth (mm)',\n",
    "    }\n",
    "]"
   ]
  },
  {
   "cell_type": "code",
   "execution_count": 8,
   "metadata": {},
   "outputs": [],
   "source": [
    "from measure import metric\n",
    "\n",
    "results.append(\n",
    "    {\n",
    "        'file': file,\n",
    "        'FL': metric.fl(df_local, file),\n",
    "        'MBL': metric.mbl(df_local, file),\n",
    "        'LBL': metric.lbl(df_local, file),\n",
    "        'ABW': metric.abw(df_local, file),\n",
    "        'OBW': metric.obw(df_local, file),\n",
    "        'OHW': metric.ohw(df_local, file),\n",
    "        'BH': metric.bh(df_local, file),\n",
    "        'IH': metric.ih(df_local, file),\n",
    "        'BA': metric.ba(df_local, file),\n",
    "        'T1A': metric.t1a(df_local, file),\n",
    "        'T5A': metric.t5a(df_local, file),\n",
    "        'ABG': metric.abg(df_local, file, mesh_local),\n",
    "        'IG': metric.ig(df_local, file, mesh_local),\n",
    "    }\n",
    ")"
   ]
  },
  {
   "cell_type": "code",
   "execution_count": 9,
   "metadata": {},
   "outputs": [
    {
     "data": {
      "text/html": [
       "<div>\n",
       "<style scoped>\n",
       "    .dataframe tbody tr th:only-of-type {\n",
       "        vertical-align: middle;\n",
       "    }\n",
       "\n",
       "    .dataframe tbody tr th {\n",
       "        vertical-align: top;\n",
       "    }\n",
       "\n",
       "    .dataframe thead th {\n",
       "        text-align: right;\n",
       "    }\n",
       "</style>\n",
       "<table border=\"1\" class=\"dataframe\">\n",
       "  <thead>\n",
       "    <tr style=\"text-align: right;\">\n",
       "      <th></th>\n",
       "      <th>FL</th>\n",
       "      <th>MBL</th>\n",
       "      <th>LBL</th>\n",
       "      <th>ABW</th>\n",
       "      <th>OBW</th>\n",
       "      <th>OHW</th>\n",
       "      <th>BH</th>\n",
       "      <th>IH</th>\n",
       "      <th>BA</th>\n",
       "      <th>T1A</th>\n",
       "      <th>T5A</th>\n",
       "      <th>ABG</th>\n",
       "      <th>IG</th>\n",
       "    </tr>\n",
       "    <tr>\n",
       "      <th>file</th>\n",
       "      <th></th>\n",
       "      <th></th>\n",
       "      <th></th>\n",
       "      <th></th>\n",
       "      <th></th>\n",
       "      <th></th>\n",
       "      <th></th>\n",
       "      <th></th>\n",
       "      <th></th>\n",
       "      <th></th>\n",
       "      <th></th>\n",
       "      <th></th>\n",
       "      <th></th>\n",
       "    </tr>\n",
       "  </thead>\n",
       "  <tbody>\n",
       "    <tr>\n",
       "      <th>description</th>\n",
       "      <td>foot length (mm)</td>\n",
       "      <td>medial ball length (mm)</td>\n",
       "      <td>lateral ball length (mm)</td>\n",
       "      <td>anatomical ball width (mm)</td>\n",
       "      <td>orthogonal ball width (mm)</td>\n",
       "      <td>orthogonal heel width (mm)</td>\n",
       "      <td>ball heigh (mm)</td>\n",
       "      <td>instep height (mm)</td>\n",
       "      <td>ball angle (°)</td>\n",
       "      <td>toe 1 angle (°)</td>\n",
       "      <td>toe 5 angle (°)</td>\n",
       "      <td>anatomical ball girth (mm)</td>\n",
       "      <td>instep girth (mm)</td>\n",
       "    </tr>\n",
       "    <tr>\n",
       "      <th>/Users/knpob/Territory/Kolmo/data/DynaFootLite/Fast/Sub05_Fast_L1_102_143.000006.obj</th>\n",
       "      <td>229.290364</td>\n",
       "      <td>183.294021</td>\n",
       "      <td>152.142222</td>\n",
       "      <td>89.766355</td>\n",
       "      <td>86.655983</td>\n",
       "      <td>59.272302</td>\n",
       "      <td>72.796017</td>\n",
       "      <td>90.393067</td>\n",
       "      <td>67.423662</td>\n",
       "      <td>164.57814</td>\n",
       "      <td>152.431569</td>\n",
       "      <td>125.266833</td>\n",
       "      <td>151.507285</td>\n",
       "    </tr>\n",
       "  </tbody>\n",
       "</table>\n",
       "</div>"
      ],
      "text/plain": [
       "                                                                  FL  \\\n",
       "file                                                                   \n",
       "description                                         foot length (mm)   \n",
       "/Users/knpob/Territory/Kolmo/data/DynaFootLite/...        229.290364   \n",
       "\n",
       "                                                                        MBL  \\\n",
       "file                                                                          \n",
       "description                                         medial ball length (mm)   \n",
       "/Users/knpob/Territory/Kolmo/data/DynaFootLite/...               183.294021   \n",
       "\n",
       "                                                                         LBL  \\\n",
       "file                                                                           \n",
       "description                                         lateral ball length (mm)   \n",
       "/Users/knpob/Territory/Kolmo/data/DynaFootLite/...                152.142222   \n",
       "\n",
       "                                                                           ABW  \\\n",
       "file                                                                             \n",
       "description                                         anatomical ball width (mm)   \n",
       "/Users/knpob/Territory/Kolmo/data/DynaFootLite/...                   89.766355   \n",
       "\n",
       "                                                                           OBW  \\\n",
       "file                                                                             \n",
       "description                                         orthogonal ball width (mm)   \n",
       "/Users/knpob/Territory/Kolmo/data/DynaFootLite/...                   86.655983   \n",
       "\n",
       "                                                                           OHW  \\\n",
       "file                                                                             \n",
       "description                                         orthogonal heel width (mm)   \n",
       "/Users/knpob/Territory/Kolmo/data/DynaFootLite/...                   59.272302   \n",
       "\n",
       "                                                                 BH  \\\n",
       "file                                                                  \n",
       "description                                         ball heigh (mm)   \n",
       "/Users/knpob/Territory/Kolmo/data/DynaFootLite/...        72.796017   \n",
       "\n",
       "                                                                    IH  \\\n",
       "file                                                                     \n",
       "description                                         instep height (mm)   \n",
       "/Users/knpob/Territory/Kolmo/data/DynaFootLite/...           90.393067   \n",
       "\n",
       "                                                                BA  \\\n",
       "file                                                                 \n",
       "description                                         ball angle (°)   \n",
       "/Users/knpob/Territory/Kolmo/data/DynaFootLite/...       67.423662   \n",
       "\n",
       "                                                                T1A  \\\n",
       "file                                                                  \n",
       "description                                         toe 1 angle (°)   \n",
       "/Users/knpob/Territory/Kolmo/data/DynaFootLite/...        164.57814   \n",
       "\n",
       "                                                                T5A  \\\n",
       "file                                                                  \n",
       "description                                         toe 5 angle (°)   \n",
       "/Users/knpob/Territory/Kolmo/data/DynaFootLite/...       152.431569   \n",
       "\n",
       "                                                                           ABG  \\\n",
       "file                                                                             \n",
       "description                                         anatomical ball girth (mm)   \n",
       "/Users/knpob/Territory/Kolmo/data/DynaFootLite/...                  125.266833   \n",
       "\n",
       "                                                                   IG  \n",
       "file                                                                   \n",
       "description                                         instep girth (mm)  \n",
       "/Users/knpob/Territory/Kolmo/data/DynaFootLite/...         151.507285  "
      ]
     },
     "execution_count": 9,
     "metadata": {},
     "output_type": "execute_result"
    }
   ],
   "source": [
    "df_metric = pd.DataFrame(results).set_index('file')\n",
    "df_metric"
   ]
  },
  {
   "cell_type": "markdown",
   "metadata": {},
   "source": [
    "### Visualization"
   ]
  },
  {
   "cell_type": "code",
   "execution_count": 10,
   "metadata": {},
   "outputs": [
    {
     "data": {
      "application/vnd.jupyter.widget-view+json": {
       "model_id": "1ecc7556b26f4450ba7b7763981d259a",
       "version_major": 2,
       "version_minor": 0
      },
      "text/plain": [
       "Widget(value=\"<iframe src='http://localhost:57332/index.html?ui=P_0x7f84e48b52e0_2&reconnect=auto' style='widt…"
      ]
     },
     "metadata": {},
     "output_type": "display_data"
    },
    {
     "data": {
      "application/vnd.jupyter.widget-view+json": {
       "model_id": "ad77b6acfe994705a14d7b3552c79f53",
       "version_major": 2,
       "version_minor": 0
      },
      "text/plain": [
       "Widget(value=\"<iframe src='http://localhost:57332/index.html?ui=P_0x7f84e4736dc0_3&reconnect=auto' style='widt…"
      ]
     },
     "metadata": {},
     "output_type": "display_data"
    },
    {
     "data": {
      "application/vnd.jupyter.widget-view+json": {
       "model_id": "038dfcc6b6e94884b28c2970d63cdf79",
       "version_major": 2,
       "version_minor": 0
      },
      "text/plain": [
       "Widget(value=\"<iframe src='http://localhost:57332/index.html?ui=P_0x7f84e48b6dc0_4&reconnect=auto' style='widt…"
      ]
     },
     "metadata": {},
     "output_type": "display_data"
    },
    {
     "data": {
      "application/vnd.jupyter.widget-view+json": {
       "model_id": "b99c94c1a8014138ae6c8a6532aa1c8d",
       "version_major": 2,
       "version_minor": 0
      },
      "text/plain": [
       "Widget(value=\"<iframe src='http://localhost:57332/index.html?ui=P_0x7f84e4707d90_5&reconnect=auto' style='widt…"
      ]
     },
     "metadata": {},
     "output_type": "display_data"
    },
    {
     "data": {
      "application/vnd.jupyter.widget-view+json": {
       "model_id": "78e30ddd1f05435789a4d1e17495aa96",
       "version_major": 2,
       "version_minor": 0
      },
      "text/plain": [
       "Widget(value=\"<iframe src='http://localhost:57332/index.html?ui=P_0x7f84e4707a90_6&reconnect=auto' style='widt…"
      ]
     },
     "metadata": {},
     "output_type": "display_data"
    }
   ],
   "source": [
    "if is_plot:\n",
    "    settings = {\n",
    "        'FL': ['P1', 'P10', 'x'],\n",
    "        'MBL': ['P4', 'P10', 'x'],\n",
    "        'LBL': ['P5', 'P10', 'x'],\n",
    "        'OBW': ['P4', 'P3', 'y'],\n",
    "        'OHW': ['P9', 'P8', 'y'],\n",
    "    }\n",
    "\n",
    "    for name, [landmark1, landmark2, axis] in settings.items():\n",
    "        scene = pv.Plotter()\n",
    "        scene.add_mesh(mesh_local, opacity=0.1)\n",
    "        visual.plot_dist_along_axis(scene, df_local, file, landmark1, landmark2, axis, name=name)\n",
    "        scene.show()"
   ]
  },
  {
   "cell_type": "code",
   "execution_count": 11,
   "metadata": {},
   "outputs": [
    {
     "data": {
      "application/vnd.jupyter.widget-view+json": {
       "model_id": "77ab5fd9eccc4a68a1ee65aac35e9566",
       "version_major": 2,
       "version_minor": 0
      },
      "text/plain": [
       "Widget(value=\"<iframe src='http://localhost:57332/index.html?ui=P_0x7f84e4be51c0_7&reconnect=auto' style='widt…"
      ]
     },
     "metadata": {},
     "output_type": "display_data"
    },
    {
     "data": {
      "application/vnd.jupyter.widget-view+json": {
       "model_id": "6258422f335844ee90825564cfabd2ef",
       "version_major": 2,
       "version_minor": 0
      },
      "text/plain": [
       "Widget(value=\"<iframe src='http://localhost:57332/index.html?ui=P_0x7f84e4be5850_8&reconnect=auto' style='widt…"
      ]
     },
     "metadata": {},
     "output_type": "display_data"
    }
   ],
   "source": [
    "if is_plot:\n",
    "    settings = {\n",
    "        'BH': 'P6',\n",
    "        'IH': 'P7',\n",
    "    }\n",
    "\n",
    "    for name, landmark in settings.items():\n",
    "        scene = pv.Plotter()\n",
    "        scene.add_mesh(mesh_local, opacity=0.1)\n",
    "        visual.plot_height(scene, df_local, file, landmark, name=name)\n",
    "        scene.show()"
   ]
  },
  {
   "cell_type": "code",
   "execution_count": 12,
   "metadata": {},
   "outputs": [
    {
     "data": {
      "application/vnd.jupyter.widget-view+json": {
       "model_id": "650ba1624f9e4b38919c13c625dcff2e",
       "version_major": 2,
       "version_minor": 0
      },
      "text/plain": [
       "Widget(value=\"<iframe src='http://localhost:57332/index.html?ui=P_0x7f84d1ea7d90_9&reconnect=auto' style='widt…"
      ]
     },
     "metadata": {},
     "output_type": "display_data"
    },
    {
     "data": {
      "application/vnd.jupyter.widget-view+json": {
       "model_id": "eeaa852a6ba34a99afba64e2e68131cd",
       "version_major": 2,
       "version_minor": 0
      },
      "text/plain": [
       "Widget(value=\"<iframe src='http://localhost:57332/index.html?ui=P_0x7f84e48b6df0_10&reconnect=auto' style='wid…"
      ]
     },
     "metadata": {},
     "output_type": "display_data"
    },
    {
     "data": {
      "application/vnd.jupyter.widget-view+json": {
       "model_id": "55fb48d3e8b94d79b5c640ad06374734",
       "version_major": 2,
       "version_minor": 0
      },
      "text/plain": [
       "Widget(value=\"<iframe src='http://localhost:57332/index.html?ui=P_0x7f84e4be5dc0_11&reconnect=auto' style='wid…"
      ]
     },
     "metadata": {},
     "output_type": "display_data"
    }
   ],
   "source": [
    "if is_plot:\n",
    "    settings = {\n",
    "        'BA': ['P4', 'P5', 'P8'],\n",
    "        'T1A': ['P4', 'P2', 'P8'],\n",
    "        'T5A': ['P5', 'P3', 'P9'],\n",
    "    }\n",
    "\n",
    "    for name, [landmark_origin, landmark1, landmark2] in settings.items():\n",
    "        scene = pv.Plotter()\n",
    "        scene.add_mesh(mesh_local, opacity=0.1)\n",
    "        visual.plot_angle(scene, df_local, file, landmark_origin, landmark1, landmark2, name=name)\n",
    "        scene.show()"
   ]
  },
  {
   "cell_type": "code",
   "execution_count": 13,
   "metadata": {},
   "outputs": [
    {
     "data": {
      "application/vnd.jupyter.widget-view+json": {
       "model_id": "82aebc2d8ec34ce6b39eacf8f4e0a705",
       "version_major": 2,
       "version_minor": 0
      },
      "text/plain": [
       "Widget(value=\"<iframe src='http://localhost:57332/index.html?ui=P_0x7f84d1ea78b0_12&reconnect=auto' style='wid…"
      ]
     },
     "metadata": {},
     "output_type": "display_data"
    }
   ],
   "source": [
    "if is_plot:\n",
    "    scene = pv.Plotter()\n",
    "    scene.add_mesh(mesh_local, opacity=0.1)\n",
    "    visual.plot_circ_pass_landmarks(scene, df_local, file, mesh_local, ['P4', 'P5'], name='ABG')\n",
    "    scene.show()"
   ]
  },
  {
   "cell_type": "code",
   "execution_count": 14,
   "metadata": {},
   "outputs": [
    {
     "data": {
      "application/vnd.jupyter.widget-view+json": {
       "model_id": "3dab0a7b8a7e4bcf8e7dfe361fc2f6ec",
       "version_major": 2,
       "version_minor": 0
      },
      "text/plain": [
       "Widget(value=\"<iframe src='http://localhost:57332/index.html?ui=P_0x7f84c110fd00_13&reconnect=auto' style='wid…"
      ]
     },
     "metadata": {},
     "output_type": "display_data"
    }
   ],
   "source": [
    "if is_plot:\n",
    "    scene = pv.Plotter()\n",
    "    scene.add_mesh(mesh_local, opacity=0.1)\n",
    "    visual.plot_circ_pass_landmark(scene, df_local, file, mesh_local, 'P6', 'x', name='IG')\n",
    "    scene.show()"
   ]
  }
 ],
 "metadata": {
  "kernelspec": {
   "display_name": "mesh4d",
   "language": "python",
   "name": "python3"
  },
  "language_info": {
   "codemirror_mode": {
    "name": "ipython",
    "version": 3
   },
   "file_extension": ".py",
   "mimetype": "text/x-python",
   "name": "python",
   "nbconvert_exporter": "python",
   "pygments_lexer": "ipython3",
   "version": "3.9.16"
  }
 },
 "nbformat": 4,
 "nbformat_minor": 2
}
